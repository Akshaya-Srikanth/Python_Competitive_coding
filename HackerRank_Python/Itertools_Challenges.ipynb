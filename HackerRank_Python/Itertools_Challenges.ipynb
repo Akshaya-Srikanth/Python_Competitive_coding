{
 "cells": [
  {
   "cell_type": "markdown",
   "id": "d698a96b",
   "metadata": {},
   "source": [
    "### itertools.product()\n",
    "\n",
    "This tool computes the cartesian product of input iterables.\n",
    "It is equivalent to nested for-loops.\n",
    "For example, product(A, B) returns the same as ((x,y) for x in A for y in B).\n",
    "\n",
    "Sample Code\n",
    "\n",
    ">>> from itertools import product\n",
    ">>>\n",
    ">>> print list(product([1,2,3],repeat = 2))\n",
    "[(1, 1), (1, 2), (1, 3), (2, 1), (2, 2), (2, 3), (3, 1), (3, 2), (3, 3)]\n",
    ">>>\n",
    ">>> print list(product([1,2,3],[3,4]))\n",
    "[(1, 3), (1, 4), (2, 3), (2, 4), (3, 3), (3, 4)]\n",
    ">>>\n",
    ">>> A = [[1,2,3],[3,4,5]]\n",
    ">>> print list(product(*A))\n",
    "[(1, 3), (1, 4), (1, 5), (2, 3), (2, 4), (2, 5), (3, 3), (3, 4), (3, 5)]\n",
    ">>>\n",
    ">>> B = [[1,2,3],[3,4,5],[7,8]]\n",
    ">>> print list(product(*B))\n",
    "[(1, 3, 7), (1, 3, 8), (1, 4, 7), (1, 4, 8), (1, 5, 7), (1, 5, 8), (2, 3, 7), (2, 3, 8), (2, 4, 7), (2, 4, 8), (2, 5, 7), (2, 5, 8), (3, 3, 7), (3, 3, 8), (3, 4, 7), (3, 4, 8), (3, 5, 7), (3, 5, 8)]\n",
    "Task\n",
    "\n",
    "You are given a two lists  and . Your task is to compute their cartesian product X.\n",
    "\n",
    "Example\n",
    "\n",
    "A = [1, 2]\n",
    "B = [3, 4]\n",
    "\n",
    "AxB = [(1, 3), (1, 4), (2, 3), (2, 4)]\n",
    "Note:  and  are sorted lists, and the cartesian product's tuples should be output in sorted order.\n",
    "\n",
    "Input Format\n",
    "\n",
    "The first line contains the space separated elements of list .\n",
    "The second line contains the space separated elements of list .\n",
    "\n",
    "Both lists have no duplicate integer elements.\n",
    "\n",
    "Constraints\n",
    "\n",
    "\n",
    "\n",
    "Output Format\n",
    "\n",
    "Output the space separated tuples of the cartesian product.\n",
    "\n",
    "Sample Input\n",
    "\n",
    " 1 2\n",
    " \n",
    " 3 4\n",
    " \n",
    "Sample Output\n",
    "\n",
    "\n",
    " (1, 3) (1, 4) (2, 3) (2, 4)"
   ]
  },
  {
   "cell_type": "code",
   "execution_count": 2,
   "id": "4e2b7902",
   "metadata": {},
   "outputs": [
    {
     "name": "stdout",
     "output_type": "stream",
     "text": [
      "1 2\n",
      "3 4\n",
      "(1, 3) (1, 4) (2, 3) (2, 4)\n"
     ]
    }
   ],
   "source": [
    "from itertools import product\n",
    "A=list(map(int,input().split()))\n",
    "B=list(map(int,input().split()))\n",
    "prd=list(product(A,B))\n",
    "print(*prd)\n"
   ]
  },
  {
   "cell_type": "markdown",
   "id": "12458f01",
   "metadata": {},
   "source": [
    "### itertools.permutations(iterable[, r])"
   ]
  },
  {
   "cell_type": "raw",
   "id": "052ad898",
   "metadata": {},
   "source": [
    "\n",
    "\n",
    "This tool returns successive  length permutations of elements in an iterable.\n",
    "\n",
    "If  is not specified or is None, then  defaults to the length of the iterable, and all possible full length permutations are generated.\n",
    "\n",
    "Permutations are printed in a lexicographic sorted order. So, if the input iterable is sorted, the permutation tuples will be produced in a sorted order.\n",
    "\n",
    "Sample Code\n",
    "\n",
    ">>> from itertools import permutations\n",
    ">>> print permutations(['1','2','3'])\n",
    "<itertools.permutations object at 0x02A45210>\n",
    ">>> \n",
    ">>> print list(permutations(['1','2','3']))\n",
    "[('1', '2', '3'), ('1', '3', '2'), ('2', '1', '3'), ('2', '3', '1'), ('3', '1', '2'), ('3', '2', '1')]\n",
    ">>> \n",
    ">>> print list(permutations(['1','2','3'],2))\n",
    "[('1', '2'), ('1', '3'), ('2', '1'), ('2', '3'), ('3', '1'), ('3', '2')]\n",
    ">>>\n",
    ">>> print list(permutations('abc',3))\n",
    "[('a', 'b', 'c'), ('a', 'c', 'b'), ('b', 'a', 'c'), ('b', 'c', 'a'), ('c', 'a', 'b'), ('c', 'b', 'a')]\n",
    "Task\n",
    "\n",
    "You are given a string .\n",
    "Your task is to print all possible permutations of size  of the string in lexicographic sorted order.\n",
    "\n",
    "Input Format\n",
    "\n",
    "A single line containing the space separated string  and the integer value .\n",
    "\n",
    "Constraints\n",
    "\n",
    "\n",
    "The string contains only UPPERCASE characters.\n",
    "\n",
    "Output Format\n",
    "\n",
    "Print the permutations of the string  on separate lines.\n",
    "\n",
    "Sample Input\n",
    "\n",
    "HACK 2\n",
    "Sample Output\n",
    "\n",
    "AC\n",
    "AH\n",
    "AK\n",
    "CA\n",
    "CH\n",
    "CK\n",
    "HA\n",
    "HC\n",
    "HK\n",
    "KA\n",
    "KC\n",
    "KH\n",
    "Explanation\n",
    "\n",
    "All possible size  permutations of the string \"HACK\" are printed in lexicographic sorted order."
   ]
  },
  {
   "cell_type": "code",
   "execution_count": 3,
   "id": "debce7a7",
   "metadata": {},
   "outputs": [
    {
     "name": "stdout",
     "output_type": "stream",
     "text": [
      "HACK 2\n",
      "AC\n",
      "AH\n",
      "AK\n",
      "CA\n",
      "CH\n",
      "CK\n",
      "HA\n",
      "HC\n",
      "HK\n",
      "KA\n",
      "KC\n",
      "KH\n"
     ]
    }
   ],
   "source": [
    "from itertools import permutations\n",
    "x,y=input().split()\n",
    "y=int(y)\n",
    "res=list(permutations(x,y))\n",
    "res.sort()\n",
    "lst=[]\n",
    "for string in res:\n",
    "    lst.append(\"\".join(string))\n",
    "print(\"\\n\".join(lst))\n"
   ]
  },
  {
   "cell_type": "markdown",
   "id": "f63ee81d",
   "metadata": {},
   "source": [
    "### itertools.combinations(iterable, r)"
   ]
  },
  {
   "cell_type": "raw",
   "id": "a1ff7aaa",
   "metadata": {},
   "source": [
    "This tool returns the  length subsequences of elements from the input iterable.\n",
    "\n",
    "Combinations are emitted in lexicographic sorted order. So, if the input iterable is sorted, the combination tuples will be produced in sorted order.\n",
    "\n",
    "Sample Code\n",
    "\n",
    ">>> from itertools import combinations\n",
    ">>> \n",
    ">>> print list(combinations('12345',2))\n",
    "[('1', '2'), ('1', '3'), ('1', '4'), ('1', '5'), ('2', '3'), ('2', '4'), ('2', '5'), ('3', '4'), ('3', '5'), ('4', '5')]\n",
    ">>> \n",
    ">>> A = [1,1,3,3,3]\n",
    ">>> print list(combinations(A,4))\n",
    "[(1, 1, 3, 3), (1, 1, 3, 3), (1, 1, 3, 3), (1, 3, 3, 3), (1, 3, 3, 3)]\n",
    "Task\n",
    "\n",
    "You are given a string .\n",
    "Your task is to print all possible combinations, up to size , of the string in lexicographic sorted order.\n",
    "\n",
    "Input Format\n",
    "\n",
    "A single line containing the string  and integer value  separated by a space.\n",
    "\n",
    "Constraints\n",
    "\n",
    "\n",
    "The string contains only UPPERCASE characters.\n",
    "\n",
    "Output Format\n",
    "\n",
    "Print the different combinations of string  on separate lines.\n",
    "\n",
    "Sample Input\n",
    "\n",
    "HACK 2\n",
    "Sample Output\n",
    "\n",
    "A\n",
    "C\n",
    "H\n",
    "K\n",
    "AC\n",
    "AH\n",
    "AK\n",
    "CH\n",
    "CK\n",
    "HK"
   ]
  },
  {
   "cell_type": "code",
   "execution_count": 10,
   "id": "76fdac92",
   "metadata": {},
   "outputs": [
    {
     "name": "stdout",
     "output_type": "stream",
     "text": [
      "HACK 2\n",
      "A\n",
      "C\n",
      "H\n",
      "K\n",
      "AC\n",
      "AH\n",
      "AK\n",
      "CH\n",
      "CK\n",
      "HK\n"
     ]
    }
   ],
   "source": [
    "from itertools import combinations\n",
    "x,y = input().split()\n",
    "S=\"\".join(sorted(x))\n",
    "lst=[]\n",
    "for i in range(1,int(y)+1):\n",
    "    for j in list(combinations(S,i)):\n",
    "        lst.append(\"\".join(j))\n",
    "#lst = sorted(lst,key=lambda x:len(x),reverse=False)\n",
    "\n",
    "print(\"\\n\".join(lst))\n"
   ]
  },
  {
   "cell_type": "raw",
   "id": "42037a62",
   "metadata": {},
   "source": [
    "The itertools module standardizes a core set of fast, memory efficient tools that are useful by themselves or in combination. Together, they form an iterator algebra making it possible to construct specialized tools succinctly and efficiently in pure Python.\n",
    "\n",
    "To read more about the functions in this module, check out their documentation here.\n",
    "\n",
    "You are given a list of  lowercase English letters. For a given integer , you can select any  indices (assume -based indexing) with a uniform probability from the list.\n",
    "\n",
    "Find the probability that at least one of the  indices selected will contain the letter: ''.\n",
    "\n",
    "Input Format\n",
    "\n",
    "The input consists of three lines. The first line contains the integer , denoting the length of the list. The next line consists of  space-separated lowercase English letters, denoting the elements of the list.\n",
    "\n",
    "The third and the last line of input contains the integer , denoting the number of indices to be selected.\n",
    "\n",
    "Output Format\n",
    "\n",
    "Output a single line consisting of the probability that at least one of the  indices selected contains the letter:'a'.\n",
    "\n",
    "Note: The answer must be correct up to 3 decimal places.\n",
    "\n",
    "Constraints\n",
    "\n",
    "\n",
    "\n",
    "All the letters in the list are lowercase English letters.\n",
    "\n",
    "Sample Input\n",
    "\n",
    "4 \n",
    "a a c d\n",
    "2\n",
    "Sample Output\n",
    "\n",
    "0.8333\n",
    "Explanation\n",
    "\n",
    "All possible unordered tuples of length  comprising of indices from  to  are:\n",
    "\n",
    "\n",
    "Out of these  combinations,  of them contain either index  or index  which are the indices that contain the letter ''.\n",
    "\n",
    "Hence, the answer is 5/6."
   ]
  },
  {
   "cell_type": "code",
   "execution_count": 16,
   "id": "34e3c351",
   "metadata": {},
   "outputs": [
    {
     "name": "stdout",
     "output_type": "stream",
     "text": [
      "4\n",
      "a a c d\n",
      "2\n",
      "combinations generated :[('a', 'a'), ('a', 'c'), ('a', 'd'), ('a', 'c'), ('a', 'd'), ('c', 'd')]\n",
      "length of the combination pairs feasible with letter 'a': 5\n",
      "0.8333333333333334\n"
     ]
    }
   ],
   "source": [
    "from itertools import combinations\n",
    "n=int(input())\n",
    "x=input().split()\n",
    "k=int(input())\n",
    "\n",
    "combo=list(combinations(x,k))\n",
    "print(f\"combinations generated :{combo}\")\n",
    "possible_count= len(list(filter(lambda X:'a' in X,[d for d in  combo])))\n",
    "print(f\"length of the combination pairs feasible with letter 'a': {possible_count}\")\n",
    "print(possible_count/len(combo))\n",
    "\n"
   ]
  },
  {
   "cell_type": "markdown",
   "id": "7f00f309",
   "metadata": {},
   "source": [
    "### itertools.combinations_with_replacement(iterable, r)"
   ]
  },
  {
   "cell_type": "raw",
   "id": "aebf73e0",
   "metadata": {},
   "source": [
    "This tool returns  length subsequences of elements from the input iterable allowing individual elements to be repeated more than once.\n",
    "\n",
    "Combinations are emitted in lexicographic sorted order. So, if the input iterable is sorted, the combination tuples will be produced in sorted order.\n",
    "\n",
    "Sample Code\n",
    "\n",
    ">>> from itertools import combinations_with_replacement\n",
    ">>> \n",
    ">>> print list(combinations_with_replacement('12345',2))\n",
    "[('1', '1'), ('1', '2'), ('1', '3'), ('1', '4'), ('1', '5'), ('2', '2'), ('2', '3'), ('2', '4'), ('2', '5'), ('3', '3'), ('3', '4'), ('3', '5'), ('4', '4'), ('4', '5'), ('5', '5')]\n",
    ">>> \n",
    ">>> A = [1,1,3,3,3]\n",
    ">>> print list(combinations(A,2))\n",
    "[(1, 1), (1, 3), (1, 3), (1, 3), (1, 3), (1, 3), (1, 3), (3, 3), (3, 3), (3, 3)]\n",
    "Task\n",
    "\n",
    "You are given a string .\n",
    "Your task is to print all possible size  replacement combinations of the string in lexicographic sorted order.\n",
    "\n",
    "Input Format\n",
    "\n",
    "A single line containing the string  and integer value  separated by a space.\n",
    "\n",
    "Constraints\n",
    "\n",
    "\n",
    "The string contains only UPPERCASE characters.\n",
    "\n",
    "Output Format\n",
    "\n",
    "Print the combinations with their replacements of string  on separate lines.\n",
    "\n",
    "Sample Input\n",
    "\n",
    "HACK 2\n",
    "Sample Output\n",
    "\n",
    "AA\n",
    "AC\n",
    "AH\n",
    "AK\n",
    "CC\n",
    "CH\n",
    "CK\n",
    "HH\n",
    "HK\n",
    "KK"
   ]
  },
  {
   "cell_type": "code",
   "execution_count": 6,
   "id": "43048f52",
   "metadata": {},
   "outputs": [
    {
     "name": "stdout",
     "output_type": "stream",
     "text": [
      "HACK 2\n",
      "AA\n",
      "AC\n",
      "AH\n",
      "AK\n",
      "CC\n",
      "CH\n",
      "CK\n",
      "HH\n",
      "HK\n",
      "KK\n"
     ]
    }
   ],
   "source": [
    "from itertools import combinations_with_replacement \n",
    "S,k=input().split()\n",
    "S=\"\".join(sorted(S))\n",
    "k=int(k)\n",
    "print(\"\\n\".join([\"\".join(x) for x in list(combinations_with_replacement(S,k))]))\n"
   ]
  },
  {
   "cell_type": "markdown",
   "id": "12e781cb",
   "metadata": {},
   "source": [
    "### ITERTOOLS GROUP BY\n"
   ]
  },
  {
   "cell_type": "raw",
   "id": "471eb00e",
   "metadata": {},
   "source": [
    "n this task, we would like for you to appreciate the usefulness of the groupby() function of itertools . To read more about this function, Check this out .\n",
    "\n",
    "You are given a string . Suppose a character '' occurs consecutively  times in the string. Replace these consecutive occurrences of the character '' with  in the string.\n",
    "\n",
    "For a better understanding of the problem, check the explanation.\n",
    "\n",
    "Input Format\n",
    "\n",
    "A single line of input consisting of the string .\n",
    "\n",
    "Output Format\n",
    "\n",
    "A single line of output consisting of the modified string.\n",
    "\n",
    "Constraints\n",
    "\n",
    "All the characters of  denote integers between  and .\n",
    "\n",
    "\n",
    "Sample Input\n",
    "\n",
    "1222311\n",
    "Sample Output\n",
    "\n",
    "(1, 1) (3, 2) (1, 3) (2, 1)\n",
    "Explanation\n",
    "\n",
    "First, the character  occurs only once. It is replaced by . Then the character  occurs three times, and it is replaced by  and so on.\n",
    "\n",
    "Also, note the single space within each compression and between the compressions."
   ]
  },
  {
   "cell_type": "code",
   "execution_count": 7,
   "id": "302fcbe1",
   "metadata": {},
   "outputs": [
    {
     "name": "stdout",
     "output_type": "stream",
     "text": [
      "1245567794\n",
      "(1, 1) (1, 2) (1, 4) (2, 5) (1, 6) (2, 7) (1, 9) (1, 4) "
     ]
    }
   ],
   "source": [
    "from itertools import groupby\n",
    "\n",
    "S=input()\n",
    "\n",
    "for k, g in groupby(S):\n",
    "    print(tuple([len(list(g)),int(k)]),end=\" \")\n"
   ]
  },
  {
   "cell_type": "raw",
   "id": "eb06fea4",
   "metadata": {},
   "source": [
    "You are given a function f(x) = x^2. You are also given k lists. The ith list consists of Ni elements. You have to pick one element from each list so that the value from the equation below is maximized:\n",
    "\n",
    "S = ( f(X1) + f(X2) + ......+ f(Xk))%M\n",
    "\n",
    "Xi denotes the element picked from the ith list . Find the maximized value Smax obtained. % denotes the modulo operator.\n",
    "Note that you need to take exactly one element from each list, not necessarily the largest element. You add the squares of the chosen elements and perform the modulo operation. The maximum value that you can obtain, will be the answer to the problem.\n",
    "\n",
    "\n",
    "Input Format :\n",
    "The first line contains 2 space separated integers k and m.\n",
    "The next k lines each contains an integer Ni, denoting the number of elements in the ith list, followed by Ni space separated integers denoting the elements in the list.\n",
    "\n",
    "Constraints :\n",
    "1 <= K <= 7\n",
    "1 <= M <= 1000\n",
    "1 <= Ni <= 7\n",
    "1 <= magnitude of element in list <= 10^9\n",
    "\n",
    "Output Format :\n",
    "Output a single integer denoting the value Smax.\n",
    "\n",
    "\n",
    "Sample Input :\n",
    "3 1000\n",
    "2 5 4\n",
    "3 7 8 9 \n",
    "5 5 7 8 9 10 \n",
    "\n",
    "Sample Output :\n",
    "206\n",
    "\n",
    "Explanation :\n",
    "Picking 5 from the 1st list, 9 from the 2nd list and 10 from the 3rd list gives the maximum S value equal to (5^2 + 9^2 + 10^2)%1000 =206."
   ]
  },
  {
   "cell_type": "code",
   "execution_count": 21,
   "id": "3fa51964",
   "metadata": {},
   "outputs": [
    {
     "name": "stdout",
     "output_type": "stream",
     "text": [
      "3 1000\n",
      "2 5 4\n",
      "3 7 8 9\n",
      "5 5 7 8 9 10\n",
      "206\n"
     ]
    }
   ],
   "source": [
    "K,M =map(int,input().split())\n",
    "x=[]\n",
    "for i in range(K):\n",
    "    x.append(list(map(int,input().split())))\n",
    "\n",
    "print(sum([max(item)**2 for item in x])%M)\n",
    "        \n"
   ]
  },
  {
   "cell_type": "code",
   "execution_count": null,
   "id": "27479ccd",
   "metadata": {},
   "outputs": [],
   "source": []
  },
  {
   "cell_type": "code",
   "execution_count": null,
   "id": "8f4bbd92",
   "metadata": {},
   "outputs": [],
   "source": []
  },
  {
   "cell_type": "code",
   "execution_count": null,
   "id": "17932a43",
   "metadata": {},
   "outputs": [],
   "source": []
  }
 ],
 "metadata": {
  "kernelspec": {
   "display_name": "Python 3 (ipykernel)",
   "language": "python",
   "name": "python3"
  },
  "language_info": {
   "codemirror_mode": {
    "name": "ipython",
    "version": 3
   },
   "file_extension": ".py",
   "mimetype": "text/x-python",
   "name": "python",
   "nbconvert_exporter": "python",
   "pygments_lexer": "ipython3",
   "version": "3.9.7"
  }
 },
 "nbformat": 4,
 "nbformat_minor": 5
}
