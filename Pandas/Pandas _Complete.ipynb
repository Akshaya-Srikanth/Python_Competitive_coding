{
 "cells": [
  {
   "cell_type": "code",
   "execution_count": 38,
   "id": "9dcae430",
   "metadata": {},
   "outputs": [],
   "source": [
    "import pandas as pd"
   ]
  },
  {
   "cell_type": "code",
   "execution_count": 39,
   "id": "e36814c2",
   "metadata": {},
   "outputs": [
    {
     "name": "stdout",
     "output_type": "stream",
     "text": [
      "['BooleanDtype', 'Categorical', 'CategoricalDtype', 'CategoricalIndex', 'DataFrame', 'DateOffset', 'DatetimeIndex', 'DatetimeTZDtype', 'ExcelFile', 'ExcelWriter', 'Flags', 'Float32Dtype', 'Float64Dtype', 'Float64Index', 'Grouper', 'HDFStore', 'Index', 'IndexSlice', 'Int16Dtype', 'Int32Dtype', 'Int64Dtype', 'Int64Index', 'Int8Dtype', 'Interval', 'IntervalDtype', 'IntervalIndex', 'MultiIndex', 'NA', 'NaT', 'NamedAgg', 'Period', 'PeriodDtype', 'PeriodIndex', 'RangeIndex', 'Series', 'SparseDtype', 'StringDtype', 'Timedelta', 'TimedeltaIndex', 'Timestamp', 'UInt16Dtype', 'UInt32Dtype', 'UInt64Dtype', 'UInt64Index', 'UInt8Dtype', '__builtins__', '__cached__', '__doc__', '__docformat__', '__file__', '__getattr__', '__git_version__', '__loader__', '__name__', '__package__', '__path__', '__spec__', '__version__', '_config', '_hashtable', '_is_numpy_dev', '_lib', '_libs', '_np_version_under1p18', '_testing', '_tslib', '_typing', '_version', 'api', 'array', 'arrays', 'bdate_range', 'compat', 'concat', 'core', 'crosstab', 'cut', 'date_range', 'describe_option', 'errors', 'eval', 'factorize', 'get_dummies', 'get_option', 'infer_freq', 'interval_range', 'io', 'isna', 'isnull', 'json_normalize', 'lreshape', 'melt', 'merge', 'merge_asof', 'merge_ordered', 'notna', 'notnull', 'offsets', 'option_context', 'options', 'pandas', 'period_range', 'pivot', 'pivot_table', 'plotting', 'qcut', 'read_clipboard', 'read_csv', 'read_excel', 'read_feather', 'read_fwf', 'read_gbq', 'read_hdf', 'read_html', 'read_json', 'read_orc', 'read_parquet', 'read_pickle', 'read_sas', 'read_spss', 'read_sql', 'read_sql_query', 'read_sql_table', 'read_stata', 'read_table', 'read_xml', 'reset_option', 'set_eng_float_format', 'set_option', 'show_versions', 'test', 'testing', 'timedelta_range', 'to_datetime', 'to_numeric', 'to_pickle', 'to_timedelta', 'tseries', 'unique', 'util', 'value_counts', 'wide_to_long']\n"
     ]
    }
   ],
   "source": [
    "print( list(dir(pd)) )"
   ]
  },
  {
   "cell_type": "code",
   "execution_count": 40,
   "id": "526da5c4",
   "metadata": {},
   "outputs": [
    {
     "name": "stdout",
     "output_type": "stream",
     "text": [
      "\n",
      "INSTALLED VERSIONS\n",
      "------------------\n",
      "commit           : 945c9ed766a61c7d2c0a7cbb251b6edebf9cb7d5\n",
      "python           : 3.9.7.final.0\n",
      "python-bits      : 64\n",
      "OS               : Windows\n",
      "OS-release       : 10\n",
      "Version          : 10.0.18363\n",
      "machine          : AMD64\n",
      "processor        : Intel64 Family 6 Model 142 Stepping 12, GenuineIntel\n",
      "byteorder        : little\n",
      "LC_ALL           : None\n",
      "LANG             : None\n",
      "LOCALE           : English_United States.1252\n",
      "\n",
      "pandas           : 1.3.4\n",
      "numpy            : 1.20.3\n",
      "pytz             : 2021.3\n",
      "dateutil         : 2.8.2\n",
      "pip              : 21.2.4\n",
      "setuptools       : 58.0.4\n",
      "Cython           : 0.29.24\n",
      "pytest           : 6.2.4\n",
      "hypothesis       : None\n",
      "sphinx           : 4.2.0\n",
      "blosc            : None\n",
      "feather          : None\n",
      "xlsxwriter       : 3.0.1\n",
      "lxml.etree       : 4.6.3\n",
      "html5lib         : 1.1\n",
      "pymysql          : None\n",
      "psycopg2         : None\n",
      "jinja2           : 2.11.3\n",
      "IPython          : 7.29.0\n",
      "pandas_datareader: None\n",
      "bs4              : 4.10.0\n",
      "bottleneck       : 1.3.2\n",
      "fsspec           : 2021.10.1\n",
      "fastparquet      : None\n",
      "gcsfs            : None\n",
      "matplotlib       : 3.4.3\n",
      "numexpr          : 2.7.3\n",
      "odfpy            : None\n",
      "openpyxl         : 3.0.9\n",
      "pandas_gbq       : None\n",
      "pyarrow          : None\n",
      "pyxlsb           : None\n",
      "s3fs             : None\n",
      "scipy            : 1.7.1\n",
      "sqlalchemy       : 1.4.22\n",
      "tables           : 3.6.1\n",
      "tabulate         : None\n",
      "xarray           : None\n",
      "xlrd             : 2.0.1\n",
      "xlwt             : 1.3.0\n",
      "numba            : 0.54.1\n"
     ]
    }
   ],
   "source": [
    "pd.show_versions()"
   ]
  },
  {
   "cell_type": "code",
   "execution_count": 41,
   "id": "d7134256",
   "metadata": {},
   "outputs": [
    {
     "data": {
      "text/plain": [
       "'1.3.4'"
      ]
     },
     "execution_count": 41,
     "metadata": {},
     "output_type": "execute_result"
    }
   ],
   "source": [
    "pd.__version__"
   ]
  },
  {
   "cell_type": "code",
   "execution_count": 42,
   "id": "027a0359",
   "metadata": {},
   "outputs": [],
   "source": [
    "s=pd.Series([\"Ind\",\"AUS\",\"NZ\",\"US\"])"
   ]
  },
  {
   "cell_type": "code",
   "execution_count": 43,
   "id": "6f8eefa1",
   "metadata": {},
   "outputs": [
    {
     "data": {
      "text/plain": [
       "4"
      ]
     },
     "execution_count": 43,
     "metadata": {},
     "output_type": "execute_result"
    }
   ],
   "source": [
    "len(s)"
   ]
  },
  {
   "cell_type": "code",
   "execution_count": 44,
   "id": "0a2293ca",
   "metadata": {},
   "outputs": [
    {
     "data": {
      "text/plain": [
       "pandas.core.series.Series"
      ]
     },
     "execution_count": 44,
     "metadata": {},
     "output_type": "execute_result"
    }
   ],
   "source": [
    "type(s)"
   ]
  },
  {
   "cell_type": "code",
   "execution_count": 45,
   "id": "62b1882e",
   "metadata": {},
   "outputs": [],
   "source": [
    "s=pd.Series([\"Ind\",\"AUS\",\"NZ\",\"US\"],index=['a','b','c','d'])"
   ]
  },
  {
   "cell_type": "code",
   "execution_count": 46,
   "id": "65740b0c",
   "metadata": {},
   "outputs": [
    {
     "data": {
      "text/plain": [
       "a    Ind\n",
       "b    AUS\n",
       "c     NZ\n",
       "d     US\n",
       "dtype: object"
      ]
     },
     "execution_count": 46,
     "metadata": {},
     "output_type": "execute_result"
    }
   ],
   "source": [
    "s.head()\n"
   ]
  },
  {
   "cell_type": "code",
   "execution_count": 47,
   "id": "e03ca3ae",
   "metadata": {},
   "outputs": [],
   "source": [
    "country=[\"Ind\",\"AUS\",\"NZ\",\"US\"]\n",
    "cost=[100,299,999,333]"
   ]
  },
  {
   "cell_type": "code",
   "execution_count": 48,
   "id": "5eb62ecb",
   "metadata": {},
   "outputs": [],
   "source": [
    "Sales=pd.Series(cost, index=country)"
   ]
  },
  {
   "cell_type": "code",
   "execution_count": 49,
   "id": "f97bfa8e",
   "metadata": {},
   "outputs": [],
   "source": [
    "#Creating a pandas series with tuples\n",
    "country=(\"Ind\",\"AUS\",\"NZ\",\"US\")\n",
    "cost=(100,299,999,333)"
   ]
  },
  {
   "cell_type": "code",
   "execution_count": 50,
   "id": "bf4869a5",
   "metadata": {},
   "outputs": [
    {
     "data": {
      "text/plain": [
       "Ind    100\n",
       "AUS    299\n",
       "NZ     999\n",
       "US     333\n",
       "dtype: int64"
      ]
     },
     "execution_count": 50,
     "metadata": {},
     "output_type": "execute_result"
    }
   ],
   "source": [
    "pd.Series(cost, index=country)"
   ]
  },
  {
   "cell_type": "code",
   "execution_count": 51,
   "id": "4716f0dc",
   "metadata": {},
   "outputs": [],
   "source": [
    "#Creating a pandas series with dictionary\n",
    "dicty={\"Ind\":100,\"AUS\":300,\"NZ\":88888,\"US\":50000}"
   ]
  },
  {
   "cell_type": "code",
   "execution_count": 52,
   "id": "39c6ae2b",
   "metadata": {},
   "outputs": [
    {
     "data": {
      "text/plain": [
       "Ind      100\n",
       "AUS      300\n",
       "NZ     88888\n",
       "US     50000\n",
       "dtype: int64"
      ]
     },
     "execution_count": 52,
     "metadata": {},
     "output_type": "execute_result"
    }
   ],
   "source": [
    "pd.Series(dicty) #by default dict keys are considered as labels in the series"
   ]
  },
  {
   "cell_type": "markdown",
   "id": "c8b66422",
   "metadata": {},
   "source": [
    "### DataFrame"
   ]
  },
  {
   "cell_type": "code",
   "execution_count": 53,
   "id": "4efe60e1",
   "metadata": {},
   "outputs": [],
   "source": [
    "EmployeeData={'ID':[101,102,103]\n",
    "              ,\"name\":[\"Dan\",\"Ben\",\"Paxton\"]\n",
    "             ,'age':(34,24,26)\n",
    "              ,'city':['LA','California','Fuji']\n",
    "             }"
   ]
  },
  {
   "cell_type": "code",
   "execution_count": 54,
   "id": "e5e352b5",
   "metadata": {},
   "outputs": [],
   "source": [
    "EMPDF=pd.DataFrame(EmployeeData)"
   ]
  },
  {
   "cell_type": "code",
   "execution_count": 55,
   "id": "52a8d2ca",
   "metadata": {},
   "outputs": [],
   "source": [
    "EMPDF=pd.DataFrame(EmployeeData,index=('a','b','c'))"
   ]
  },
  {
   "cell_type": "code",
   "execution_count": 56,
   "id": "c133dcbd",
   "metadata": {},
   "outputs": [],
   "source": [
    "mydict={\"name\":\"Daniel\",\"age\":33}"
   ]
  },
  {
   "cell_type": "code",
   "execution_count": 57,
   "id": "3418a2c4",
   "metadata": {},
   "outputs": [
    {
     "data": {
      "text/html": [
       "<div>\n",
       "<style scoped>\n",
       "    .dataframe tbody tr th:only-of-type {\n",
       "        vertical-align: middle;\n",
       "    }\n",
       "\n",
       "    .dataframe tbody tr th {\n",
       "        vertical-align: top;\n",
       "    }\n",
       "\n",
       "    .dataframe thead th {\n",
       "        text-align: right;\n",
       "    }\n",
       "</style>\n",
       "<table border=\"1\" class=\"dataframe\">\n",
       "  <thead>\n",
       "    <tr style=\"text-align: right;\">\n",
       "      <th></th>\n",
       "      <th>name</th>\n",
       "      <th>age</th>\n",
       "    </tr>\n",
       "  </thead>\n",
       "  <tbody>\n",
       "    <tr>\n",
       "      <th>a</th>\n",
       "      <td>Daniel</td>\n",
       "      <td>33</td>\n",
       "    </tr>\n",
       "  </tbody>\n",
       "</table>\n",
       "</div>"
      ],
      "text/plain": [
       "     name  age\n",
       "a  Daniel   33"
      ]
     },
     "execution_count": 57,
     "metadata": {},
     "output_type": "execute_result"
    }
   ],
   "source": [
    "pd.DataFrame(mydict,index=['a']) #If using all scalar values, you must pass an index"
   ]
  },
  {
   "cell_type": "code",
   "execution_count": 58,
   "id": "e5650dc8",
   "metadata": {},
   "outputs": [],
   "source": [
    "mydict1={\"name\":[\"Daniel\"],\"age\":[33]} #alt to create DF with scalar val without specificying index "
   ]
  },
  {
   "cell_type": "code",
   "execution_count": 59,
   "id": "61d1f95c",
   "metadata": {},
   "outputs": [
    {
     "data": {
      "text/html": [
       "<div>\n",
       "<style scoped>\n",
       "    .dataframe tbody tr th:only-of-type {\n",
       "        vertical-align: middle;\n",
       "    }\n",
       "\n",
       "    .dataframe tbody tr th {\n",
       "        vertical-align: top;\n",
       "    }\n",
       "\n",
       "    .dataframe thead th {\n",
       "        text-align: right;\n",
       "    }\n",
       "</style>\n",
       "<table border=\"1\" class=\"dataframe\">\n",
       "  <thead>\n",
       "    <tr style=\"text-align: right;\">\n",
       "      <th></th>\n",
       "      <th>name</th>\n",
       "      <th>age</th>\n",
       "    </tr>\n",
       "  </thead>\n",
       "  <tbody>\n",
       "    <tr>\n",
       "      <th>0</th>\n",
       "      <td>Daniel</td>\n",
       "      <td>33</td>\n",
       "    </tr>\n",
       "  </tbody>\n",
       "</table>\n",
       "</div>"
      ],
      "text/plain": [
       "     name  age\n",
       "0  Daniel   33"
      ]
     },
     "execution_count": 59,
     "metadata": {},
     "output_type": "execute_result"
    }
   ],
   "source": [
    "pd.DataFrame(mydict1) "
   ]
  },
  {
   "cell_type": "code",
   "execution_count": 60,
   "id": "8852b79c",
   "metadata": {},
   "outputs": [],
   "source": [
    "#Empty Dataframe\n",
    "df=pd.DataFrame()"
   ]
  },
  {
   "cell_type": "code",
   "execution_count": 61,
   "id": "0e977d94",
   "metadata": {},
   "outputs": [
    {
     "data": {
      "text/html": [
       "<div>\n",
       "<style scoped>\n",
       "    .dataframe tbody tr th:only-of-type {\n",
       "        vertical-align: middle;\n",
       "    }\n",
       "\n",
       "    .dataframe tbody tr th {\n",
       "        vertical-align: top;\n",
       "    }\n",
       "\n",
       "    .dataframe thead th {\n",
       "        text-align: right;\n",
       "    }\n",
       "</style>\n",
       "<table border=\"1\" class=\"dataframe\">\n",
       "  <thead>\n",
       "    <tr style=\"text-align: right;\">\n",
       "      <th></th>\n",
       "      <th>ID</th>\n",
       "      <th>EMP</th>\n",
       "      <th>Salary</th>\n",
       "      <th>Exp</th>\n",
       "    </tr>\n",
       "  </thead>\n",
       "  <tbody>\n",
       "  </tbody>\n",
       "</table>\n",
       "</div>"
      ],
      "text/plain": [
       "Empty DataFrame\n",
       "Columns: [ID, EMP, Salary, Exp]\n",
       "Index: []"
      ]
     },
     "execution_count": 61,
     "metadata": {},
     "output_type": "execute_result"
    }
   ],
   "source": [
    "#Insert data in an empty df\n",
    "Columndata=[\"ID\",\"EMP\",\"Salary\",\"Exp\"]\n",
    "df=pd.DataFrame(columns=Columndata)\n",
    "df"
   ]
  },
  {
   "cell_type": "code",
   "execution_count": 62,
   "id": "8f8d81c5",
   "metadata": {},
   "outputs": [],
   "source": [
    "#you can append values from dict to df only if ignore_index is true\n",
    "df=df.append({\"EMP\":\"Daniel\",\"age\":33,\"Salary\":5000,\"city\":\"NY\"},ignore_index=True)"
   ]
  },
  {
   "cell_type": "code",
   "execution_count": 63,
   "id": "160a838f",
   "metadata": {},
   "outputs": [],
   "source": [
    "df=df.append({\"ID\":101,\"EMP\":\"Gabriel\",\"age\":33,\"Salary\":50090,\"city\":\"LA\"},ignore_index=True)"
   ]
  },
  {
   "cell_type": "code",
   "execution_count": 64,
   "id": "afc30d1c",
   "metadata": {},
   "outputs": [],
   "source": [
    "df1=pd.DataFrame()"
   ]
  },
  {
   "cell_type": "code",
   "execution_count": 65,
   "id": "9ebadbc8",
   "metadata": {},
   "outputs": [
    {
     "data": {
      "text/html": [
       "<div>\n",
       "<style scoped>\n",
       "    .dataframe tbody tr th:only-of-type {\n",
       "        vertical-align: middle;\n",
       "    }\n",
       "\n",
       "    .dataframe tbody tr th {\n",
       "        vertical-align: top;\n",
       "    }\n",
       "\n",
       "    .dataframe thead th {\n",
       "        text-align: right;\n",
       "    }\n",
       "</style>\n",
       "<table border=\"1\" class=\"dataframe\">\n",
       "  <thead>\n",
       "    <tr style=\"text-align: right;\">\n",
       "      <th></th>\n",
       "      <th>ID</th>\n",
       "      <th>Emp</th>\n",
       "      <th>Exp</th>\n",
       "    </tr>\n",
       "  </thead>\n",
       "  <tbody>\n",
       "    <tr>\n",
       "      <th>0</th>\n",
       "      <td>101</td>\n",
       "      <td>A</td>\n",
       "      <td>2</td>\n",
       "    </tr>\n",
       "    <tr>\n",
       "      <th>1</th>\n",
       "      <td>103</td>\n",
       "      <td>B</td>\n",
       "      <td>3</td>\n",
       "    </tr>\n",
       "    <tr>\n",
       "      <th>2</th>\n",
       "      <td>104</td>\n",
       "      <td>C</td>\n",
       "      <td>4</td>\n",
       "    </tr>\n",
       "  </tbody>\n",
       "</table>\n",
       "</div>"
      ],
      "text/plain": [
       "    ID Emp  Exp\n",
       "0  101   A    2\n",
       "1  103   B    3\n",
       "2  104   C    4"
      ]
     },
     "execution_count": 65,
     "metadata": {},
     "output_type": "execute_result"
    }
   ],
   "source": [
    "df1['ID']=[101,103,104]\n",
    "df1[\"Emp\"]=[\"A\",\"B\",\"C\"]\n",
    "df1[\"Exp\"]=[2,3,4]\n",
    "df1"
   ]
  },
  {
   "cell_type": "code",
   "execution_count": 66,
   "id": "cdab595b",
   "metadata": {},
   "outputs": [],
   "source": [
    "df3=pd.DataFrame(columns=[\"Emp\",\"Salary\",\"Grade\"],index=['a','b','c'])"
   ]
  },
  {
   "cell_type": "code",
   "execution_count": 67,
   "id": "6fd2a669",
   "metadata": {},
   "outputs": [
    {
     "data": {
      "text/html": [
       "<div>\n",
       "<style scoped>\n",
       "    .dataframe tbody tr th:only-of-type {\n",
       "        vertical-align: middle;\n",
       "    }\n",
       "\n",
       "    .dataframe tbody tr th {\n",
       "        vertical-align: top;\n",
       "    }\n",
       "\n",
       "    .dataframe thead th {\n",
       "        text-align: right;\n",
       "    }\n",
       "</style>\n",
       "<table border=\"1\" class=\"dataframe\">\n",
       "  <thead>\n",
       "    <tr style=\"text-align: right;\">\n",
       "      <th></th>\n",
       "      <th>Emp</th>\n",
       "      <th>Salary</th>\n",
       "      <th>Grade</th>\n",
       "    </tr>\n",
       "  </thead>\n",
       "  <tbody>\n",
       "    <tr>\n",
       "      <th>a</th>\n",
       "      <td>NaN</td>\n",
       "      <td>NaN</td>\n",
       "      <td>NaN</td>\n",
       "    </tr>\n",
       "    <tr>\n",
       "      <th>b</th>\n",
       "      <td>NaN</td>\n",
       "      <td>NaN</td>\n",
       "      <td>NaN</td>\n",
       "    </tr>\n",
       "    <tr>\n",
       "      <th>c</th>\n",
       "      <td>NaN</td>\n",
       "      <td>NaN</td>\n",
       "      <td>NaN</td>\n",
       "    </tr>\n",
       "  </tbody>\n",
       "</table>\n",
       "</div>"
      ],
      "text/plain": [
       "   Emp Salary Grade\n",
       "a  NaN    NaN   NaN\n",
       "b  NaN    NaN   NaN\n",
       "c  NaN    NaN   NaN"
      ]
     },
     "execution_count": 67,
     "metadata": {},
     "output_type": "execute_result"
    }
   ],
   "source": [
    "df3"
   ]
  },
  {
   "cell_type": "code",
   "execution_count": 68,
   "id": "5bd86701",
   "metadata": {},
   "outputs": [],
   "source": [
    "df3[\"Emp\"]=[\"Rohan\",\"Nakul\",\"Aryan\"]"
   ]
  },
  {
   "cell_type": "code",
   "execution_count": 69,
   "id": "fd760efe",
   "metadata": {},
   "outputs": [
    {
     "data": {
      "text/html": [
       "<div>\n",
       "<style scoped>\n",
       "    .dataframe tbody tr th:only-of-type {\n",
       "        vertical-align: middle;\n",
       "    }\n",
       "\n",
       "    .dataframe tbody tr th {\n",
       "        vertical-align: top;\n",
       "    }\n",
       "\n",
       "    .dataframe thead th {\n",
       "        text-align: right;\n",
       "    }\n",
       "</style>\n",
       "<table border=\"1\" class=\"dataframe\">\n",
       "  <thead>\n",
       "    <tr style=\"text-align: right;\">\n",
       "      <th></th>\n",
       "      <th>Emp</th>\n",
       "      <th>Salary</th>\n",
       "      <th>Grade</th>\n",
       "    </tr>\n",
       "  </thead>\n",
       "  <tbody>\n",
       "    <tr>\n",
       "      <th>a</th>\n",
       "      <td>Rohan</td>\n",
       "      <td>NaN</td>\n",
       "      <td>NaN</td>\n",
       "    </tr>\n",
       "    <tr>\n",
       "      <th>b</th>\n",
       "      <td>Nakul</td>\n",
       "      <td>NaN</td>\n",
       "      <td>NaN</td>\n",
       "    </tr>\n",
       "    <tr>\n",
       "      <th>c</th>\n",
       "      <td>Aryan</td>\n",
       "      <td>NaN</td>\n",
       "      <td>NaN</td>\n",
       "    </tr>\n",
       "  </tbody>\n",
       "</table>\n",
       "</div>"
      ],
      "text/plain": [
       "     Emp Salary Grade\n",
       "a  Rohan    NaN   NaN\n",
       "b  Nakul    NaN   NaN\n",
       "c  Aryan    NaN   NaN"
      ]
     },
     "execution_count": 69,
     "metadata": {},
     "output_type": "execute_result"
    }
   ],
   "source": [
    "df3"
   ]
  },
  {
   "cell_type": "code",
   "execution_count": 70,
   "id": "b682095d",
   "metadata": {},
   "outputs": [],
   "source": [
    "#DF with list of lists\n",
    "df4=pd.DataFrame([[1,2,3],[3,4,6],[5,6,8]],columns=list(\"ABC\"))"
   ]
  },
  {
   "cell_type": "code",
   "execution_count": 71,
   "id": "5d4447ce",
   "metadata": {},
   "outputs": [
    {
     "data": {
      "text/html": [
       "<div>\n",
       "<style scoped>\n",
       "    .dataframe tbody tr th:only-of-type {\n",
       "        vertical-align: middle;\n",
       "    }\n",
       "\n",
       "    .dataframe tbody tr th {\n",
       "        vertical-align: top;\n",
       "    }\n",
       "\n",
       "    .dataframe thead th {\n",
       "        text-align: right;\n",
       "    }\n",
       "</style>\n",
       "<table border=\"1\" class=\"dataframe\">\n",
       "  <thead>\n",
       "    <tr style=\"text-align: right;\">\n",
       "      <th></th>\n",
       "      <th>A</th>\n",
       "      <th>B</th>\n",
       "      <th>C</th>\n",
       "    </tr>\n",
       "  </thead>\n",
       "  <tbody>\n",
       "    <tr>\n",
       "      <th>0</th>\n",
       "      <td>1</td>\n",
       "      <td>2</td>\n",
       "      <td>3</td>\n",
       "    </tr>\n",
       "    <tr>\n",
       "      <th>1</th>\n",
       "      <td>3</td>\n",
       "      <td>4</td>\n",
       "      <td>6</td>\n",
       "    </tr>\n",
       "    <tr>\n",
       "      <th>2</th>\n",
       "      <td>5</td>\n",
       "      <td>6</td>\n",
       "      <td>8</td>\n",
       "    </tr>\n",
       "  </tbody>\n",
       "</table>\n",
       "</div>"
      ],
      "text/plain": [
       "   A  B  C\n",
       "0  1  2  3\n",
       "1  3  4  6\n",
       "2  5  6  8"
      ]
     },
     "execution_count": 71,
     "metadata": {},
     "output_type": "execute_result"
    }
   ],
   "source": [
    "df4"
   ]
  },
  {
   "cell_type": "markdown",
   "id": "7f8fcdd8",
   "metadata": {},
   "source": [
    "## Importing Data with pandas"
   ]
  },
  {
   "cell_type": "code",
   "execution_count": 72,
   "id": "f0804e98",
   "metadata": {},
   "outputs": [],
   "source": [
    "import os"
   ]
  },
  {
   "cell_type": "code",
   "execution_count": 73,
   "id": "a4d26df3",
   "metadata": {},
   "outputs": [
    {
     "data": {
      "text/plain": [
       "'C:\\\\Users\\\\akshaya.srikanth\\\\Desktop\\\\Python\\\\virtual environment\\\\Python-Topics'"
      ]
     },
     "execution_count": 73,
     "metadata": {},
     "output_type": "execute_result"
    }
   ],
   "source": [
    "os.getcwd()"
   ]
  },
  {
   "cell_type": "code",
   "execution_count": 74,
   "id": "6b622797",
   "metadata": {},
   "outputs": [],
   "source": [
    "os.chdir(r\"C:\\Users\\akshaya.srikanth\\Desktop\\Python\\virtual environment\\Python-Topics\\RawData-main\")"
   ]
  },
  {
   "cell_type": "code",
   "execution_count": 75,
   "id": "ba344691",
   "metadata": {},
   "outputs": [
    {
     "data": {
      "text/plain": [
       "['.ipynb_checkpoints',\n",
       " 'AutoDataset.csv',\n",
       " 'clothes.sas7bdat',\n",
       " 'CombinedData.xlsx',\n",
       " 'Data.csv',\n",
       " 'fixed Data.txt',\n",
       " 'gnp.sas7bdat',\n",
       " 'HLTH1025_2016.sav',\n",
       " 'insurance.txt',\n",
       " 'iris.json',\n",
       " 'Order.xlsx',\n",
       " 'Pandas append and concat raw data.xlsx',\n",
       " 'Pandas Pivot Table with Visualization Tutorial.ipynb',\n",
       " 'Quantitve.base',\n",
       " 'Random Sales Data.xlsx',\n",
       " 'Random Sales Data1.xlsx',\n",
       " 'Sales Order.xlsx',\n",
       " 'SalesData.csv',\n",
       " 'Sample.csv',\n",
       " 'Splited Raw Data.xlsx',\n",
       " 'Superstore.xls',\n",
       " 'test.txt',\n",
       " 'unbill_data.csv']"
      ]
     },
     "execution_count": 75,
     "metadata": {},
     "output_type": "execute_result"
    }
   ],
   "source": [
    "os.listdir()"
   ]
  },
  {
   "cell_type": "code",
   "execution_count": 76,
   "id": "44c4e03e",
   "metadata": {},
   "outputs": [],
   "source": [
    "df=pd.read_csv(\"AutoDataset.csv\")"
   ]
  },
  {
   "cell_type": "code",
   "execution_count": 77,
   "id": "9fdc33e6",
   "metadata": {},
   "outputs": [
    {
     "data": {
      "text/html": [
       "<div>\n",
       "<style scoped>\n",
       "    .dataframe tbody tr th:only-of-type {\n",
       "        vertical-align: middle;\n",
       "    }\n",
       "\n",
       "    .dataframe tbody tr th {\n",
       "        vertical-align: top;\n",
       "    }\n",
       "\n",
       "    .dataframe thead th {\n",
       "        text-align: right;\n",
       "    }\n",
       "</style>\n",
       "<table border=\"1\" class=\"dataframe\">\n",
       "  <thead>\n",
       "    <tr style=\"text-align: right;\">\n",
       "      <th></th>\n",
       "      <th>Row ID</th>\n",
       "      <th>Order ID</th>\n",
       "      <th>Ship Date</th>\n",
       "      <th>Customer Name</th>\n",
       "      <th>Country</th>\n",
       "      <th>City</th>\n",
       "      <th>State</th>\n",
       "      <th>Category</th>\n",
       "      <th>Sub-Category</th>\n",
       "      <th>Product Name</th>\n",
       "      <th>Sales</th>\n",
       "    </tr>\n",
       "  </thead>\n",
       "  <tbody>\n",
       "    <tr>\n",
       "      <th>0</th>\n",
       "      <td>2314</td>\n",
       "      <td>CA-2017-122035</td>\n",
       "      <td>7/25/2017</td>\n",
       "      <td>Elizabeth Moffitt</td>\n",
       "      <td>United States</td>\n",
       "      <td>Sioux Falls</td>\n",
       "      <td>South Dakota</td>\n",
       "      <td>Office Supplies</td>\n",
       "      <td>Labels</td>\n",
       "      <td>Avery 486</td>\n",
       "      <td>14.62</td>\n",
       "    </tr>\n",
       "    <tr>\n",
       "      <th>1</th>\n",
       "      <td>2315</td>\n",
       "      <td>CA-2017-122035</td>\n",
       "      <td>7/25/2017</td>\n",
       "      <td>Elizabeth Moffitt</td>\n",
       "      <td>United States</td>\n",
       "      <td>Sioux Falls</td>\n",
       "      <td>South Dakota</td>\n",
       "      <td>Office Supplies</td>\n",
       "      <td>Appliances</td>\n",
       "      <td>1.7 Cubic Foot Compact \"Cube\" Office Refrigera...</td>\n",
       "      <td>416.32</td>\n",
       "    </tr>\n",
       "    <tr>\n",
       "      <th>2</th>\n",
       "      <td>2316</td>\n",
       "      <td>CA-2017-122035</td>\n",
       "      <td>7/25/2017</td>\n",
       "      <td>Elizabeth Moffitt</td>\n",
       "      <td>United States</td>\n",
       "      <td>Sioux Falls</td>\n",
       "      <td>South Dakota</td>\n",
       "      <td>Office Supplies</td>\n",
       "      <td>Binders</td>\n",
       "      <td>Avery Printable Repositionable Plastic Tabs</td>\n",
       "      <td>43.00</td>\n",
       "    </tr>\n",
       "    <tr>\n",
       "      <th>3</th>\n",
       "      <td>2317</td>\n",
       "      <td>CA-2017-122035</td>\n",
       "      <td>7/25/2017</td>\n",
       "      <td>Elizabeth Moffitt</td>\n",
       "      <td>United States</td>\n",
       "      <td>Sioux Falls</td>\n",
       "      <td>South Dakota</td>\n",
       "      <td>Furniture</td>\n",
       "      <td>Chairs</td>\n",
       "      <td>Novimex Fabric Task Chair</td>\n",
       "      <td>182.94</td>\n",
       "    </tr>\n",
       "    <tr>\n",
       "      <th>4</th>\n",
       "      <td>2318</td>\n",
       "      <td>CA-2017-122035</td>\n",
       "      <td>7/25/2017</td>\n",
       "      <td>Elizabeth Moffitt</td>\n",
       "      <td>United States</td>\n",
       "      <td>Sioux Falls</td>\n",
       "      <td>South Dakota</td>\n",
       "      <td>Office Supplies</td>\n",
       "      <td>Binders</td>\n",
       "      <td>Cardinal Slant-D Ring Binders</td>\n",
       "      <td>60.83</td>\n",
       "    </tr>\n",
       "  </tbody>\n",
       "</table>\n",
       "</div>"
      ],
      "text/plain": [
       "   Row ID        Order ID  Ship Date      Customer Name        Country  \\\n",
       "0    2314  CA-2017-122035  7/25/2017  Elizabeth Moffitt  United States   \n",
       "1    2315  CA-2017-122035  7/25/2017  Elizabeth Moffitt  United States   \n",
       "2    2316  CA-2017-122035  7/25/2017  Elizabeth Moffitt  United States   \n",
       "3    2317  CA-2017-122035  7/25/2017  Elizabeth Moffitt  United States   \n",
       "4    2318  CA-2017-122035  7/25/2017  Elizabeth Moffitt  United States   \n",
       "\n",
       "          City         State         Category Sub-Category  \\\n",
       "0  Sioux Falls  South Dakota  Office Supplies       Labels   \n",
       "1  Sioux Falls  South Dakota  Office Supplies   Appliances   \n",
       "2  Sioux Falls  South Dakota  Office Supplies      Binders   \n",
       "3  Sioux Falls  South Dakota        Furniture       Chairs   \n",
       "4  Sioux Falls  South Dakota  Office Supplies      Binders   \n",
       "\n",
       "                                        Product Name   Sales  \n",
       "0                                          Avery 486   14.62  \n",
       "1  1.7 Cubic Foot Compact \"Cube\" Office Refrigera...  416.32  \n",
       "2        Avery Printable Repositionable Plastic Tabs   43.00  \n",
       "3                          Novimex Fabric Task Chair  182.94  \n",
       "4                      Cardinal Slant-D Ring Binders   60.83  "
      ]
     },
     "execution_count": 77,
     "metadata": {},
     "output_type": "execute_result"
    }
   ],
   "source": [
    "df.head() # gives top 5 rows"
   ]
  },
  {
   "cell_type": "code",
   "execution_count": 78,
   "id": "6933f9cb",
   "metadata": {},
   "outputs": [],
   "source": [
    "pd.read_csv?"
   ]
  },
  {
   "cell_type": "code",
   "execution_count": 79,
   "id": "dc214714",
   "metadata": {},
   "outputs": [
    {
     "data": {
      "text/html": [
       "<div>\n",
       "<style scoped>\n",
       "    .dataframe tbody tr th:only-of-type {\n",
       "        vertical-align: middle;\n",
       "    }\n",
       "\n",
       "    .dataframe tbody tr th {\n",
       "        vertical-align: top;\n",
       "    }\n",
       "\n",
       "    .dataframe thead th {\n",
       "        text-align: right;\n",
       "    }\n",
       "</style>\n",
       "<table border=\"1\" class=\"dataframe\">\n",
       "  <thead>\n",
       "    <tr style=\"text-align: right;\">\n",
       "      <th></th>\n",
       "      <th>0</th>\n",
       "      <th>1</th>\n",
       "      <th>2</th>\n",
       "      <th>3</th>\n",
       "      <th>4</th>\n",
       "      <th>5</th>\n",
       "      <th>6</th>\n",
       "      <th>7</th>\n",
       "      <th>8</th>\n",
       "      <th>9</th>\n",
       "      <th>10</th>\n",
       "    </tr>\n",
       "  </thead>\n",
       "  <tbody>\n",
       "    <tr>\n",
       "      <th>0</th>\n",
       "      <td>Row ID</td>\n",
       "      <td>Order ID</td>\n",
       "      <td>Ship Date</td>\n",
       "      <td>Customer Name</td>\n",
       "      <td>Country</td>\n",
       "      <td>City</td>\n",
       "      <td>State</td>\n",
       "      <td>Category</td>\n",
       "      <td>Sub-Category</td>\n",
       "      <td>Product Name</td>\n",
       "      <td>Sales</td>\n",
       "    </tr>\n",
       "    <tr>\n",
       "      <th>1</th>\n",
       "      <td>2314</td>\n",
       "      <td>CA-2017-122035</td>\n",
       "      <td>7/25/2017</td>\n",
       "      <td>Elizabeth Moffitt</td>\n",
       "      <td>United States</td>\n",
       "      <td>Sioux Falls</td>\n",
       "      <td>South Dakota</td>\n",
       "      <td>Office Supplies</td>\n",
       "      <td>Labels</td>\n",
       "      <td>Avery 486</td>\n",
       "      <td>14.62</td>\n",
       "    </tr>\n",
       "    <tr>\n",
       "      <th>2</th>\n",
       "      <td>2315</td>\n",
       "      <td>CA-2017-122035</td>\n",
       "      <td>7/25/2017</td>\n",
       "      <td>Elizabeth Moffitt</td>\n",
       "      <td>United States</td>\n",
       "      <td>Sioux Falls</td>\n",
       "      <td>South Dakota</td>\n",
       "      <td>Office Supplies</td>\n",
       "      <td>Appliances</td>\n",
       "      <td>1.7 Cubic Foot Compact \"Cube\" Office Refrigera...</td>\n",
       "      <td>416.32</td>\n",
       "    </tr>\n",
       "    <tr>\n",
       "      <th>3</th>\n",
       "      <td>2316</td>\n",
       "      <td>CA-2017-122035</td>\n",
       "      <td>7/25/2017</td>\n",
       "      <td>Elizabeth Moffitt</td>\n",
       "      <td>United States</td>\n",
       "      <td>Sioux Falls</td>\n",
       "      <td>South Dakota</td>\n",
       "      <td>Office Supplies</td>\n",
       "      <td>Binders</td>\n",
       "      <td>Avery Printable Repositionable Plastic Tabs</td>\n",
       "      <td>43</td>\n",
       "    </tr>\n",
       "    <tr>\n",
       "      <th>4</th>\n",
       "      <td>2317</td>\n",
       "      <td>CA-2017-122035</td>\n",
       "      <td>7/25/2017</td>\n",
       "      <td>Elizabeth Moffitt</td>\n",
       "      <td>United States</td>\n",
       "      <td>Sioux Falls</td>\n",
       "      <td>South Dakota</td>\n",
       "      <td>Furniture</td>\n",
       "      <td>Chairs</td>\n",
       "      <td>Novimex Fabric Task Chair</td>\n",
       "      <td>182.94</td>\n",
       "    </tr>\n",
       "    <tr>\n",
       "      <th>5</th>\n",
       "      <td>2318</td>\n",
       "      <td>CA-2017-122035</td>\n",
       "      <td>7/25/2017</td>\n",
       "      <td>Elizabeth Moffitt</td>\n",
       "      <td>United States</td>\n",
       "      <td>Sioux Falls</td>\n",
       "      <td>South Dakota</td>\n",
       "      <td>Office Supplies</td>\n",
       "      <td>Binders</td>\n",
       "      <td>Cardinal Slant-D Ring Binders</td>\n",
       "      <td>60.83</td>\n",
       "    </tr>\n",
       "    <tr>\n",
       "      <th>6</th>\n",
       "      <td>2319</td>\n",
       "      <td>CA-2017-122035</td>\n",
       "      <td>7/25/2017</td>\n",
       "      <td>Elizabeth Moffitt</td>\n",
       "      <td>United States</td>\n",
       "      <td>Sioux Falls</td>\n",
       "      <td>South Dakota</td>\n",
       "      <td>Technology</td>\n",
       "      <td>Accessories</td>\n",
       "      <td>Logitech G35 7.1-Channel Surround Sound Headset</td>\n",
       "      <td>389.97</td>\n",
       "    </tr>\n",
       "    <tr>\n",
       "      <th>7</th>\n",
       "      <td>2856</td>\n",
       "      <td>CA-2017-169810</td>\n",
       "      <td>7/31/2017</td>\n",
       "      <td>Raymond Buch</td>\n",
       "      <td>United States</td>\n",
       "      <td>Sioux Falls</td>\n",
       "      <td>South Dakota</td>\n",
       "      <td>Office Supplies</td>\n",
       "      <td>Labels</td>\n",
       "      <td>Avery 498</td>\n",
       "      <td>20.23</td>\n",
       "    </tr>\n",
       "    <tr>\n",
       "      <th>8</th>\n",
       "      <td>3270</td>\n",
       "      <td>CA-2014-115980</td>\n",
       "      <td>7/19/2014</td>\n",
       "      <td>Victoria Wilson</td>\n",
       "      <td>United States</td>\n",
       "      <td>Sioux Falls</td>\n",
       "      <td>South Dakota</td>\n",
       "      <td>Technology</td>\n",
       "      <td>Accessories</td>\n",
       "      <td>Maxell 4.7GB DVD-R 5/Pack</td>\n",
       "      <td>2.97</td>\n",
       "    </tr>\n",
       "    <tr>\n",
       "      <th>9</th>\n",
       "      <td>3271</td>\n",
       "      <td>CA-2014-115980</td>\n",
       "      <td>7/19/2014</td>\n",
       "      <td>Victoria Wilson</td>\n",
       "      <td>United States</td>\n",
       "      <td>Sioux Falls</td>\n",
       "      <td>South Dakota</td>\n",
       "      <td>Office Supplies</td>\n",
       "      <td>Fasteners</td>\n",
       "      <td>Advantus Push Pins</td>\n",
       "      <td>6.54</td>\n",
       "    </tr>\n",
       "    <tr>\n",
       "      <th>10</th>\n",
       "      <td>8150</td>\n",
       "      <td>CA-2014-167997</td>\n",
       "      <td>1/29/2014</td>\n",
       "      <td>Carol Adams</td>\n",
       "      <td>United States</td>\n",
       "      <td>Rapid City</td>\n",
       "      <td>South Dakota</td>\n",
       "      <td>Office Supplies</td>\n",
       "      <td>Binders</td>\n",
       "      <td>Wilson Jones 14 Line Acrylic Coated Pressboard...</td>\n",
       "      <td>10.68</td>\n",
       "    </tr>\n",
       "    <tr>\n",
       "      <th>11</th>\n",
       "      <td>8151</td>\n",
       "      <td>CA-2014-167997</td>\n",
       "      <td>1/29/2014</td>\n",
       "      <td>Carol Adams</td>\n",
       "      <td>United States</td>\n",
       "      <td>Rapid City</td>\n",
       "      <td>South Dakota</td>\n",
       "      <td>Furniture</td>\n",
       "      <td>Bookcases</td>\n",
       "      <td>Safco Value Mate Series Steel Bookcases, Baked...</td>\n",
       "      <td>141.96</td>\n",
       "    </tr>\n",
       "    <tr>\n",
       "      <th>12</th>\n",
       "      <td>9261</td>\n",
       "      <td>CA-2017-167976</td>\n",
       "      <td>11/14/2017</td>\n",
       "      <td>Jeremy Lonsdale</td>\n",
       "      <td>United States</td>\n",
       "      <td>Aberdeen</td>\n",
       "      <td>South Dakota</td>\n",
       "      <td>Office Supplies</td>\n",
       "      <td>Supplies</td>\n",
       "      <td>Acme Titanium Bonded Scissors</td>\n",
       "      <td>25.5</td>\n",
       "    </tr>\n",
       "  </tbody>\n",
       "</table>\n",
       "</div>"
      ],
      "text/plain": [
       "        0               1           2                  3              4   \\\n",
       "0   Row ID        Order ID   Ship Date      Customer Name        Country   \n",
       "1     2314  CA-2017-122035   7/25/2017  Elizabeth Moffitt  United States   \n",
       "2     2315  CA-2017-122035   7/25/2017  Elizabeth Moffitt  United States   \n",
       "3     2316  CA-2017-122035   7/25/2017  Elizabeth Moffitt  United States   \n",
       "4     2317  CA-2017-122035   7/25/2017  Elizabeth Moffitt  United States   \n",
       "5     2318  CA-2017-122035   7/25/2017  Elizabeth Moffitt  United States   \n",
       "6     2319  CA-2017-122035   7/25/2017  Elizabeth Moffitt  United States   \n",
       "7     2856  CA-2017-169810   7/31/2017       Raymond Buch  United States   \n",
       "8     3270  CA-2014-115980   7/19/2014    Victoria Wilson  United States   \n",
       "9     3271  CA-2014-115980   7/19/2014    Victoria Wilson  United States   \n",
       "10    8150  CA-2014-167997   1/29/2014        Carol Adams  United States   \n",
       "11    8151  CA-2014-167997   1/29/2014        Carol Adams  United States   \n",
       "12    9261  CA-2017-167976  11/14/2017    Jeremy Lonsdale  United States   \n",
       "\n",
       "             5             6                7             8   \\\n",
       "0          City         State         Category  Sub-Category   \n",
       "1   Sioux Falls  South Dakota  Office Supplies        Labels   \n",
       "2   Sioux Falls  South Dakota  Office Supplies    Appliances   \n",
       "3   Sioux Falls  South Dakota  Office Supplies       Binders   \n",
       "4   Sioux Falls  South Dakota        Furniture        Chairs   \n",
       "5   Sioux Falls  South Dakota  Office Supplies       Binders   \n",
       "6   Sioux Falls  South Dakota       Technology   Accessories   \n",
       "7   Sioux Falls  South Dakota  Office Supplies        Labels   \n",
       "8   Sioux Falls  South Dakota       Technology   Accessories   \n",
       "9   Sioux Falls  South Dakota  Office Supplies     Fasteners   \n",
       "10   Rapid City  South Dakota  Office Supplies       Binders   \n",
       "11   Rapid City  South Dakota        Furniture     Bookcases   \n",
       "12     Aberdeen  South Dakota  Office Supplies      Supplies   \n",
       "\n",
       "                                                   9       10  \n",
       "0                                        Product Name   Sales  \n",
       "1                                           Avery 486   14.62  \n",
       "2   1.7 Cubic Foot Compact \"Cube\" Office Refrigera...  416.32  \n",
       "3         Avery Printable Repositionable Plastic Tabs      43  \n",
       "4                           Novimex Fabric Task Chair  182.94  \n",
       "5                       Cardinal Slant-D Ring Binders   60.83  \n",
       "6     Logitech G35 7.1-Channel Surround Sound Headset  389.97  \n",
       "7                                           Avery 498   20.23  \n",
       "8                           Maxell 4.7GB DVD-R 5/Pack    2.97  \n",
       "9                                  Advantus Push Pins    6.54  \n",
       "10  Wilson Jones 14 Line Acrylic Coated Pressboard...   10.68  \n",
       "11  Safco Value Mate Series Steel Bookcases, Baked...  141.96  \n",
       "12                      Acme Titanium Bonded Scissors    25.5  "
      ]
     },
     "execution_count": 79,
     "metadata": {},
     "output_type": "execute_result"
    }
   ],
   "source": [
    "## without header\n",
    "df1=pd.read_csv(\"AutoDataset.csv\",header=None)\n",
    "df1 "
   ]
  },
  {
   "cell_type": "code",
   "execution_count": 80,
   "id": "cde7326f",
   "metadata": {},
   "outputs": [
    {
     "data": {
      "text/html": [
       "<div>\n",
       "<style scoped>\n",
       "    .dataframe tbody tr th:only-of-type {\n",
       "        vertical-align: middle;\n",
       "    }\n",
       "\n",
       "    .dataframe tbody tr th {\n",
       "        vertical-align: top;\n",
       "    }\n",
       "\n",
       "    .dataframe thead th {\n",
       "        text-align: right;\n",
       "    }\n",
       "</style>\n",
       "<table border=\"1\" class=\"dataframe\">\n",
       "  <thead>\n",
       "    <tr style=\"text-align: right;\">\n",
       "      <th></th>\n",
       "      <th>0</th>\n",
       "      <th>1</th>\n",
       "      <th>2</th>\n",
       "      <th>3</th>\n",
       "      <th>4</th>\n",
       "      <th>5</th>\n",
       "      <th>6</th>\n",
       "      <th>7</th>\n",
       "      <th>8</th>\n",
       "      <th>9</th>\n",
       "      <th>10</th>\n",
       "    </tr>\n",
       "  </thead>\n",
       "  <tbody>\n",
       "    <tr>\n",
       "      <th>0</th>\n",
       "      <td>2316</td>\n",
       "      <td>CA-2017-122035</td>\n",
       "      <td>7/25/2017</td>\n",
       "      <td>Elizabeth Moffitt</td>\n",
       "      <td>United States</td>\n",
       "      <td>Sioux Falls</td>\n",
       "      <td>South Dakota</td>\n",
       "      <td>Office Supplies</td>\n",
       "      <td>Binders</td>\n",
       "      <td>Avery Printable Repositionable Plastic Tabs</td>\n",
       "      <td>43.00</td>\n",
       "    </tr>\n",
       "    <tr>\n",
       "      <th>1</th>\n",
       "      <td>2317</td>\n",
       "      <td>CA-2017-122035</td>\n",
       "      <td>7/25/2017</td>\n",
       "      <td>Elizabeth Moffitt</td>\n",
       "      <td>United States</td>\n",
       "      <td>Sioux Falls</td>\n",
       "      <td>South Dakota</td>\n",
       "      <td>Furniture</td>\n",
       "      <td>Chairs</td>\n",
       "      <td>Novimex Fabric Task Chair</td>\n",
       "      <td>182.94</td>\n",
       "    </tr>\n",
       "    <tr>\n",
       "      <th>2</th>\n",
       "      <td>2318</td>\n",
       "      <td>CA-2017-122035</td>\n",
       "      <td>7/25/2017</td>\n",
       "      <td>Elizabeth Moffitt</td>\n",
       "      <td>United States</td>\n",
       "      <td>Sioux Falls</td>\n",
       "      <td>South Dakota</td>\n",
       "      <td>Office Supplies</td>\n",
       "      <td>Binders</td>\n",
       "      <td>Cardinal Slant-D Ring Binders</td>\n",
       "      <td>60.83</td>\n",
       "    </tr>\n",
       "    <tr>\n",
       "      <th>3</th>\n",
       "      <td>2319</td>\n",
       "      <td>CA-2017-122035</td>\n",
       "      <td>7/25/2017</td>\n",
       "      <td>Elizabeth Moffitt</td>\n",
       "      <td>United States</td>\n",
       "      <td>Sioux Falls</td>\n",
       "      <td>South Dakota</td>\n",
       "      <td>Technology</td>\n",
       "      <td>Accessories</td>\n",
       "      <td>Logitech G35 7.1-Channel Surround Sound Headset</td>\n",
       "      <td>389.97</td>\n",
       "    </tr>\n",
       "    <tr>\n",
       "      <th>4</th>\n",
       "      <td>2856</td>\n",
       "      <td>CA-2017-169810</td>\n",
       "      <td>7/31/2017</td>\n",
       "      <td>Raymond Buch</td>\n",
       "      <td>United States</td>\n",
       "      <td>Sioux Falls</td>\n",
       "      <td>South Dakota</td>\n",
       "      <td>Office Supplies</td>\n",
       "      <td>Labels</td>\n",
       "      <td>Avery 498</td>\n",
       "      <td>20.23</td>\n",
       "    </tr>\n",
       "    <tr>\n",
       "      <th>5</th>\n",
       "      <td>3270</td>\n",
       "      <td>CA-2014-115980</td>\n",
       "      <td>7/19/2014</td>\n",
       "      <td>Victoria Wilson</td>\n",
       "      <td>United States</td>\n",
       "      <td>Sioux Falls</td>\n",
       "      <td>South Dakota</td>\n",
       "      <td>Technology</td>\n",
       "      <td>Accessories</td>\n",
       "      <td>Maxell 4.7GB DVD-R 5/Pack</td>\n",
       "      <td>2.97</td>\n",
       "    </tr>\n",
       "    <tr>\n",
       "      <th>6</th>\n",
       "      <td>3271</td>\n",
       "      <td>CA-2014-115980</td>\n",
       "      <td>7/19/2014</td>\n",
       "      <td>Victoria Wilson</td>\n",
       "      <td>United States</td>\n",
       "      <td>Sioux Falls</td>\n",
       "      <td>South Dakota</td>\n",
       "      <td>Office Supplies</td>\n",
       "      <td>Fasteners</td>\n",
       "      <td>Advantus Push Pins</td>\n",
       "      <td>6.54</td>\n",
       "    </tr>\n",
       "    <tr>\n",
       "      <th>7</th>\n",
       "      <td>8150</td>\n",
       "      <td>CA-2014-167997</td>\n",
       "      <td>1/29/2014</td>\n",
       "      <td>Carol Adams</td>\n",
       "      <td>United States</td>\n",
       "      <td>Rapid City</td>\n",
       "      <td>South Dakota</td>\n",
       "      <td>Office Supplies</td>\n",
       "      <td>Binders</td>\n",
       "      <td>Wilson Jones 14 Line Acrylic Coated Pressboard...</td>\n",
       "      <td>10.68</td>\n",
       "    </tr>\n",
       "    <tr>\n",
       "      <th>8</th>\n",
       "      <td>8151</td>\n",
       "      <td>CA-2014-167997</td>\n",
       "      <td>1/29/2014</td>\n",
       "      <td>Carol Adams</td>\n",
       "      <td>United States</td>\n",
       "      <td>Rapid City</td>\n",
       "      <td>South Dakota</td>\n",
       "      <td>Furniture</td>\n",
       "      <td>Bookcases</td>\n",
       "      <td>Safco Value Mate Series Steel Bookcases, Baked...</td>\n",
       "      <td>141.96</td>\n",
       "    </tr>\n",
       "    <tr>\n",
       "      <th>9</th>\n",
       "      <td>9261</td>\n",
       "      <td>CA-2017-167976</td>\n",
       "      <td>11/14/2017</td>\n",
       "      <td>Jeremy Lonsdale</td>\n",
       "      <td>United States</td>\n",
       "      <td>Aberdeen</td>\n",
       "      <td>South Dakota</td>\n",
       "      <td>Office Supplies</td>\n",
       "      <td>Supplies</td>\n",
       "      <td>Acme Titanium Bonded Scissors</td>\n",
       "      <td>25.50</td>\n",
       "    </tr>\n",
       "  </tbody>\n",
       "</table>\n",
       "</div>"
      ],
      "text/plain": [
       "     0               1           2                  3              4   \\\n",
       "0  2316  CA-2017-122035   7/25/2017  Elizabeth Moffitt  United States   \n",
       "1  2317  CA-2017-122035   7/25/2017  Elizabeth Moffitt  United States   \n",
       "2  2318  CA-2017-122035   7/25/2017  Elizabeth Moffitt  United States   \n",
       "3  2319  CA-2017-122035   7/25/2017  Elizabeth Moffitt  United States   \n",
       "4  2856  CA-2017-169810   7/31/2017       Raymond Buch  United States   \n",
       "5  3270  CA-2014-115980   7/19/2014    Victoria Wilson  United States   \n",
       "6  3271  CA-2014-115980   7/19/2014    Victoria Wilson  United States   \n",
       "7  8150  CA-2014-167997   1/29/2014        Carol Adams  United States   \n",
       "8  8151  CA-2014-167997   1/29/2014        Carol Adams  United States   \n",
       "9  9261  CA-2017-167976  11/14/2017    Jeremy Lonsdale  United States   \n",
       "\n",
       "            5             6                7            8   \\\n",
       "0  Sioux Falls  South Dakota  Office Supplies      Binders   \n",
       "1  Sioux Falls  South Dakota        Furniture       Chairs   \n",
       "2  Sioux Falls  South Dakota  Office Supplies      Binders   \n",
       "3  Sioux Falls  South Dakota       Technology  Accessories   \n",
       "4  Sioux Falls  South Dakota  Office Supplies       Labels   \n",
       "5  Sioux Falls  South Dakota       Technology  Accessories   \n",
       "6  Sioux Falls  South Dakota  Office Supplies    Fasteners   \n",
       "7   Rapid City  South Dakota  Office Supplies      Binders   \n",
       "8   Rapid City  South Dakota        Furniture    Bookcases   \n",
       "9     Aberdeen  South Dakota  Office Supplies     Supplies   \n",
       "\n",
       "                                                  9       10  \n",
       "0        Avery Printable Repositionable Plastic Tabs   43.00  \n",
       "1                          Novimex Fabric Task Chair  182.94  \n",
       "2                      Cardinal Slant-D Ring Binders   60.83  \n",
       "3    Logitech G35 7.1-Channel Surround Sound Headset  389.97  \n",
       "4                                          Avery 498   20.23  \n",
       "5                          Maxell 4.7GB DVD-R 5/Pack    2.97  \n",
       "6                                 Advantus Push Pins    6.54  \n",
       "7  Wilson Jones 14 Line Acrylic Coated Pressboard...   10.68  \n",
       "8  Safco Value Mate Series Steel Bookcases, Baked...  141.96  \n",
       "9                      Acme Titanium Bonded Scissors   25.50  "
      ]
     },
     "execution_count": 80,
     "metadata": {},
     "output_type": "execute_result"
    }
   ],
   "source": [
    "## skip few rows\n",
    "df1=pd.read_csv(\"AutoDataset.csv\",header=None,skiprows=3)\n",
    "df1 "
   ]
  },
  {
   "cell_type": "code",
   "execution_count": 81,
   "id": "7722b456",
   "metadata": {},
   "outputs": [],
   "source": [
    "##JSON"
   ]
  },
  {
   "cell_type": "code",
   "execution_count": 82,
   "id": "d5b72b5a",
   "metadata": {},
   "outputs": [
    {
     "data": {
      "text/html": [
       "<div>\n",
       "<style scoped>\n",
       "    .dataframe tbody tr th:only-of-type {\n",
       "        vertical-align: middle;\n",
       "    }\n",
       "\n",
       "    .dataframe tbody tr th {\n",
       "        vertical-align: top;\n",
       "    }\n",
       "\n",
       "    .dataframe thead th {\n",
       "        text-align: right;\n",
       "    }\n",
       "</style>\n",
       "<table border=\"1\" class=\"dataframe\">\n",
       "  <thead>\n",
       "    <tr style=\"text-align: right;\">\n",
       "      <th></th>\n",
       "      <th>sepalLength</th>\n",
       "      <th>sepalWidth</th>\n",
       "      <th>petalLength</th>\n",
       "      <th>petalWidth</th>\n",
       "      <th>species</th>\n",
       "    </tr>\n",
       "  </thead>\n",
       "  <tbody>\n",
       "    <tr>\n",
       "      <th>0</th>\n",
       "      <td>5.1</td>\n",
       "      <td>3.5</td>\n",
       "      <td>1.4</td>\n",
       "      <td>0.2</td>\n",
       "      <td>setosa</td>\n",
       "    </tr>\n",
       "    <tr>\n",
       "      <th>1</th>\n",
       "      <td>4.9</td>\n",
       "      <td>3.0</td>\n",
       "      <td>1.4</td>\n",
       "      <td>0.2</td>\n",
       "      <td>setosa</td>\n",
       "    </tr>\n",
       "    <tr>\n",
       "      <th>2</th>\n",
       "      <td>4.7</td>\n",
       "      <td>3.2</td>\n",
       "      <td>1.3</td>\n",
       "      <td>0.2</td>\n",
       "      <td>setosa</td>\n",
       "    </tr>\n",
       "    <tr>\n",
       "      <th>3</th>\n",
       "      <td>4.6</td>\n",
       "      <td>3.1</td>\n",
       "      <td>1.5</td>\n",
       "      <td>0.2</td>\n",
       "      <td>setosa</td>\n",
       "    </tr>\n",
       "    <tr>\n",
       "      <th>4</th>\n",
       "      <td>5.0</td>\n",
       "      <td>3.6</td>\n",
       "      <td>1.4</td>\n",
       "      <td>0.2</td>\n",
       "      <td>setosa</td>\n",
       "    </tr>\n",
       "    <tr>\n",
       "      <th>...</th>\n",
       "      <td>...</td>\n",
       "      <td>...</td>\n",
       "      <td>...</td>\n",
       "      <td>...</td>\n",
       "      <td>...</td>\n",
       "    </tr>\n",
       "    <tr>\n",
       "      <th>145</th>\n",
       "      <td>6.7</td>\n",
       "      <td>3.0</td>\n",
       "      <td>5.2</td>\n",
       "      <td>2.3</td>\n",
       "      <td>virginica</td>\n",
       "    </tr>\n",
       "    <tr>\n",
       "      <th>146</th>\n",
       "      <td>6.3</td>\n",
       "      <td>2.5</td>\n",
       "      <td>5.0</td>\n",
       "      <td>1.9</td>\n",
       "      <td>virginica</td>\n",
       "    </tr>\n",
       "    <tr>\n",
       "      <th>147</th>\n",
       "      <td>6.5</td>\n",
       "      <td>3.0</td>\n",
       "      <td>5.2</td>\n",
       "      <td>2.0</td>\n",
       "      <td>virginica</td>\n",
       "    </tr>\n",
       "    <tr>\n",
       "      <th>148</th>\n",
       "      <td>6.2</td>\n",
       "      <td>3.4</td>\n",
       "      <td>5.4</td>\n",
       "      <td>2.3</td>\n",
       "      <td>virginica</td>\n",
       "    </tr>\n",
       "    <tr>\n",
       "      <th>149</th>\n",
       "      <td>5.9</td>\n",
       "      <td>3.0</td>\n",
       "      <td>5.1</td>\n",
       "      <td>1.8</td>\n",
       "      <td>virginica</td>\n",
       "    </tr>\n",
       "  </tbody>\n",
       "</table>\n",
       "<p>150 rows × 5 columns</p>\n",
       "</div>"
      ],
      "text/plain": [
       "     sepalLength  sepalWidth  petalLength  petalWidth    species\n",
       "0            5.1         3.5          1.4         0.2     setosa\n",
       "1            4.9         3.0          1.4         0.2     setosa\n",
       "2            4.7         3.2          1.3         0.2     setosa\n",
       "3            4.6         3.1          1.5         0.2     setosa\n",
       "4            5.0         3.6          1.4         0.2     setosa\n",
       "..           ...         ...          ...         ...        ...\n",
       "145          6.7         3.0          5.2         2.3  virginica\n",
       "146          6.3         2.5          5.0         1.9  virginica\n",
       "147          6.5         3.0          5.2         2.0  virginica\n",
       "148          6.2         3.4          5.4         2.3  virginica\n",
       "149          5.9         3.0          5.1         1.8  virginica\n",
       "\n",
       "[150 rows x 5 columns]"
      ]
     },
     "execution_count": 82,
     "metadata": {},
     "output_type": "execute_result"
    }
   ],
   "source": [
    "pd.read_json('iris.json')"
   ]
  },
  {
   "cell_type": "code",
   "execution_count": 83,
   "id": "017a2d42",
   "metadata": {},
   "outputs": [
    {
     "data": {
      "text/html": [
       "<div>\n",
       "<style scoped>\n",
       "    .dataframe tbody tr th:only-of-type {\n",
       "        vertical-align: middle;\n",
       "    }\n",
       "\n",
       "    .dataframe tbody tr th {\n",
       "        vertical-align: top;\n",
       "    }\n",
       "\n",
       "    .dataframe thead th {\n",
       "        text-align: right;\n",
       "    }\n",
       "</style>\n",
       "<table border=\"1\" class=\"dataframe\">\n",
       "  <thead>\n",
       "    <tr style=\"text-align: right;\">\n",
       "      <th></th>\n",
       "      <th>X</th>\n",
       "      <th>Y</th>\n",
       "    </tr>\n",
       "  </thead>\n",
       "  <tbody>\n",
       "    <tr>\n",
       "      <th>0</th>\n",
       "      <td>8.20</td>\n",
       "      <td>493.0</td>\n",
       "    </tr>\n",
       "    <tr>\n",
       "      <th>1</th>\n",
       "      <td>7.39</td>\n",
       "      <td>410.0</td>\n",
       "    </tr>\n",
       "    <tr>\n",
       "      <th>2</th>\n",
       "      <td>7.68</td>\n",
       "      <td>451.0</td>\n",
       "    </tr>\n",
       "    <tr>\n",
       "      <th>3</th>\n",
       "      <td>9.88</td>\n",
       "      <td>723.0</td>\n",
       "    </tr>\n",
       "    <tr>\n",
       "      <th>4</th>\n",
       "      <td>5.65</td>\n",
       "      <td>329.0</td>\n",
       "    </tr>\n",
       "    <tr>\n",
       "      <th>5</th>\n",
       "      <td>7.10</td>\n",
       "      <td>432.0</td>\n",
       "    </tr>\n",
       "    <tr>\n",
       "      <th>6</th>\n",
       "      <td>5.17</td>\n",
       "      <td>294.0</td>\n",
       "    </tr>\n",
       "    <tr>\n",
       "      <th>7</th>\n",
       "      <td>3.34</td>\n",
       "      <td>270.0</td>\n",
       "    </tr>\n",
       "    <tr>\n",
       "      <th>8</th>\n",
       "      <td>5.63</td>\n",
       "      <td>311.0</td>\n",
       "    </tr>\n",
       "    <tr>\n",
       "      <th>9</th>\n",
       "      <td>1.39</td>\n",
       "      <td>194.0</td>\n",
       "    </tr>\n",
       "    <tr>\n",
       "      <th>10</th>\n",
       "      <td>9.30</td>\n",
       "      <td>640.0</td>\n",
       "    </tr>\n",
       "    <tr>\n",
       "      <th>11</th>\n",
       "      <td>2.21</td>\n",
       "      <td>217.0</td>\n",
       "    </tr>\n",
       "    <tr>\n",
       "      <th>12</th>\n",
       "      <td>2.88</td>\n",
       "      <td>272.0</td>\n",
       "    </tr>\n",
       "    <tr>\n",
       "      <th>13</th>\n",
       "      <td>6.94</td>\n",
       "      <td>401.0</td>\n",
       "    </tr>\n",
       "    <tr>\n",
       "      <th>14</th>\n",
       "      <td>3.17</td>\n",
       "      <td>196.0</td>\n",
       "    </tr>\n",
       "    <tr>\n",
       "      <th>15</th>\n",
       "      <td>2.36</td>\n",
       "      <td>238.0</td>\n",
       "    </tr>\n",
       "    <tr>\n",
       "      <th>16</th>\n",
       "      <td>2.33</td>\n",
       "      <td>269.0</td>\n",
       "    </tr>\n",
       "    <tr>\n",
       "      <th>17</th>\n",
       "      <td>2.76</td>\n",
       "      <td>256.0</td>\n",
       "    </tr>\n",
       "    <tr>\n",
       "      <th>18</th>\n",
       "      <td>8.97</td>\n",
       "      <td>605.0</td>\n",
       "    </tr>\n",
       "    <tr>\n",
       "      <th>19</th>\n",
       "      <td>2.77</td>\n",
       "      <td>246.0</td>\n",
       "    </tr>\n",
       "    <tr>\n",
       "      <th>20</th>\n",
       "      <td>3.14</td>\n",
       "      <td>222.0</td>\n",
       "    </tr>\n",
       "    <tr>\n",
       "      <th>21</th>\n",
       "      <td>2.47</td>\n",
       "      <td>204.0</td>\n",
       "    </tr>\n",
       "    <tr>\n",
       "      <th>22</th>\n",
       "      <td>6.77</td>\n",
       "      <td>356.0</td>\n",
       "    </tr>\n",
       "    <tr>\n",
       "      <th>23</th>\n",
       "      <td>7.00</td>\n",
       "      <td>378.0</td>\n",
       "    </tr>\n",
       "    <tr>\n",
       "      <th>24</th>\n",
       "      <td>1.69</td>\n",
       "      <td>177.0</td>\n",
       "    </tr>\n",
       "    <tr>\n",
       "      <th>25</th>\n",
       "      <td>4.41</td>\n",
       "      <td>263.0</td>\n",
       "    </tr>\n",
       "    <tr>\n",
       "      <th>26</th>\n",
       "      <td>8.60</td>\n",
       "      <td>549.0</td>\n",
       "    </tr>\n",
       "    <tr>\n",
       "      <th>27</th>\n",
       "      <td>4.71</td>\n",
       "      <td>267.0</td>\n",
       "    </tr>\n",
       "  </tbody>\n",
       "</table>\n",
       "</div>"
      ],
      "text/plain": [
       "       X      Y\n",
       "0   8.20  493.0\n",
       "1   7.39  410.0\n",
       "2   7.68  451.0\n",
       "3   9.88  723.0\n",
       "4   5.65  329.0\n",
       "5   7.10  432.0\n",
       "6   5.17  294.0\n",
       "7   3.34  270.0\n",
       "8   5.63  311.0\n",
       "9   1.39  194.0\n",
       "10  9.30  640.0\n",
       "11  2.21  217.0\n",
       "12  2.88  272.0\n",
       "13  6.94  401.0\n",
       "14  3.17  196.0\n",
       "15  2.36  238.0\n",
       "16  2.33  269.0\n",
       "17  2.76  256.0\n",
       "18  8.97  605.0\n",
       "19  2.77  246.0\n",
       "20  3.14  222.0\n",
       "21  2.47  204.0\n",
       "22  6.77  356.0\n",
       "23  7.00  378.0\n",
       "24  1.69  177.0\n",
       "25  4.41  263.0\n",
       "26  8.60  549.0\n",
       "27  4.71  267.0"
      ]
     },
     "execution_count": 83,
     "metadata": {},
     "output_type": "execute_result"
    }
   ],
   "source": [
    "pd.read_sas(\"clothes.sas7bdat\")"
   ]
  },
  {
   "cell_type": "code",
   "execution_count": 84,
   "id": "2c66f6d9",
   "metadata": {},
   "outputs": [
    {
     "data": {
      "text/plain": [
       "'\\n!pip uninstall pandas  \\n!pip install pandas\\n!pip3 install --upgrade pandas\\n'"
      ]
     },
     "execution_count": 84,
     "metadata": {},
     "output_type": "execute_result"
    }
   ],
   "source": [
    "'''\n",
    "!pip uninstall pandas  \n",
    "!pip install pandas\n",
    "!pip3 install --upgrade pandas\n",
    "'''"
   ]
  },
  {
   "cell_type": "code",
   "execution_count": 85,
   "id": "8106dbf2",
   "metadata": {},
   "outputs": [],
   "source": [
    "import pandas as pd"
   ]
  },
  {
   "cell_type": "code",
   "execution_count": 86,
   "id": "2160020b",
   "metadata": {},
   "outputs": [],
   "source": [
    "#Data from web\n",
    "\n",
    "table=pd.read_html(\"https://en.wikipedia.org/wiki/President_of_the_United_States\")"
   ]
  },
  {
   "cell_type": "code",
   "execution_count": 87,
   "id": "918d5c7e",
   "metadata": {},
   "outputs": [
    {
     "data": {
      "text/plain": [
       "[             President of theUnited States of America  \\\n",
       " 0                                   Presidential seal   \n",
       " 1                                   Presidential flag   \n",
       " 2            IncumbentJoe Bidensince January 20, 2021   \n",
       " 3   Executive branch of the U.S. government Execut...   \n",
       " 4                                               Style   \n",
       " 5                                                Type   \n",
       " 6                                        Abbreviation   \n",
       " 7                                           Member of   \n",
       " 8                                           Residence   \n",
       " 9                                                Seat   \n",
       " 10                                          Appointer   \n",
       " 11                                        Term length   \n",
       " 12                            Constituting instrument   \n",
       " 13                                          Formation   \n",
       " 14                                       First holder   \n",
       " 15                                             Salary   \n",
       " 16                                            Website   \n",
       " \n",
       "            President of theUnited States of America.1  \n",
       " 0                                   Presidential seal  \n",
       " 1                                   Presidential flag  \n",
       " 2            IncumbentJoe Bidensince January 20, 2021  \n",
       " 3   Executive branch of the U.S. government Execut...  \n",
       " 4   Mr. President[1][2](informal) The Honorable[3]...  \n",
       " 5                    Head of state Head of government  \n",
       " 6                                               POTUS  \n",
       " 7   Cabinet Domestic Policy Council National Econo...  \n",
       " 8                                         White House  \n",
       " 9                                    Washington, D.C.  \n",
       " 10                                  Electoral College  \n",
       " 11                         Four years, renewable once  \n",
       " 12                  Constitution of the United States  \n",
       " 13                 June 21, 1788(233 years ago)[6][7]  \n",
       " 14                               George Washington[8]  \n",
       " 15                                  $400,000 annually  \n",
       " 16                                 www.whitehouse.gov  ,\n",
       "                                                     0\n",
       " 0             This article is part of a series on the\n",
       " 1                       Politics of the United States\n",
       " 2   Federal government Constitution of the United ...\n",
       " 3   Legislature United States Congress  House of R...\n",
       " 4   Executive President of the United States Joe B...\n",
       " 5   Judiciary Supreme Court of the United States C...\n",
       " 6   Elections  National Elections Presidential ele...\n",
       " 7   Political parties Democratic Republican Third ...\n",
       " 8   Federalism State State government Governors Le...\n",
       " 9   Foreign relations Department of State Secretar...\n",
       " 10              United States portal  Politics portal\n",
       " 11  .mw-parser-output .navbar{display:inline;font-...,\n",
       "                                              0  \\\n",
       " 0                                          NaN   \n",
       " 1  Problems playing this file? See media help.   \n",
       " \n",
       "                                                    1  \n",
       " 0  Four ruffles and flourishes and 'Hail to the C...  \n",
       " 1        Problems playing this file? See media help.  ,\n",
       "   Presidential pay history                                        \n",
       "            Yearestablished              Salary   Salary in2020 USD\n",
       " 0                     1789             $25,000            $736,000\n",
       " 1                     1873             $50,000          $1,080,000\n",
       " 2                     1909             $75,000          $2,135,000\n",
       " 3                     1949            $100,000          $1,089,000\n",
       " 4                     1969            $200,000          $1,412,000\n",
       " 5                     2001            $400,000            $585,000\n",
       " 6       Sources:[158][159]  Sources:[158][159]  Sources:[158][159],\n",
       "    Party                Party.1   #  Years  \\\n",
       " 0    NaN             Republican  19     92   \n",
       " 1    NaN             Democratic  15     89   \n",
       " 2    NaN  Democratic-Republican   4     28   \n",
       " 3    NaN                   Whig   4      8   \n",
       " 4    NaN             Federalist   1      4   \n",
       " 5    NaN         National Union   1      4   \n",
       " 6    NaN                   None   1      8   \n",
       " \n",
       "                                              Name(s)  \n",
       " 0  Chester A. Arthur, George H. W. Bush, George W...  \n",
       " 1  Joe Biden, James Buchanan, Jimmy Carter, Grove...  \n",
       " 2  John Quincy Adams, Thomas Jefferson, James Mad...  \n",
       " 3  Millard Fillmore, William Henry Harrison, Zach...  \n",
       " 4                                         John Adams  \n",
       " 5                                  Andrew Johnson[H]  \n",
       " 6                                  George Washington  ,\n",
       "                   vtePresidents of the United States  \\\n",
       " 0                   Presidents and theirpresidencies   \n",
       " 1                               Presidency timelines   \n",
       " 2  * Links to list of related timelines  Category...   \n",
       " \n",
       "                 vtePresidents of the United States.1  \n",
       " 0  .mw-parser-output .div-col{margin-top:0.3em;co...  \n",
       " 1  Washington McKinley T. Roosevelt Taft Wilson H...  \n",
       " 2  * Links to list of related timelines  Category...  ,\n",
       "    vteLists related to the presidents and vice presidents of the United States  \\\n",
       " 0          List of presidents List of vice presidents                            \n",
       " 1                                          Presidents                            \n",
       " 2                                 Professionalcareers                            \n",
       " 3                                       Personal life                            \n",
       " 4                                     Vice presidents                            \n",
       " 5                                          Succession                            \n",
       " 6                                           Elections                            \n",
       " 7                                          Candidates                            \n",
       " 8                               Political affiliation                            \n",
       " 9                                        Distinctions                            \n",
       " 10                                           Families                            \n",
       " 11                                Namesakesand honors                            \n",
       " 12                                           In media                            \n",
       " 13  United States portal  Politics portal  Biograp...                            \n",
       " \n",
       "    vteLists related to the presidents and vice presidents of the United States.1  \n",
       " 0          List of presidents List of vice presidents                             \n",
       " 1   Age Autobiographies Burial places Death Histor...                             \n",
       " 2   Approval rating Assassination attempts and plo...                             \n",
       " 3   Ancestry Coats of arms Deaths in office Educat...                             \n",
       " 4   Age Burial places Coats of arms Education Home...                             \n",
       " 5   Acting president Designated survivor Line of s...                             \n",
       " 6   Electoral College margin Popular vote margin W...                             \n",
       " 7   Political affiliation Democratic Democratic-Re...                             \n",
       " 8   Democratic Democratic-Republican Federalist Gr...                             \n",
       " 9   African American Female Received at least one ...                             \n",
       " 10  First families First ladies Presidential child...                             \n",
       " 11  Memorial sites U.S. postage stamp appearances ...                             \n",
       " 12  Portrayals Fictional depictions Line of succes...                             \n",
       " 13  United States portal  Politics portal  Biograp...                             ,\n",
       "                        0                                                  1\n",
       " 0  Political affiliation  Democratic Democratic-Republican Federalist Gr...\n",
       " 1           Distinctions  African American Female Received at least one ...,\n",
       "   vteChief executives of the United States  \\\n",
       " 0                                  Federal   \n",
       " 1            State governors(current list)   \n",
       " 2                Territorial(current list)   \n",
       " 3                                  Defunct   \n",
       " \n",
       "           vteChief executives of the United States.1  \n",
       " 0                President of the United States list  \n",
       " 1  Alabama Alaska Arizona Arkansas California lis...  \n",
       " 2  American Samoa District of Columbia list Guam ...  \n",
       " 3  Cuba Dakota Territory Panama Canal Zone Philip...  ,\n",
       "              vteUnited States presidential elections  \\\n",
       " 0                                  Elections by year   \n",
       " 1                                 Elections by state   \n",
       " 2                             Primaries and caucuses   \n",
       " 3                             Nominating conventions   \n",
       " 4                  Electoral Collegeand popular vote   \n",
       " 5                                            Related   \n",
       " 6  House elections Senate elections Gubernatorial...   \n",
       " \n",
       "            vteUnited States presidential elections.1  \n",
       " 0  1788–89 1792 1796 1800 1804 1808 1812 1816 182...  \n",
       " 1  Alabama Alaska Arizona Arkansas California Col...  \n",
       " 2  Iowa caucuses New Hampshire presidential prima...  \n",
       " 3  List of nominating conventions Brokered conven...  \n",
       " 4  Results summary elections in which the winner ...  \n",
       " 5  Campaign slogans Historical election polling E...  \n",
       " 6  House elections Senate elections Gubernatorial...  ,\n",
       "                        vte United States Armed Forces  \\\n",
       " 0   Military budget of the United States  Category...   \n",
       " 1                                          Leadership   \n",
       " 2                                        Organization   \n",
       " 3                                Military departments   \n",
       " 4                          Service branches and heads   \n",
       " 5                                  Reserve components   \n",
       " 6                                Civilian auxiliaries   \n",
       " 7                           Unified combatant command   \n",
       " 8                                           Structure   \n",
       " 9                               Operationsand history   \n",
       " 10   Current deployments Conflicts Wars Civil affairs   \n",
       " 11                                           History:   \n",
       " 12                                           Timeline   \n",
       " 13                                        By ancestry   \n",
       " 14                                    History centers   \n",
       " 15                                        War artists   \n",
       " 16                                          Personnel   \n",
       " 17                                           Training   \n",
       " 18                                           Uniforms   \n",
       " 19                                              Ranks   \n",
       " 20                                              Other   \n",
       " 21                                          Equipment   \n",
       " 22                                               Land   \n",
       " 23                                                Sea   \n",
       " 24                                                Air   \n",
       " 25                                              Other   \n",
       " 26  Legend A = Army MC = Marine Corps N = Navy AF ...   \n",
       " \n",
       "                      vte United States Armed Forces.1  \n",
       " 0   Military budget of the United States  Category...  \n",
       " 1   Commander-in-chief: President of the United St...  \n",
       " 2   Military departments Department of Defense (Se...  \n",
       " 3   Department of Defense (Secretary): Department ...  \n",
       " 4   Army (Chief of Staff) Marine Corps (Commandant...  \n",
       " 5         Reserves: A MC N AF CG National Guard: A AF  \n",
       " 6   Military Auxiliary Radio System Marine Corps C...  \n",
       " 7   Africa Central European Indo-Pacific Northern ...  \n",
       " 8   United States Code Title 10 Title 14 Title 32 ...  \n",
       " 9   Current deployments Conflicts Wars Civil affai...  \n",
       " 10   Current deployments Conflicts Wars Civil affairs  \n",
       " 11                                    A MC N AF SF CG  \n",
       " 12                              Colonial World War II  \n",
       " 13  African Americans Asian Americans Buddhist Ame...  \n",
       " 14  Army Center of Military History Marine Corps H...  \n",
       " 15             Army Art Program Air Force Art Program  \n",
       " 16  Training Service academies: A (prep) MC/N (pre...  \n",
       " 17  Service academies: A (prep) MC/N (prep) AF/SF ...  \n",
       " 18  Uniforms: A MC N AF SF CG Awards & decorations...  \n",
       " 19  Officer: A MC N AF SF CG Warrant officers Enli...  \n",
       " 20  Oath: Enlistment Office Creeds & Codes: Code o...  \n",
       " 21  A MC: vehicles weapons other N AF CG Land Indi...  \n",
       " 22  Individual weapons Crew-served weapons Vehicle...  \n",
       " 23  All watercraft Ships: A N (active) AF CG MSC W...  \n",
       " 24  Aircraft World War I active Aircraft designati...  \n",
       " 25  Nuclear football Electronics (designations) Fl...  \n",
       " 26  Legend A = Army MC = Marine Corps N = Navy AF ...  ,\n",
       "                             0  \\\n",
       " 0        Military departments   \n",
       " 1  Service branches and heads   \n",
       " 2          Reserve components   \n",
       " 3        Civilian auxiliaries   \n",
       " 4   Unified combatant command   \n",
       " \n",
       "                                                    1  \n",
       " 0  Department of Defense (Secretary): Department ...  \n",
       " 1  Army (Chief of Staff) Marine Corps (Commandant...  \n",
       " 2        Reserves: A MC N AF CG National Guard: A AF  \n",
       " 3  Military Auxiliary Radio System Marine Corps C...  \n",
       " 4  Africa Central European Indo-Pacific Northern ...  ,\n",
       "                                                   0  \\\n",
       " 0  Current deployments Conflicts Wars Civil affairs   \n",
       " 1                                          History:   \n",
       " 2                                          Timeline   \n",
       " 3                                       By ancestry   \n",
       " 4                                   History centers   \n",
       " 5                                       War artists   \n",
       " \n",
       "                                                    1  \n",
       " 0   Current deployments Conflicts Wars Civil affairs  \n",
       " 1                                    A MC N AF SF CG  \n",
       " 2                              Colonial World War II  \n",
       " 3  African Americans Asian Americans Buddhist Ame...  \n",
       " 4  Army Center of Military History Marine Corps H...  \n",
       " 5             Army Art Program Air Force Art Program  ,\n",
       "           0                                                  1\n",
       " 0  Training  Service academies: A (prep) MC/N (prep) AF/SF ...\n",
       " 1  Uniforms  Uniforms: A MC N AF SF CG Awards & decorations...\n",
       " 2     Ranks  Officer: A MC N AF SF CG Warrant officers Enli...\n",
       " 3     Other  Oath: Enlistment Office Creeds & Codes: Code o...,\n",
       "        0                                                  1\n",
       " 0   Land  Individual weapons Crew-served weapons Vehicle...\n",
       " 1    Sea  All watercraft Ships: A N (active) AF CG MSC W...\n",
       " 2    Air  Aircraft World War I active Aircraft designati...\n",
       " 3  Other  Nuclear football Electronics (designations) Fl...,\n",
       "                             vteUnited States articles  \\\n",
       " 0                                             History   \n",
       " 1                                            By event   \n",
       " 2                                            By topic   \n",
       " 3                                           Geography   \n",
       " 4   Territory Contiguous United States counties fe...   \n",
       " 5                                            Politics   \n",
       " 6   FederalExecutive Cabinet Civil service Executi...   \n",
       " 7                                             Federal   \n",
       " 8                                           Executive   \n",
       " 9                                         Legislative   \n",
       " 10                                           Judicial   \n",
       " 11                                                Law   \n",
       " 12                                       Intelligence   \n",
       " 13                                          Uniformed   \n",
       " 14  51st state Political status of Puerto Rico Pue...   \n",
       " 15                                            Economy   \n",
       " 16  By sector Agriculture Banking Communications C...   \n",
       " 17                                            Society   \n",
       " 18  Culture Americana Architecture Cinema Crime Cu...   \n",
       " 19                                            Culture   \n",
       " 20                                       Social class   \n",
       " 21                                             Issues   \n",
       " 22  .mw-parser-output .nobold{font-weight:normal}O...   \n",
       " \n",
       "                           vteUnited States articles.1  \n",
       " 0   By event Pre-Columbian era Colonial era Thirte...  \n",
       " 1   Pre-Columbian era Colonial era Thirteen Coloni...  \n",
       " 2   Outline of U.S. history Demographic Discoverie...  \n",
       " 3   Territory Contiguous United States counties fe...  \n",
       " 4   Territory Contiguous United States counties fe...  \n",
       " 5   FederalExecutive Cabinet Civil service Executi...  \n",
       " 6   FederalExecutive Cabinet Civil service Executi...  \n",
       " 7   Executive Cabinet Civil service Executive depa...  \n",
       " 8   Cabinet Civil service Executive departments Ex...  \n",
       " 9   House of Representatives current members Speak...  \n",
       " 10    District courts Courts of appeals Supreme Court  \n",
       " 11  Bill of Rights civil liberties Code of Federal...  \n",
       " 12  Central Intelligence Agency Defense Intelligen...  \n",
       " 13  Armed Forces Army Marine Corps Navy Air Force ...  \n",
       " 14  51st state Political status of Puerto Rico Pue...  \n",
       " 15  By sector Agriculture Banking Communications C...  \n",
       " 16  By sector Agriculture Banking Communications C...  \n",
       " 17  Culture Americana Architecture Cinema Crime Cu...  \n",
       " 18  Culture Americana Architecture Cinema Crime Cu...  \n",
       " 19  Americana Architecture Cinema Crime Cuisine Da...  \n",
       " 20  Affluence American Dream Educational attainmen...  \n",
       " 21  Ages of consent Capital punishment Crime incar...  \n",
       " 22  .mw-parser-output .nobold{font-weight:normal}O...  ,\n",
       "           0                                                  1\n",
       " 0  By event  Pre-Columbian era Colonial era Thirteen Coloni...\n",
       " 1  By topic  Outline of U.S. history Demographic Discoverie...,\n",
       "                                                    0  \\\n",
       " 0  Territory Contiguous United States counties fe...   \n",
       " \n",
       "                                                    1  \n",
       " 0  Territory Contiguous United States counties fe...  ,\n",
       "                                                    0  \\\n",
       " 0  FederalExecutive Cabinet Civil service Executi...   \n",
       " 1                                            Federal   \n",
       " 2                                          Executive   \n",
       " 3                                        Legislative   \n",
       " 4                                           Judicial   \n",
       " 5                                                Law   \n",
       " 6                                       Intelligence   \n",
       " 7                                          Uniformed   \n",
       " 8  51st state Political status of Puerto Rico Pue...   \n",
       " \n",
       "                                                    1  \n",
       " 0  FederalExecutive Cabinet Civil service Executi...  \n",
       " 1  Executive Cabinet Civil service Executive depa...  \n",
       " 2  Cabinet Civil service Executive departments Ex...  \n",
       " 3  House of Representatives current members Speak...  \n",
       " 4    District courts Courts of appeals Supreme Court  \n",
       " 5  Bill of Rights civil liberties Code of Federal...  \n",
       " 6  Central Intelligence Agency Defense Intelligen...  \n",
       " 7  Armed Forces Army Marine Corps Navy Air Force ...  \n",
       " 8  51st state Political status of Puerto Rico Pue...  ,\n",
       "                                                    0  \\\n",
       " 0                                            Federal   \n",
       " 1                                          Executive   \n",
       " 2                                        Legislative   \n",
       " 3                                           Judicial   \n",
       " 4                                                Law   \n",
       " 5                                       Intelligence   \n",
       " 6                                          Uniformed   \n",
       " 7  51st state Political status of Puerto Rico Pue...   \n",
       " \n",
       "                                                    1  \n",
       " 0  Executive Cabinet Civil service Executive depa...  \n",
       " 1  Cabinet Civil service Executive departments Ex...  \n",
       " 2  House of Representatives current members Speak...  \n",
       " 3    District courts Courts of appeals Supreme Court  \n",
       " 4  Bill of Rights civil liberties Code of Federal...  \n",
       " 5  Central Intelligence Agency Defense Intelligen...  \n",
       " 6  Armed Forces Army Marine Corps Navy Air Force ...  \n",
       " 7  51st state Political status of Puerto Rico Pue...  ,\n",
       "               0                                                  1\n",
       " 0     Executive  Cabinet Civil service Executive departments Ex...\n",
       " 1   Legislative  House of Representatives current members Speak...\n",
       " 2      Judicial    District courts Courts of appeals Supreme Court\n",
       " 3           Law  Bill of Rights civil liberties Code of Federal...\n",
       " 4  Intelligence  Central Intelligence Agency Defense Intelligen...\n",
       " 5     Uniformed  Armed Forces Army Marine Corps Navy Air Force ...,\n",
       "                                                    0  \\\n",
       " 0  By sector Agriculture Banking Communications C...   \n",
       " \n",
       "                                                    1  \n",
       " 0  By sector Agriculture Banking Communications C...  ,\n",
       "                                                    0  \\\n",
       " 0  Culture Americana Architecture Cinema Crime Cu...   \n",
       " 1                                            Culture   \n",
       " 2                                       Social class   \n",
       " 3                                             Issues   \n",
       " \n",
       "                                                    1  \n",
       " 0  Culture Americana Architecture Cinema Crime Cu...  \n",
       " 1  Americana Architecture Cinema Crime Cuisine Da...  \n",
       " 2  Affluence American Dream Educational attainmen...  \n",
       " 3  Ages of consent Capital punishment Crime incar...  ,\n",
       "               0                                                  1\n",
       " 0       Culture  Americana Architecture Cinema Crime Cuisine Da...\n",
       " 1  Social class  Affluence American Dream Educational attainmen...\n",
       " 2        Issues  Ages of consent Capital punishment Crime incar...,\n",
       "   vteHeads of state and government of North America  \\\n",
       " 0                                    Heads of state   \n",
       " 1                                  Sovereign states   \n",
       " 2                               Heads of government   \n",
       " 3                                  Sovereign states   \n",
       " \n",
       "   vteHeads of state and government of North America.1  \n",
       " 0  Sovereign states Antigua and Barbuda Bahamas B...   \n",
       " 1  Antigua and Barbuda Bahamas Barbados Belize Ca...   \n",
       " 2  Sovereign states Antigua and Barbuda Bahamas B...   \n",
       " 3  Antigua and Barbuda Bahamas Barbados Belize Ca...   ,\n",
       "                   0                                                  1\n",
       " 0  Sovereign states  Antigua and Barbuda Bahamas Barbados Belize Ca...,\n",
       "                   0                                                  1\n",
       " 0  Sovereign states  Antigua and Barbuda Bahamas Barbados Belize Ca...,\n",
       "       Authority control                                Authority control.1\n",
       " 0               General                           ISNI 1 VIAF 1 2 WorldCat\n",
       " 1    National libraries  France (data) 2 (data) Germany Israel United S...\n",
       " 2  Scientific databases                                      CiNii (Japan)\n",
       " 3                 Other  Faceted Application of Subject Terminology Nat...]"
      ]
     },
     "execution_count": 87,
     "metadata": {},
     "output_type": "execute_result"
    }
   ],
   "source": [
    "table"
   ]
  },
  {
   "cell_type": "code",
   "execution_count": 88,
   "id": "d6e72482",
   "metadata": {},
   "outputs": [
    {
     "data": {
      "text/html": [
       "<div>\n",
       "<style scoped>\n",
       "    .dataframe tbody tr th:only-of-type {\n",
       "        vertical-align: middle;\n",
       "    }\n",
       "\n",
       "    .dataframe tbody tr th {\n",
       "        vertical-align: top;\n",
       "    }\n",
       "\n",
       "    .dataframe thead th {\n",
       "        text-align: right;\n",
       "    }\n",
       "</style>\n",
       "<table border=\"1\" class=\"dataframe\">\n",
       "  <thead>\n",
       "    <tr style=\"text-align: right;\">\n",
       "      <th></th>\n",
       "      <th>President of theUnited States of America</th>\n",
       "      <th>President of theUnited States of America.1</th>\n",
       "    </tr>\n",
       "  </thead>\n",
       "  <tbody>\n",
       "    <tr>\n",
       "      <th>0</th>\n",
       "      <td>Presidential seal</td>\n",
       "      <td>Presidential seal</td>\n",
       "    </tr>\n",
       "    <tr>\n",
       "      <th>1</th>\n",
       "      <td>Presidential flag</td>\n",
       "      <td>Presidential flag</td>\n",
       "    </tr>\n",
       "    <tr>\n",
       "      <th>2</th>\n",
       "      <td>IncumbentJoe Bidensince January 20, 2021</td>\n",
       "      <td>IncumbentJoe Bidensince January 20, 2021</td>\n",
       "    </tr>\n",
       "    <tr>\n",
       "      <th>3</th>\n",
       "      <td>Executive branch of the U.S. government Execut...</td>\n",
       "      <td>Executive branch of the U.S. government Execut...</td>\n",
       "    </tr>\n",
       "    <tr>\n",
       "      <th>4</th>\n",
       "      <td>Style</td>\n",
       "      <td>Mr. President[1][2](informal) The Honorable[3]...</td>\n",
       "    </tr>\n",
       "    <tr>\n",
       "      <th>5</th>\n",
       "      <td>Type</td>\n",
       "      <td>Head of state Head of government</td>\n",
       "    </tr>\n",
       "    <tr>\n",
       "      <th>6</th>\n",
       "      <td>Abbreviation</td>\n",
       "      <td>POTUS</td>\n",
       "    </tr>\n",
       "    <tr>\n",
       "      <th>7</th>\n",
       "      <td>Member of</td>\n",
       "      <td>Cabinet Domestic Policy Council National Econo...</td>\n",
       "    </tr>\n",
       "    <tr>\n",
       "      <th>8</th>\n",
       "      <td>Residence</td>\n",
       "      <td>White House</td>\n",
       "    </tr>\n",
       "    <tr>\n",
       "      <th>9</th>\n",
       "      <td>Seat</td>\n",
       "      <td>Washington, D.C.</td>\n",
       "    </tr>\n",
       "    <tr>\n",
       "      <th>10</th>\n",
       "      <td>Appointer</td>\n",
       "      <td>Electoral College</td>\n",
       "    </tr>\n",
       "    <tr>\n",
       "      <th>11</th>\n",
       "      <td>Term length</td>\n",
       "      <td>Four years, renewable once</td>\n",
       "    </tr>\n",
       "    <tr>\n",
       "      <th>12</th>\n",
       "      <td>Constituting instrument</td>\n",
       "      <td>Constitution of the United States</td>\n",
       "    </tr>\n",
       "    <tr>\n",
       "      <th>13</th>\n",
       "      <td>Formation</td>\n",
       "      <td>June 21, 1788(233 years ago)[6][7]</td>\n",
       "    </tr>\n",
       "    <tr>\n",
       "      <th>14</th>\n",
       "      <td>First holder</td>\n",
       "      <td>George Washington[8]</td>\n",
       "    </tr>\n",
       "    <tr>\n",
       "      <th>15</th>\n",
       "      <td>Salary</td>\n",
       "      <td>$400,000 annually</td>\n",
       "    </tr>\n",
       "    <tr>\n",
       "      <th>16</th>\n",
       "      <td>Website</td>\n",
       "      <td>www.whitehouse.gov</td>\n",
       "    </tr>\n",
       "  </tbody>\n",
       "</table>\n",
       "</div>"
      ],
      "text/plain": [
       "             President of theUnited States of America  \\\n",
       "0                                   Presidential seal   \n",
       "1                                   Presidential flag   \n",
       "2            IncumbentJoe Bidensince January 20, 2021   \n",
       "3   Executive branch of the U.S. government Execut...   \n",
       "4                                               Style   \n",
       "5                                                Type   \n",
       "6                                        Abbreviation   \n",
       "7                                           Member of   \n",
       "8                                           Residence   \n",
       "9                                                Seat   \n",
       "10                                          Appointer   \n",
       "11                                        Term length   \n",
       "12                            Constituting instrument   \n",
       "13                                          Formation   \n",
       "14                                       First holder   \n",
       "15                                             Salary   \n",
       "16                                            Website   \n",
       "\n",
       "           President of theUnited States of America.1  \n",
       "0                                   Presidential seal  \n",
       "1                                   Presidential flag  \n",
       "2            IncumbentJoe Bidensince January 20, 2021  \n",
       "3   Executive branch of the U.S. government Execut...  \n",
       "4   Mr. President[1][2](informal) The Honorable[3]...  \n",
       "5                    Head of state Head of government  \n",
       "6                                               POTUS  \n",
       "7   Cabinet Domestic Policy Council National Econo...  \n",
       "8                                         White House  \n",
       "9                                    Washington, D.C.  \n",
       "10                                  Electoral College  \n",
       "11                         Four years, renewable once  \n",
       "12                  Constitution of the United States  \n",
       "13                 June 21, 1788(233 years ago)[6][7]  \n",
       "14                               George Washington[8]  \n",
       "15                                  $400,000 annually  \n",
       "16                                 www.whitehouse.gov  "
      ]
     },
     "execution_count": 88,
     "metadata": {},
     "output_type": "execute_result"
    }
   ],
   "source": [
    "table[0]"
   ]
  },
  {
   "cell_type": "code",
   "execution_count": 89,
   "id": "6474a29e",
   "metadata": {},
   "outputs": [],
   "source": [
    "president=pd.read_html(\"https://en.wikipedia.org/wiki/Elections_in_India\",match=\"LOK SABHA ELECTIONS\")"
   ]
  },
  {
   "cell_type": "code",
   "execution_count": 90,
   "id": "e9e67a65",
   "metadata": {},
   "outputs": [
    {
     "data": {
      "text/html": [
       "<div>\n",
       "<style scoped>\n",
       "    .dataframe tbody tr th:only-of-type {\n",
       "        vertical-align: middle;\n",
       "    }\n",
       "\n",
       "    .dataframe tbody tr th {\n",
       "        vertical-align: top;\n",
       "    }\n",
       "\n",
       "    .dataframe thead tr th {\n",
       "        text-align: left;\n",
       "    }\n",
       "</style>\n",
       "<table border=\"1\" class=\"dataframe\">\n",
       "  <thead>\n",
       "    <tr>\n",
       "      <th></th>\n",
       "      <th>Unnamed: 0_level_0</th>\n",
       "      <th>Unnamed: 1_level_0</th>\n",
       "      <th>Unnamed: 2_level_0</th>\n",
       "      <th colspan=\"3\" halign=\"left\">First</th>\n",
       "      <th colspan=\"3\" halign=\"left\">Second</th>\n",
       "      <th colspan=\"3\" halign=\"left\">Third</th>\n",
       "    </tr>\n",
       "    <tr>\n",
       "      <th></th>\n",
       "      <th>Year</th>\n",
       "      <th>Election</th>\n",
       "      <th>Total seats</th>\n",
       "      <th>Party</th>\n",
       "      <th>Seats</th>\n",
       "      <th>% votes</th>\n",
       "      <th>Party</th>\n",
       "      <th>Seats</th>\n",
       "      <th>% votes</th>\n",
       "      <th>Party</th>\n",
       "      <th>Seats</th>\n",
       "      <th>% votes</th>\n",
       "    </tr>\n",
       "  </thead>\n",
       "  <tbody>\n",
       "    <tr>\n",
       "      <th>0</th>\n",
       "      <td>1951–52[3][4][5]</td>\n",
       "      <td>1st Lok Sabha</td>\n",
       "      <td>489</td>\n",
       "      <td>INC</td>\n",
       "      <td>364</td>\n",
       "      <td>45%</td>\n",
       "      <td>CPI</td>\n",
       "      <td>16</td>\n",
       "      <td>3.29%</td>\n",
       "      <td>SOC</td>\n",
       "      <td>12</td>\n",
       "      <td>10.59%</td>\n",
       "    </tr>\n",
       "    <tr>\n",
       "      <th>1</th>\n",
       "      <td>1957[6]</td>\n",
       "      <td>2nd Lok Sabha</td>\n",
       "      <td>494</td>\n",
       "      <td>INC</td>\n",
       "      <td>371</td>\n",
       "      <td>47.78%</td>\n",
       "      <td>CPI</td>\n",
       "      <td>27</td>\n",
       "      <td>8.92%</td>\n",
       "      <td>PSP</td>\n",
       "      <td>19</td>\n",
       "      <td>10.41%</td>\n",
       "    </tr>\n",
       "    <tr>\n",
       "      <th>2</th>\n",
       "      <td>1962</td>\n",
       "      <td>3rd Lok Sabha</td>\n",
       "      <td>494</td>\n",
       "      <td>INC</td>\n",
       "      <td>361</td>\n",
       "      <td>44.72%</td>\n",
       "      <td>CPI</td>\n",
       "      <td>29</td>\n",
       "      <td>9.94%</td>\n",
       "      <td>SWA</td>\n",
       "      <td>18</td>\n",
       "      <td>7.89%</td>\n",
       "    </tr>\n",
       "    <tr>\n",
       "      <th>3</th>\n",
       "      <td>1967</td>\n",
       "      <td>4th Lok Sabha</td>\n",
       "      <td>520</td>\n",
       "      <td>INC</td>\n",
       "      <td>283</td>\n",
       "      <td>40.78%</td>\n",
       "      <td>SWA</td>\n",
       "      <td>44</td>\n",
       "      <td>8.67%</td>\n",
       "      <td>BJS</td>\n",
       "      <td>35</td>\n",
       "      <td>9.31%</td>\n",
       "    </tr>\n",
       "    <tr>\n",
       "      <th>4</th>\n",
       "      <td>1971</td>\n",
       "      <td>5th Lok Sabha</td>\n",
       "      <td>518</td>\n",
       "      <td>INC</td>\n",
       "      <td>352</td>\n",
       "      <td>43.68%</td>\n",
       "      <td>CPM</td>\n",
       "      <td>25</td>\n",
       "      <td>5.12%</td>\n",
       "      <td>CPI</td>\n",
       "      <td>23</td>\n",
       "      <td>4.73%</td>\n",
       "    </tr>\n",
       "    <tr>\n",
       "      <th>5</th>\n",
       "      <td>1977</td>\n",
       "      <td>6th Lok Sabha</td>\n",
       "      <td>542</td>\n",
       "      <td>JP</td>\n",
       "      <td>298</td>\n",
       "      <td>43.17%</td>\n",
       "      <td>INC</td>\n",
       "      <td>153</td>\n",
       "      <td>34.52%</td>\n",
       "      <td>CPM</td>\n",
       "      <td>22</td>\n",
       "      <td>4.29%</td>\n",
       "    </tr>\n",
       "    <tr>\n",
       "      <th>6</th>\n",
       "      <td>1980</td>\n",
       "      <td>7th Lok Sabha</td>\n",
       "      <td>529 ( 542* )</td>\n",
       "      <td>INC(I)</td>\n",
       "      <td>351</td>\n",
       "      <td>42.69%</td>\n",
       "      <td>JNP(S)</td>\n",
       "      <td>41</td>\n",
       "      <td>9.39%</td>\n",
       "      <td>CPM</td>\n",
       "      <td>37</td>\n",
       "      <td>6.24%</td>\n",
       "    </tr>\n",
       "    <tr>\n",
       "      <th>7</th>\n",
       "      <td>1984</td>\n",
       "      <td>8th Lok Sabha</td>\n",
       "      <td>514</td>\n",
       "      <td>INC</td>\n",
       "      <td>404</td>\n",
       "      <td>49.10%</td>\n",
       "      <td>TDP</td>\n",
       "      <td>30</td>\n",
       "      <td>4.31%</td>\n",
       "      <td>CPM</td>\n",
       "      <td>22</td>\n",
       "      <td>5.87%</td>\n",
       "    </tr>\n",
       "    <tr>\n",
       "      <th>8</th>\n",
       "      <td>1989</td>\n",
       "      <td>9th Lok Sabha</td>\n",
       "      <td>529</td>\n",
       "      <td>INC</td>\n",
       "      <td>195</td>\n",
       "      <td>39.53%</td>\n",
       "      <td>JD</td>\n",
       "      <td>142</td>\n",
       "      <td>17.79%</td>\n",
       "      <td>BJP</td>\n",
       "      <td>85</td>\n",
       "      <td>11.36%</td>\n",
       "    </tr>\n",
       "    <tr>\n",
       "      <th>9</th>\n",
       "      <td>1991</td>\n",
       "      <td>10th Lok Sabha</td>\n",
       "      <td>521</td>\n",
       "      <td>INC</td>\n",
       "      <td>244</td>\n",
       "      <td>35.66%</td>\n",
       "      <td>BJP</td>\n",
       "      <td>120</td>\n",
       "      <td>20.11%</td>\n",
       "      <td>JD</td>\n",
       "      <td>59</td>\n",
       "      <td>11.84%</td>\n",
       "    </tr>\n",
       "    <tr>\n",
       "      <th>10</th>\n",
       "      <td>1996</td>\n",
       "      <td>11th Lok Sabha</td>\n",
       "      <td>543</td>\n",
       "      <td>BJP</td>\n",
       "      <td>161</td>\n",
       "      <td>20.29%</td>\n",
       "      <td>INC</td>\n",
       "      <td>140</td>\n",
       "      <td>28.80%</td>\n",
       "      <td>JD</td>\n",
       "      <td>46</td>\n",
       "      <td>23.45%</td>\n",
       "    </tr>\n",
       "    <tr>\n",
       "      <th>11</th>\n",
       "      <td>1998</td>\n",
       "      <td>12th Lok Sabha</td>\n",
       "      <td>545</td>\n",
       "      <td>BJP</td>\n",
       "      <td>182</td>\n",
       "      <td>25.59%</td>\n",
       "      <td>INC</td>\n",
       "      <td>141</td>\n",
       "      <td>25.82%</td>\n",
       "      <td>CPM</td>\n",
       "      <td>32</td>\n",
       "      <td>5.16%</td>\n",
       "    </tr>\n",
       "    <tr>\n",
       "      <th>12</th>\n",
       "      <td>1999</td>\n",
       "      <td>13th Lok Sabha</td>\n",
       "      <td>545</td>\n",
       "      <td>BJP</td>\n",
       "      <td>182</td>\n",
       "      <td>23.75%</td>\n",
       "      <td>INC</td>\n",
       "      <td>114</td>\n",
       "      <td>28.30%</td>\n",
       "      <td>CPM</td>\n",
       "      <td>33</td>\n",
       "      <td>5.40%</td>\n",
       "    </tr>\n",
       "    <tr>\n",
       "      <th>13</th>\n",
       "      <td>2004</td>\n",
       "      <td>14th Lok Sabha</td>\n",
       "      <td>543</td>\n",
       "      <td>INC</td>\n",
       "      <td>145</td>\n",
       "      <td>26.53%</td>\n",
       "      <td>BJP</td>\n",
       "      <td>138</td>\n",
       "      <td>22.16%</td>\n",
       "      <td>CPM</td>\n",
       "      <td>43</td>\n",
       "      <td>5.66%</td>\n",
       "    </tr>\n",
       "    <tr>\n",
       "      <th>14</th>\n",
       "      <td>2009</td>\n",
       "      <td>15th Lok Sabha</td>\n",
       "      <td>545</td>\n",
       "      <td>INC</td>\n",
       "      <td>206</td>\n",
       "      <td>28.55%</td>\n",
       "      <td>BJP</td>\n",
       "      <td>116</td>\n",
       "      <td>18.80%</td>\n",
       "      <td>SP</td>\n",
       "      <td>23</td>\n",
       "      <td>3.23%</td>\n",
       "    </tr>\n",
       "    <tr>\n",
       "      <th>15</th>\n",
       "      <td>2014</td>\n",
       "      <td>16th Lok Sabha</td>\n",
       "      <td>545</td>\n",
       "      <td>BJP</td>\n",
       "      <td>282</td>\n",
       "      <td>31.34%</td>\n",
       "      <td>INC</td>\n",
       "      <td>44</td>\n",
       "      <td>19.52%</td>\n",
       "      <td>AIADMK</td>\n",
       "      <td>37</td>\n",
       "      <td>3.31%</td>\n",
       "    </tr>\n",
       "    <tr>\n",
       "      <th>16</th>\n",
       "      <td>2019</td>\n",
       "      <td>17th Lok Sabha</td>\n",
       "      <td>543</td>\n",
       "      <td>BJP</td>\n",
       "      <td>303</td>\n",
       "      <td>37.4%[7]</td>\n",
       "      <td>INC</td>\n",
       "      <td>52</td>\n",
       "      <td>19.50%[8]</td>\n",
       "      <td>DMK</td>\n",
       "      <td>24</td>\n",
       "      <td>4.24%</td>\n",
       "    </tr>\n",
       "  </tbody>\n",
       "</table>\n",
       "</div>"
      ],
      "text/plain": [
       "   Unnamed: 0_level_0 Unnamed: 1_level_0 Unnamed: 2_level_0   First        \\\n",
       "                 Year           Election        Total seats   Party Seats   \n",
       "0    1951–52[3][4][5]      1st Lok Sabha                489     INC   364   \n",
       "1             1957[6]      2nd Lok Sabha                494     INC   371   \n",
       "2                1962      3rd Lok Sabha                494     INC   361   \n",
       "3                1967      4th Lok Sabha                520     INC   283   \n",
       "4                1971      5th Lok Sabha                518     INC   352   \n",
       "5                1977      6th Lok Sabha                542      JP   298   \n",
       "6                1980      7th Lok Sabha       529 ( 542* )  INC(I)   351   \n",
       "7                1984      8th Lok Sabha                514     INC   404   \n",
       "8                1989      9th Lok Sabha                529     INC   195   \n",
       "9                1991     10th Lok Sabha                521     INC   244   \n",
       "10               1996     11th Lok Sabha                543     BJP   161   \n",
       "11               1998     12th Lok Sabha                545     BJP   182   \n",
       "12               1999     13th Lok Sabha                545     BJP   182   \n",
       "13               2004     14th Lok Sabha                543     INC   145   \n",
       "14               2009     15th Lok Sabha                545     INC   206   \n",
       "15               2014     16th Lok Sabha                545     BJP   282   \n",
       "16               2019     17th Lok Sabha                543     BJP   303   \n",
       "\n",
       "              Second                    Third                \n",
       "     % votes   Party Seats    % votes   Party Seats % votes  \n",
       "0        45%     CPI    16      3.29%     SOC    12  10.59%  \n",
       "1     47.78%     CPI    27      8.92%     PSP    19  10.41%  \n",
       "2     44.72%     CPI    29      9.94%     SWA    18   7.89%  \n",
       "3     40.78%     SWA    44      8.67%     BJS    35   9.31%  \n",
       "4     43.68%     CPM    25      5.12%     CPI    23   4.73%  \n",
       "5     43.17%     INC   153     34.52%     CPM    22   4.29%  \n",
       "6     42.69%  JNP(S)    41      9.39%     CPM    37   6.24%  \n",
       "7     49.10%     TDP    30      4.31%     CPM    22   5.87%  \n",
       "8     39.53%      JD   142     17.79%     BJP    85  11.36%  \n",
       "9     35.66%     BJP   120     20.11%      JD    59  11.84%  \n",
       "10    20.29%     INC   140     28.80%      JD    46  23.45%  \n",
       "11    25.59%     INC   141     25.82%     CPM    32   5.16%  \n",
       "12    23.75%     INC   114     28.30%     CPM    33   5.40%  \n",
       "13    26.53%     BJP   138     22.16%     CPM    43   5.66%  \n",
       "14    28.55%     BJP   116     18.80%      SP    23   3.23%  \n",
       "15    31.34%     INC    44     19.52%  AIADMK    37   3.31%  \n",
       "16  37.4%[7]     INC    52  19.50%[8]     DMK    24   4.24%  "
      ]
     },
     "execution_count": 90,
     "metadata": {},
     "output_type": "execute_result"
    }
   ],
   "source": [
    "president[0]"
   ]
  },
  {
   "cell_type": "code",
   "execution_count": 91,
   "id": "c5200dcd",
   "metadata": {},
   "outputs": [
    {
     "data": {
      "text/plain": [
       "list"
      ]
     },
     "execution_count": 91,
     "metadata": {},
     "output_type": "execute_result"
    }
   ],
   "source": [
    "type(president)"
   ]
  },
  {
   "cell_type": "code",
   "execution_count": 92,
   "id": "514458dd",
   "metadata": {},
   "outputs": [
    {
     "data": {
      "text/plain": [
       "pandas.core.frame.DataFrame"
      ]
     },
     "execution_count": 92,
     "metadata": {},
     "output_type": "execute_result"
    }
   ],
   "source": [
    "\n",
    "\n",
    "\n",
    "type(president[0])"
   ]
  },
  {
   "cell_type": "code",
   "execution_count": 93,
   "id": "e3b801d5",
   "metadata": {},
   "outputs": [],
   "source": [
    "elections=pd.read_html(r\"https://en.wikipedia.org/wiki/Elections_in_India\")"
   ]
  },
  {
   "cell_type": "code",
   "execution_count": 94,
   "id": "f9b30bae",
   "metadata": {},
   "outputs": [
    {
     "data": {
      "text/html": [
       "<div>\n",
       "<style scoped>\n",
       "    .dataframe tbody tr th:only-of-type {\n",
       "        vertical-align: middle;\n",
       "    }\n",
       "\n",
       "    .dataframe tbody tr th {\n",
       "        vertical-align: top;\n",
       "    }\n",
       "\n",
       "    .dataframe thead th {\n",
       "        text-align: right;\n",
       "    }\n",
       "</style>\n",
       "<table border=\"1\" class=\"dataframe\">\n",
       "  <thead>\n",
       "    <tr style=\"text-align: right;\">\n",
       "      <th></th>\n",
       "      <th>Politics of India</th>\n",
       "    </tr>\n",
       "  </thead>\n",
       "  <tbody>\n",
       "    <tr>\n",
       "      <th>0</th>\n",
       "      <td>Federal government Constitution of India Law H...</td>\n",
       "    </tr>\n",
       "    <tr>\n",
       "      <th>1</th>\n",
       "      <td>LegislatureParliament of India Lok Sabha Speak...</td>\n",
       "    </tr>\n",
       "    <tr>\n",
       "      <th>2</th>\n",
       "      <td>Executive President of India Ram Nath Kovind (...</td>\n",
       "    </tr>\n",
       "    <tr>\n",
       "      <th>3</th>\n",
       "      <td>Judiciary Supreme Court of India Chief Justice...</td>\n",
       "    </tr>\n",
       "    <tr>\n",
       "      <th>4</th>\n",
       "      <td>Elections General elections 2009 2014 2019 Sta...</td>\n",
       "    </tr>\n",
       "    <tr>\n",
       "      <th>5</th>\n",
       "      <td>Political partiesNational coalitions National ...</td>\n",
       "    </tr>\n",
       "    <tr>\n",
       "      <th>6</th>\n",
       "      <td>Federalism State Government Governors Legislat...</td>\n",
       "    </tr>\n",
       "    <tr>\n",
       "      <th>7</th>\n",
       "      <td>India portal Other countries</td>\n",
       "    </tr>\n",
       "    <tr>\n",
       "      <th>8</th>\n",
       "      <td>.mw-parser-output .navbar{display:inline;font-...</td>\n",
       "    </tr>\n",
       "  </tbody>\n",
       "</table>\n",
       "</div>"
      ],
      "text/plain": [
       "                                   Politics of India\n",
       "0  Federal government Constitution of India Law H...\n",
       "1  LegislatureParliament of India Lok Sabha Speak...\n",
       "2  Executive President of India Ram Nath Kovind (...\n",
       "3  Judiciary Supreme Court of India Chief Justice...\n",
       "4  Elections General elections 2009 2014 2019 Sta...\n",
       "5  Political partiesNational coalitions National ...\n",
       "6  Federalism State Government Governors Legislat...\n",
       "7                       India portal Other countries\n",
       "8  .mw-parser-output .navbar{display:inline;font-..."
      ]
     },
     "execution_count": 94,
     "metadata": {},
     "output_type": "execute_result"
    }
   ],
   "source": [
    "elections[0]"
   ]
  },
  {
   "cell_type": "code",
   "execution_count": 95,
   "id": "c59e8e3d",
   "metadata": {},
   "outputs": [],
   "source": [
    "##To extract matching data 'LOK SABHA ELECTIONS'\n"
   ]
  },
  {
   "cell_type": "code",
   "execution_count": 96,
   "id": "e5f3632d",
   "metadata": {},
   "outputs": [],
   "source": [
    "elections_loksabha=pd.read_html(r\"https://en.wikipedia.org/wiki/Elections_in_India\",match='LOK SABHA ELECTIONS')"
   ]
  },
  {
   "cell_type": "code",
   "execution_count": 97,
   "id": "b28a66c3",
   "metadata": {},
   "outputs": [
    {
     "data": {
      "text/html": [
       "<div>\n",
       "<style scoped>\n",
       "    .dataframe tbody tr th:only-of-type {\n",
       "        vertical-align: middle;\n",
       "    }\n",
       "\n",
       "    .dataframe tbody tr th {\n",
       "        vertical-align: top;\n",
       "    }\n",
       "\n",
       "    .dataframe thead tr th {\n",
       "        text-align: left;\n",
       "    }\n",
       "</style>\n",
       "<table border=\"1\" class=\"dataframe\">\n",
       "  <thead>\n",
       "    <tr>\n",
       "      <th></th>\n",
       "      <th>Unnamed: 0_level_0</th>\n",
       "      <th>Unnamed: 1_level_0</th>\n",
       "      <th>Unnamed: 2_level_0</th>\n",
       "      <th colspan=\"3\" halign=\"left\">First</th>\n",
       "      <th colspan=\"3\" halign=\"left\">Second</th>\n",
       "      <th colspan=\"3\" halign=\"left\">Third</th>\n",
       "    </tr>\n",
       "    <tr>\n",
       "      <th></th>\n",
       "      <th>Year</th>\n",
       "      <th>Election</th>\n",
       "      <th>Total seats</th>\n",
       "      <th>Party</th>\n",
       "      <th>Seats</th>\n",
       "      <th>% votes</th>\n",
       "      <th>Party</th>\n",
       "      <th>Seats</th>\n",
       "      <th>% votes</th>\n",
       "      <th>Party</th>\n",
       "      <th>Seats</th>\n",
       "      <th>% votes</th>\n",
       "    </tr>\n",
       "  </thead>\n",
       "  <tbody>\n",
       "    <tr>\n",
       "      <th>0</th>\n",
       "      <td>1951–52[3][4][5]</td>\n",
       "      <td>1st Lok Sabha</td>\n",
       "      <td>489</td>\n",
       "      <td>INC</td>\n",
       "      <td>364</td>\n",
       "      <td>45%</td>\n",
       "      <td>CPI</td>\n",
       "      <td>16</td>\n",
       "      <td>3.29%</td>\n",
       "      <td>SOC</td>\n",
       "      <td>12</td>\n",
       "      <td>10.59%</td>\n",
       "    </tr>\n",
       "    <tr>\n",
       "      <th>1</th>\n",
       "      <td>1957[6]</td>\n",
       "      <td>2nd Lok Sabha</td>\n",
       "      <td>494</td>\n",
       "      <td>INC</td>\n",
       "      <td>371</td>\n",
       "      <td>47.78%</td>\n",
       "      <td>CPI</td>\n",
       "      <td>27</td>\n",
       "      <td>8.92%</td>\n",
       "      <td>PSP</td>\n",
       "      <td>19</td>\n",
       "      <td>10.41%</td>\n",
       "    </tr>\n",
       "    <tr>\n",
       "      <th>2</th>\n",
       "      <td>1962</td>\n",
       "      <td>3rd Lok Sabha</td>\n",
       "      <td>494</td>\n",
       "      <td>INC</td>\n",
       "      <td>361</td>\n",
       "      <td>44.72%</td>\n",
       "      <td>CPI</td>\n",
       "      <td>29</td>\n",
       "      <td>9.94%</td>\n",
       "      <td>SWA</td>\n",
       "      <td>18</td>\n",
       "      <td>7.89%</td>\n",
       "    </tr>\n",
       "    <tr>\n",
       "      <th>3</th>\n",
       "      <td>1967</td>\n",
       "      <td>4th Lok Sabha</td>\n",
       "      <td>520</td>\n",
       "      <td>INC</td>\n",
       "      <td>283</td>\n",
       "      <td>40.78%</td>\n",
       "      <td>SWA</td>\n",
       "      <td>44</td>\n",
       "      <td>8.67%</td>\n",
       "      <td>BJS</td>\n",
       "      <td>35</td>\n",
       "      <td>9.31%</td>\n",
       "    </tr>\n",
       "    <tr>\n",
       "      <th>4</th>\n",
       "      <td>1971</td>\n",
       "      <td>5th Lok Sabha</td>\n",
       "      <td>518</td>\n",
       "      <td>INC</td>\n",
       "      <td>352</td>\n",
       "      <td>43.68%</td>\n",
       "      <td>CPM</td>\n",
       "      <td>25</td>\n",
       "      <td>5.12%</td>\n",
       "      <td>CPI</td>\n",
       "      <td>23</td>\n",
       "      <td>4.73%</td>\n",
       "    </tr>\n",
       "    <tr>\n",
       "      <th>5</th>\n",
       "      <td>1977</td>\n",
       "      <td>6th Lok Sabha</td>\n",
       "      <td>542</td>\n",
       "      <td>JP</td>\n",
       "      <td>298</td>\n",
       "      <td>43.17%</td>\n",
       "      <td>INC</td>\n",
       "      <td>153</td>\n",
       "      <td>34.52%</td>\n",
       "      <td>CPM</td>\n",
       "      <td>22</td>\n",
       "      <td>4.29%</td>\n",
       "    </tr>\n",
       "    <tr>\n",
       "      <th>6</th>\n",
       "      <td>1980</td>\n",
       "      <td>7th Lok Sabha</td>\n",
       "      <td>529 ( 542* )</td>\n",
       "      <td>INC(I)</td>\n",
       "      <td>351</td>\n",
       "      <td>42.69%</td>\n",
       "      <td>JNP(S)</td>\n",
       "      <td>41</td>\n",
       "      <td>9.39%</td>\n",
       "      <td>CPM</td>\n",
       "      <td>37</td>\n",
       "      <td>6.24%</td>\n",
       "    </tr>\n",
       "    <tr>\n",
       "      <th>7</th>\n",
       "      <td>1984</td>\n",
       "      <td>8th Lok Sabha</td>\n",
       "      <td>514</td>\n",
       "      <td>INC</td>\n",
       "      <td>404</td>\n",
       "      <td>49.10%</td>\n",
       "      <td>TDP</td>\n",
       "      <td>30</td>\n",
       "      <td>4.31%</td>\n",
       "      <td>CPM</td>\n",
       "      <td>22</td>\n",
       "      <td>5.87%</td>\n",
       "    </tr>\n",
       "    <tr>\n",
       "      <th>8</th>\n",
       "      <td>1989</td>\n",
       "      <td>9th Lok Sabha</td>\n",
       "      <td>529</td>\n",
       "      <td>INC</td>\n",
       "      <td>195</td>\n",
       "      <td>39.53%</td>\n",
       "      <td>JD</td>\n",
       "      <td>142</td>\n",
       "      <td>17.79%</td>\n",
       "      <td>BJP</td>\n",
       "      <td>85</td>\n",
       "      <td>11.36%</td>\n",
       "    </tr>\n",
       "    <tr>\n",
       "      <th>9</th>\n",
       "      <td>1991</td>\n",
       "      <td>10th Lok Sabha</td>\n",
       "      <td>521</td>\n",
       "      <td>INC</td>\n",
       "      <td>244</td>\n",
       "      <td>35.66%</td>\n",
       "      <td>BJP</td>\n",
       "      <td>120</td>\n",
       "      <td>20.11%</td>\n",
       "      <td>JD</td>\n",
       "      <td>59</td>\n",
       "      <td>11.84%</td>\n",
       "    </tr>\n",
       "    <tr>\n",
       "      <th>10</th>\n",
       "      <td>1996</td>\n",
       "      <td>11th Lok Sabha</td>\n",
       "      <td>543</td>\n",
       "      <td>BJP</td>\n",
       "      <td>161</td>\n",
       "      <td>20.29%</td>\n",
       "      <td>INC</td>\n",
       "      <td>140</td>\n",
       "      <td>28.80%</td>\n",
       "      <td>JD</td>\n",
       "      <td>46</td>\n",
       "      <td>23.45%</td>\n",
       "    </tr>\n",
       "    <tr>\n",
       "      <th>11</th>\n",
       "      <td>1998</td>\n",
       "      <td>12th Lok Sabha</td>\n",
       "      <td>545</td>\n",
       "      <td>BJP</td>\n",
       "      <td>182</td>\n",
       "      <td>25.59%</td>\n",
       "      <td>INC</td>\n",
       "      <td>141</td>\n",
       "      <td>25.82%</td>\n",
       "      <td>CPM</td>\n",
       "      <td>32</td>\n",
       "      <td>5.16%</td>\n",
       "    </tr>\n",
       "    <tr>\n",
       "      <th>12</th>\n",
       "      <td>1999</td>\n",
       "      <td>13th Lok Sabha</td>\n",
       "      <td>545</td>\n",
       "      <td>BJP</td>\n",
       "      <td>182</td>\n",
       "      <td>23.75%</td>\n",
       "      <td>INC</td>\n",
       "      <td>114</td>\n",
       "      <td>28.30%</td>\n",
       "      <td>CPM</td>\n",
       "      <td>33</td>\n",
       "      <td>5.40%</td>\n",
       "    </tr>\n",
       "    <tr>\n",
       "      <th>13</th>\n",
       "      <td>2004</td>\n",
       "      <td>14th Lok Sabha</td>\n",
       "      <td>543</td>\n",
       "      <td>INC</td>\n",
       "      <td>145</td>\n",
       "      <td>26.53%</td>\n",
       "      <td>BJP</td>\n",
       "      <td>138</td>\n",
       "      <td>22.16%</td>\n",
       "      <td>CPM</td>\n",
       "      <td>43</td>\n",
       "      <td>5.66%</td>\n",
       "    </tr>\n",
       "    <tr>\n",
       "      <th>14</th>\n",
       "      <td>2009</td>\n",
       "      <td>15th Lok Sabha</td>\n",
       "      <td>545</td>\n",
       "      <td>INC</td>\n",
       "      <td>206</td>\n",
       "      <td>28.55%</td>\n",
       "      <td>BJP</td>\n",
       "      <td>116</td>\n",
       "      <td>18.80%</td>\n",
       "      <td>SP</td>\n",
       "      <td>23</td>\n",
       "      <td>3.23%</td>\n",
       "    </tr>\n",
       "    <tr>\n",
       "      <th>15</th>\n",
       "      <td>2014</td>\n",
       "      <td>16th Lok Sabha</td>\n",
       "      <td>545</td>\n",
       "      <td>BJP</td>\n",
       "      <td>282</td>\n",
       "      <td>31.34%</td>\n",
       "      <td>INC</td>\n",
       "      <td>44</td>\n",
       "      <td>19.52%</td>\n",
       "      <td>AIADMK</td>\n",
       "      <td>37</td>\n",
       "      <td>3.31%</td>\n",
       "    </tr>\n",
       "    <tr>\n",
       "      <th>16</th>\n",
       "      <td>2019</td>\n",
       "      <td>17th Lok Sabha</td>\n",
       "      <td>543</td>\n",
       "      <td>BJP</td>\n",
       "      <td>303</td>\n",
       "      <td>37.4%[7]</td>\n",
       "      <td>INC</td>\n",
       "      <td>52</td>\n",
       "      <td>19.50%[8]</td>\n",
       "      <td>DMK</td>\n",
       "      <td>24</td>\n",
       "      <td>4.24%</td>\n",
       "    </tr>\n",
       "  </tbody>\n",
       "</table>\n",
       "</div>"
      ],
      "text/plain": [
       "   Unnamed: 0_level_0 Unnamed: 1_level_0 Unnamed: 2_level_0   First        \\\n",
       "                 Year           Election        Total seats   Party Seats   \n",
       "0    1951–52[3][4][5]      1st Lok Sabha                489     INC   364   \n",
       "1             1957[6]      2nd Lok Sabha                494     INC   371   \n",
       "2                1962      3rd Lok Sabha                494     INC   361   \n",
       "3                1967      4th Lok Sabha                520     INC   283   \n",
       "4                1971      5th Lok Sabha                518     INC   352   \n",
       "5                1977      6th Lok Sabha                542      JP   298   \n",
       "6                1980      7th Lok Sabha       529 ( 542* )  INC(I)   351   \n",
       "7                1984      8th Lok Sabha                514     INC   404   \n",
       "8                1989      9th Lok Sabha                529     INC   195   \n",
       "9                1991     10th Lok Sabha                521     INC   244   \n",
       "10               1996     11th Lok Sabha                543     BJP   161   \n",
       "11               1998     12th Lok Sabha                545     BJP   182   \n",
       "12               1999     13th Lok Sabha                545     BJP   182   \n",
       "13               2004     14th Lok Sabha                543     INC   145   \n",
       "14               2009     15th Lok Sabha                545     INC   206   \n",
       "15               2014     16th Lok Sabha                545     BJP   282   \n",
       "16               2019     17th Lok Sabha                543     BJP   303   \n",
       "\n",
       "              Second                    Third                \n",
       "     % votes   Party Seats    % votes   Party Seats % votes  \n",
       "0        45%     CPI    16      3.29%     SOC    12  10.59%  \n",
       "1     47.78%     CPI    27      8.92%     PSP    19  10.41%  \n",
       "2     44.72%     CPI    29      9.94%     SWA    18   7.89%  \n",
       "3     40.78%     SWA    44      8.67%     BJS    35   9.31%  \n",
       "4     43.68%     CPM    25      5.12%     CPI    23   4.73%  \n",
       "5     43.17%     INC   153     34.52%     CPM    22   4.29%  \n",
       "6     42.69%  JNP(S)    41      9.39%     CPM    37   6.24%  \n",
       "7     49.10%     TDP    30      4.31%     CPM    22   5.87%  \n",
       "8     39.53%      JD   142     17.79%     BJP    85  11.36%  \n",
       "9     35.66%     BJP   120     20.11%      JD    59  11.84%  \n",
       "10    20.29%     INC   140     28.80%      JD    46  23.45%  \n",
       "11    25.59%     INC   141     25.82%     CPM    32   5.16%  \n",
       "12    23.75%     INC   114     28.30%     CPM    33   5.40%  \n",
       "13    26.53%     BJP   138     22.16%     CPM    43   5.66%  \n",
       "14    28.55%     BJP   116     18.80%      SP    23   3.23%  \n",
       "15    31.34%     INC    44     19.52%  AIADMK    37   3.31%  \n",
       "16  37.4%[7]     INC    52  19.50%[8]     DMK    24   4.24%  "
      ]
     },
     "execution_count": 97,
     "metadata": {},
     "output_type": "execute_result"
    }
   ],
   "source": [
    "elections_loksabha[0]"
   ]
  },
  {
   "cell_type": "code",
   "execution_count": 98,
   "id": "34ddb38e",
   "metadata": {},
   "outputs": [
    {
     "data": {
      "text/html": [
       "<div>\n",
       "<style scoped>\n",
       "    .dataframe tbody tr th:only-of-type {\n",
       "        vertical-align: middle;\n",
       "    }\n",
       "\n",
       "    .dataframe tbody tr th {\n",
       "        vertical-align: top;\n",
       "    }\n",
       "\n",
       "    .dataframe thead th {\n",
       "        text-align: right;\n",
       "    }\n",
       "</style>\n",
       "<table border=\"1\" class=\"dataframe\">\n",
       "  <thead>\n",
       "    <tr style=\"text-align: right;\">\n",
       "      <th></th>\n",
       "      <th>Row ID,Order ID,Ship Date,Customer Name,Country,City,State,Category,Sub-Category,Product Name,Sales</th>\n",
       "    </tr>\n",
       "  </thead>\n",
       "  <tbody>\n",
       "    <tr>\n",
       "      <th>0</th>\n",
       "      <td>2314,CA-2017-122035,7/25/2017,Elizabeth Moffit...</td>\n",
       "    </tr>\n",
       "    <tr>\n",
       "      <th>1</th>\n",
       "      <td>2315,CA-2017-122035,7/25/2017,Elizabeth Moffit...</td>\n",
       "    </tr>\n",
       "    <tr>\n",
       "      <th>2</th>\n",
       "      <td>2316,CA-2017-122035,7/25/2017,Elizabeth Moffit...</td>\n",
       "    </tr>\n",
       "    <tr>\n",
       "      <th>3</th>\n",
       "      <td>2317,CA-2017-122035,7/25/2017,Elizabeth Moffit...</td>\n",
       "    </tr>\n",
       "    <tr>\n",
       "      <th>4</th>\n",
       "      <td>2318,CA-2017-122035,7/25/2017,Elizabeth Moffit...</td>\n",
       "    </tr>\n",
       "    <tr>\n",
       "      <th>5</th>\n",
       "      <td>2319,CA-2017-122035,7/25/2017,Elizabeth Moffit...</td>\n",
       "    </tr>\n",
       "    <tr>\n",
       "      <th>6</th>\n",
       "      <td>2856,CA-2017-169810,7/31/2017,Raymond Buch,Uni...</td>\n",
       "    </tr>\n",
       "    <tr>\n",
       "      <th>7</th>\n",
       "      <td>3270,CA-2014-115980,7/19/2014,Victoria Wilson,...</td>\n",
       "    </tr>\n",
       "    <tr>\n",
       "      <th>8</th>\n",
       "      <td>3271,CA-2014-115980,7/19/2014,Victoria Wilson,...</td>\n",
       "    </tr>\n",
       "    <tr>\n",
       "      <th>9</th>\n",
       "      <td>8150,CA-2014-167997,1/29/2014,Carol Adams,Unit...</td>\n",
       "    </tr>\n",
       "    <tr>\n",
       "      <th>10</th>\n",
       "      <td>8151,CA-2014-167997,1/29/2014,Carol Adams,Unit...</td>\n",
       "    </tr>\n",
       "    <tr>\n",
       "      <th>11</th>\n",
       "      <td>9261,CA-2017-167976,11/14/2017,Jeremy Lonsdale...</td>\n",
       "    </tr>\n",
       "  </tbody>\n",
       "</table>\n",
       "</div>"
      ],
      "text/plain": [
       "   Row ID,Order ID,Ship Date,Customer Name,Country,City,State,Category,Sub-Category,Product Name,Sales\n",
       "0   2314,CA-2017-122035,7/25/2017,Elizabeth Moffit...                                                 \n",
       "1   2315,CA-2017-122035,7/25/2017,Elizabeth Moffit...                                                 \n",
       "2   2316,CA-2017-122035,7/25/2017,Elizabeth Moffit...                                                 \n",
       "3   2317,CA-2017-122035,7/25/2017,Elizabeth Moffit...                                                 \n",
       "4   2318,CA-2017-122035,7/25/2017,Elizabeth Moffit...                                                 \n",
       "5   2319,CA-2017-122035,7/25/2017,Elizabeth Moffit...                                                 \n",
       "6   2856,CA-2017-169810,7/31/2017,Raymond Buch,Uni...                                                 \n",
       "7   3270,CA-2014-115980,7/19/2014,Victoria Wilson,...                                                 \n",
       "8   3271,CA-2014-115980,7/19/2014,Victoria Wilson,...                                                 \n",
       "9   8150,CA-2014-167997,1/29/2014,Carol Adams,Unit...                                                 \n",
       "10  8151,CA-2014-167997,1/29/2014,Carol Adams,Unit...                                                 \n",
       "11  9261,CA-2017-167976,11/14/2017,Jeremy Lonsdale...                                                 "
      ]
     },
     "execution_count": 98,
     "metadata": {},
     "output_type": "execute_result"
    }
   ],
   "source": [
    "pd.read_table(\"AutoDataset.csv\")"
   ]
  },
  {
   "cell_type": "code",
   "execution_count": 99,
   "id": "1b7ab562",
   "metadata": {},
   "outputs": [
    {
     "data": {
      "text/html": [
       "<div>\n",
       "<style scoped>\n",
       "    .dataframe tbody tr th:only-of-type {\n",
       "        vertical-align: middle;\n",
       "    }\n",
       "\n",
       "    .dataframe tbody tr th {\n",
       "        vertical-align: top;\n",
       "    }\n",
       "\n",
       "    .dataframe thead th {\n",
       "        text-align: right;\n",
       "    }\n",
       "</style>\n",
       "<table border=\"1\" class=\"dataframe\">\n",
       "  <thead>\n",
       "    <tr style=\"text-align: right;\">\n",
       "      <th></th>\n",
       "      <th>Row ID</th>\n",
       "      <th>Order ID</th>\n",
       "      <th>Ship Date</th>\n",
       "      <th>Customer Name</th>\n",
       "      <th>Country</th>\n",
       "      <th>City</th>\n",
       "      <th>State</th>\n",
       "      <th>Category</th>\n",
       "      <th>Sub-Category</th>\n",
       "      <th>Product Name</th>\n",
       "      <th>Sales</th>\n",
       "    </tr>\n",
       "  </thead>\n",
       "  <tbody>\n",
       "    <tr>\n",
       "      <th>0</th>\n",
       "      <td>2314</td>\n",
       "      <td>CA-2017-122035</td>\n",
       "      <td>7/25/2017</td>\n",
       "      <td>Elizabeth Moffitt</td>\n",
       "      <td>United States</td>\n",
       "      <td>Sioux Falls</td>\n",
       "      <td>South Dakota</td>\n",
       "      <td>Office Supplies</td>\n",
       "      <td>Labels</td>\n",
       "      <td>Avery 486</td>\n",
       "      <td>14.62</td>\n",
       "    </tr>\n",
       "    <tr>\n",
       "      <th>1</th>\n",
       "      <td>2315</td>\n",
       "      <td>CA-2017-122035</td>\n",
       "      <td>7/25/2017</td>\n",
       "      <td>Elizabeth Moffitt</td>\n",
       "      <td>United States</td>\n",
       "      <td>Sioux Falls</td>\n",
       "      <td>South Dakota</td>\n",
       "      <td>Office Supplies</td>\n",
       "      <td>Appliances</td>\n",
       "      <td>1.7 Cubic Foot Compact \"Cube\" Office Refrigera...</td>\n",
       "      <td>416.32</td>\n",
       "    </tr>\n",
       "    <tr>\n",
       "      <th>2</th>\n",
       "      <td>2316</td>\n",
       "      <td>CA-2017-122035</td>\n",
       "      <td>7/25/2017</td>\n",
       "      <td>Elizabeth Moffitt</td>\n",
       "      <td>United States</td>\n",
       "      <td>Sioux Falls</td>\n",
       "      <td>South Dakota</td>\n",
       "      <td>Office Supplies</td>\n",
       "      <td>Binders</td>\n",
       "      <td>Avery Printable Repositionable Plastic Tabs</td>\n",
       "      <td>43.00</td>\n",
       "    </tr>\n",
       "    <tr>\n",
       "      <th>3</th>\n",
       "      <td>2317</td>\n",
       "      <td>CA-2017-122035</td>\n",
       "      <td>7/25/2017</td>\n",
       "      <td>Elizabeth Moffitt</td>\n",
       "      <td>United States</td>\n",
       "      <td>Sioux Falls</td>\n",
       "      <td>South Dakota</td>\n",
       "      <td>Furniture</td>\n",
       "      <td>Chairs</td>\n",
       "      <td>Novimex Fabric Task Chair</td>\n",
       "      <td>182.94</td>\n",
       "    </tr>\n",
       "    <tr>\n",
       "      <th>4</th>\n",
       "      <td>2318</td>\n",
       "      <td>CA-2017-122035</td>\n",
       "      <td>7/25/2017</td>\n",
       "      <td>Elizabeth Moffitt</td>\n",
       "      <td>United States</td>\n",
       "      <td>Sioux Falls</td>\n",
       "      <td>South Dakota</td>\n",
       "      <td>Office Supplies</td>\n",
       "      <td>Binders</td>\n",
       "      <td>Cardinal Slant-D Ring Binders</td>\n",
       "      <td>60.83</td>\n",
       "    </tr>\n",
       "    <tr>\n",
       "      <th>5</th>\n",
       "      <td>2319</td>\n",
       "      <td>CA-2017-122035</td>\n",
       "      <td>7/25/2017</td>\n",
       "      <td>Elizabeth Moffitt</td>\n",
       "      <td>United States</td>\n",
       "      <td>Sioux Falls</td>\n",
       "      <td>South Dakota</td>\n",
       "      <td>Technology</td>\n",
       "      <td>Accessories</td>\n",
       "      <td>Logitech G35 7.1-Channel Surround Sound Headset</td>\n",
       "      <td>389.97</td>\n",
       "    </tr>\n",
       "    <tr>\n",
       "      <th>6</th>\n",
       "      <td>2856</td>\n",
       "      <td>CA-2017-169810</td>\n",
       "      <td>7/31/2017</td>\n",
       "      <td>Raymond Buch</td>\n",
       "      <td>United States</td>\n",
       "      <td>Sioux Falls</td>\n",
       "      <td>South Dakota</td>\n",
       "      <td>Office Supplies</td>\n",
       "      <td>Labels</td>\n",
       "      <td>Avery 498</td>\n",
       "      <td>20.23</td>\n",
       "    </tr>\n",
       "    <tr>\n",
       "      <th>7</th>\n",
       "      <td>3270</td>\n",
       "      <td>CA-2014-115980</td>\n",
       "      <td>7/19/2014</td>\n",
       "      <td>Victoria Wilson</td>\n",
       "      <td>United States</td>\n",
       "      <td>Sioux Falls</td>\n",
       "      <td>South Dakota</td>\n",
       "      <td>Technology</td>\n",
       "      <td>Accessories</td>\n",
       "      <td>Maxell 4.7GB DVD-R 5/Pack</td>\n",
       "      <td>2.97</td>\n",
       "    </tr>\n",
       "    <tr>\n",
       "      <th>8</th>\n",
       "      <td>3271</td>\n",
       "      <td>CA-2014-115980</td>\n",
       "      <td>7/19/2014</td>\n",
       "      <td>Victoria Wilson</td>\n",
       "      <td>United States</td>\n",
       "      <td>Sioux Falls</td>\n",
       "      <td>South Dakota</td>\n",
       "      <td>Office Supplies</td>\n",
       "      <td>Fasteners</td>\n",
       "      <td>Advantus Push Pins</td>\n",
       "      <td>6.54</td>\n",
       "    </tr>\n",
       "    <tr>\n",
       "      <th>9</th>\n",
       "      <td>8150</td>\n",
       "      <td>CA-2014-167997</td>\n",
       "      <td>1/29/2014</td>\n",
       "      <td>Carol Adams</td>\n",
       "      <td>United States</td>\n",
       "      <td>Rapid City</td>\n",
       "      <td>South Dakota</td>\n",
       "      <td>Office Supplies</td>\n",
       "      <td>Binders</td>\n",
       "      <td>Wilson Jones 14 Line Acrylic Coated Pressboard...</td>\n",
       "      <td>10.68</td>\n",
       "    </tr>\n",
       "    <tr>\n",
       "      <th>10</th>\n",
       "      <td>8151</td>\n",
       "      <td>CA-2014-167997</td>\n",
       "      <td>1/29/2014</td>\n",
       "      <td>Carol Adams</td>\n",
       "      <td>United States</td>\n",
       "      <td>Rapid City</td>\n",
       "      <td>South Dakota</td>\n",
       "      <td>Furniture</td>\n",
       "      <td>Bookcases</td>\n",
       "      <td>Safco Value Mate Series Steel Bookcases, Baked...</td>\n",
       "      <td>141.96</td>\n",
       "    </tr>\n",
       "    <tr>\n",
       "      <th>11</th>\n",
       "      <td>9261</td>\n",
       "      <td>CA-2017-167976</td>\n",
       "      <td>11/14/2017</td>\n",
       "      <td>Jeremy Lonsdale</td>\n",
       "      <td>United States</td>\n",
       "      <td>Aberdeen</td>\n",
       "      <td>South Dakota</td>\n",
       "      <td>Office Supplies</td>\n",
       "      <td>Supplies</td>\n",
       "      <td>Acme Titanium Bonded Scissors</td>\n",
       "      <td>25.50</td>\n",
       "    </tr>\n",
       "  </tbody>\n",
       "</table>\n",
       "</div>"
      ],
      "text/plain": [
       "    Row ID        Order ID   Ship Date      Customer Name        Country  \\\n",
       "0     2314  CA-2017-122035   7/25/2017  Elizabeth Moffitt  United States   \n",
       "1     2315  CA-2017-122035   7/25/2017  Elizabeth Moffitt  United States   \n",
       "2     2316  CA-2017-122035   7/25/2017  Elizabeth Moffitt  United States   \n",
       "3     2317  CA-2017-122035   7/25/2017  Elizabeth Moffitt  United States   \n",
       "4     2318  CA-2017-122035   7/25/2017  Elizabeth Moffitt  United States   \n",
       "5     2319  CA-2017-122035   7/25/2017  Elizabeth Moffitt  United States   \n",
       "6     2856  CA-2017-169810   7/31/2017       Raymond Buch  United States   \n",
       "7     3270  CA-2014-115980   7/19/2014    Victoria Wilson  United States   \n",
       "8     3271  CA-2014-115980   7/19/2014    Victoria Wilson  United States   \n",
       "9     8150  CA-2014-167997   1/29/2014        Carol Adams  United States   \n",
       "10    8151  CA-2014-167997   1/29/2014        Carol Adams  United States   \n",
       "11    9261  CA-2017-167976  11/14/2017    Jeremy Lonsdale  United States   \n",
       "\n",
       "           City         State         Category Sub-Category  \\\n",
       "0   Sioux Falls  South Dakota  Office Supplies       Labels   \n",
       "1   Sioux Falls  South Dakota  Office Supplies   Appliances   \n",
       "2   Sioux Falls  South Dakota  Office Supplies      Binders   \n",
       "3   Sioux Falls  South Dakota        Furniture       Chairs   \n",
       "4   Sioux Falls  South Dakota  Office Supplies      Binders   \n",
       "5   Sioux Falls  South Dakota       Technology  Accessories   \n",
       "6   Sioux Falls  South Dakota  Office Supplies       Labels   \n",
       "7   Sioux Falls  South Dakota       Technology  Accessories   \n",
       "8   Sioux Falls  South Dakota  Office Supplies    Fasteners   \n",
       "9    Rapid City  South Dakota  Office Supplies      Binders   \n",
       "10   Rapid City  South Dakota        Furniture    Bookcases   \n",
       "11     Aberdeen  South Dakota  Office Supplies     Supplies   \n",
       "\n",
       "                                         Product Name   Sales  \n",
       "0                                           Avery 486   14.62  \n",
       "1   1.7 Cubic Foot Compact \"Cube\" Office Refrigera...  416.32  \n",
       "2         Avery Printable Repositionable Plastic Tabs   43.00  \n",
       "3                           Novimex Fabric Task Chair  182.94  \n",
       "4                       Cardinal Slant-D Ring Binders   60.83  \n",
       "5     Logitech G35 7.1-Channel Surround Sound Headset  389.97  \n",
       "6                                           Avery 498   20.23  \n",
       "7                           Maxell 4.7GB DVD-R 5/Pack    2.97  \n",
       "8                                  Advantus Push Pins    6.54  \n",
       "9   Wilson Jones 14 Line Acrylic Coated Pressboard...   10.68  \n",
       "10  Safco Value Mate Series Steel Bookcases, Baked...  141.96  \n",
       "11                      Acme Titanium Bonded Scissors   25.50  "
      ]
     },
     "execution_count": 99,
     "metadata": {},
     "output_type": "execute_result"
    }
   ],
   "source": [
    "pd.read_table(\"AutoDataset.csv\",sep=\",\")"
   ]
  },
  {
   "cell_type": "code",
   "execution_count": 100,
   "id": "d8f5d07c",
   "metadata": {},
   "outputs": [
    {
     "ename": "FileNotFoundError",
     "evalue": "[WinError 3] The system cannot find the path specified: 'C:\\\\Users\\\\akshaya.srikanth\\\\OneDrive - Accenture\\\\IIT_M\\\\RawData-main\\\\RawData-main'",
     "output_type": "error",
     "traceback": [
      "\u001b[1;31m---------------------------------------------------------------------------\u001b[0m",
      "\u001b[1;31mFileNotFoundError\u001b[0m                         Traceback (most recent call last)",
      "\u001b[1;32mC:\\Users\\AKSHAY~1.SRI\\AppData\\Local\\Temp/ipykernel_12580/954191713.py\u001b[0m in \u001b[0;36m<module>\u001b[1;34m\u001b[0m\n\u001b[0;32m      1\u001b[0m \u001b[1;32mimport\u001b[0m \u001b[0mos\u001b[0m\u001b[1;33m\u001b[0m\u001b[1;33m\u001b[0m\u001b[0m\n\u001b[1;32m----> 2\u001b[1;33m \u001b[0mos\u001b[0m\u001b[1;33m.\u001b[0m\u001b[0mchdir\u001b[0m\u001b[1;33m(\u001b[0m\u001b[1;34mr\"C:\\Users\\akshaya.srikanth\\OneDrive - Accenture\\IIT_M\\RawData-main\\RawData-main\"\u001b[0m\u001b[1;33m)\u001b[0m\u001b[1;33m\u001b[0m\u001b[1;33m\u001b[0m\u001b[0m\n\u001b[0m",
      "\u001b[1;31mFileNotFoundError\u001b[0m: [WinError 3] The system cannot find the path specified: 'C:\\\\Users\\\\akshaya.srikanth\\\\OneDrive - Accenture\\\\IIT_M\\\\RawData-main\\\\RawData-main'"
     ]
    }
   ],
   "source": [
    "import os\n",
    "os.chdir(r\"C:\\Users\\akshaya.srikanth\\OneDrive - Accenture\\IIT_M\\RawData-main\\RawData-main\")"
   ]
  },
  {
   "cell_type": "code",
   "execution_count": null,
   "id": "52662dd5",
   "metadata": {},
   "outputs": [],
   "source": [
    "os.listdir()"
   ]
  },
  {
   "cell_type": "code",
   "execution_count": null,
   "id": "0a75a039",
   "metadata": {},
   "outputs": [],
   "source": [
    "pd.read_table('Quantitve.base')"
   ]
  },
  {
   "cell_type": "code",
   "execution_count": null,
   "id": "b223ed83",
   "metadata": {},
   "outputs": [],
   "source": [
    "pd.read_spss(\"HLTH1025_2016.sav\")"
   ]
  },
  {
   "cell_type": "code",
   "execution_count": null,
   "id": "56ee74b3",
   "metadata": {},
   "outputs": [],
   "source": [
    "#!pip install  pyreadstat"
   ]
  },
  {
   "cell_type": "code",
   "execution_count": null,
   "id": "d0e157f0",
   "metadata": {},
   "outputs": [],
   "source": [
    "##Text files"
   ]
  },
  {
   "cell_type": "code",
   "execution_count": null,
   "id": "e7dd67ec",
   "metadata": {},
   "outputs": [],
   "source": [
    "df=pd.read_csv(\"Insurance.txt\")"
   ]
  },
  {
   "cell_type": "code",
   "execution_count": null,
   "id": "864af8dd",
   "metadata": {},
   "outputs": [],
   "source": [
    "df.head()"
   ]
  },
  {
   "cell_type": "code",
   "execution_count": null,
   "id": "0c55f22c",
   "metadata": {},
   "outputs": [],
   "source": [
    "datafwf=pd.read_fwf('test.txt')\n",
    "datafwf"
   ]
  },
  {
   "cell_type": "code",
   "execution_count": null,
   "id": "ff04f895",
   "metadata": {},
   "outputs": [],
   "source": [
    "datafwf=pd.read_fwf('test.txt',widths=[9,19,16])#width for each col"
   ]
  },
  {
   "cell_type": "code",
   "execution_count": null,
   "id": "aa7fd8f7",
   "metadata": {},
   "outputs": [],
   "source": [
    "datafwf"
   ]
  },
  {
   "cell_type": "code",
   "execution_count": null,
   "id": "0ffd2b6e",
   "metadata": {},
   "outputs": [],
   "source": [
    "pd.read_excel('Order.xlsx')"
   ]
  },
  {
   "cell_type": "code",
   "execution_count": null,
   "id": "61803bd6",
   "metadata": {},
   "outputs": [],
   "source": [
    "#To read data from clipboard\n",
    "pd.read_clipboard()"
   ]
  },
  {
   "cell_type": "markdown",
   "id": "8795285e",
   "metadata": {},
   "source": [
    "### DataFrame Operations\n",
    "\n",
    "\n",
    "\n",
    "1.) How to read the data from DataFrame using Head or Tail method?\n",
    "2.) How to perform slicing concept of extract the data from Pandas DataFrame?\n",
    "3.) When, Why and How You Should Reshape Your DataFrame?\n",
    "4.) Pandas Set Option for Rows / Columns\n",
    "5.) How To reset Indices, Rows or Columns From a DataFrame\n",
    "6.) Uses of DataFrame Info\n",
    "7.) How to check data variable's type using DataFrame DataTypes method?\n",
    "8.) What does DataFrame Describe method and why we use it?\n",
    "9.) How to get all the columns name from Pandas DataFrame?\n"
   ]
  },
  {
   "cell_type": "code",
   "execution_count": null,
   "id": "72d26d88",
   "metadata": {},
   "outputs": [],
   "source": [
    "df=pd.read_excel(\"Random Sales Data.xlsx\")"
   ]
  },
  {
   "cell_type": "code",
   "execution_count": null,
   "id": "2a5b9ea1",
   "metadata": {},
   "outputs": [],
   "source": [
    "df.head() #by default 1st 5 rows"
   ]
  },
  {
   "cell_type": "code",
   "execution_count": null,
   "id": "0fe993ae",
   "metadata": {},
   "outputs": [],
   "source": [
    "df.head(10)"
   ]
  },
  {
   "cell_type": "code",
   "execution_count": null,
   "id": "dfd358d8",
   "metadata": {},
   "outputs": [],
   "source": [
    "df.shape\n",
    "\n",
    "print(f\"Total rows:{df.shape[0]} and Total cols:{df.shape[1]}\")"
   ]
  },
  {
   "cell_type": "code",
   "execution_count": null,
   "id": "49f9eca3",
   "metadata": {},
   "outputs": [],
   "source": [
    "df.head(-1) #returns all rows except the last one"
   ]
  },
  {
   "cell_type": "code",
   "execution_count": null,
   "id": "1452c52b",
   "metadata": {},
   "outputs": [],
   "source": [
    "df.tail()"
   ]
  },
  {
   "cell_type": "code",
   "execution_count": null,
   "id": "88ad21a1",
   "metadata": {},
   "outputs": [],
   "source": [
    "df.tail(-1) # displays all rows except the 1st one"
   ]
  },
  {
   "cell_type": "markdown",
   "id": "e7fc9eea",
   "metadata": {},
   "source": [
    "To Display columns of a dataframe"
   ]
  },
  {
   "cell_type": "code",
   "execution_count": null,
   "id": "721664c6",
   "metadata": {},
   "outputs": [],
   "source": [
    "print(df.columns)\n",
    "print(\"*****************************************\")\n",
    "print(df.columns.values)\n",
    "print(\"*****************************************\")\n",
    "print(df.keys())"
   ]
  },
  {
   "cell_type": "code",
   "execution_count": null,
   "id": "f901d3b7",
   "metadata": {},
   "outputs": [],
   "source": [
    "df.columns.values"
   ]
  },
  {
   "cell_type": "code",
   "execution_count": null,
   "id": "1306250a",
   "metadata": {},
   "outputs": [],
   "source": [
    "df.keys()"
   ]
  },
  {
   "cell_type": "code",
   "execution_count": null,
   "id": "374f4e46",
   "metadata": {},
   "outputs": [],
   "source": [
    "print(df.columns.values.tolist() )"
   ]
  },
  {
   "cell_type": "code",
   "execution_count": null,
   "id": "1a0f4a92",
   "metadata": {},
   "outputs": [],
   "source": [
    "df.columns.values[0:3] # first three columns"
   ]
  },
  {
   "cell_type": "code",
   "execution_count": null,
   "id": "63327341",
   "metadata": {},
   "outputs": [],
   "source": [
    "df.columns.values[::-1] #columns in reverse order"
   ]
  },
  {
   "cell_type": "code",
   "execution_count": null,
   "id": "375f319a",
   "metadata": {},
   "outputs": [],
   "source": [
    "df[:20:5] # To display every 5 th row"
   ]
  },
  {
   "cell_type": "code",
   "execution_count": null,
   "id": "7baa4ade",
   "metadata": {},
   "outputs": [],
   "source": [
    "#to display even rows\n",
    "df[:: 2]"
   ]
  },
  {
   "cell_type": "code",
   "execution_count": null,
   "id": "fae5b197",
   "metadata": {},
   "outputs": [],
   "source": [
    "df.index.values[:100] # to access row labels of the df"
   ]
  },
  {
   "cell_type": "code",
   "execution_count": null,
   "id": "ad0903e4",
   "metadata": {},
   "outputs": [],
   "source": [
    "pd.set_option('display.max_rows',None)# to display all the rows"
   ]
  },
  {
   "cell_type": "code",
   "execution_count": null,
   "id": "4ac8b1e8",
   "metadata": {},
   "outputs": [],
   "source": [
    "df"
   ]
  },
  {
   "cell_type": "code",
   "execution_count": null,
   "id": "7ab0b594",
   "metadata": {},
   "outputs": [],
   "source": [
    "pd.set_option('max_rows',None)# to display all rows"
   ]
  },
  {
   "cell_type": "code",
   "execution_count": null,
   "id": "9721e503",
   "metadata": {},
   "outputs": [],
   "source": [
    "pd.reset_option('max_rows',None)"
   ]
  },
  {
   "cell_type": "code",
   "execution_count": null,
   "id": "fb54bd96",
   "metadata": {},
   "outputs": [],
   "source": [
    "df"
   ]
  },
  {
   "cell_type": "code",
   "execution_count": null,
   "id": "2897c744",
   "metadata": {},
   "outputs": [],
   "source": [
    "pd.get_option(\"max_colwidth\")"
   ]
  },
  {
   "cell_type": "code",
   "execution_count": null,
   "id": "ad2ee5d4",
   "metadata": {},
   "outputs": [],
   "source": [
    "pd.set_option(\"max_colwidth\",100)"
   ]
  },
  {
   "cell_type": "code",
   "execution_count": null,
   "id": "2108b05e",
   "metadata": {},
   "outputs": [],
   "source": [
    "df"
   ]
  },
  {
   "cell_type": "code",
   "execution_count": null,
   "id": "847ad1b1",
   "metadata": {},
   "outputs": [],
   "source": [
    "sales=pd.read_excel(\"Order.xlsx\")"
   ]
  },
  {
   "cell_type": "code",
   "execution_count": null,
   "id": "8747de97",
   "metadata": {},
   "outputs": [],
   "source": [
    "sales.head()"
   ]
  },
  {
   "cell_type": "code",
   "execution_count": null,
   "id": "59419657",
   "metadata": {},
   "outputs": [],
   "source": [
    "pd.get_option(\"max_columns\")"
   ]
  },
  {
   "cell_type": "code",
   "execution_count": null,
   "id": "e96ec24e",
   "metadata": {},
   "outputs": [],
   "source": [
    "pd.set_option(\"max_columns\",None)"
   ]
  },
  {
   "cell_type": "code",
   "execution_count": null,
   "id": "a6100f81",
   "metadata": {},
   "outputs": [],
   "source": [
    "sales.head()"
   ]
  },
  {
   "cell_type": "code",
   "execution_count": null,
   "id": "20fc820e",
   "metadata": {},
   "outputs": [],
   "source": [
    "pd.reset_option(\"^display\") # to reset all the display settings"
   ]
  },
  {
   "cell_type": "code",
   "execution_count": null,
   "id": "fa9f9462",
   "metadata": {},
   "outputs": [],
   "source": [
    "sales.head()"
   ]
  },
  {
   "cell_type": "code",
   "execution_count": null,
   "id": "917e0bc5",
   "metadata": {},
   "outputs": [],
   "source": [
    "sales.columns"
   ]
  },
  {
   "cell_type": "code",
   "execution_count": null,
   "id": "28843029",
   "metadata": {},
   "outputs": [],
   "source": [
    "sales['Order ID']"
   ]
  },
  {
   "cell_type": "code",
   "execution_count": null,
   "id": "5bd3c3d7",
   "metadata": {},
   "outputs": [],
   "source": [
    "type(sales['Order ID'])"
   ]
  },
  {
   "cell_type": "code",
   "execution_count": null,
   "id": "02b3f2ff",
   "metadata": {},
   "outputs": [],
   "source": [
    "sales.info()"
   ]
  },
  {
   "cell_type": "code",
   "execution_count": null,
   "id": "26b5a1c9",
   "metadata": {},
   "outputs": [],
   "source": [
    "sales.describe()"
   ]
  },
  {
   "cell_type": "code",
   "execution_count": null,
   "id": "33e752ee",
   "metadata": {},
   "outputs": [],
   "source": [
    "sales.dtypes"
   ]
  },
  {
   "cell_type": "code",
   "execution_count": null,
   "id": "14fe0c3b",
   "metadata": {},
   "outputs": [],
   "source": [
    "print(sales['Profit'].dtypes)"
   ]
  },
  {
   "cell_type": "code",
   "execution_count": null,
   "id": "1dac84ae",
   "metadata": {},
   "outputs": [],
   "source": [
    "print(sales['Profit'].describe())"
   ]
  },
  {
   "cell_type": "code",
   "execution_count": null,
   "id": "e419ed90",
   "metadata": {},
   "outputs": [],
   "source": [
    "print(sales['Profit'].std())"
   ]
  },
  {
   "cell_type": "markdown",
   "id": "9c6d64bb",
   "metadata": {},
   "source": [
    "### Split Excel Data into Worksheet by Column"
   ]
  },
  {
   "cell_type": "code",
   "execution_count": null,
   "id": "b1d56007",
   "metadata": {},
   "outputs": [],
   "source": [
    "df=pd.read_excel(\"Random Sales Data.xlsx\")"
   ]
  },
  {
   "cell_type": "code",
   "execution_count": null,
   "id": "33bf1b06",
   "metadata": {},
   "outputs": [],
   "source": [
    "df.head()"
   ]
  },
  {
   "cell_type": "code",
   "execution_count": null,
   "id": "330f098b",
   "metadata": {},
   "outputs": [],
   "source": [
    "df[\"Location\"].unique()"
   ]
  },
  {
   "cell_type": "code",
   "execution_count": null,
   "id": "eb10ce08",
   "metadata": {},
   "outputs": [],
   "source": [
    "print([state for state in df[\"Location\"].unique()])"
   ]
  },
  {
   "cell_type": "code",
   "execution_count": null,
   "id": "d5221c85",
   "metadata": {},
   "outputs": [],
   "source": [
    "#blank template\n",
    "writer=pd.ExcelWriter(\"Splited Raw Data.xlsx\",engine='xlsxwriter')\n",
    "for state in df[\"Location\"].unique():\n",
    "    newdf=df[df['Location'] == state]\n",
    "    newdf.to_excel(writer,sheet_name=state,index=False)\n",
    "writer.save()"
   ]
  },
  {
   "cell_type": "code",
   "execution_count": null,
   "id": "1268057f",
   "metadata": {},
   "outputs": [],
   "source": [
    "!pip install xlsxwriter\n"
   ]
  },
  {
   "cell_type": "markdown",
   "id": "145806c2",
   "metadata": {},
   "source": [
    "## To  Combine Excel Sheets using Python Pandas"
   ]
  },
  {
   "cell_type": "code",
   "execution_count": null,
   "id": "a376ca32",
   "metadata": {},
   "outputs": [],
   "source": [
    "##To acquire the sheet/template names in an excel file\n",
    "\n",
    "filename= \"Splited Raw Data.xlsx\""
   ]
  },
  {
   "cell_type": "code",
   "execution_count": null,
   "id": "3162dbef",
   "metadata": {},
   "outputs": [],
   "source": [
    "pd.ExcelFile(filename).sheet_names"
   ]
  },
  {
   "cell_type": "code",
   "execution_count": null,
   "id": "aa81a308",
   "metadata": {},
   "outputs": [],
   "source": [
    "list(pd.read_excel(filename,None).keys())"
   ]
  },
  {
   "cell_type": "code",
   "execution_count": null,
   "id": "71e705fc",
   "metadata": {},
   "outputs": [],
   "source": [
    "import os\n",
    "os.getcwd()"
   ]
  },
  {
   "cell_type": "code",
   "execution_count": null,
   "id": "e8fe5da1",
   "metadata": {},
   "outputs": [],
   "source": [
    "os.chdir(os.environ[\"UserProfile\"]+\"\\Desktop\" )"
   ]
  },
  {
   "cell_type": "code",
   "execution_count": null,
   "id": "1465ddc4",
   "metadata": {},
   "outputs": [],
   "source": [
    "os.getcwd()"
   ]
  },
  {
   "cell_type": "code",
   "execution_count": null,
   "id": "bcfd4852",
   "metadata": {},
   "outputs": [],
   "source": [
    "os.chdir(r\"C:\\\\Users\\\\akshaya.srikanth\\\\OneDrive - Accenture\\\\IIT_M\\\\RawData-main\\\\RawData-main\")"
   ]
  },
  {
   "cell_type": "code",
   "execution_count": null,
   "id": "d3cb55b8",
   "metadata": {},
   "outputs": [],
   "source": [
    "writer=pd.ExcelWriter(\"CombinedData.xlsx\",engine=\"xlsxwriter\")\n",
    "CombinedData=pd.DataFrame()"
   ]
  },
  {
   "cell_type": "code",
   "execution_count": null,
   "id": "3d8cbf91",
   "metadata": {},
   "outputs": [],
   "source": [
    "for sheet in pd.ExcelFile(filename).sheet_names:\n",
    "    df=pd.read_excel(filename,sheet_name=sheet)\n",
    "    CombinedData = CombinedData.append(df)\n",
    "CombinedData.to_excel(writer,sheet_name=\"ConsolidatedData\",index=False)\n",
    "writer.save()\n",
    "#writer.close()"
   ]
  },
  {
   "cell_type": "code",
   "execution_count": null,
   "id": "33f25266",
   "metadata": {},
   "outputs": [],
   "source": [
    "import pandas as pd\n",
    "df=pd.read_csv(\"SalesData.csv\")"
   ]
  },
  {
   "cell_type": "code",
   "execution_count": null,
   "id": "60ebd0ca",
   "metadata": {},
   "outputs": [],
   "source": [
    "df.shape"
   ]
  },
  {
   "cell_type": "code",
   "execution_count": null,
   "id": "a44c3bcb",
   "metadata": {},
   "outputs": [],
   "source": [
    "df.head()"
   ]
  },
  {
   "cell_type": "code",
   "execution_count": null,
   "id": "4e3ab235",
   "metadata": {},
   "outputs": [],
   "source": [
    "df.iloc[3]"
   ]
  },
  {
   "cell_type": "code",
   "execution_count": null,
   "id": "5c132d8e",
   "metadata": {},
   "outputs": [],
   "source": [
    "df.iloc[[2,3]]"
   ]
  },
  {
   "cell_type": "code",
   "execution_count": null,
   "id": "8b72e373",
   "metadata": {},
   "outputs": [],
   "source": [
    "df2=df.set_index(\"Product\")"
   ]
  },
  {
   "cell_type": "code",
   "execution_count": null,
   "id": "da1079c7",
   "metadata": {},
   "outputs": [],
   "source": [
    "df2.iloc['AA Batteries (4-pack)'] #iloc only deals with integer values"
   ]
  },
  {
   "cell_type": "code",
   "execution_count": null,
   "id": "c79f8138",
   "metadata": {},
   "outputs": [],
   "source": [
    "df2.iloc[0]"
   ]
  },
  {
   "cell_type": "code",
   "execution_count": null,
   "id": "d8c43fcc",
   "metadata": {},
   "outputs": [],
   "source": [
    "df2.iloc[0,4]"
   ]
  },
  {
   "cell_type": "code",
   "execution_count": null,
   "id": "71d33d32",
   "metadata": {},
   "outputs": [],
   "source": [
    "df.columns"
   ]
  },
  {
   "cell_type": "code",
   "execution_count": null,
   "id": "648e35ed",
   "metadata": {},
   "outputs": [],
   "source": [
    "df.columns.values\n",
    "df.keys()"
   ]
  },
  {
   "cell_type": "code",
   "execution_count": null,
   "id": "b41434bd",
   "metadata": {},
   "outputs": [],
   "source": [
    "df.loc[df.Product=='AA Batteries (4-pack)',:\"Purchase Address\"]"
   ]
  },
  {
   "cell_type": "code",
   "execution_count": null,
   "id": "57adfa62",
   "metadata": {},
   "outputs": [],
   "source": [
    "df.info()"
   ]
  },
  {
   "cell_type": "code",
   "execution_count": null,
   "id": "cedea6f7",
   "metadata": {},
   "outputs": [],
   "source": [
    "print(df[\"Price Each\"].unique())"
   ]
  },
  {
   "cell_type": "code",
   "execution_count": null,
   "id": "5ab17412",
   "metadata": {},
   "outputs": [],
   "source": [
    "df[\"Price Each\"]=df[\"Price Each\"].astype(float)\n",
    "#boolean= df[\"Price Each\"] > 3"
   ]
  },
  {
   "cell_type": "markdown",
   "id": "728e0eb2",
   "metadata": {},
   "source": [
    "### Different ways to filter Pandas DataFrame"
   ]
  },
  {
   "cell_type": "markdown",
   "id": "b52d518e",
   "metadata": {},
   "source": [
    "&- AND\n",
    "|- OR\n",
    "~-NOT"
   ]
  },
  {
   "cell_type": "code",
   "execution_count": null,
   "id": "f87f2668",
   "metadata": {},
   "outputs": [],
   "source": [
    "import pandas as pd\n",
    "df=pd.read_excel(\"Superstore.xls\")"
   ]
  },
  {
   "cell_type": "code",
   "execution_count": null,
   "id": "e939d68f",
   "metadata": {},
   "outputs": [],
   "source": [
    "df.shape"
   ]
  },
  {
   "cell_type": "code",
   "execution_count": null,
   "id": "c470ff48",
   "metadata": {},
   "outputs": [],
   "source": [
    "df.head()"
   ]
  },
  {
   "cell_type": "code",
   "execution_count": null,
   "id": "477d514f",
   "metadata": {},
   "outputs": [],
   "source": [
    "df[\"Sales\"]>700"
   ]
  },
  {
   "cell_type": "code",
   "execution_count": null,
   "id": "f5967bc8",
   "metadata": {},
   "outputs": [],
   "source": [
    "df[df[\"Sales\"]>700]"
   ]
  },
  {
   "cell_type": "code",
   "execution_count": null,
   "id": "e12f37df",
   "metadata": {},
   "outputs": [],
   "source": [
    "pd.get_option(\"display.max_rows\")"
   ]
  },
  {
   "cell_type": "code",
   "execution_count": null,
   "id": "c931796f",
   "metadata": {},
   "outputs": [],
   "source": [
    "pd.set_option(\"display.max_rows\",None)"
   ]
  },
  {
   "cell_type": "code",
   "execution_count": null,
   "id": "cbc73d25",
   "metadata": {},
   "outputs": [],
   "source": [
    "df"
   ]
  },
  {
   "cell_type": "code",
   "execution_count": null,
   "id": "4063c9c4",
   "metadata": {},
   "outputs": [],
   "source": [
    "#Sales between 700-900\n",
    "df[(df[\"Sales\"]>700) & (df[\"Sales\"]<900)]"
   ]
  },
  {
   "cell_type": "code",
   "execution_count": null,
   "id": "0b3db3ca",
   "metadata": {},
   "outputs": [],
   "source": [
    "#Length of Product >100\n",
    "\n",
    "df[df[\"Product Name\"].str.len()>100]"
   ]
  },
  {
   "cell_type": "code",
   "execution_count": null,
   "id": "73758acb",
   "metadata": {},
   "outputs": [],
   "source": [
    "# State:Florida,Kentucky,sales-700-900\n",
    "\n",
    "df[((df[\"State\"] == 'Florida') | (df[\"State\"] == 'Kentucky')) & ((df[\"Sales\"]>700) & (df[\"Sales\"]<900))]"
   ]
  },
  {
   "cell_type": "code",
   "execution_count": null,
   "id": "d24f7c41",
   "metadata": {},
   "outputs": [],
   "source": [
    "df[(df[\"State\"] != 'Florida') & (df[\"State\"] != 'Kentucky')]"
   ]
  },
  {
   "cell_type": "code",
   "execution_count": null,
   "id": "58419e3f",
   "metadata": {},
   "outputs": [],
   "source": [
    "df[~(df[\"State\"] == 'Florida') & ~(df[\"State\"] == 'Kentucky')]"
   ]
  },
  {
   "cell_type": "markdown",
   "id": "9409b827",
   "metadata": {},
   "source": [
    "## Query Method"
   ]
  },
  {
   "cell_type": "code",
   "execution_count": null,
   "id": "233a855b",
   "metadata": {},
   "outputs": [],
   "source": [
    "df.query(\"State !=['Kentucky','Florida','California']\")"
   ]
  },
  {
   "cell_type": "code",
   "execution_count": null,
   "id": "0d570764",
   "metadata": {},
   "outputs": [],
   "source": [
    "#Category starts with F and Sales between 100-200\n",
    "\n",
    "df.query(\"Sales >=100 & Sales <200 & Category.str.startswith('F').values\")"
   ]
  },
  {
   "cell_type": "code",
   "execution_count": null,
   "id": "2d5af436",
   "metadata": {},
   "outputs": [],
   "source": [
    "#retrieve specific column\n",
    "df[df['Customer Name'].str.startswith(\"Ad\")][[\"Customer Name\",\"State\",'Sales']]"
   ]
  },
  {
   "cell_type": "code",
   "execution_count": null,
   "id": "5603bf29",
   "metadata": {},
   "outputs": [],
   "source": [
    "#Using list comp\n",
    "df[[x.startswith('Ad') for x in df[\"Customer Name\"]]][[\"Customer Name\",\"State\",'Sales']]"
   ]
  },
  {
   "cell_type": "code",
   "execution_count": null,
   "id": "011835d2",
   "metadata": {},
   "outputs": [],
   "source": [
    "df[(df[\"Customer Name\"].str.startswith(\"A\"))|(df[\"Customer Name\"].str.startswith(\"Z\"))]"
   ]
  },
  {
   "cell_type": "code",
   "execution_count": null,
   "id": "4dcae62e",
   "metadata": {},
   "outputs": [],
   "source": [
    "#filter data based on specific string\n",
    "\n",
    "\n",
    "df[df['Customer Name'].str.contains(\"ea\")].head()"
   ]
  },
  {
   "cell_type": "code",
   "execution_count": null,
   "id": "aa60c914",
   "metadata": {},
   "outputs": [],
   "source": [
    "#sort values by  customer names\n",
    "\n",
    "\n",
    "df[~df[\"Customer Name\"].str.startswith(\"A\")].sort_values(by=\"Customer Name\")"
   ]
  },
  {
   "cell_type": "code",
   "execution_count": null,
   "id": "1c1453a8",
   "metadata": {},
   "outputs": [],
   "source": [
    "state=[\"Kentucky\",\"Texas\",\"Nevada\",\"Florida\"]"
   ]
  },
  {
   "cell_type": "code",
   "execution_count": null,
   "id": "21d49c74",
   "metadata": {},
   "outputs": [],
   "source": [
    "df[df.State.isin(state)]"
   ]
  },
  {
   "cell_type": "code",
   "execution_count": null,
   "id": "85679715",
   "metadata": {},
   "outputs": [],
   "source": [
    "df[~df.State.isin(state)]"
   ]
  },
  {
   "cell_type": "code",
   "execution_count": null,
   "id": "77afeb81",
   "metadata": {},
   "outputs": [],
   "source": [
    "df[df.State.isin(state)]['State'].unique()"
   ]
  },
  {
   "cell_type": "code",
   "execution_count": null,
   "id": "311f4138",
   "metadata": {},
   "outputs": [],
   "source": [
    "print(sorted(list(df[~df.State.isin(state)]['State'].unique())))\n",
    "\n"
   ]
  },
  {
   "cell_type": "code",
   "execution_count": null,
   "id": "125fc28a",
   "metadata": {},
   "outputs": [],
   "source": [
    "df.loc[(df.City ==\"Houston\") &(df.Sales>1500)][[\"Customer Name\",\"Category\",\"Sales\",\"Profit\"]]"
   ]
  },
  {
   "cell_type": "code",
   "execution_count": null,
   "id": "c6a01bb8",
   "metadata": {},
   "outputs": [],
   "source": [
    "##row with largest or smallest value\n",
    "\n",
    "df.nlargest(5,\"Profit\")"
   ]
  },
  {
   "cell_type": "code",
   "execution_count": null,
   "id": "a63ecb49",
   "metadata": {},
   "outputs": [],
   "source": [
    "df.nsmallest(3,\"Sales\")"
   ]
  },
  {
   "cell_type": "code",
   "execution_count": null,
   "id": "99b04995",
   "metadata": {},
   "outputs": [],
   "source": [
    "#lambda method to filter data\n",
    "df[df.apply(lambda x:x[\"City\"]==\"Houston\" and x[\"Category\"]==\"Technology\",axis=1)]"
   ]
  },
  {
   "cell_type": "markdown",
   "id": "ca254ba2",
   "metadata": {},
   "source": [
    "### handle missing values in Pandas"
   ]
  },
  {
   "cell_type": "code",
   "execution_count": null,
   "id": "8dc2714a",
   "metadata": {},
   "outputs": [],
   "source": [
    "import pandas as pd,numpy as np"
   ]
  },
  {
   "cell_type": "code",
   "execution_count": null,
   "id": "44ee428e",
   "metadata": {},
   "outputs": [],
   "source": [
    "data=np.array([1,2,4,None,4,5,7])"
   ]
  },
  {
   "cell_type": "code",
   "execution_count": null,
   "id": "6a783ef0",
   "metadata": {},
   "outputs": [],
   "source": [
    "data"
   ]
  },
  {
   "cell_type": "code",
   "execution_count": null,
   "id": "bb781ffd",
   "metadata": {},
   "outputs": [],
   "source": [
    "data.sum() #error since None is not an integer val"
   ]
  },
  {
   "cell_type": "code",
   "execution_count": null,
   "id": "c6456d32",
   "metadata": {},
   "outputs": [],
   "source": [
    "data1=np.array([1,2,4,np.nan,4,5,7])"
   ]
  },
  {
   "cell_type": "code",
   "execution_count": null,
   "id": "d109f04e",
   "metadata": {},
   "outputs": [],
   "source": [
    "data1"
   ]
  },
  {
   "cell_type": "code",
   "execution_count": null,
   "id": "a84e660e",
   "metadata": {},
   "outputs": [],
   "source": [
    "data1.dtype"
   ]
  },
  {
   "cell_type": "code",
   "execution_count": null,
   "id": "84f6d123",
   "metadata": {},
   "outputs": [],
   "source": [
    "1+np.nan\n",
    "0*np.nan"
   ]
  },
  {
   "cell_type": "code",
   "execution_count": null,
   "id": "053b9927",
   "metadata": {},
   "outputs": [],
   "source": [
    "data1.sum()"
   ]
  },
  {
   "cell_type": "code",
   "execution_count": null,
   "id": "7201b7f5",
   "metadata": {},
   "outputs": [],
   "source": [
    "np.nansum(data1) #calculates ignoring nan"
   ]
  },
  {
   "cell_type": "code",
   "execution_count": null,
   "id": "945fffec",
   "metadata": {},
   "outputs": [],
   "source": [
    "np.nanmean(data1)"
   ]
  },
  {
   "cell_type": "code",
   "execution_count": null,
   "id": "147846d0",
   "metadata": {},
   "outputs": [],
   "source": [
    "np.nanstd(data1)"
   ]
  },
  {
   "cell_type": "code",
   "execution_count": null,
   "id": "c444480c",
   "metadata": {},
   "outputs": [],
   "source": [
    "np.nanmin(data1)"
   ]
  },
  {
   "cell_type": "code",
   "execution_count": null,
   "id": "401129f8",
   "metadata": {},
   "outputs": [],
   "source": [
    "np.nanmax(data1)"
   ]
  },
  {
   "cell_type": "code",
   "execution_count": null,
   "id": "3f553f76",
   "metadata": {},
   "outputs": [],
   "source": [
    "np.nancumsum(data1) #cumilative sum"
   ]
  },
  {
   "cell_type": "code",
   "execution_count": null,
   "id": "7f066cd6",
   "metadata": {},
   "outputs": [],
   "source": [
    "data1"
   ]
  },
  {
   "cell_type": "code",
   "execution_count": null,
   "id": "97e36b26",
   "metadata": {},
   "outputs": [],
   "source": [
    "data3=pd.Series([1,np.nan,2,None,4])"
   ]
  },
  {
   "cell_type": "code",
   "execution_count": null,
   "id": "6444ce0c",
   "metadata": {},
   "outputs": [],
   "source": [
    "data3"
   ]
  },
  {
   "cell_type": "code",
   "execution_count": null,
   "id": "33a505f0",
   "metadata": {},
   "outputs": [],
   "source": [
    "a=pd.Series(range(2,15,3),dtype=int)"
   ]
  },
  {
   "cell_type": "code",
   "execution_count": null,
   "id": "55be4f4d",
   "metadata": {},
   "outputs": [],
   "source": [
    "a"
   ]
  },
  {
   "cell_type": "code",
   "execution_count": null,
   "id": "89ed21a1",
   "metadata": {},
   "outputs": [],
   "source": [
    "a[0]"
   ]
  },
  {
   "cell_type": "code",
   "execution_count": null,
   "id": "513ae7b1",
   "metadata": {},
   "outputs": [],
   "source": [
    "a[4]"
   ]
  },
  {
   "cell_type": "code",
   "execution_count": null,
   "id": "28ac4f32",
   "metadata": {},
   "outputs": [],
   "source": [
    "a[4]=None"
   ]
  },
  {
   "cell_type": "code",
   "execution_count": null,
   "id": "19cfe5fb",
   "metadata": {},
   "outputs": [],
   "source": [
    "a"
   ]
  },
  {
   "cell_type": "code",
   "execution_count": null,
   "id": "b094ad0d",
   "metadata": {},
   "outputs": [],
   "source": [
    "st=pd.Series([1,3,4,5,np.nan,None])"
   ]
  },
  {
   "cell_type": "code",
   "execution_count": null,
   "id": "88987044",
   "metadata": {},
   "outputs": [],
   "source": [
    "st"
   ]
  },
  {
   "cell_type": "code",
   "execution_count": null,
   "id": "0d84b4f5",
   "metadata": {},
   "outputs": [],
   "source": [
    "st1=pd.Series([\"a\",3,4,5,np.nan,None])"
   ]
  },
  {
   "cell_type": "code",
   "execution_count": null,
   "id": "fd2b8717",
   "metadata": {},
   "outputs": [],
   "source": [
    "st1"
   ]
  },
  {
   "cell_type": "code",
   "execution_count": null,
   "id": "c4e09c04",
   "metadata": {},
   "outputs": [],
   "source": [
    "pd.Series([True,False,np.nan])"
   ]
  },
  {
   "cell_type": "markdown",
   "id": "f3ae03d2",
   "metadata": {},
   "source": [
    "## Several Ways To Handle Missing Value "
   ]
  },
  {
   "cell_type": "markdown",
   "id": "f560b8fd",
   "metadata": {},
   "source": [
    "### Methods for handling missing values\n",
    "\n",
    "#### isnull()- Generates a boolean mask for data values\n",
    "True-Indicating missing values in the data.\n",
    "\n",
    "False:No missing values in the given data.\n",
    "\n",
    "#### notnull()- opp of isnull\n",
    "True-Indicating no  values in the data.\n",
    "\n",
    "False:Indicates missing or null values in the given data.\n",
    " \n",
    "\n",
    "#### fillna()- returns a copy of data filled or imputed the missing val\n",
    "\n",
    "#### dropna():Dropping missing values at row level"
   ]
  },
  {
   "cell_type": "code",
   "execution_count": null,
   "id": "1ce65698",
   "metadata": {},
   "outputs": [],
   "source": [
    "#isnull()-generates a boolean mask for data values\n",
    "True-Indicating missing values\n",
    "False:No missing values"
   ]
  },
  {
   "cell_type": "code",
   "execution_count": null,
   "id": "378802f7",
   "metadata": {},
   "outputs": [],
   "source": [
    "data=pd.Series([3,4,np.nan,\"Python\",None])"
   ]
  },
  {
   "cell_type": "code",
   "execution_count": null,
   "id": "c5987aee",
   "metadata": {},
   "outputs": [],
   "source": [
    "data"
   ]
  },
  {
   "cell_type": "code",
   "execution_count": null,
   "id": "0cc9b9d1",
   "metadata": {},
   "outputs": [],
   "source": [
    "data.isnull()"
   ]
  },
  {
   "cell_type": "code",
   "execution_count": null,
   "id": "db097cdb",
   "metadata": {},
   "outputs": [],
   "source": [
    "data.notnull()"
   ]
  },
  {
   "cell_type": "code",
   "execution_count": null,
   "id": "42bdf371",
   "metadata": {},
   "outputs": [],
   "source": [
    "data[data.isnull()]"
   ]
  },
  {
   "cell_type": "code",
   "execution_count": null,
   "id": "1d9595ac",
   "metadata": {},
   "outputs": [],
   "source": [
    "data[data.notnull()]"
   ]
  },
  {
   "cell_type": "code",
   "execution_count": null,
   "id": "6198c7b2",
   "metadata": {},
   "outputs": [],
   "source": [
    "data1=pd.Series([1,3,4,None,np.nan,\"\",\" \",\"None\"])"
   ]
  },
  {
   "cell_type": "code",
   "execution_count": null,
   "id": "b289d6e0",
   "metadata": {},
   "outputs": [],
   "source": [
    "data1"
   ]
  },
  {
   "cell_type": "code",
   "execution_count": null,
   "id": "33f9294b",
   "metadata": {},
   "outputs": [],
   "source": [
    "data1.isnull()"
   ]
  },
  {
   "cell_type": "code",
   "execution_count": null,
   "id": "71938005",
   "metadata": {},
   "outputs": [],
   "source": [
    "order=pd.read_csv(\"unbill_data.csv\")"
   ]
  },
  {
   "cell_type": "code",
   "execution_count": null,
   "id": "650af9f7",
   "metadata": {},
   "outputs": [],
   "source": [
    "order.shape"
   ]
  },
  {
   "cell_type": "code",
   "execution_count": null,
   "id": "771c174a",
   "metadata": {},
   "outputs": [],
   "source": [
    "order.head(2)"
   ]
  },
  {
   "cell_type": "code",
   "execution_count": null,
   "id": "c2315c96",
   "metadata": {},
   "outputs": [],
   "source": [
    "order.isnull().sum() # total missing values in each col"
   ]
  },
  {
   "cell_type": "code",
   "execution_count": null,
   "id": "758566f4",
   "metadata": {},
   "outputs": [],
   "source": [
    "order.isnull().sum()/len(order) *100 #Percentage of missing value"
   ]
  },
  {
   "cell_type": "code",
   "execution_count": null,
   "id": "f9ef364b",
   "metadata": {},
   "outputs": [],
   "source": [
    " order[\"UnbilledDays\"].isnull().sum()"
   ]
  },
  {
   "cell_type": "code",
   "execution_count": null,
   "id": "a055db3a",
   "metadata": {},
   "outputs": [],
   "source": [
    "data=pd.Series([4.5,6,np.nan,\"ABC\",None])"
   ]
  },
  {
   "cell_type": "code",
   "execution_count": null,
   "id": "cac3aa7d",
   "metadata": {},
   "outputs": [],
   "source": [
    "data"
   ]
  },
  {
   "cell_type": "code",
   "execution_count": null,
   "id": "cba44675",
   "metadata": {},
   "outputs": [],
   "source": [
    "data.dropna()"
   ]
  },
  {
   "cell_type": "code",
   "execution_count": null,
   "id": "d39dc422",
   "metadata": {},
   "outputs": [],
   "source": [
    "df=pd.DataFrame([[1,np.nan,3],[3,5,6],[None,8,9]],columns=list(\"ABC\"))"
   ]
  },
  {
   "cell_type": "code",
   "execution_count": null,
   "id": "589795bb",
   "metadata": {},
   "outputs": [],
   "source": [
    "df"
   ]
  },
  {
   "cell_type": "code",
   "execution_count": null,
   "id": "1a289aac",
   "metadata": {},
   "outputs": [],
   "source": [
    "df.dropna()"
   ]
  },
  {
   "cell_type": "code",
   "execution_count": null,
   "id": "d3df5eaf",
   "metadata": {},
   "outputs": [],
   "source": [
    "df.dropna(axis=\"columns\") #by default axis =rows"
   ]
  },
  {
   "cell_type": "code",
   "execution_count": null,
   "id": "1d7b0132",
   "metadata": {},
   "outputs": [],
   "source": [
    "df.dropna(axis=1,how=\"all\") #1:columns and 0:rows\n",
    "#how=all represents to drop the col if all the values are missing"
   ]
  },
  {
   "cell_type": "code",
   "execution_count": null,
   "id": "92e56c90",
   "metadata": {},
   "outputs": [],
   "source": [
    "df.dropna(axis=1,how=\"any\")"
   ]
  },
  {
   "cell_type": "code",
   "execution_count": null,
   "id": "03883267",
   "metadata": {},
   "outputs": [],
   "source": [
    "df.dropna(how=\"all\")"
   ]
  },
  {
   "cell_type": "code",
   "execution_count": null,
   "id": "8fe91f7c",
   "metadata": {},
   "outputs": [],
   "source": [
    "df.info()"
   ]
  },
  {
   "cell_type": "code",
   "execution_count": null,
   "id": "db1cc13f",
   "metadata": {},
   "outputs": [],
   "source": [
    "df.dropna(axis=\"rows\",thresh=3)\n",
    "#thresh- minimum no of non-missing values for particular axis"
   ]
  },
  {
   "cell_type": "code",
   "execution_count": null,
   "id": "53ffd8e5",
   "metadata": {},
   "outputs": [],
   "source": [
    "df.dropna(axis=\"rows\",thresh=1)"
   ]
  },
  {
   "cell_type": "code",
   "execution_count": null,
   "id": "dd21626e",
   "metadata": {},
   "outputs": [],
   "source": [
    "df.dropna(axis=\"columns\",thresh=3)"
   ]
  },
  {
   "cell_type": "code",
   "execution_count": null,
   "id": "076c034d",
   "metadata": {},
   "outputs": [],
   "source": [
    "df.dropna(axis=\"columns\",thresh=2)"
   ]
  },
  {
   "cell_type": "code",
   "execution_count": null,
   "id": "584196e5",
   "metadata": {},
   "outputs": [],
   "source": [
    "order.shape"
   ]
  },
  {
   "cell_type": "code",
   "execution_count": null,
   "id": "9eab8023",
   "metadata": {},
   "outputs": [],
   "source": [
    "order1=order.dropna()"
   ]
  },
  {
   "cell_type": "code",
   "execution_count": null,
   "id": "f7fbecf7",
   "metadata": {},
   "outputs": [],
   "source": [
    "order1.shape"
   ]
  },
  {
   "cell_type": "code",
   "execution_count": null,
   "id": "642b47c9",
   "metadata": {},
   "outputs": [],
   "source": [
    "order2=order.dropna(axis=1)"
   ]
  },
  {
   "cell_type": "code",
   "execution_count": null,
   "id": "8e3049cc",
   "metadata": {},
   "outputs": [],
   "source": [
    "order2.shape"
   ]
  },
  {
   "cell_type": "code",
   "execution_count": null,
   "id": "2e14ce74",
   "metadata": {},
   "outputs": [],
   "source": [
    "order.isnull().sum()"
   ]
  },
  {
   "cell_type": "code",
   "execution_count": null,
   "id": "2f6fc17e",
   "metadata": {},
   "outputs": [],
   "source": [
    "order3=order.dropna(axis=\"columns\",thresh=30000)"
   ]
  },
  {
   "cell_type": "code",
   "execution_count": null,
   "id": "466b45a3",
   "metadata": {},
   "outputs": [],
   "source": [
    "order3.isnull().sum()"
   ]
  },
  {
   "cell_type": "code",
   "execution_count": null,
   "id": "af91e73b",
   "metadata": {},
   "outputs": [],
   "source": [
    "order4=order.dropna(axis=\"rows\",thresh=10)"
   ]
  },
  {
   "cell_type": "code",
   "execution_count": null,
   "id": "3e21db2a",
   "metadata": {},
   "outputs": [],
   "source": [
    "order4.shape"
   ]
  },
  {
   "cell_type": "markdown",
   "id": "1ed124c5",
   "metadata": {},
   "source": [
    "## Impute the Missing values"
   ]
  },
  {
   "cell_type": "markdown",
   "id": "5f790ccd",
   "metadata": {},
   "source": [
    "#ffill- forward fill\n",
    "\n",
    "bfill - backward fill"
   ]
  },
  {
   "cell_type": "code",
   "execution_count": null,
   "id": "84d4dead",
   "metadata": {},
   "outputs": [],
   "source": [
    "data"
   ]
  },
  {
   "cell_type": "code",
   "execution_count": null,
   "id": "03553630",
   "metadata": {},
   "outputs": [],
   "source": [
    "data.fillna(method=\"ffill\")"
   ]
  },
  {
   "cell_type": "code",
   "execution_count": null,
   "id": "c362459b",
   "metadata": {},
   "outputs": [],
   "source": [
    "data.fillna(method=\"bfill\")"
   ]
  },
  {
   "cell_type": "code",
   "execution_count": null,
   "id": "5d16da8a",
   "metadata": {},
   "outputs": [],
   "source": [
    "df"
   ]
  },
  {
   "cell_type": "code",
   "execution_count": null,
   "id": "598cc4aa",
   "metadata": {},
   "outputs": [],
   "source": [
    "df.fillna(method=\"ffill\",axis=\"columns\")"
   ]
  },
  {
   "cell_type": "code",
   "execution_count": null,
   "id": "d7f6be6c",
   "metadata": {},
   "outputs": [],
   "source": [
    "#Applying both fwd and bwd fills\n",
    "df.fillna(method=\"ffill\",axis=\"columns\").fillna(method=\"bfill\",axis=\"columns\")"
   ]
  },
  {
   "cell_type": "code",
   "execution_count": null,
   "id": "37cd94d8",
   "metadata": {},
   "outputs": [],
   "source": [
    "df.fillna(method=\"ffill\",axis=\"rows\")"
   ]
  },
  {
   "cell_type": "code",
   "execution_count": null,
   "id": "0106c406",
   "metadata": {},
   "outputs": [],
   "source": [
    "df.fillna(method=\"ffill\",axis=\"rows\").fillna(method=\"bfill\",axis=\"rows\")"
   ]
  },
  {
   "cell_type": "code",
   "execution_count": null,
   "id": "81fea2d1",
   "metadata": {},
   "outputs": [],
   "source": [
    "e_bill=pd.Series([200,250,np.nan,280,320,350,400,500,600],\n",
    "                 [\"Mar\",\"Apr\",\"May\",\"Jun\",\"Jul\",\"Aug\",\"Sep\",\"Oct\",\"Nov\"])"
   ]
  },
  {
   "cell_type": "code",
   "execution_count": null,
   "id": "749373b9",
   "metadata": {},
   "outputs": [],
   "source": [
    "e_bill"
   ]
  },
  {
   "cell_type": "code",
   "execution_count": null,
   "id": "65bfe306",
   "metadata": {},
   "outputs": [],
   "source": [
    "e_bill.fillna(method=\"ffill\")"
   ]
  },
  {
   "cell_type": "code",
   "execution_count": null,
   "id": "67274070",
   "metadata": {},
   "outputs": [],
   "source": [
    "e_bill.fillna(e_bill[1]+e_bill[3]/2)"
   ]
  },
  {
   "cell_type": "code",
   "execution_count": null,
   "id": "11419eae",
   "metadata": {},
   "outputs": [],
   "source": [
    "order.head()"
   ]
  },
  {
   "cell_type": "code",
   "execution_count": null,
   "id": "26c5f1f6",
   "metadata": {},
   "outputs": [],
   "source": [
    "order[\"UnbilledDays\"].isnull().sum()"
   ]
  },
  {
   "cell_type": "code",
   "execution_count": null,
   "id": "c24749c4",
   "metadata": {},
   "outputs": [],
   "source": [
    "order[\"UnbilledDays\"].dtypes"
   ]
  },
  {
   "cell_type": "code",
   "execution_count": null,
   "id": "d541b47a",
   "metadata": {},
   "outputs": [],
   "source": [
    "#if null will be replaced by median or  same val\n",
    "order[\"UnbilledDays_New\"]=np.where(order[\"UnbilledDays\"].isnull(),\n",
    "                                  order[\"UnbilledDays\"].median(),order[\"UnbilledDays\"])"
   ]
  },
  {
   "cell_type": "code",
   "execution_count": null,
   "id": "b5c08813",
   "metadata": {},
   "outputs": [],
   "source": [
    "order[order[\"UnbilledDays\"].isnull()].head()"
   ]
  },
  {
   "cell_type": "code",
   "execution_count": null,
   "id": "c8aca587",
   "metadata": {},
   "outputs": [],
   "source": [
    "order[order[\"UnbilledDays\"].notnull()].head()"
   ]
  },
  {
   "cell_type": "markdown",
   "id": "45a7b63e",
   "metadata": {},
   "source": [
    "##  Pandas Concat and Append Method "
   ]
  },
  {
   "cell_type": "code",
   "execution_count": null,
   "id": "7822542f",
   "metadata": {},
   "outputs": [],
   "source": [
    "df1=pd.read_clipboard()"
   ]
  },
  {
   "cell_type": "code",
   "execution_count": null,
   "id": "82aa97a3",
   "metadata": {},
   "outputs": [],
   "source": [
    "df1"
   ]
  },
  {
   "cell_type": "code",
   "execution_count": null,
   "id": "06339778",
   "metadata": {},
   "outputs": [],
   "source": [
    "df1.shape"
   ]
  },
  {
   "cell_type": "code",
   "execution_count": null,
   "id": "42449f9c",
   "metadata": {},
   "outputs": [],
   "source": [
    "df2=pd.read_clipboard()"
   ]
  },
  {
   "cell_type": "code",
   "execution_count": null,
   "id": "bb3012a1",
   "metadata": {},
   "outputs": [],
   "source": [
    "df2.head()"
   ]
  },
  {
   "cell_type": "code",
   "execution_count": null,
   "id": "1eb5f6c5",
   "metadata": {},
   "outputs": [],
   "source": [
    "df1.append(df2,ignore_index=True)"
   ]
  },
  {
   "cell_type": "code",
   "execution_count": null,
   "id": "d905becd",
   "metadata": {},
   "outputs": [],
   "source": [
    "df1.keys()"
   ]
  },
  {
   "cell_type": "code",
   "execution_count": null,
   "id": "c9a12d7d",
   "metadata": {},
   "outputs": [],
   "source": [
    "#  Dataframe with diff columns"
   ]
  },
  {
   "cell_type": "code",
   "execution_count": null,
   "id": "13b5ce69",
   "metadata": {},
   "outputs": [],
   "source": [
    "cust=pd.read_clipboard()"
   ]
  },
  {
   "cell_type": "code",
   "execution_count": null,
   "id": "a18560b2",
   "metadata": {},
   "outputs": [],
   "source": [
    "cust.shape"
   ]
  },
  {
   "cell_type": "code",
   "execution_count": null,
   "id": "4eb84241",
   "metadata": {},
   "outputs": [],
   "source": [
    "cust.head()"
   ]
  },
  {
   "cell_type": "code",
   "execution_count": null,
   "id": "ab57f996",
   "metadata": {},
   "outputs": [],
   "source": [
    "cust.keys()"
   ]
  },
  {
   "cell_type": "code",
   "execution_count": null,
   "id": "2003dd5f",
   "metadata": {},
   "outputs": [],
   "source": [
    "df2.append(cust)"
   ]
  },
  {
   "cell_type": "code",
   "execution_count": null,
   "id": "ce8084d8",
   "metadata": {},
   "outputs": [],
   "source": [
    "cust.append(df2)"
   ]
  },
  {
   "cell_type": "code",
   "execution_count": null,
   "id": "41f66d17",
   "metadata": {},
   "outputs": [],
   "source": [
    "df2.append(cust,sort=True)"
   ]
  },
  {
   "cell_type": "code",
   "execution_count": null,
   "id": "54580e5f",
   "metadata": {},
   "outputs": [],
   "source": [
    "df2.append(cust,sort=True).fillna(\"No Value\")"
   ]
  },
  {
   "cell_type": "code",
   "execution_count": null,
   "id": "92540776",
   "metadata": {},
   "outputs": [],
   "source": [
    "Newdf=df1.append([df2,cust],ignore_index=True)"
   ]
  },
  {
   "cell_type": "code",
   "execution_count": null,
   "id": "36a8d336",
   "metadata": {},
   "outputs": [],
   "source": [
    "Newdf.shape"
   ]
  },
  {
   "cell_type": "code",
   "execution_count": null,
   "id": "6412dc3e",
   "metadata": {},
   "outputs": [],
   "source": [
    "Newdf.head()"
   ]
  },
  {
   "cell_type": "markdown",
   "id": "aa981981",
   "metadata": {},
   "source": [
    "## Combining Dataframes using concat method"
   ]
  },
  {
   "cell_type": "code",
   "execution_count": null,
   "id": "76663f03",
   "metadata": {},
   "outputs": [],
   "source": [
    "df=pd.read_clipboard()"
   ]
  },
  {
   "cell_type": "code",
   "execution_count": null,
   "id": "13f6ee7e",
   "metadata": {},
   "outputs": [],
   "source": [
    "df.head()"
   ]
  },
  {
   "cell_type": "code",
   "execution_count": null,
   "id": "d5b9d925",
   "metadata": {},
   "outputs": [],
   "source": [
    "df1=pd.read_clipboard()\n",
    "df1.head()"
   ]
  },
  {
   "cell_type": "code",
   "execution_count": null,
   "id": "f01a6c11",
   "metadata": {},
   "outputs": [],
   "source": [
    "pd.concat([df,df1])"
   ]
  },
  {
   "cell_type": "code",
   "execution_count": null,
   "id": "6495e694",
   "metadata": {},
   "outputs": [],
   "source": [
    "pd.concat([df,df1],ignore_index=True)"
   ]
  },
  {
   "cell_type": "code",
   "execution_count": null,
   "id": "c64f95bd",
   "metadata": {},
   "outputs": [],
   "source": [
    "##Renaming columns\n",
    "\n",
    "df.rename(columns={\"Name\":\"Student Name\"},inplace=True)\n",
    "df.head()"
   ]
  },
  {
   "cell_type": "code",
   "execution_count": null,
   "id": "0c6e9ac8",
   "metadata": {},
   "outputs": [],
   "source": [
    "pd.concat([df,df1]) # column labels shd be matching  for concat and append function"
   ]
  },
  {
   "cell_type": "code",
   "execution_count": null,
   "id": "bf2271b2",
   "metadata": {},
   "outputs": [],
   "source": [
    "df.rename(columns={\"Student Name\":\"Name\"},inplace=True)\n",
    "df.head()"
   ]
  },
  {
   "cell_type": "code",
   "execution_count": null,
   "id": "1cf1c7e2",
   "metadata": {},
   "outputs": [],
   "source": [
    "ConcatDf= pd.concat([df,df1],keys=[\"SecA\",\"SecB\"])"
   ]
  },
  {
   "cell_type": "code",
   "execution_count": null,
   "id": "42f37e1e",
   "metadata": {},
   "outputs": [],
   "source": [
    "ConcatDf"
   ]
  },
  {
   "cell_type": "code",
   "execution_count": null,
   "id": "b3d68dae",
   "metadata": {},
   "outputs": [],
   "source": [
    "pd.concat([df,df1],axis=1)"
   ]
  },
  {
   "cell_type": "code",
   "execution_count": null,
   "id": "ea2ea2a1",
   "metadata": {
    "scrolled": true
   },
   "outputs": [],
   "source": [
    "pd.concat([df,df1],axis=1,keys=[\"SecA\",\"SecB\"])"
   ]
  },
  {
   "cell_type": "code",
   "execution_count": null,
   "id": "8d420614",
   "metadata": {},
   "outputs": [],
   "source": [
    "pd.concat([df,df1]) #by default rowwise concat"
   ]
  },
  {
   "cell_type": "code",
   "execution_count": null,
   "id": "e7b4e78a",
   "metadata": {},
   "outputs": [],
   "source": [
    "## only matching rows\n",
    "pd.concat([df,df1],join=\"inner\")"
   ]
  },
  {
   "cell_type": "code",
   "execution_count": null,
   "id": "94dfb1e3",
   "metadata": {},
   "outputs": [],
   "source": [
    "pd.concat([df,df1],join=\"outer\")"
   ]
  },
  {
   "cell_type": "code",
   "execution_count": null,
   "id": "e6dd27b0",
   "metadata": {},
   "outputs": [],
   "source": [
    "import warnings\n",
    "warnings.filterwarnings(\"ignore\")\n",
    "df[\"ID\"][0]=\"A105\""
   ]
  },
  {
   "cell_type": "code",
   "execution_count": null,
   "id": "e09ae5eb",
   "metadata": {},
   "outputs": [],
   "source": [
    "df.set_index(\"ID\",inplace=True)"
   ]
  },
  {
   "cell_type": "code",
   "execution_count": null,
   "id": "1496f2e9",
   "metadata": {},
   "outputs": [],
   "source": [
    "df1.set_index(\"ID\",inplace=True)"
   ]
  },
  {
   "cell_type": "code",
   "execution_count": null,
   "id": "2e672982",
   "metadata": {},
   "outputs": [],
   "source": [
    "df.head()"
   ]
  },
  {
   "cell_type": "code",
   "execution_count": null,
   "id": "69b572f3",
   "metadata": {},
   "outputs": [],
   "source": [
    "df1.head()"
   ]
  },
  {
   "cell_type": "code",
   "execution_count": null,
   "id": "6bfef9cd",
   "metadata": {},
   "outputs": [],
   "source": [
    "pd.concat([df,df1])"
   ]
  },
  {
   "cell_type": "code",
   "execution_count": null,
   "id": "814bc984",
   "metadata": {},
   "outputs": [],
   "source": [
    "try:\n",
    "    pd.concat([df,df1],verify_integrity=True)\n",
    "except ValueError as e:\n",
    "    print(\"Value Error:\",e)"
   ]
  },
  {
   "cell_type": "markdown",
   "id": "080c8dda",
   "metadata": {},
   "source": [
    "### Joining and Merging Pandas DataFrame"
   ]
  },
  {
   "cell_type": "code",
   "execution_count": null,
   "id": "dcc2d3ff",
   "metadata": {},
   "outputs": [],
   "source": [
    "help(pd.merge)"
   ]
  },
  {
   "cell_type": "markdown",
   "id": "360bbac0",
   "metadata": {},
   "source": [
    "Types of Merges:\n",
    "\n",
    "    Inner Join\n",
    "    \n",
    "    OUter Join |Full Outer JOIn\n",
    "    \n",
    "    Left Join |Full Left JOIn\n",
    "    \n",
    "    Right JOinn|Full Right JOIn\n",
    "    \n",
    "    Cross Join"
   ]
  },
  {
   "cell_type": "code",
   "execution_count": null,
   "id": "06509a66",
   "metadata": {},
   "outputs": [],
   "source": [
    "order=pd.read_excel(\"Sales Order.xlsx\",sheet_name=\"Orders\")\n",
    "returns=pd.read_excel(\"Sales Order.xlsx\",sheet_name=\"Returns\")"
   ]
  },
  {
   "cell_type": "code",
   "execution_count": null,
   "id": "49e3a23f",
   "metadata": {},
   "outputs": [],
   "source": [
    "print(order.shape)\n",
    "print(returns.shape)"
   ]
  },
  {
   "cell_type": "code",
   "execution_count": null,
   "id": "11c25ff6",
   "metadata": {},
   "outputs": [],
   "source": [
    "order.head()"
   ]
  },
  {
   "cell_type": "code",
   "execution_count": null,
   "id": "beea2de0",
   "metadata": {},
   "outputs": [],
   "source": [
    "returns.head()"
   ]
  },
  {
   "cell_type": "code",
   "execution_count": null,
   "id": "bbcac599",
   "metadata": {},
   "outputs": [],
   "source": [
    "inner_join=pd.merge(left=order,right=returns,left_on=\"Order ID\" ,right_on=\"Order ID\")"
   ]
  },
  {
   "cell_type": "code",
   "execution_count": null,
   "id": "0a51f09d",
   "metadata": {},
   "outputs": [],
   "source": [
    "inner_join.shape"
   ]
  },
  {
   "cell_type": "code",
   "execution_count": null,
   "id": "dfc6590e",
   "metadata": {},
   "outputs": [],
   "source": [
    "#Since both the tables have same column name lefton and right on  could be bypassed and specified under on\n",
    "\n",
    "inner_join=pd.merge(left=order,right=returns,on=\"Order ID\")"
   ]
  },
  {
   "cell_type": "code",
   "execution_count": null,
   "id": "2529e262",
   "metadata": {},
   "outputs": [],
   "source": [
    "inner_join.shape"
   ]
  },
  {
   "cell_type": "code",
   "execution_count": null,
   "id": "7f22b0e5",
   "metadata": {},
   "outputs": [],
   "source": [
    "#left and right table specs are optional-instead  just table names can be used\n",
    "inner_join=pd.merge(order,returns,on=\"Order ID\")"
   ]
  },
  {
   "cell_type": "code",
   "execution_count": null,
   "id": "fae47f0f",
   "metadata": {},
   "outputs": [],
   "source": [
    "inner_join.shape"
   ]
  },
  {
   "cell_type": "code",
   "execution_count": null,
   "id": "c35a675c",
   "metadata": {},
   "outputs": [],
   "source": [
    "# To determine the number of matching rows for both tables\n",
    "order[\"Order ID\"].isin(returns[\"Order ID\"]).value_counts()"
   ]
  },
  {
   "cell_type": "code",
   "execution_count": null,
   "id": "57347a40",
   "metadata": {},
   "outputs": [],
   "source": [
    "returns.rename(columns={\"Invoice ID\":\"Order ID\"},inplace=True)"
   ]
  },
  {
   "cell_type": "code",
   "execution_count": null,
   "id": "9e3f2b31",
   "metadata": {},
   "outputs": [],
   "source": [
    "#by default how is taken as inner join if not specified\n",
    "inner_join=pd.merge(order,returns,on=\"Order ID\",how=\"inner\")"
   ]
  },
  {
   "cell_type": "code",
   "execution_count": null,
   "id": "e6c396b6",
   "metadata": {},
   "outputs": [],
   "source": [
    "inner_join.shape"
   ]
  },
  {
   "cell_type": "code",
   "execution_count": null,
   "id": "0ce0e974",
   "metadata": {},
   "outputs": [],
   "source": [
    "## If the return table Order ID is renamed to Invoice ID\n",
    "returns.rename(columns={\"Order ID\":\"Invoice ID\"},inplace=True)"
   ]
  },
  {
   "cell_type": "code",
   "execution_count": null,
   "id": "07a72832",
   "metadata": {},
   "outputs": [],
   "source": [
    "returns.head()"
   ]
  },
  {
   "cell_type": "code",
   "execution_count": null,
   "id": "7186212a",
   "metadata": {},
   "outputs": [],
   "source": [
    "inner_join=pd.merge(order,returns,left_on=\"Order ID\",right_on=\"Invoice ID\")"
   ]
  },
  {
   "cell_type": "code",
   "execution_count": null,
   "id": "b8964a45",
   "metadata": {},
   "outputs": [],
   "source": [
    "inner_join.shape"
   ]
  },
  {
   "cell_type": "code",
   "execution_count": null,
   "id": "0df1c730",
   "metadata": {},
   "outputs": [],
   "source": [
    "inner_join.head()"
   ]
  },
  {
   "cell_type": "code",
   "execution_count": null,
   "id": "992b4110",
   "metadata": {},
   "outputs": [],
   "source": [
    "#To modify the suffix on the resultant data\n",
    "inner_join=pd.merge(order,returns,left_on=\"Order ID\",right_on=\"Invoice ID\",suffixes=[\"_OrderT\",\"_ReturnsT\"])"
   ]
  },
  {
   "cell_type": "code",
   "execution_count": null,
   "id": "c79c0447",
   "metadata": {},
   "outputs": [],
   "source": [
    "inner_join.shape"
   ]
  },
  {
   "cell_type": "code",
   "execution_count": null,
   "id": "266132a4",
   "metadata": {},
   "outputs": [],
   "source": [
    "inner_join.head()"
   ]
  },
  {
   "cell_type": "code",
   "execution_count": null,
   "id": "dd550272",
   "metadata": {},
   "outputs": [],
   "source": [
    "#Joining on two columns\n",
    "\n",
    "inner_join=pd.merge(order,returns,left_on=[\"Order ID\",\"City\"],right_on=[\"Invoice ID\",\"City\"],suffixes=[\"_OrderT\",\"_ReturnsT\"])\n",
    "\n",
    "inner_join.shape\n"
   ]
  },
  {
   "cell_type": "code",
   "execution_count": null,
   "id": "406a5e5c",
   "metadata": {},
   "outputs": [],
   "source": [
    "inner_join.head()"
   ]
  },
  {
   "cell_type": "code",
   "execution_count": null,
   "id": "8caed761",
   "metadata": {},
   "outputs": [],
   "source": [
    "#Indicator returns  if the matching is done  on both tables or one table\n",
    "\n",
    "inner_join=pd.merge(order,returns,left_on=[\"Order ID\",\"City\"],right_on=[\"Invoice ID\",\"City\"],suffixes=[\"_OrderT\",\"_ReturnsT\"],\n",
    "                    indicator=True)\n",
    "inner_join.shape"
   ]
  },
  {
   "cell_type": "code",
   "execution_count": null,
   "id": "a14a5469",
   "metadata": {},
   "outputs": [],
   "source": [
    "inner_join.head()"
   ]
  },
  {
   "cell_type": "code",
   "execution_count": null,
   "id": "a6ac4579",
   "metadata": {},
   "outputs": [],
   "source": [
    "inner_join._merge.value_counts() # to get the stats of how many rows are matched on both/left/right tables"
   ]
  },
  {
   "cell_type": "code",
   "execution_count": null,
   "id": "bd3cfc6a",
   "metadata": {},
   "outputs": [],
   "source": [
    "print(order.shape,returns.shape)"
   ]
  },
  {
   "cell_type": "code",
   "execution_count": null,
   "id": "0e8bba98",
   "metadata": {},
   "outputs": [],
   "source": [
    "leftjoin=pd.merge(order,returns,on=\"Order ID\",how=\"left\",indicator=True)"
   ]
  },
  {
   "cell_type": "code",
   "execution_count": null,
   "id": "b60cad8a",
   "metadata": {},
   "outputs": [],
   "source": [
    "leftjoin.shape"
   ]
  },
  {
   "cell_type": "code",
   "execution_count": null,
   "id": "5d9262bb",
   "metadata": {},
   "outputs": [],
   "source": [
    "leftjoin._merge.value_counts()"
   ]
  },
  {
   "cell_type": "code",
   "execution_count": null,
   "id": "967657d6",
   "metadata": {},
   "outputs": [],
   "source": [
    "rightjoin=pd.merge(order,returns,on=\"Order ID\",how=\"right\",indicator=True)"
   ]
  },
  {
   "cell_type": "code",
   "execution_count": null,
   "id": "1dc8c2f8",
   "metadata": {},
   "outputs": [],
   "source": [
    "rightjoin.shape"
   ]
  },
  {
   "cell_type": "code",
   "execution_count": null,
   "id": "5df9a788",
   "metadata": {},
   "outputs": [],
   "source": [
    "rightjoin._merge.value_counts()"
   ]
  },
  {
   "cell_type": "code",
   "execution_count": null,
   "id": "a5027355",
   "metadata": {},
   "outputs": [],
   "source": [
    "fulljoin=pd.merge(order,returns,on=\"Order ID\",how=\"outer\",indicator=True)"
   ]
  },
  {
   "cell_type": "code",
   "execution_count": null,
   "id": "8b94fe9d",
   "metadata": {},
   "outputs": [],
   "source": [
    "fulljoin.shape"
   ]
  },
  {
   "cell_type": "code",
   "execution_count": null,
   "id": "5ed583a1",
   "metadata": {},
   "outputs": [],
   "source": [
    "5000+2000-89"
   ]
  },
  {
   "cell_type": "code",
   "execution_count": null,
   "id": "a3dc8346",
   "metadata": {},
   "outputs": [],
   "source": [
    "fulljoin._merge.value_counts()"
   ]
  },
  {
   "cell_type": "code",
   "execution_count": null,
   "id": "d22aaf39",
   "metadata": {},
   "outputs": [],
   "source": [
    "#Deriving other joins from full join\n",
    "\n",
    "fulljoin[fulljoin._merge.isin(['both','left_only'])].shape #left join\n"
   ]
  },
  {
   "cell_type": "code",
   "execution_count": null,
   "id": "96528c43",
   "metadata": {},
   "outputs": [],
   "source": [
    "fulljoin[fulljoin._merge.isin(['both','right_only'])].shape #Right join"
   ]
  },
  {
   "cell_type": "code",
   "execution_count": null,
   "id": "fe035019",
   "metadata": {},
   "outputs": [],
   "source": [
    "fulljoin[fulljoin._merge.isin(['both'])].shape #Inner join"
   ]
  },
  {
   "cell_type": "code",
   "execution_count": null,
   "id": "c585a895",
   "metadata": {},
   "outputs": [],
   "source": [
    "#Cross Join\n",
    "\n",
    "crossjoin=pd.merge(order[:5],returns[:5],how=\"cross\",indicator=True)"
   ]
  },
  {
   "cell_type": "code",
   "execution_count": null,
   "id": "cd8d56bc",
   "metadata": {},
   "outputs": [],
   "source": [
    "crossjoin.shape"
   ]
  },
  {
   "cell_type": "code",
   "execution_count": null,
   "id": "e42e3c74",
   "metadata": {},
   "outputs": [],
   "source": [
    "crossjoin._merge.value_counts()"
   ]
  },
  {
   "cell_type": "code",
   "execution_count": null,
   "id": "e8bb1cc2",
   "metadata": {},
   "outputs": [],
   "source": [
    "crossjoin.head()"
   ]
  },
  {
   "cell_type": "code",
   "execution_count": null,
   "id": "d6b170b5",
   "metadata": {},
   "outputs": [],
   "source": [
    "df1=pd.DataFrame([1,2,3,4])\n",
    "df2=pd.DataFrame([\"A\",\"B\",\"C\",\"D\"])"
   ]
  },
  {
   "cell_type": "code",
   "execution_count": null,
   "id": "48ff6278",
   "metadata": {},
   "outputs": [],
   "source": [
    "pd.merge(df1,df2,how=\"cross\")"
   ]
  },
  {
   "cell_type": "code",
   "execution_count": null,
   "id": "fbc981c8",
   "metadata": {},
   "outputs": [],
   "source": [
    "emp=pd.read_clipboard()"
   ]
  },
  {
   "cell_type": "code",
   "execution_count": null,
   "id": "87d1b834",
   "metadata": {},
   "outputs": [],
   "source": [
    "emp.head()"
   ]
  },
  {
   "cell_type": "code",
   "execution_count": null,
   "id": "dc9a65cc",
   "metadata": {},
   "outputs": [],
   "source": [
    "emp.set_index(\"EmpID\",inplace=True)"
   ]
  },
  {
   "cell_type": "code",
   "execution_count": null,
   "id": "4e8c7e2a",
   "metadata": {},
   "outputs": [],
   "source": [
    "emp.head()"
   ]
  },
  {
   "cell_type": "code",
   "execution_count": null,
   "id": "a8f46c9f",
   "metadata": {},
   "outputs": [],
   "source": [
    "salary=pd.read_clipboard()"
   ]
  },
  {
   "cell_type": "code",
   "execution_count": null,
   "id": "d0adb9e9",
   "metadata": {},
   "outputs": [],
   "source": [
    "salary.set_index(\"EmpID\",inplace=True)"
   ]
  },
  {
   "cell_type": "code",
   "execution_count": null,
   "id": "3a05eb96",
   "metadata": {},
   "outputs": [],
   "source": [
    "#merging df's based on index\n",
    "pd.merge(emp,salary,left_index=True,right_index=True)"
   ]
  },
  {
   "cell_type": "code",
   "execution_count": null,
   "id": "36a293e3",
   "metadata": {},
   "outputs": [],
   "source": [
    "#resetting index on salary dataframe\n",
    "salary=salary.reset_index()\n",
    "salary.head()"
   ]
  },
  {
   "cell_type": "code",
   "execution_count": null,
   "id": "7114fe54",
   "metadata": {},
   "outputs": [],
   "source": [
    "#Merging based on index of one DF and column val of another\n",
    "\n",
    "empsal=pd.merge(emp,salary,left_index=True,right_on=\"EmpID\")"
   ]
  },
  {
   "cell_type": "code",
   "execution_count": null,
   "id": "ee7d89ad",
   "metadata": {},
   "outputs": [],
   "source": [
    "empsal"
   ]
  },
  {
   "cell_type": "code",
   "execution_count": null,
   "id": "71b126d0",
   "metadata": {},
   "outputs": [],
   "source": [
    "#Merging more than 2 DF's\n",
    "city=pd.read_clipboard()\n",
    "city.head()"
   ]
  },
  {
   "cell_type": "code",
   "execution_count": null,
   "id": "fedf168c",
   "metadata": {},
   "outputs": [],
   "source": [
    "empsal=pd.merge(emp,salary,left_index=True,right_on=\"EmpID\")\n",
    "empsal.merge(city,on=\"EmpID\")"
   ]
  },
  {
   "cell_type": "code",
   "execution_count": null,
   "id": "b7026f5a",
   "metadata": {},
   "outputs": [],
   "source": []
  }
 ],
 "metadata": {
  "kernelspec": {
   "display_name": "Python 3 (ipykernel)",
   "language": "python",
   "name": "python3"
  },
  "language_info": {
   "codemirror_mode": {
    "name": "ipython",
    "version": 3
   },
   "file_extension": ".py",
   "mimetype": "text/x-python",
   "name": "python",
   "nbconvert_exporter": "python",
   "pygments_lexer": "ipython3",
   "version": "3.9.7"
  }
 },
 "nbformat": 4,
 "nbformat_minor": 5
}
