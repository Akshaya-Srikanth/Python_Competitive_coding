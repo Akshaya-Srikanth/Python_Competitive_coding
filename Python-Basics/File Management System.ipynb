{
 "cells": [
  {
   "cell_type": "code",
   "execution_count": 1,
   "id": "69e9ebc8",
   "metadata": {},
   "outputs": [],
   "source": [
    "import os"
   ]
  },
  {
   "cell_type": "code",
   "execution_count": 2,
   "id": "53336de3",
   "metadata": {},
   "outputs": [],
   "source": [
    "folderpath=r'C:\\Users\\akshaya.srikanth\\Documents\\ieltsdocs'"
   ]
  },
  {
   "cell_type": "code",
   "execution_count": 3,
   "id": "d713fbba",
   "metadata": {},
   "outputs": [],
   "source": [
    "os.chdir(folderpath)"
   ]
  },
  {
   "cell_type": "code",
   "execution_count": 4,
   "id": "31f1728f",
   "metadata": {},
   "outputs": [
    {
     "data": {
      "text/plain": [
       "'C:\\\\Users\\\\akshaya.srikanth\\\\Documents\\\\ieltsdocs'"
      ]
     },
     "execution_count": 4,
     "metadata": {},
     "output_type": "execute_result"
    }
   ],
   "source": [
    "os.getcwd()"
   ]
  },
  {
   "cell_type": "code",
   "execution_count": 5,
   "id": "e4df17d1",
   "metadata": {
    "scrolled": false
   },
   "outputs": [
    {
     "data": {
      "text/plain": [
       "['2_5332438095415478835(2).pdf',\n",
       " '2_5456401563226474930.pdf',\n",
       " '50 Sample Essays book.pdf',\n",
       " '5_6201625732506976596.pdf',\n",
       " '5_6201625732506976597.pdf',\n",
       " '5_6201625732506976598.pdf',\n",
       " '5_6201625732506976599.pdf',\n",
       " '5_6201625732506976603.pdf',\n",
       " 'Cam 13.pdf',\n",
       " 'Cambridge 14.docx',\n",
       " 'Cambridge 14.pdf',\n",
       " 'Cambridge Practice Tests for IELTS 1.pdf',\n",
       " 'GrammarTask.pdf',\n",
       " 'IELTS Reading Test with ANSWERS.pdf',\n",
       " 'ielts_task_1_writing_descriptors[@cambridgematerials].pdf',\n",
       " 'lecture #16 - Google Docs.pdf',\n",
       " 'lecture #17 - Google Docs.pdf',\n",
       " 'LT-1.php',\n",
       " 'LT-2.php',\n",
       " 'LT-3.php',\n",
       " 'lt-4.php',\n",
       " 'MOST COMMON IDIOMS.pdf',\n",
       " 'reading_practice_1_ielts_academic_answers_0.pdf',\n",
       " 'StudyNotes-Lecture-1.pdf',\n",
       " 'StudyNotes-Lecture-10.pdf',\n",
       " 'StudyNotes-Lecture-13&14.pdf',\n",
       " 'StudyNotes-Lecture-18 pdf.pdf',\n",
       " 'StudyNotes-Lecture-2.pdf',\n",
       " 'StudyNotes-Lecture-21&22.pdf',\n",
       " 'StudyNotes-Lecture-3.pdf',\n",
       " 'StudyNotes-Lecture-5.pdf',\n",
       " 'StudyNotes-Lecture-6&7.pdf',\n",
       " 'StudyNotes-Lecture-8&9.pdf',\n",
       " 'StudyNotes-Lecture11&12.pdf',\n",
       " 'StudyNotes-Lecture19&20.pdf',\n",
       " 'study_notes-lecture_15.pdf',\n",
       " 'Topic Vocabulary for IELTS WRITING TASK 2 .pdf']"
      ]
     },
     "execution_count": 5,
     "metadata": {},
     "output_type": "execute_result"
    }
   ],
   "source": [
    "os.listdir()"
   ]
  },
  {
   "cell_type": "code",
   "execution_count": 17,
   "id": "af60db57",
   "metadata": {},
   "outputs": [
    {
     "name": "stdout",
     "output_type": "stream",
     "text": [
      "{'php', 'pdf', 'docx'} "
     ]
    }
   ],
   "source": [
    "list_extension =set()\n",
    "for f1 in os.listdir():\n",
    "    #print(f1)\n",
    "    extension=f1.split(\".\")[-1]\n",
    "    list_extension.add(extension)\n",
    "print(list_extension,end=\" \")\n",
    "    \n",
    "    \n",
    "    "
   ]
  },
  {
   "cell_type": "code",
   "execution_count": 25,
   "id": "aca5e72f",
   "metadata": {},
   "outputs": [
    {
     "name": "stdout",
     "output_type": "stream",
     "text": [
      "php pdf docx "
     ]
    }
   ],
   "source": [
    "path= os.environ[\"UserProfile\"] + \"\\\\\" +\"Desktop\" +\"\\\\\"+ \"File_Management\"\n",
    "#os.mkdir(path)\n",
    "try:\n",
    "    shutil.rmtree(path)\n",
    "    os.mkdir(path)\n",
    "except:\n",
    "    os.mkdir(path)\n",
    "# transfer the path contents to another folder\n",
    "for ex in list_extension:\n",
    "    print(ex,end=\" \")\n",
    "    os.mkdir(path + \"\\\\\"+ ex)\n",
    "    for f1 in os.listdir():\n",
    "        if ex in f1:\n",
    "            shutil.copy(f1,path+\"\\\\\"+ex)\n",
    "            "
   ]
  },
  {
   "cell_type": "code",
   "execution_count": 12,
   "id": "4b861951",
   "metadata": {},
   "outputs": [
    {
     "data": {
      "text/plain": [
       "'C:\\\\Users\\\\akshaya.srikanth\\\\Documents\\\\ieltsdocs'"
      ]
     },
     "execution_count": 12,
     "metadata": {},
     "output_type": "execute_result"
    }
   ],
   "source": [
    "os.getcwd()"
   ]
  },
  {
   "cell_type": "code",
   "execution_count": 13,
   "id": "fb329d52",
   "metadata": {},
   "outputs": [],
   "source": [
    "import shutil"
   ]
  },
  {
   "cell_type": "code",
   "execution_count": 29,
   "id": "74f7e6a8",
   "metadata": {},
   "outputs": [
    {
     "name": "stdout",
     "output_type": "stream",
     "text": [
      "C:\\Users\\akshaya.srikanth\\Desktop\\File_Management\n"
     ]
    }
   ],
   "source": [
    "print(path)\n",
    "os.getcwd()\n",
    "os.chdir(path)"
   ]
  },
  {
   "cell_type": "code",
   "execution_count": 32,
   "id": "c17aabad",
   "metadata": {},
   "outputs": [
    {
     "name": "stdout",
     "output_type": "stream",
     "text": [
      "0.0\n",
      "12288.0\n",
      "0.0\n"
     ]
    }
   ],
   "source": [
    "for f1 in os.listdir():\n",
    "    print(os.stat(f1).st_size/1024*1024)\n",
    "    "
   ]
  },
  {
   "cell_type": "code",
   "execution_count": 33,
   "id": "7abd4211",
   "metadata": {},
   "outputs": [],
   "source": [
    "import time"
   ]
  },
  {
   "cell_type": "code",
   "execution_count": 35,
   "id": "187c664e",
   "metadata": {},
   "outputs": [
    {
     "name": "stdout",
     "output_type": "stream",
     "text": [
      "File created time Sun Jan  2 13:22:23 2022\n"
     ]
    }
   ],
   "source": [
    "print(\"File created time\",time.ctime(os.stat(f1).st_ctime))"
   ]
  },
  {
   "cell_type": "code",
   "execution_count": 37,
   "id": "dbc24ca5",
   "metadata": {},
   "outputs": [
    {
     "name": "stdout",
     "output_type": "stream",
     "text": [
      "File Modified time Sun Jan  2 13:22:24 2022\n"
     ]
    }
   ],
   "source": [
    "print(\"File Modified time\",time.ctime(os.stat(f1).st_mtime))"
   ]
  },
  {
   "cell_type": "code",
   "execution_count": null,
   "id": "7dfa2fd0",
   "metadata": {},
   "outputs": [],
   "source": []
  }
 ],
 "metadata": {
  "kernelspec": {
   "display_name": "Python 3 (ipykernel)",
   "language": "python",
   "name": "python3"
  },
  "language_info": {
   "codemirror_mode": {
    "name": "ipython",
    "version": 3
   },
   "file_extension": ".py",
   "mimetype": "text/x-python",
   "name": "python",
   "nbconvert_exporter": "python",
   "pygments_lexer": "ipython3",
   "version": "3.10.0"
  }
 },
 "nbformat": 4,
 "nbformat_minor": 5
}
