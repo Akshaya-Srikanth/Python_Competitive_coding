{
 "cells": [
  {
   "cell_type": "code",
   "execution_count": 1,
   "id": "2d2c2f7e",
   "metadata": {},
   "outputs": [],
   "source": [
    "import random\n"
   ]
  },
  {
   "cell_type": "code",
   "execution_count": 2,
   "id": "fc1f8e32",
   "metadata": {},
   "outputs": [
    {
     "name": "stdout",
     "output_type": "stream",
     "text": [
      "**********No of guesses is limited to 5 times******\n",
      "Enter your number: 5\n",
      "You entered lesser number, try giving a greater one\n",
      "4 no of guesses left\n",
      "Enter your number: 8\n",
      "You entered greater number, try giving a smaller one\n",
      "3 no of guesses left\n",
      "Enter your number: 6\n",
      "You entered lesser number, try giving a greater one\n",
      "2 no of guesses left\n",
      "Enter your number: 5\n",
      "You entered lesser number, try giving a greater one\n",
      "1 no of guesses left\n",
      "Enter your number: 7\n",
      "Huraah! You Won!!!\n",
      "5 number of guesses you took to finish\n"
     ]
    }
   ],
   "source": [
    "n=random.randint(1,10)\n",
    "noofguesses=1\n",
    "print(\"**********No of guesses is limited to 5 times******\")\n",
    "while noofguesses<=5 :\n",
    "    guess_number=int(input(\"Enter your number: \"))\n",
    "    if  guess_number<n:\n",
    "        print(\"You entered lesser number, try giving a greater one\")\n",
    "    elif guess_number> n:\n",
    "         print(\"You entered greater number, try giving a smaller one\")\n",
    "    else:\n",
    "        print(\"Huraah! You Won!!!\")\n",
    "        print(noofguesses,\"number of guesses you took to finish\")\n",
    "        break\n",
    "    print(5-noofguesses,\"no of guesses left\")\n",
    "    noofguesses+=1\n",
    "if noofguesses>5:\n",
    "    print(\"GameOver\",\"Better luck next time\")\n",
    "        \n",
    "        "
   ]
  },
  {
   "cell_type": "code",
   "execution_count": null,
   "id": "17e2be08",
   "metadata": {},
   "outputs": [],
   "source": []
  },
  {
   "cell_type": "code",
   "execution_count": null,
   "id": "2053edec",
   "metadata": {},
   "outputs": [],
   "source": []
  }
 ],
 "metadata": {
  "kernelspec": {
   "display_name": "Python 3 (ipykernel)",
   "language": "python",
   "name": "python3"
  },
  "language_info": {
   "codemirror_mode": {
    "name": "ipython",
    "version": 3
   },
   "file_extension": ".py",
   "mimetype": "text/x-python",
   "name": "python",
   "nbconvert_exporter": "python",
   "pygments_lexer": "ipython3",
   "version": "3.10.0"
  }
 },
 "nbformat": 4,
 "nbformat_minor": 5
}
