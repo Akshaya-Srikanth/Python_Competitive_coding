{
 "cells": [
  {
   "cell_type": "markdown",
   "id": "6b3a64e1",
   "metadata": {},
   "source": [
    "1.) Print numbers divisible by 7 and not by 5 btw 2000 and 3200(both included) and print comma sep values of the sequence"
   ]
  },
  {
   "cell_type": "code",
   "execution_count": 4,
   "id": "158692b3",
   "metadata": {},
   "outputs": [
    {
     "name": "stdout",
     "output_type": "stream",
     "text": [
      "2002,2009,2016,2023,2037,2044,2051,2058,2072,2079,2086,2093,2107,2114,2121,2128,2142,2149,2156,2163,2177,2184,2191,2198,2212,2219,2226,2233,2247,2254,2261,2268,2282,2289,2296,2303,2317,2324,2331,2338,2352,2359,2366,2373,2387,2394,2401,2408,2422,2429,2436,2443,2457,2464,2471,2478,2492,2499,2506,2513,2527,2534,2541,2548,2562,2569,2576,2583,2597,2604,2611,2618,2632,2639,2646,2653,2667,2674,2681,2688,2702,2709,2716,2723,2737,2744,2751,2758,2772,2779,2786,2793,2807,2814,2821,2828,2842,2849,2856,2863,2877,2884,2891,2898,2912,2919,2926,2933,2947,2954,2961,2968,2982,2989,2996,3003,3017,3024,3031,3038,3052,3059,3066,3073,3087,3094,3101,3108,3122,3129,3136,3143,3157,3164,3171,3178,3192,3199,"
     ]
    }
   ],
   "source": [
    "\n",
    "for i in range(2000,3201):\n",
    "    if i%5 !=0:\n",
    "        if i%7==0 :\n",
    "            print(i,end=\",\")\n",
    "    else:\n",
    "        continue"
   ]
  },
  {
   "cell_type": "code",
   "execution_count": 12,
   "id": "3578f611",
   "metadata": {},
   "outputs": [
    {
     "name": "stdout",
     "output_type": "stream",
     "text": [
      "[2002, 2009, 2016, 2023, 2037, 2044, 2051, 2058, 2072, 2079, 2086, 2093, 2107, 2114, 2121, 2128, 2142, 2149, 2156, 2163, 2177, 2184, 2191, 2198, 2212, 2219, 2226, 2233, 2247, 2254, 2261, 2268, 2282, 2289, 2296, 2303, 2317, 2324, 2331, 2338, 2352, 2359, 2366, 2373, 2387, 2394, 2401, 2408, 2422, 2429, 2436, 2443, 2457, 2464, 2471, 2478, 2492, 2499, 2506, 2513, 2527, 2534, 2541, 2548, 2562, 2569, 2576, 2583, 2597, 2604, 2611, 2618, 2632, 2639, 2646, 2653, 2667, 2674, 2681, 2688, 2702, 2709, 2716, 2723, 2737, 2744, 2751, 2758, 2772, 2779, 2786, 2793, 2807, 2814, 2821, 2828, 2842, 2849, 2856, 2863, 2877, 2884, 2891, 2898, 2912, 2919, 2926, 2933, 2947, 2954, 2961, 2968, 2982, 2989, 2996, 3003, 3017, 3024, 3031, 3038, 3052, 3059, 3066, 3073, 3087, 3094, 3101, 3108, 3122, 3129, 3136, 3143, 3157, 3164, 3171, 3178, 3192, 3199]\n"
     ]
    }
   ],
   "source": [
    "print([ i for i in range(2000,3201) if i%7==0 and i%5 !=0])"
   ]
  },
  {
   "cell_type": "markdown",
   "id": "d7c5d89c",
   "metadata": {},
   "source": [
    "2.)Factorial of a number"
   ]
  },
  {
   "cell_type": "code",
   "execution_count": 13,
   "id": "f22f0d2a",
   "metadata": {},
   "outputs": [],
   "source": [
    "def fact(n):\n",
    "    if n==1:\n",
    "        return 1\n",
    "    return n*fact(n-1)"
   ]
  },
  {
   "cell_type": "code",
   "execution_count": 14,
   "id": "324c669d",
   "metadata": {},
   "outputs": [
    {
     "name": "stdout",
     "output_type": "stream",
     "text": [
      "5\n",
      "120\n"
     ]
    }
   ],
   "source": [
    "m=int(input())\n",
    "print(fact(m))"
   ]
  },
  {
   "cell_type": "code",
   "execution_count": 19,
   "id": "c17c27e0",
   "metadata": {},
   "outputs": [
    {
     "name": "stdout",
     "output_type": "stream",
     "text": [
      "6\n",
      "Current val of x 6\n",
      "Current val of x 5\n",
      "Current val of x 4\n",
      "Current val of x 3\n",
      "Current val of x 2\n",
      "Current val of x 1\n",
      "Factorial of 6 is 720\n"
     ]
    }
   ],
   "source": [
    "#Another Approach\n",
    "m=int(input())\n",
    "f=1\n",
    "for x in range(m,0,-1):\n",
    "    f*=x\n",
    "    print(\"Current val of x\",x)\n",
    "print(\"Factorial of %d is %d\"%(m,f))\n",
    "    "
   ]
  },
  {
   "cell_type": "markdown",
   "id": "68b40d0b",
   "metadata": {},
   "source": [
    "### Create a dictionary with key as the number and value as its square.The elements should be between 1 to n (both included)."
   ]
  },
  {
   "cell_type": "code",
   "execution_count": 20,
   "id": "69f61282",
   "metadata": {},
   "outputs": [
    {
     "name": "stdout",
     "output_type": "stream",
     "text": [
      "5\n",
      "{1: 1, 2: 4, 3: 9, 4: 16, 5: 25}\n"
     ]
    }
   ],
   "source": [
    "\n",
    "n=int(input())\n",
    "print({ i:i*i for i in range(1,n+1)})"
   ]
  },
  {
   "cell_type": "code",
   "execution_count": 29,
   "id": "a7c52844",
   "metadata": {},
   "outputs": [
    {
     "name": "stdout",
     "output_type": "stream",
     "text": [
      "1,22,33,44,55,665\n",
      "[1, 22, 33, 44, 55, 665]\n",
      "(1, 22, 33, 44, 55, 665)\n"
     ]
    }
   ],
   "source": [
    "#WAP that accepts comma sep values from the input console and generates a list and a tuple out of it\n",
    "x=input().split(\",\")\n",
    "print(list(map(int,x)))\n",
    "print(tuple( map(int,x)))"
   ]
  },
  {
   "cell_type": "code",
   "execution_count": 32,
   "id": "0595d153",
   "metadata": {},
   "outputs": [],
   "source": [
    "## Define a Class to get the I/P string read from the console and O/P print string in Title case"
   ]
  },
  {
   "cell_type": "code",
   "execution_count": 36,
   "id": "0f15ef03",
   "metadata": {},
   "outputs": [
    {
     "name": "stdout",
     "output_type": "stream",
     "text": [
      "Enter the string to read: dDFGHJKLDWG6RYFHWBNM\n",
      "Printing string in title case Ddfghjkldwg6Ryfhwbnm\n"
     ]
    }
   ],
   "source": [
    "class InOutString(object):\n",
    "    def __init__(self):\n",
    "        self.s=\"\"\n",
    "    def getString(self):\n",
    "        self.s=input(\"Enter the string to read: \")    \n",
    "    def printString(self):\n",
    "        print(\"Printing string in title case\",self.s.title())\n",
    "if __name__== \"__main__\":\n",
    "    x=InOutString()\n",
    "    x.getString()\n",
    "    x.printString()\n",
    "\n",
    "    \n",
    "    "
   ]
  },
  {
   "cell_type": "code",
   "execution_count": null,
   "id": "a8083f54",
   "metadata": {},
   "outputs": [],
   "source": []
  }
 ],
 "metadata": {
  "kernelspec": {
   "display_name": "Python 3 (ipykernel)",
   "language": "python",
   "name": "python3"
  },
  "language_info": {
   "codemirror_mode": {
    "name": "ipython",
    "version": 3
   },
   "file_extension": ".py",
   "mimetype": "text/x-python",
   "name": "python",
   "nbconvert_exporter": "python",
   "pygments_lexer": "ipython3",
   "version": "3.10.0"
  }
 },
 "nbformat": 4,
 "nbformat_minor": 5
}
