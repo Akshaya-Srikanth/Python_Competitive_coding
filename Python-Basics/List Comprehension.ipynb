{
 "cells": [
  {
   "cell_type": "code",
   "execution_count": 2,
   "id": "f900990c",
   "metadata": {},
   "outputs": [
    {
     "data": {
      "text/plain": [
       "[1, 2, 3, 4, 5, 6, 7, 8, 9, 10]"
      ]
     },
     "execution_count": 2,
     "metadata": {},
     "output_type": "execute_result"
    }
   ],
   "source": [
    "[i for i in range(1,11)]\n"
   ]
  },
  {
   "cell_type": "code",
   "execution_count": 6,
   "id": "7e2da239",
   "metadata": {},
   "outputs": [],
   "source": [
    "gen= (i for i in range(1,11) )"
   ]
  },
  {
   "cell_type": "code",
   "execution_count": 4,
   "id": "f54144d0",
   "metadata": {},
   "outputs": [
    {
     "name": "stdout",
     "output_type": "stream",
     "text": [
      "1 2 3 4 5 6 7 8 9 10 "
     ]
    }
   ],
   "source": [
    "for j in gen:\n",
    "    print(j,end=\" \")"
   ]
  },
  {
   "cell_type": "code",
   "execution_count": 17,
   "id": "9079a4e1",
   "metadata": {},
   "outputs": [
    {
     "ename": "StopIteration",
     "evalue": "",
     "output_type": "error",
     "traceback": [
      "\u001b[1;31m---------------------------------------------------------------------------\u001b[0m",
      "\u001b[1;31mStopIteration\u001b[0m                             Traceback (most recent call last)",
      "\u001b[1;32mC:\\Users\\AKSHAY~1.SRI\\AppData\\Local\\Temp/ipykernel_16312/4293081279.py\u001b[0m in \u001b[0;36m<module>\u001b[1;34m\u001b[0m\n\u001b[1;32m----> 1\u001b[1;33m \u001b[0mnext\u001b[0m\u001b[1;33m(\u001b[0m\u001b[0mgen\u001b[0m\u001b[1;33m)\u001b[0m\u001b[1;33m\u001b[0m\u001b[1;33m\u001b[0m\u001b[0m\n\u001b[0m",
      "\u001b[1;31mStopIteration\u001b[0m: "
     ]
    }
   ],
   "source": [
    "next(gen)"
   ]
  },
  {
   "cell_type": "code",
   "execution_count": null,
   "id": "32593569",
   "metadata": {},
   "outputs": [],
   "source": [
    "## To get even or odd num"
   ]
  },
  {
   "cell_type": "code",
   "execution_count": 19,
   "id": "3193721e",
   "metadata": {},
   "outputs": [
    {
     "name": "stdout",
     "output_type": "stream",
     "text": [
      "even [2, 4, 6, 8, 10, 12, 14, 16, 18]\n"
     ]
    }
   ],
   "source": [
    "print(\"even\" ,[ num for num in range(2,20) if num%2==0])"
   ]
  },
  {
   "cell_type": "code",
   "execution_count": 20,
   "id": "8462c741",
   "metadata": {},
   "outputs": [
    {
     "name": "stdout",
     "output_type": "stream",
     "text": [
      "odd [3, 5, 7, 9, 11, 13, 15, 17, 19]\n"
     ]
    }
   ],
   "source": [
    "print(\"odd\" ,[ num for num in range(2,20) if num%2!=0])"
   ]
  },
  {
   "cell_type": "code",
   "execution_count": 24,
   "id": "04deb894",
   "metadata": {},
   "outputs": [
    {
     "data": {
      "text/plain": [
       "[9, 18, 27, 36, 45, 54, 63, 72, 81, 90, 99]"
      ]
     },
     "execution_count": 24,
     "metadata": {},
     "output_type": "execute_result"
    }
   ],
   "source": [
    "#numbers divisible by 3 and 9\n",
    "[num for num in range(1,100) if num % 3==0 and num%9 ==0]"
   ]
  },
  {
   "cell_type": "code",
   "execution_count": 28,
   "id": "28dea922",
   "metadata": {},
   "outputs": [
    {
     "name": "stdout",
     "output_type": "stream",
     "text": [
      "[[15, 30, 45, 60, 75, 90, 105, 120, 135, 150], [16, 32, 48, 64, 80, 96, 112, 128, 144, 160], [17, 34, 51, 68, 85, 102, 119, 136, 153, 170], [18, 36, 54, 72, 90, 108, 126, 144, 162, 180], [19, 38, 57, 76, 95, 114, 133, 152, 171, 190], [20, 40, 60, 80, 100, 120, 140, 160, 180, 200]]\n"
     ]
    }
   ],
   "source": [
    "#Multiplication table of a number\n",
    "\n",
    "print([[ i*j for j in range(1,11)] for i in range(15,21)])"
   ]
  },
  {
   "cell_type": "code",
   "execution_count": 29,
   "id": "5b9b5f1c",
   "metadata": {},
   "outputs": [],
   "source": [
    "##flatten list\n",
    "\n",
    "lst=[[1,2,3],[4,5],[6,7],[8,9,10]]\n",
    "FlatList=[]\n",
    "for pair in lst:\n",
    "    for x in pair:\n",
    "        FlatList.append(x)"
   ]
  },
  {
   "cell_type": "code",
   "execution_count": 30,
   "id": "5d13debe",
   "metadata": {},
   "outputs": [
    {
     "data": {
      "text/plain": [
       "[1, 2, 3, 4, 5, 6, 7, 8, 9, 10]"
      ]
     },
     "execution_count": 30,
     "metadata": {},
     "output_type": "execute_result"
    }
   ],
   "source": [
    "FlatList"
   ]
  },
  {
   "cell_type": "code",
   "execution_count": 31,
   "id": "f65872a6",
   "metadata": {},
   "outputs": [
    {
     "data": {
      "text/plain": [
       "[1, 2, 3, 4, 5, 6, 7, 8, 9, 10]"
      ]
     },
     "execution_count": 31,
     "metadata": {},
     "output_type": "execute_result"
    }
   ],
   "source": [
    "[x for pair in lst for x in pair]"
   ]
  },
  {
   "cell_type": "code",
   "execution_count": 32,
   "id": "b2964cc1",
   "metadata": {},
   "outputs": [
    {
     "name": "stdout",
     "output_type": "stream",
     "text": [
      "[1, 2, 3, 4, 5, 6, 7, 8, 9, 10]\n"
     ]
    }
   ],
   "source": [
    "#Another method\n",
    "print(sum(lst,[]))"
   ]
  },
  {
   "cell_type": "code",
   "execution_count": 34,
   "id": "1a6e9cea",
   "metadata": {},
   "outputs": [
    {
     "data": {
      "text/plain": [
       "[1, 2, 3, 4, 5, 6, 7, 8, 9, 10]"
      ]
     },
     "execution_count": 34,
     "metadata": {},
     "output_type": "execute_result"
    }
   ],
   "source": [
    "lst[0]+lst[1]+lst[2]+lst[3]"
   ]
  },
  {
   "cell_type": "code",
   "execution_count": 41,
   "id": "02e37c5c",
   "metadata": {},
   "outputs": [],
   "source": [
    "matrix=[[1,2],[4,5],[6,7],[8,9]]"
   ]
  },
  {
   "cell_type": "code",
   "execution_count": 43,
   "id": "ad30e9a6",
   "metadata": {},
   "outputs": [
    {
     "data": {
      "text/plain": [
       "[[1, 4, 6, 8], [2, 5, 7, 9]]"
      ]
     },
     "execution_count": 43,
     "metadata": {},
     "output_type": "execute_result"
    }
   ],
   "source": [
    "[[ pair[i] for pair in matrix ] for i in range(2)]"
   ]
  },
  {
   "cell_type": "code",
   "execution_count": 44,
   "id": "98a00d44",
   "metadata": {},
   "outputs": [],
   "source": [
    "users=[\"A\",\"B\",\"C\",\"D\"]"
   ]
  },
  {
   "cell_type": "code",
   "execution_count": 45,
   "id": "093692fb",
   "metadata": {},
   "outputs": [],
   "source": [
    "# to get distinct pairs\n",
    "pairs= [(x,y) for x in users for y in users if x!=y]"
   ]
  },
  {
   "cell_type": "code",
   "execution_count": 47,
   "id": "52931ef5",
   "metadata": {},
   "outputs": [
    {
     "name": "stdout",
     "output_type": "stream",
     "text": [
      "[('A', 'B'), ('A', 'C'), ('A', 'D'), ('B', 'A'), ('B', 'C'), ('B', 'D'), ('C', 'A'), ('C', 'B'), ('C', 'D'), ('D', 'A'), ('D', 'B'), ('D', 'C')]\n"
     ]
    }
   ],
   "source": [
    "print(pairs)"
   ]
  },
  {
   "cell_type": "code",
   "execution_count": 48,
   "id": "4bdc116c",
   "metadata": {},
   "outputs": [
    {
     "name": "stdout",
     "output_type": "stream",
     "text": [
      "[['A', 'B'], ['A', 'C'], ['A', 'D'], ['B', 'A'], ['B', 'C'], ['B', 'D'], ['C', 'A'], ['C', 'B'], ['C', 'D'], ['D', 'A'], ['D', 'B'], ['D', 'C']]\n"
     ]
    }
   ],
   "source": [
    "print([[x,y] for x in users for y in users if x!=y])"
   ]
  },
  {
   "cell_type": "code",
   "execution_count": 56,
   "id": "07c4c8b8",
   "metadata": {},
   "outputs": [],
   "source": [
    "para= '''Artificial intelligence (AI) is intelligence demonstrated by machines, as opposed to natural intelligence displayed by animals including humans. Leading AI textbooks define the field as the study of \"intelligent agents\": any system that perceives its environment and takes actions that maximize its chance of achieving its goals.[a] Some popular accounts use the term \"artificial intelligence\" to describe machines that mimic \"cognitive\" functions that humans associate with the human mind, such as \"learning\" and \"problem solving\", however, this definition is rejected by major AI researchers'''"
   ]
  },
  {
   "cell_type": "code",
   "execution_count": 58,
   "id": "417e5420",
   "metadata": {},
   "outputs": [
    {
     "name": "stdout",
     "output_type": "stream",
     "text": [
      "['Artificial', 'intelligence', 'intelligence', 'demonstrated', 'machines,', 'opposed', 'natural', 'intelligence', 'displayed', 'animals', 'including', 'humans.', 'Leading', 'textbooks', '\"intelligent', 'agents\":', 'perceives', 'environment', 'actions', 'maximize', 'achieving', 'goals.[a]', 'popular', 'accounts', '\"artificial', 'intelligence\"', 'describe', 'machines', '\"cognitive\"', 'functions', 'associate', '\"learning\"', '\"problem', 'solving\",', 'however,', 'definition', 'rejected', 'researchers']\n"
     ]
    }
   ],
   "source": [
    "print([word for word in para.split() if len(word)>6])"
   ]
  },
  {
   "cell_type": "code",
   "execution_count": 59,
   "id": "b81f972b",
   "metadata": {},
   "outputs": [
    {
     "name": "stdout",
     "output_type": "stream",
     "text": [
      "2 3 5 7 11 13 17 19 23 29 31 37 41 43 47 "
     ]
    }
   ],
   "source": [
    "#prime number logic\n",
    "for i in range(2,50):\n",
    "    for j in range(2,i):\n",
    "        if (i%j==0):\n",
    "            break\n",
    "    else:\n",
    "        print(i,end=\" \")"
   ]
  },
  {
   "cell_type": "code",
   "execution_count": 63,
   "id": "f3233cd7",
   "metadata": {},
   "outputs": [
    {
     "name": "stdout",
     "output_type": "stream",
     "text": [
      "[2, 3, 5, 7, 11, 13, 17, 19, 23, 29, 31, 37, 41, 43, 47]\n"
     ]
    }
   ],
   "source": [
    "#Using list comp\n",
    "print([i for i in range(2,50) if  all(i%j !=0 for j in range(2,i)) ])"
   ]
  },
  {
   "cell_type": "markdown",
   "id": "9052d7a1",
   "metadata": {},
   "source": [
    "## Dictionary Comprehension"
   ]
  },
  {
   "cell_type": "code",
   "execution_count": 64,
   "id": "7a8feb2c",
   "metadata": {},
   "outputs": [],
   "source": [
    "Country=[\"India\",\"US\",\"NZ\"]\n",
    "PM= [\"Modi\",\"JOe\",\"Jacinda\"]"
   ]
  },
  {
   "cell_type": "code",
   "execution_count": 65,
   "id": "bc5efd5a",
   "metadata": {},
   "outputs": [],
   "source": [
    "d={country:PM for country,PM in zip(Country,PM) }"
   ]
  },
  {
   "cell_type": "code",
   "execution_count": 66,
   "id": "112bb41d",
   "metadata": {},
   "outputs": [
    {
     "data": {
      "text/plain": [
       "{'India': 'Modi', 'US': 'JOe', 'NZ': 'Jacinda'}"
      ]
     },
     "execution_count": 66,
     "metadata": {},
     "output_type": "execute_result"
    }
   ],
   "source": [
    "d"
   ]
  },
  {
   "cell_type": "code",
   "execution_count": 67,
   "id": "de774684",
   "metadata": {},
   "outputs": [],
   "source": [
    "import random,string"
   ]
  },
  {
   "cell_type": "code",
   "execution_count": 68,
   "id": "7d7e9d6b",
   "metadata": {},
   "outputs": [
    {
     "data": {
      "text/plain": [
       "'0123456789abcdefghijklmnopqrstuvwxyzABCDEFGHIJKLMNOPQRSTUVWXYZ!\"#$%&\\'()*+,-./:;<=>?@[\\\\]^_`{|}~ \\t\\n\\r\\x0b\\x0c'"
      ]
     },
     "execution_count": 68,
     "metadata": {},
     "output_type": "execute_result"
    }
   ],
   "source": [
    "string.printable"
   ]
  },
  {
   "cell_type": "code",
   "execution_count": 72,
   "id": "f75bc904",
   "metadata": {},
   "outputs": [
    {
     "data": {
      "text/plain": [
       "['3<)4.@>z^t)|',\n",
       " 'D~7MsNR3,*Nw',\n",
       " 'lWEyEU+#66jc',\n",
       " \"c*[;R>\\rq)*'s\",\n",
       " 'p3f~|<=Ham]H']"
      ]
     },
     "execution_count": 72,
     "metadata": {},
     "output_type": "execute_result"
    }
   ],
   "source": [
    "#generate password with list comp\n",
    "\n",
    "[\"\".join(random.choice(string.printable) for  x in range(8,20)) for i in range(5)]"
   ]
  },
  {
   "cell_type": "code",
   "execution_count": null,
   "id": "294355ac",
   "metadata": {},
   "outputs": [],
   "source": []
  },
  {
   "cell_type": "code",
   "execution_count": null,
   "id": "3b458527",
   "metadata": {},
   "outputs": [],
   "source": []
  }
 ],
 "metadata": {
  "kernelspec": {
   "display_name": "Python 3 (ipykernel)",
   "language": "python",
   "name": "python3"
  },
  "language_info": {
   "codemirror_mode": {
    "name": "ipython",
    "version": 3
   },
   "file_extension": ".py",
   "mimetype": "text/x-python",
   "name": "python",
   "nbconvert_exporter": "python",
   "pygments_lexer": "ipython3",
   "version": "3.10.0"
  }
 },
 "nbformat": 4,
 "nbformat_minor": 5
}
