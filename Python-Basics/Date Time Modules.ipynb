{
 "cells": [
  {
   "cell_type": "code",
   "execution_count": 1,
   "id": "7485ce4a",
   "metadata": {},
   "outputs": [],
   "source": [
    "import datetime"
   ]
  },
  {
   "cell_type": "code",
   "execution_count": 2,
   "id": "8f4397a5",
   "metadata": {},
   "outputs": [
    {
     "name": "stdout",
     "output_type": "stream",
     "text": [
      "['MAXYEAR', 'MINYEAR', 'date', 'datetime', 'sys', 'time', 'timedelta', 'timezone', 'tzinfo']\n"
     ]
    }
   ],
   "source": [
    "print([i for i in dir(datetime) if \"_\" not in i])"
   ]
  },
  {
   "cell_type": "code",
   "execution_count": 5,
   "id": "776fea43",
   "metadata": {},
   "outputs": [],
   "source": [
    "currentDateTime = datetime.datetime.now()"
   ]
  },
  {
   "cell_type": "code",
   "execution_count": 6,
   "id": "f646ed7c",
   "metadata": {},
   "outputs": [
    {
     "name": "stdout",
     "output_type": "stream",
     "text": [
      "2021-12-30 10:14:00.480081\n"
     ]
    }
   ],
   "source": [
    "print(currentDateTime)"
   ]
  },
  {
   "cell_type": "code",
   "execution_count": 15,
   "id": "e9370003",
   "metadata": {},
   "outputs": [
    {
     "name": "stdout",
     "output_type": "stream",
     "text": [
      "2021\n",
      "12\n",
      "30\n",
      "3\n",
      "2021-12-30\n",
      "10:14:00.480081\n"
     ]
    }
   ],
   "source": [
    "print(currentDateTime.year)\n",
    "print(currentDateTime.month)\n",
    "print(currentDateTime.day)\n",
    "print(currentDateTime.weekday())\n",
    "print(currentDateTime.date())\n",
    "print(currentDateTime.time())"
   ]
  },
  {
   "cell_type": "code",
   "execution_count": 10,
   "id": "316d2ba1",
   "metadata": {},
   "outputs": [
    {
     "name": "stdout",
     "output_type": "stream",
     "text": [
      "10\n",
      "14\n",
      "480081\n",
      "0\n"
     ]
    }
   ],
   "source": [
    "print(currentDateTime.hour)\n",
    "print(currentDateTime.minute)\n",
    "print(currentDateTime.microsecond)\n",
    "print(currentDateTime.second)"
   ]
  },
  {
   "cell_type": "code",
   "execution_count": 11,
   "id": "788b637c",
   "metadata": {},
   "outputs": [
    {
     "name": "stdout",
     "output_type": "stream",
     "text": [
      "Thu Dec 30 10:14:00 2021\n"
     ]
    }
   ],
   "source": [
    "print(currentDateTime.ctime())"
   ]
  },
  {
   "cell_type": "code",
   "execution_count": 12,
   "id": "c7bd45d9",
   "metadata": {},
   "outputs": [
    {
     "name": "stdout",
     "output_type": "stream",
     "text": [
      "2021-12-30 10:16:40.210825\n"
     ]
    }
   ],
   "source": [
    "print(currentDateTime.today())"
   ]
  },
  {
   "cell_type": "code",
   "execution_count": 13,
   "id": "1f565a61",
   "metadata": {},
   "outputs": [
    {
     "name": "stdout",
     "output_type": "stream",
     "text": [
      "2021-12-30 10:16:48.304027\n"
     ]
    }
   ],
   "source": [
    "print(currentDateTime.now())"
   ]
  },
  {
   "cell_type": "code",
   "execution_count": 14,
   "id": "b2eee8a5",
   "metadata": {},
   "outputs": [
    {
     "name": "stdout",
     "output_type": "stream",
     "text": [
      "time.struct_time(tm_year=2021, tm_mon=12, tm_mday=30, tm_hour=10, tm_min=14, tm_sec=0, tm_wday=3, tm_yday=364, tm_isdst=-1)\n"
     ]
    }
   ],
   "source": [
    "print(currentDateTime.timetuple())"
   ]
  },
  {
   "cell_type": "markdown",
   "id": "bfa3769d",
   "metadata": {},
   "source": [
    "## tm_isdst (0,1,-1) -- Day light savings flag\n",
    "tm_isdst =1 : day light savings in effect\n",
    "\n",
    "tm_isdst =0 :day light savings  not in effect\n",
    "\n",
    "tm_isdst =-1 : NO info available"
   ]
  },
  {
   "cell_type": "code",
   "execution_count": 19,
   "id": "db6d9a2e",
   "metadata": {},
   "outputs": [
    {
     "name": "stdout",
     "output_type": "stream",
     "text": [
      "2020-12-25\n"
     ]
    }
   ],
   "source": [
    "dt=datetime.date(2020,12,25)\n",
    "print(dt)"
   ]
  },
  {
   "cell_type": "code",
   "execution_count": 20,
   "id": "554a8f5d",
   "metadata": {},
   "outputs": [
    {
     "name": "stdout",
     "output_type": "stream",
     "text": [
      "25 12 2020\n"
     ]
    }
   ],
   "source": [
    "print(dt.day,dt.month,dt.year)"
   ]
  },
  {
   "cell_type": "code",
   "execution_count": 21,
   "id": "470ac7f3",
   "metadata": {},
   "outputs": [
    {
     "data": {
      "text/plain": [
       "4"
      ]
     },
     "execution_count": 21,
     "metadata": {},
     "output_type": "execute_result"
    }
   ],
   "source": [
    "dt.weekday() #Monday >>0 and Sunday>> 6"
   ]
  },
  {
   "cell_type": "code",
   "execution_count": 24,
   "id": "070069e8",
   "metadata": {},
   "outputs": [
    {
     "data": {
      "text/plain": [
       "5"
      ]
     },
     "execution_count": 24,
     "metadata": {},
     "output_type": "execute_result"
    }
   ],
   "source": [
    "dt.isoweekday() #Monday >>1 and Sunday>> 7"
   ]
  },
  {
   "cell_type": "markdown",
   "id": "778b0b10",
   "metadata": {},
   "source": [
    "### Handling date and time with strptime() and strftime()"
   ]
  },
  {
   "cell_type": "code",
   "execution_count": 26,
   "id": "9ccb4251",
   "metadata": {},
   "outputs": [],
   "source": [
    "import time"
   ]
  },
  {
   "cell_type": "code",
   "execution_count": 27,
   "id": "51bb9485",
   "metadata": {},
   "outputs": [
    {
     "name": "stdout",
     "output_type": "stream",
     "text": [
      "['_STRUCT_TM_ITEMS', '__doc__', '__loader__', '__name__', '__package__', '__spec__', 'altzone', 'asctime', 'ctime', 'daylight', 'get_clock_info', 'gmtime', 'localtime', 'mktime', 'monotonic', 'monotonic_ns', 'perf_counter', 'perf_counter_ns', 'process_time', 'process_time_ns', 'sleep', 'strftime', 'strptime', 'struct_time', 'thread_time', 'thread_time_ns', 'time', 'time_ns', 'timezone', 'tzname']\n"
     ]
    }
   ],
   "source": [
    "print(dir(time))"
   ]
  },
  {
   "cell_type": "code",
   "execution_count": 34,
   "id": "f651d1f4",
   "metadata": {},
   "outputs": [],
   "source": [
    "myDateString=\"2021-12-30\""
   ]
  },
  {
   "cell_type": "code",
   "execution_count": 35,
   "id": "378d051e",
   "metadata": {},
   "outputs": [
    {
     "data": {
      "text/plain": [
       "str"
      ]
     },
     "execution_count": 35,
     "metadata": {},
     "output_type": "execute_result"
    }
   ],
   "source": [
    "type(myDateString)"
   ]
  },
  {
   "cell_type": "code",
   "execution_count": 36,
   "id": "68a5f16d",
   "metadata": {},
   "outputs": [],
   "source": [
    "datetimeobj=datetime.datetime.strptime(myDateString,\"%Y-%m-%d\")"
   ]
  },
  {
   "cell_type": "code",
   "execution_count": 42,
   "id": "80581b11",
   "metadata": {},
   "outputs": [
    {
     "name": "stdout",
     "output_type": "stream",
     "text": [
      "2021-12-30 00:00:00\n",
      "3\n"
     ]
    }
   ],
   "source": [
    "print(datetimeobj)\n",
    "print(datetimeobj.weekday())"
   ]
  },
  {
   "cell_type": "markdown",
   "id": "7c59d117",
   "metadata": {},
   "source": [
    "https://strftime.org"
   ]
  },
  {
   "cell_type": "code",
   "execution_count": 39,
   "id": "185e1237",
   "metadata": {},
   "outputs": [
    {
     "name": "stdout",
     "output_type": "stream",
     "text": [
      "2018-12-30 00:00:00\n"
     ]
    }
   ],
   "source": [
    "t = datetime.datetime.strptime(\"30 Dec 18\",\"%d %b %y\")\n",
    "print(t)"
   ]
  },
  {
   "cell_type": "code",
   "execution_count": 40,
   "id": "9bb58158",
   "metadata": {},
   "outputs": [],
   "source": [
    "import calendar"
   ]
  },
  {
   "cell_type": "code",
   "execution_count": 41,
   "id": "5c3f0b91",
   "metadata": {},
   "outputs": [
    {
     "data": {
      "text/plain": [
       "'Thursday'"
      ]
     },
     "execution_count": 41,
     "metadata": {},
     "output_type": "execute_result"
    }
   ],
   "source": [
    "calendar.day_name[datetimeobj.weekday()]"
   ]
  },
  {
   "cell_type": "code",
   "execution_count": 43,
   "id": "d09f584d",
   "metadata": {},
   "outputs": [],
   "source": [
    "tm=datetime.datetime.now()"
   ]
  },
  {
   "cell_type": "code",
   "execution_count": 44,
   "id": "9d0923e4",
   "metadata": {
    "scrolled": true
   },
   "outputs": [
    {
     "name": "stdout",
     "output_type": "stream",
     "text": [
      "2021-12-30 11:35:37.096270\n"
     ]
    }
   ],
   "source": [
    "print(tm)"
   ]
  },
  {
   "cell_type": "code",
   "execution_count": 47,
   "id": "dc2c2ed1",
   "metadata": {},
   "outputs": [
    {
     "name": "stdout",
     "output_type": "stream",
     "text": [
      "Hours: 11 Minutes 35 seconds: 37 miceo secs: 96270\n"
     ]
    }
   ],
   "source": [
    "print(\"Hours:\",tm.hour,\"Minutes\",tm.minute,\"seconds:\",tm.second,\"miceo secs:\",tm.microsecond)"
   ]
  },
  {
   "cell_type": "code",
   "execution_count": 48,
   "id": "707b1307",
   "metadata": {},
   "outputs": [
    {
     "data": {
      "text/plain": [
       "datetime.date"
      ]
     },
     "execution_count": 48,
     "metadata": {},
     "output_type": "execute_result"
    }
   ],
   "source": [
    "type(dt)"
   ]
  },
  {
   "cell_type": "code",
   "execution_count": 49,
   "id": "61be4da4",
   "metadata": {},
   "outputs": [],
   "source": [
    "import datetime\n",
    "from datetime import timedelta"
   ]
  },
  {
   "cell_type": "code",
   "execution_count": 50,
   "id": "e423f138",
   "metadata": {},
   "outputs": [],
   "source": [
    "t1= timedelta(weeks=2,days=5,hours=11,minutes =8,seconds=33)"
   ]
  },
  {
   "cell_type": "code",
   "execution_count": 51,
   "id": "7eb044c2",
   "metadata": {},
   "outputs": [
    {
     "name": "stdout",
     "output_type": "stream",
     "text": [
      "19 days, 11:08:33\n"
     ]
    }
   ],
   "source": [
    "print(t1)"
   ]
  },
  {
   "cell_type": "code",
   "execution_count": 52,
   "id": "3d3be0d9",
   "metadata": {},
   "outputs": [],
   "source": [
    "t2= timedelta(days=5,hours=10,minutes =84,seconds=33)"
   ]
  },
  {
   "cell_type": "code",
   "execution_count": 53,
   "id": "df952684",
   "metadata": {},
   "outputs": [
    {
     "name": "stdout",
     "output_type": "stream",
     "text": [
      "5 days, 11:24:33\n"
     ]
    }
   ],
   "source": [
    "print(t2)"
   ]
  },
  {
   "cell_type": "code",
   "execution_count": 54,
   "id": "946220aa",
   "metadata": {},
   "outputs": [
    {
     "name": "stdout",
     "output_type": "stream",
     "text": [
      "24 days, 22:33:06\n",
      "13 days, 23:44:00\n"
     ]
    }
   ],
   "source": [
    "print(t1+t2)\n",
    "print(t1-t2)"
   ]
  },
  {
   "cell_type": "code",
   "execution_count": 56,
   "id": "93351259",
   "metadata": {},
   "outputs": [
    {
     "name": "stdout",
     "output_type": "stream",
     "text": [
      "2021-12-30 11:48:39.184085\n"
     ]
    }
   ],
   "source": [
    "print(datetime.datetime.today())"
   ]
  },
  {
   "cell_type": "code",
   "execution_count": 58,
   "id": "d0ffedfd",
   "metadata": {},
   "outputs": [
    {
     "name": "stdout",
     "output_type": "stream",
     "text": [
      "2021-12-30\n"
     ]
    }
   ],
   "source": [
    "print(datetime.date.today())"
   ]
  },
  {
   "cell_type": "code",
   "execution_count": 59,
   "id": "ed5bddac",
   "metadata": {},
   "outputs": [],
   "source": [
    "Republicday=datetime.date(1990,1,26)"
   ]
  },
  {
   "cell_type": "code",
   "execution_count": 60,
   "id": "f378b237",
   "metadata": {},
   "outputs": [
    {
     "name": "stdout",
     "output_type": "stream",
     "text": [
      "1990-01-26\n"
     ]
    }
   ],
   "source": [
    "print(Republicday)"
   ]
  },
  {
   "cell_type": "code",
   "execution_count": 61,
   "id": "51edbfac",
   "metadata": {},
   "outputs": [
    {
     "name": "stdout",
     "output_type": "stream",
     "text": [
      "11661 days, 0:00:00\n"
     ]
    }
   ],
   "source": [
    "print(datetime.date.today()-Republicday)"
   ]
  },
  {
   "cell_type": "markdown",
   "id": "18948f68",
   "metadata": {},
   "source": [
    "## strftime: Can be used to format only datetime object"
   ]
  },
  {
   "cell_type": "code",
   "execution_count": 62,
   "id": "e9c762cd",
   "metadata": {},
   "outputs": [],
   "source": [
    "t=datetime.datetime.now()"
   ]
  },
  {
   "cell_type": "code",
   "execution_count": 63,
   "id": "a83ed0d2",
   "metadata": {},
   "outputs": [
    {
     "name": "stdout",
     "output_type": "stream",
     "text": [
      "2021-12-30 11:51:02.750711\n"
     ]
    }
   ],
   "source": [
    "print(t)"
   ]
  },
  {
   "cell_type": "code",
   "execution_count": 64,
   "id": "5b85ef98",
   "metadata": {},
   "outputs": [
    {
     "name": "stdout",
     "output_type": "stream",
     "text": [
      "New format for date time 21-12-30-11-51\n"
     ]
    }
   ],
   "source": [
    "print(\"New format for date time\",t.strftime(\"%y-%m-%d-%H-%M\"))"
   ]
  },
  {
   "cell_type": "code",
   "execution_count": 66,
   "id": "e275348c",
   "metadata": {},
   "outputs": [
    {
     "name": "stdout",
     "output_type": "stream",
     "text": [
      "Currentyear 2021\n"
     ]
    }
   ],
   "source": [
    "print(\"Currentyear\",t.strftime(\"%Y\"))"
   ]
  },
  {
   "cell_type": "code",
   "execution_count": 67,
   "id": "4f6beb2c",
   "metadata": {},
   "outputs": [
    {
     "name": "stdout",
     "output_type": "stream",
     "text": [
      "Current month of the year December\n"
     ]
    }
   ],
   "source": [
    "print(\"Current month of the year\",t.strftime(\"%B\"))"
   ]
  },
  {
   "cell_type": "code",
   "execution_count": 68,
   "id": "f77b7095",
   "metadata": {},
   "outputs": [
    {
     "name": "stdout",
     "output_type": "stream",
     "text": [
      "week number of the year 52\n"
     ]
    }
   ],
   "source": [
    "print(\"week number of the year\",t.strftime(\"%W\"))"
   ]
  },
  {
   "cell_type": "code",
   "execution_count": 69,
   "id": "4c83c909",
   "metadata": {},
   "outputs": [
    {
     "name": "stdout",
     "output_type": "stream",
     "text": [
      "weekday of the week 4\n"
     ]
    }
   ],
   "source": [
    "print(\"weekday of the week\",t.strftime(\"%w\"))"
   ]
  },
  {
   "cell_type": "code",
   "execution_count": 70,
   "id": "a9894931",
   "metadata": {},
   "outputs": [
    {
     "name": "stdout",
     "output_type": "stream",
     "text": [
      "Day of the year 364\n"
     ]
    }
   ],
   "source": [
    "print(\"Day of the year\",t.strftime(\"%j\"))"
   ]
  },
  {
   "cell_type": "code",
   "execution_count": 71,
   "id": "67bd9ab2",
   "metadata": {},
   "outputs": [
    {
     "name": "stdout",
     "output_type": "stream",
     "text": [
      "Day of the month 30\n"
     ]
    }
   ],
   "source": [
    "print(\"Day of the month\",t.strftime(\"%d\"))"
   ]
  },
  {
   "cell_type": "code",
   "execution_count": 72,
   "id": "fcb000bb",
   "metadata": {},
   "outputs": [
    {
     "name": "stdout",
     "output_type": "stream",
     "text": [
      "Day of the week Thursday\n"
     ]
    }
   ],
   "source": [
    "print(\"Day of the week\",t.strftime(\"%A\"))"
   ]
  },
  {
   "cell_type": "code",
   "execution_count": 74,
   "id": "fe506391",
   "metadata": {},
   "outputs": [
    {
     "name": "stdout",
     "output_type": "stream",
     "text": [
      "2021-12-25 00:00:00\n"
     ]
    }
   ],
   "source": [
    "date_string=\"25 December, 2021\"\n",
    "print(datetime.datetime.strptime(date_string,\"%d %B, %Y\"))"
   ]
  },
  {
   "cell_type": "code",
   "execution_count": 75,
   "id": "cd5a6b3e",
   "metadata": {},
   "outputs": [],
   "source": [
    "now=datetime.datetime.now()"
   ]
  },
  {
   "cell_type": "code",
   "execution_count": 76,
   "id": "2fd8ec84",
   "metadata": {},
   "outputs": [
    {
     "data": {
      "text/plain": [
       "datetime.datetime"
      ]
     },
     "execution_count": 76,
     "metadata": {},
     "output_type": "execute_result"
    }
   ],
   "source": [
    "type(now)"
   ]
  },
  {
   "cell_type": "code",
   "execution_count": 77,
   "id": "89ee3808",
   "metadata": {},
   "outputs": [],
   "source": [
    "year=now.strftime('%Y')"
   ]
  },
  {
   "cell_type": "code",
   "execution_count": 78,
   "id": "ccac3954",
   "metadata": {},
   "outputs": [
    {
     "data": {
      "text/plain": [
       "'2021'"
      ]
     },
     "execution_count": 78,
     "metadata": {},
     "output_type": "execute_result"
    }
   ],
   "source": [
    "year"
   ]
  },
  {
   "cell_type": "code",
   "execution_count": 79,
   "id": "125bf83a",
   "metadata": {},
   "outputs": [
    {
     "data": {
      "text/plain": [
       "str"
      ]
     },
     "execution_count": 79,
     "metadata": {},
     "output_type": "execute_result"
    }
   ],
   "source": [
    "type(year)"
   ]
  },
  {
   "cell_type": "code",
   "execution_count": 82,
   "id": "d1cae643",
   "metadata": {},
   "outputs": [
    {
     "name": "stdout",
     "output_type": "stream",
     "text": [
      "25 December, 2021\n"
     ]
    },
    {
     "data": {
      "text/plain": [
       "str"
      ]
     },
     "execution_count": 82,
     "metadata": {},
     "output_type": "execute_result"
    }
   ],
   "source": [
    "print(date_string)\n",
    "type(date_string)"
   ]
  },
  {
   "cell_type": "code",
   "execution_count": 81,
   "id": "5db9bec4",
   "metadata": {},
   "outputs": [
    {
     "ename": "TypeError",
     "evalue": "descriptor 'strftime' for 'datetime.date' objects doesn't apply to a 'str' object",
     "output_type": "error",
     "traceback": [
      "\u001b[1;31m---------------------------------------------------------------------------\u001b[0m",
      "\u001b[1;31mTypeError\u001b[0m                                 Traceback (most recent call last)",
      "\u001b[1;32mC:\\Users\\AKSHAY~1.SRI\\AppData\\Local\\Temp/ipykernel_10700/1527207672.py\u001b[0m in \u001b[0;36m<module>\u001b[1;34m\u001b[0m\n\u001b[1;32m----> 1\u001b[1;33m \u001b[0mdatetime\u001b[0m\u001b[1;33m.\u001b[0m\u001b[0mdatetime\u001b[0m\u001b[1;33m.\u001b[0m\u001b[0mstrftime\u001b[0m\u001b[1;33m(\u001b[0m\u001b[0mdate_string\u001b[0m\u001b[1;33m,\u001b[0m\u001b[1;34m\"%d %B , %Y\"\u001b[0m\u001b[1;33m)\u001b[0m\u001b[1;33m\u001b[0m\u001b[1;33m\u001b[0m\u001b[0m\n\u001b[0m",
      "\u001b[1;31mTypeError\u001b[0m: descriptor 'strftime' for 'datetime.date' objects doesn't apply to a 'str' object"
     ]
    }
   ],
   "source": [
    "datetime.datetime.strftime(date_string,\"%d %B , %Y\")"
   ]
  },
  {
   "cell_type": "code",
   "execution_count": 83,
   "id": "e28f4f9c",
   "metadata": {},
   "outputs": [
    {
     "ename": "TypeError",
     "evalue": "strptime() argument 1 must be str, not datetime.datetime",
     "output_type": "error",
     "traceback": [
      "\u001b[1;31m---------------------------------------------------------------------------\u001b[0m",
      "\u001b[1;31mTypeError\u001b[0m                                 Traceback (most recent call last)",
      "\u001b[1;32mC:\\Users\\AKSHAY~1.SRI\\AppData\\Local\\Temp/ipykernel_10700/3200084324.py\u001b[0m in \u001b[0;36m<module>\u001b[1;34m\u001b[0m\n\u001b[1;32m----> 1\u001b[1;33m \u001b[0mdatetime\u001b[0m\u001b[1;33m.\u001b[0m\u001b[0mdatetime\u001b[0m\u001b[1;33m.\u001b[0m\u001b[0mstrptime\u001b[0m\u001b[1;33m(\u001b[0m\u001b[0mnow\u001b[0m\u001b[1;33m,\u001b[0m\u001b[1;34m\"%Y\"\u001b[0m\u001b[1;33m)\u001b[0m\u001b[1;33m\u001b[0m\u001b[1;33m\u001b[0m\u001b[0m\n\u001b[0m",
      "\u001b[1;31mTypeError\u001b[0m: strptime() argument 1 must be str, not datetime.datetime"
     ]
    }
   ],
   "source": [
    "datetime.datetime.strptime(now,\"%Y\")"
   ]
  },
  {
   "cell_type": "code",
   "execution_count": null,
   "id": "9b1f5292",
   "metadata": {},
   "outputs": [],
   "source": []
  }
 ],
 "metadata": {
  "kernelspec": {
   "display_name": "Python 3 (ipykernel)",
   "language": "python",
   "name": "python3"
  },
  "language_info": {
   "codemirror_mode": {
    "name": "ipython",
    "version": 3
   },
   "file_extension": ".py",
   "mimetype": "text/x-python",
   "name": "python",
   "nbconvert_exporter": "python",
   "pygments_lexer": "ipython3",
   "version": "3.10.0"
  }
 },
 "nbformat": 4,
 "nbformat_minor": 5
}
