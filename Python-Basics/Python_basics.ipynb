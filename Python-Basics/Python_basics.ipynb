{
 "cells": [
  {
   "cell_type": "code",
   "execution_count": 1,
   "id": "5d9498f1",
   "metadata": {},
   "outputs": [],
   "source": [
    "t={}"
   ]
  },
  {
   "cell_type": "code",
   "execution_count": 2,
   "id": "e52b501a",
   "metadata": {},
   "outputs": [
    {
     "data": {
      "text/plain": [
       "{}"
      ]
     },
     "execution_count": 2,
     "metadata": {},
     "output_type": "execute_result"
    }
   ],
   "source": [
    "t\n"
   ]
  },
  {
   "cell_type": "code",
   "execution_count": 3,
   "id": "ee7f25ef",
   "metadata": {},
   "outputs": [
    {
     "data": {
      "text/plain": [
       "dict"
      ]
     },
     "execution_count": 3,
     "metadata": {},
     "output_type": "execute_result"
    }
   ],
   "source": [
    "type(t)"
   ]
  },
  {
   "cell_type": "code",
   "execution_count": 5,
   "id": "975ece61",
   "metadata": {},
   "outputs": [],
   "source": [
    "t={\"a\"}"
   ]
  },
  {
   "cell_type": "code",
   "execution_count": 6,
   "id": "b182b772",
   "metadata": {},
   "outputs": [
    {
     "data": {
      "text/plain": [
       "{'a'}"
      ]
     },
     "execution_count": 6,
     "metadata": {},
     "output_type": "execute_result"
    }
   ],
   "source": [
    "t"
   ]
  },
  {
   "cell_type": "code",
   "execution_count": 7,
   "id": "97794211",
   "metadata": {},
   "outputs": [
    {
     "data": {
      "text/plain": [
       "set"
      ]
     },
     "execution_count": 7,
     "metadata": {},
     "output_type": "execute_result"
    }
   ],
   "source": [
    "type(t)"
   ]
  },
  {
   "cell_type": "code",
   "execution_count": 15,
   "id": "dee64f97",
   "metadata": {},
   "outputs": [],
   "source": [
    "t=set({})"
   ]
  },
  {
   "cell_type": "code",
   "execution_count": 16,
   "id": "e21bcebd",
   "metadata": {},
   "outputs": [
    {
     "data": {
      "text/plain": [
       "set"
      ]
     },
     "execution_count": 16,
     "metadata": {},
     "output_type": "execute_result"
    }
   ],
   "source": [
    "type(t)"
   ]
  },
  {
   "cell_type": "code",
   "execution_count": 17,
   "id": "0f4f8777",
   "metadata": {},
   "outputs": [
    {
     "data": {
      "text/plain": [
       "set()"
      ]
     },
     "execution_count": 17,
     "metadata": {},
     "output_type": "execute_result"
    }
   ],
   "source": [
    "t"
   ]
  },
  {
   "cell_type": "code",
   "execution_count": 18,
   "id": "535ea0cd",
   "metadata": {},
   "outputs": [],
   "source": [
    "t=dict()"
   ]
  },
  {
   "cell_type": "code",
   "execution_count": 19,
   "id": "2f31a544",
   "metadata": {},
   "outputs": [
    {
     "data": {
      "text/plain": [
       "{}"
      ]
     },
     "execution_count": 19,
     "metadata": {},
     "output_type": "execute_result"
    }
   ],
   "source": [
    "t"
   ]
  },
  {
   "cell_type": "code",
   "execution_count": 27,
   "id": "f3f53b43",
   "metadata": {},
   "outputs": [],
   "source": [
    "CI=150000*15*(1+(7.1/100))**(15*1)"
   ]
  },
  {
   "cell_type": "code",
   "execution_count": 28,
   "id": "7aa3ee56",
   "metadata": {},
   "outputs": [
    {
     "data": {
      "text/plain": [
       "6295418.132219061"
      ]
     },
     "execution_count": 28,
     "metadata": {},
     "output_type": "execute_result"
    }
   ],
   "source": [
    "CI"
   ]
  },
  {
   "cell_type": "code",
   "execution_count": 29,
   "id": "94a7b8fd",
   "metadata": {},
   "outputs": [],
   "source": [
    "F = 150000* ((((1+0.071)**15)-1)/0.071)"
   ]
  },
  {
   "cell_type": "code",
   "execution_count": 30,
   "id": "d1f11899",
   "metadata": {},
   "outputs": [
    {
     "data": {
      "text/plain": [
       "3798514.6781399646"
      ]
     },
     "execution_count": 30,
     "metadata": {},
     "output_type": "execute_result"
    }
   ],
   "source": [
    "F"
   ]
  },
  {
   "cell_type": "code",
   "execution_count": 31,
   "id": "0786820c",
   "metadata": {},
   "outputs": [],
   "source": [
    "s=set({\"abcdef\"})"
   ]
  },
  {
   "cell_type": "code",
   "execution_count": 32,
   "id": "02fbf878",
   "metadata": {},
   "outputs": [
    {
     "data": {
      "text/plain": [
       "{'abcdef'}"
      ]
     },
     "execution_count": 32,
     "metadata": {},
     "output_type": "execute_result"
    }
   ],
   "source": [
    "s"
   ]
  },
  {
   "cell_type": "code",
   "execution_count": 38,
   "id": "02454863",
   "metadata": {},
   "outputs": [
    {
     "name": "stdout",
     "output_type": "stream",
     "text": [
      "{'abdef'}\n"
     ]
    }
   ],
   "source": [
    "print(set({\"abdef\"}))"
   ]
  },
  {
   "cell_type": "code",
   "execution_count": 37,
   "id": "9d33daaf",
   "metadata": {},
   "outputs": [
    {
     "name": "stdout",
     "output_type": "stream",
     "text": [
      "['a', 'b', 'c', 'd', 'e', 'f']\n"
     ]
    }
   ],
   "source": [
    "print(list(\"abcdef\"))"
   ]
  },
  {
   "cell_type": "code",
   "execution_count": 40,
   "id": "318ae765",
   "metadata": {},
   "outputs": [
    {
     "name": "stdout",
     "output_type": "stream",
     "text": [
      "['abcdef']\n"
     ]
    }
   ],
   "source": [
    "print(list([\"abcdef\"]))"
   ]
  },
  {
   "cell_type": "code",
   "execution_count": 50,
   "id": "bb93c3ce",
   "metadata": {},
   "outputs": [],
   "source": [
    "s=set({'abcdef'})"
   ]
  },
  {
   "cell_type": "code",
   "execution_count": 51,
   "id": "e72e1646",
   "metadata": {},
   "outputs": [
    {
     "data": {
      "text/plain": [
       "{'abcdef'}"
      ]
     },
     "execution_count": 51,
     "metadata": {},
     "output_type": "execute_result"
    }
   ],
   "source": [
    "s"
   ]
  },
  {
   "cell_type": "code",
   "execution_count": 44,
   "id": "c6d25ad6",
   "metadata": {},
   "outputs": [],
   "source": [
    "s=set({\"abcdef\",\"bcf\"})"
   ]
  },
  {
   "cell_type": "code",
   "execution_count": 52,
   "id": "fc414e93",
   "metadata": {},
   "outputs": [
    {
     "data": {
      "text/plain": [
       "False"
      ]
     },
     "execution_count": 52,
     "metadata": {},
     "output_type": "execute_result"
    }
   ],
   "source": [
    "\"a\" in s"
   ]
  },
  {
   "cell_type": "code",
   "execution_count": null,
   "id": "a92a9d01",
   "metadata": {},
   "outputs": [],
   "source": []
  },
  {
   "cell_type": "code",
   "execution_count": null,
   "id": "34a4cdeb",
   "metadata": {},
   "outputs": [],
   "source": []
  },
  {
   "cell_type": "code",
   "execution_count": null,
   "id": "9c1cea83",
   "metadata": {},
   "outputs": [],
   "source": []
  },
  {
   "cell_type": "code",
   "execution_count": null,
   "id": "f6d0fc28",
   "metadata": {},
   "outputs": [],
   "source": []
  }
 ],
 "metadata": {
  "kernelspec": {
   "display_name": "Python 3 (ipykernel)",
   "language": "python",
   "name": "python3"
  },
  "language_info": {
   "codemirror_mode": {
    "name": "ipython",
    "version": 3
   },
   "file_extension": ".py",
   "mimetype": "text/x-python",
   "name": "python",
   "nbconvert_exporter": "python",
   "pygments_lexer": "ipython3",
   "version": "3.10.0"
  }
 },
 "nbformat": 4,
 "nbformat_minor": 5
}
