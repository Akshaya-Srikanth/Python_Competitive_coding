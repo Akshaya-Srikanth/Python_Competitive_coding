{
 "cells": [
  {
   "cell_type": "code",
   "execution_count": 2,
   "id": "da6af9cf",
   "metadata": {},
   "outputs": [],
   "source": [
    "Numbers=[1,3,5,6,3,4,5,6,1,5,7,5,6]"
   ]
  },
  {
   "cell_type": "markdown",
   "id": "fdefa664",
   "metadata": {},
   "source": [
    "Numbers.index(6)"
   ]
  },
  {
   "cell_type": "code",
   "execution_count": 4,
   "id": "706d65c7",
   "metadata": {},
   "outputs": [
    {
     "data": {
      "text/plain": [
       "<enumerate at 0x1d423982600>"
      ]
     },
     "execution_count": 4,
     "metadata": {},
     "output_type": "execute_result"
    }
   ],
   "source": [
    "enumerate(Numbers)"
   ]
  },
  {
   "cell_type": "code",
   "execution_count": 5,
   "id": "3aab87cb",
   "metadata": {},
   "outputs": [
    {
     "name": "stdout",
     "output_type": "stream",
     "text": [
      "[(0, 1), (1, 3), (2, 5), (3, 6), (4, 3), (5, 4), (6, 5), (7, 6), (8, 1), (9, 5), (10, 7), (11, 5), (12, 6)]\n"
     ]
    }
   ],
   "source": [
    "print(list(enumerate(Numbers)))"
   ]
  },
  {
   "cell_type": "markdown",
   "id": "43dcfef3",
   "metadata": {},
   "source": [
    "### to print all instances of a data"
   ]
  },
  {
   "cell_type": "code",
   "execution_count": 8,
   "id": "a596c453",
   "metadata": {},
   "outputs": [
    {
     "name": "stdout",
     "output_type": "stream",
     "text": [
      "index of 6 is 3\n",
      "index of 6 is 7\n",
      "index of 6 is 12\n"
     ]
    }
   ],
   "source": [
    "for i in enumerate(Numbers):\n",
    "    #print(i)\n",
    "    if i[1]==6:\n",
    "        print(f\"index of {i[1]} is {i[0]}\")\n",
    "        "
   ]
  },
  {
   "cell_type": "code",
   "execution_count": 10,
   "id": "0c73a46d",
   "metadata": {},
   "outputs": [
    {
     "name": "stdout",
     "output_type": "stream",
     "text": [
      "(4, 1)\n",
      "(5, 3)\n",
      "(6, 5)\n",
      "(7, 6)\n",
      "(8, 3)\n",
      "(9, 4)\n",
      "(10, 5)\n",
      "(11, 6)\n",
      "(12, 1)\n",
      "(13, 5)\n",
      "(14, 7)\n",
      "(15, 5)\n",
      "(16, 6)\n"
     ]
    }
   ],
   "source": [
    "# starting index of enumerator can be set \n",
    "for i in enumerate(Numbers,start=4):\n",
    "    print(i)"
   ]
  },
  {
   "cell_type": "code",
   "execution_count": 13,
   "id": "1128e5f0",
   "metadata": {},
   "outputs": [],
   "source": [
    "Alphabets={\"A\":3,\"H\":5,\"L\":66,\"KII\":88}"
   ]
  },
  {
   "cell_type": "code",
   "execution_count": 14,
   "id": "7bb3a487",
   "metadata": {},
   "outputs": [
    {
     "name": "stdout",
     "output_type": "stream",
     "text": [
      "0 A\n",
      "1 H\n",
      "2 L\n",
      "3 KII\n"
     ]
    }
   ],
   "source": [
    "for i,j in enumerate(Alphabets):\n",
    "    print(i,j)"
   ]
  },
  {
   "cell_type": "markdown",
   "id": "f1f26098",
   "metadata": {},
   "source": [
    "### Zip function"
   ]
  },
  {
   "cell_type": "code",
   "execution_count": 15,
   "id": "bf05d76c",
   "metadata": {},
   "outputs": [],
   "source": [
    "result=zip()"
   ]
  },
  {
   "cell_type": "code",
   "execution_count": 16,
   "id": "fea4c8e7",
   "metadata": {},
   "outputs": [
    {
     "data": {
      "text/plain": [
       "<zip at 0x1d423a6a980>"
      ]
     },
     "execution_count": 16,
     "metadata": {},
     "output_type": "execute_result"
    }
   ],
   "source": [
    "result"
   ]
  },
  {
   "cell_type": "code",
   "execution_count": 17,
   "id": "e3487fdf",
   "metadata": {},
   "outputs": [],
   "source": [
    "n_lst=[4,5,6,7]\n",
    "s_lst=[\"Four\",\"Five\",\"Six\",\"Seven\"]\n",
    "r_tup=(\"IV\",\"V\",\"VI\",\"VII\")\n"
   ]
  },
  {
   "cell_type": "code",
   "execution_count": 20,
   "id": "afa14794",
   "metadata": {},
   "outputs": [],
   "source": [
    "result=zip(n_lst,s_lst)\n",
    "SetRes=set(result)"
   ]
  },
  {
   "cell_type": "code",
   "execution_count": 21,
   "id": "298eda4d",
   "metadata": {},
   "outputs": [
    {
     "data": {
      "text/plain": [
       "{(4, 'Four'), (5, 'Five'), (6, 'Six'), (7, 'Seven')}"
      ]
     },
     "execution_count": 21,
     "metadata": {},
     "output_type": "execute_result"
    }
   ],
   "source": [
    "SetRes"
   ]
  },
  {
   "cell_type": "code",
   "execution_count": 22,
   "id": "40e761f2",
   "metadata": {},
   "outputs": [],
   "source": [
    "result=zip(n_lst,s_lst,r_tup)\n",
    "SetRes=set(result)"
   ]
  },
  {
   "cell_type": "code",
   "execution_count": 23,
   "id": "04d4e757",
   "metadata": {},
   "outputs": [
    {
     "data": {
      "text/plain": [
       "{(4, 'Four', 'IV'), (5, 'Five', 'V'), (6, 'Six', 'VI'), (7, 'Seven', 'VII')}"
      ]
     },
     "execution_count": 23,
     "metadata": {},
     "output_type": "execute_result"
    }
   ],
   "source": [
    "SetRes"
   ]
  },
  {
   "cell_type": "code",
   "execution_count": 26,
   "id": "cf53203c",
   "metadata": {},
   "outputs": [
    {
     "name": "stdout",
     "output_type": "stream",
     "text": [
      "{(5, 'Five', 'V'), (4, 'Four', 'IV')}\n"
     ]
    }
   ],
   "source": [
    "n_lst=[4,5]\n",
    "s_lst=[\"Four\",\"Five\",\"Six\",\"Seven\"]\n",
    "r_tup=(\"IV\",\"V\",\"VI\",\"VII\")\n",
    "result=zip(n_lst,s_lst,r_tup)\n",
    "SetRes=set(result)\n",
    "print(SetRes)\n"
   ]
  },
  {
   "cell_type": "code",
   "execution_count": 30,
   "id": "ba7a4579",
   "metadata": {},
   "outputs": [],
   "source": [
    "PM=[\"Modi\",\"Joe Biden\",\"Scott\"]\n",
    "Country=[\"India\",\"US\",\"AUS\"]\n"
   ]
  },
  {
   "cell_type": "code",
   "execution_count": 28,
   "id": "9a9327ef",
   "metadata": {},
   "outputs": [
    {
     "name": "stdout",
     "output_type": "stream",
     "text": [
      "Prime Minster of Modi is :India\n",
      "Prime Minster of Joe Biden is :US\n",
      "Prime Minster of Scott is :AUS\n"
     ]
    }
   ],
   "source": [
    "for PM,Country in zip(PM,Country):\n",
    "    print(\"Prime Minster of %s is :%s\" %(PM,Country))\n",
    "    "
   ]
  },
  {
   "cell_type": "code",
   "execution_count": 31,
   "id": "d3352eb6",
   "metadata": {},
   "outputs": [
    {
     "name": "stdout",
     "output_type": "stream",
     "text": [
      "{'Modi': 'India', 'Joe Biden': 'US', 'Scott': 'AUS'}\n"
     ]
    }
   ],
   "source": [
    "print(dict(zip(PM,Country)))"
   ]
  },
  {
   "cell_type": "markdown",
   "id": "25fb343b",
   "metadata": {},
   "source": [
    "## While LOop:\n",
    "syntax:\n",
    "\n",
    "while test exp:\n",
    "\n",
    "    Body"
   ]
  },
  {
   "cell_type": "code",
   "execution_count": 34,
   "id": "84bc60bd",
   "metadata": {},
   "outputs": [
    {
     "name": "stdout",
     "output_type": "stream",
     "text": [
      "1\n",
      "2\n",
      "3\n",
      "4\n",
      "5\n",
      "6\n",
      "7\n",
      "8\n",
      "9\n",
      "10\n",
      "11\n",
      "Loop terminated\n"
     ]
    }
   ],
   "source": [
    "i=1\n",
    "while i<=11:\n",
    "    print(i)\n",
    "    i+=1\n",
    "print(\"Loop terminated\")"
   ]
  },
  {
   "cell_type": "code",
   "execution_count": 35,
   "id": "ee24a090",
   "metadata": {},
   "outputs": [
    {
     "name": "stdout",
     "output_type": "stream",
     "text": [
      "1 2 3 4 5 6 7 8 9 10 11 Loop terminated\n"
     ]
    }
   ],
   "source": [
    "i=0\n",
    "while i < 11:\n",
    "    print(i+1,end=\" \")\n",
    "    i+=1\n",
    "print(\"Loop terminated\")"
   ]
  },
  {
   "cell_type": "code",
   "execution_count": 37,
   "id": "e6350351",
   "metadata": {},
   "outputs": [
    {
     "name": "stdout",
     "output_type": "stream",
     "text": [
      "1 2 3 4 5 6 7 8 9 10 11 "
     ]
    }
   ],
   "source": [
    "i=0\n",
    "while i < 11:\n",
    "    print(i+1,end=\" \")\n",
    "    i+=1"
   ]
  },
  {
   "cell_type": "code",
   "execution_count": 40,
   "id": "51b6521c",
   "metadata": {},
   "outputs": [
    {
     "name": "stdout",
     "output_type": "stream",
     "text": [
      "product is : 240000\n"
     ]
    }
   ],
   "source": [
    "lst=[10,20,30,40]\n",
    "p=1\n",
    "i=0\n",
    "while i<len(lst):\n",
    "    p*=lst[i]\n",
    "    i+=1\n",
    "    \n",
    "print(\"product is : {}\".format(p))"
   ]
  },
  {
   "cell_type": "markdown",
   "id": "875a5cdf",
   "metadata": {},
   "source": [
    "## While with else"
   ]
  },
  {
   "cell_type": "code",
   "execution_count": 42,
   "id": "0ab2c14a",
   "metadata": {},
   "outputs": [
    {
     "name": "stdout",
     "output_type": "stream",
     "text": [
      "1\n",
      "2\n",
      "3\n",
      "4\n",
      "5\n",
      "6\n",
      "No item left in the list\n"
     ]
    }
   ],
   "source": [
    "i=0\n",
    "numbers=list(range(1,7))\n",
    "while i <len(numbers):\n",
    "    print(numbers[i])\n",
    "    i+=1\n",
    "else:\n",
    "    print(\"No item left in the list\")"
   ]
  },
  {
   "cell_type": "code",
   "execution_count": 43,
   "id": "5e7bd4df",
   "metadata": {},
   "outputs": [],
   "source": [
    "#check prime number or not"
   ]
  },
  {
   "cell_type": "code",
   "execution_count": 1,
   "id": "c2b4745f",
   "metadata": {},
   "outputs": [
    {
     "name": "stdout",
     "output_type": "stream",
     "text": [
      "Please enter a number: 4\n",
      "4 is divisible by 2\n",
      "4 is not a prime number\n"
     ]
    }
   ],
   "source": [
    "num = int(input(\"Please enter a number: \"))\n",
    "isDivisible = False\n",
    "i=2\n",
    "while i< num:\n",
    "    if num%i ==0:\n",
    "        isDivisible = True\n",
    "        print(\"{} is divisible by {}\".format(num,i))\n",
    "    i+=1\n",
    "if isDivisible:\n",
    "    print(\"{} is not a prime number\".format(num))\n",
    "else:\n",
    "    print(\"{} is  a prime number\".format(num))\n",
    "    \n",
    "        "
   ]
  },
  {
   "cell_type": "code",
   "execution_count": null,
   "id": "0313325d",
   "metadata": {},
   "outputs": [],
   "source": []
  },
  {
   "cell_type": "code",
   "execution_count": null,
   "id": "40743c98",
   "metadata": {},
   "outputs": [],
   "source": []
  }
 ],
 "metadata": {
  "kernelspec": {
   "display_name": "Python 3 (ipykernel)",
   "language": "python",
   "name": "python3"
  },
  "language_info": {
   "codemirror_mode": {
    "name": "ipython",
    "version": 3
   },
   "file_extension": ".py",
   "mimetype": "text/x-python",
   "name": "python",
   "nbconvert_exporter": "python",
   "pygments_lexer": "ipython3",
   "version": "3.10.0"
  }
 },
 "nbformat": 4,
 "nbformat_minor": 5
}
