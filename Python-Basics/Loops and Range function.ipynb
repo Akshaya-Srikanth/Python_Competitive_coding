{
 "cells": [
  {
   "cell_type": "markdown",
   "id": "ec6b96f7",
   "metadata": {},
   "source": [
    "### Range function"
   ]
  },
  {
   "cell_type": "code",
   "execution_count": 1,
   "id": "e23b2bca",
   "metadata": {},
   "outputs": [],
   "source": [
    "range?"
   ]
  },
  {
   "cell_type": "code",
   "execution_count": 4,
   "id": "279827e4",
   "metadata": {},
   "outputs": [
    {
     "data": {
      "text/plain": [
       "[0, 1, 2, 3, 4, 5, 6, 7, 8, 9]"
      ]
     },
     "execution_count": 4,
     "metadata": {},
     "output_type": "execute_result"
    }
   ],
   "source": [
    "list(range(10))"
   ]
  },
  {
   "cell_type": "code",
   "execution_count": 22,
   "id": "179e22d5",
   "metadata": {},
   "outputs": [
    {
     "data": {
      "text/plain": [
       "[]"
      ]
     },
     "execution_count": 22,
     "metadata": {},
     "output_type": "execute_result"
    }
   ],
   "source": [
    "list(range(2,2))"
   ]
  },
  {
   "cell_type": "code",
   "execution_count": 7,
   "id": "26952887",
   "metadata": {},
   "outputs": [
    {
     "data": {
      "text/plain": [
       "[1, 3, 5, 7, 9]"
      ]
     },
     "execution_count": 7,
     "metadata": {},
     "output_type": "execute_result"
    }
   ],
   "source": [
    "list(range(1,10,2))"
   ]
  },
  {
   "cell_type": "code",
   "execution_count": 6,
   "id": "d4806263",
   "metadata": {},
   "outputs": [
    {
     "data": {
      "text/plain": [
       "[20, 19, 18, 17, 16, 15, 14, 13, 12, 11, 10, 9, 8, 7, 6, 5, 4, 3, 2]"
      ]
     },
     "execution_count": 6,
     "metadata": {},
     "output_type": "execute_result"
    }
   ],
   "source": [
    "list(range(20,1,-1))"
   ]
  },
  {
   "cell_type": "markdown",
   "id": "031d2425",
   "metadata": {},
   "source": [
    "### For loop"
   ]
  },
  {
   "cell_type": "code",
   "execution_count": 8,
   "id": "a1452314",
   "metadata": {},
   "outputs": [
    {
     "name": "stdout",
     "output_type": "stream",
     "text": [
      "0\n",
      "1\n",
      "2\n",
      "3\n",
      "4\n",
      "5\n",
      "6\n"
     ]
    }
   ],
   "source": [
    "lst=list(range(7))\n",
    "for x in lst:\n",
    "    print(x)"
   ]
  },
  {
   "cell_type": "code",
   "execution_count": 9,
   "id": "63d25125",
   "metadata": {},
   "outputs": [
    {
     "name": "stdout",
     "output_type": "stream",
     "text": [
      "P\n",
      "y\n",
      "t\n",
      "h\n",
      "o\n",
      "n\n"
     ]
    }
   ],
   "source": [
    "for i in \"Python\":\n",
    "    print(i)"
   ]
  },
  {
   "cell_type": "code",
   "execution_count": 10,
   "id": "aec57408",
   "metadata": {},
   "outputs": [
    {
     "name": "stdout",
     "output_type": "stream",
     "text": [
      "Even numbers are: [2, 4, 6, 8, 10, 12, 14, 16, 18, 20, 22, 24, 26, 28, 30, 32, 34, 36, 38, 40, 42, 44, 46, 48]\n"
     ]
    }
   ],
   "source": [
    "Evenlst=[]\n",
    "for i in range(2,50,2):\n",
    "    Evenlst.append(i)\n",
    "print(\"Even numbers are: {}\".format(Evenlst))"
   ]
  },
  {
   "cell_type": "code",
   "execution_count": 13,
   "id": "7a4b8ec0",
   "metadata": {},
   "outputs": [
    {
     "name": "stdout",
     "output_type": "stream",
     "text": [
      "[0, 1, 2, 3, 4, 5, 6, 7, 8, 9, 10, 11, 12, 13, 14, 15, 16, 17, 18, 19, 20, 21, 22, 23, 24, 25, 26, 27, 28, 29, 30, 31, 32, 33, 34, 35, 36, 37, 38, 39, 40, 41, 42, 43, 44, 45, 46, 47, 48, 49, 50, 51, 52, 53, 54, 55, 56, 57, 58, 59, 60, 61, 62, 63, 64, 65, 66, 67, 68, 69]\n"
     ]
    }
   ],
   "source": [
    "myList=list(range(0,70))\n",
    "print(myList)"
   ]
  },
  {
   "cell_type": "code",
   "execution_count": 14,
   "id": "3a898dac",
   "metadata": {},
   "outputs": [
    {
     "name": "stdout",
     "output_type": "stream",
     "text": [
      "[1, 3, 5, 7, 9, 11, 13, 15, 17, 19, 21, 23, 25, 27, 29, 31, 33, 35, 37, 39, 41, 43, 45, 47, 49, 51, 53, 55, 57, 59, 61, 63, 65, 67, 69]\n",
      "[0, 2, 4, 6, 8, 10, 12, 14, 16, 18, 20, 22, 24, 26, 28, 30, 32, 34, 36, 38, 40, 42, 44, 46, 48, 50, 52, 54, 56, 58, 60, 62, 64, 66, 68]\n"
     ]
    }
   ],
   "source": [
    "e=[]\n",
    "o=[]\n",
    "for num in myList:\n",
    "    if num%2==0:\n",
    "        e.append(num)\n",
    "    else:\n",
    "        o.append(num)\n",
    "        \n",
    "print(o,e,sep=\"\\n\")"
   ]
  },
  {
   "cell_type": "code",
   "execution_count": 16,
   "id": "15a95b82",
   "metadata": {},
   "outputs": [
    {
     "name": "stdout",
     "output_type": "stream",
     "text": [
      "name\n",
      "mob\n"
     ]
    }
   ],
   "source": [
    "dct={\"name\":\"Dan\",\"mob\":\"89914567890\"}\n",
    "for i in dct:\n",
    "    print(i)"
   ]
  },
  {
   "cell_type": "code",
   "execution_count": 17,
   "id": "35f46432",
   "metadata": {},
   "outputs": [
    {
     "name": "stdout",
     "output_type": "stream",
     "text": [
      "Dan\n",
      "89914567890\n"
     ]
    }
   ],
   "source": [
    "for i in dct:\n",
    "    print(dct[i])"
   ]
  },
  {
   "cell_type": "code",
   "execution_count": 18,
   "id": "339aaba6",
   "metadata": {},
   "outputs": [
    {
     "name": "stdout",
     "output_type": "stream",
     "text": [
      "Dan\n",
      "89914567890\n"
     ]
    }
   ],
   "source": [
    "for i in dct.values():\n",
    "    print(i)"
   ]
  },
  {
   "cell_type": "code",
   "execution_count": 19,
   "id": "9cf0156d",
   "metadata": {},
   "outputs": [
    {
     "name": "stdout",
     "output_type": "stream",
     "text": [
      "Char at index 0 is P\n",
      "Char at index 1 is y\n",
      "Char at index 2 is t\n",
      "Char at index 3 is h\n",
      "Char at index 4 is o\n",
      "Char at index 5 is n\n"
     ]
    }
   ],
   "source": [
    "st= \"Python\"\n",
    "for i in range(len(st)):\n",
    "    print(\"Char at index {0} is {1}\".format(i,st[i]))"
   ]
  },
  {
   "cell_type": "code",
   "execution_count": 23,
   "id": "0671a718",
   "metadata": {},
   "outputs": [
    {
     "name": "stdout",
     "output_type": "stream",
     "text": [
      "List of prime numbers are:  [2, 3, 5, 7, 11, 13, 17, 19, 23, 29, 31, 37, 41, 43, 47, 53, 59, 61, 67, 71, 73, 79, 83, 89, 97]\n"
     ]
    }
   ],
   "source": [
    "ListofPrimeNumber =[]\n",
    "for i in range(2,100):\n",
    "    for j in range(2,i):\n",
    "        #print(f\"i is {i}\",f\"j is {j}\")\n",
    "        if i%j ==0:\n",
    "            break\n",
    "    else:\n",
    "        ListofPrimeNumber.append(i)\n",
    "print(\"List of prime numbers are: \", ListofPrimeNumber)\n",
    "\n",
    "\n",
    "\n",
    "\n",
    "\n"
   ]
  },
  {
   "cell_type": "markdown",
   "id": "781d626f",
   "metadata": {},
   "source": [
    "## Question1:\n",
    "a.) Extract numbers from the list which are greater than 5 and saved into the new list\n",
    "\n",
    "b.) Extract string from the list which string length greater than 2 and saved into the new list\n",
    "lst = [1,2,3,4,5,'a','abc','ba',\"12.23\",34.45,\"xyz\",30,50,50,60,70,'ProgrammingIsFun']"
   ]
  },
  {
   "cell_type": "code",
   "execution_count": 42,
   "id": "839865f2",
   "metadata": {},
   "outputs": [
    {
     "name": "stdout",
     "output_type": "stream",
     "text": [
      "[1, 2, 3, 4, 5, 'a', 'abc', 'ba', '12.23', 34.45, 'xyz', 30, 50, 50, 60, 70, 'ProgrammingIsFun']\n"
     ]
    }
   ],
   "source": [
    "lst = [1,2,3,4,5,'a','abc','ba',\"12.23\",34.45,\"xyz\",30,50,50,60,70,'ProgrammingIsFun']\n",
    "print(lst)\n",
    "\n"
   ]
  },
  {
   "cell_type": "code",
   "execution_count": 43,
   "id": "5729871d",
   "metadata": {},
   "outputs": [
    {
     "name": "stdout",
     "output_type": "stream",
     "text": [
      "[30, 50, 50, 60, 70]\n"
     ]
    }
   ],
   "source": [
    "\n",
    "print([x for x in lst if type(x) == int and int(x) > 5])\n",
    "\n",
    "        "
   ]
  },
  {
   "cell_type": "code",
   "execution_count": 45,
   "id": "3b02946f",
   "metadata": {},
   "outputs": [
    {
     "name": "stdout",
     "output_type": "stream",
     "text": [
      "['abc', '12.23', 34.45, 'xyz', 'ProgrammingIsFun']\n"
     ]
    }
   ],
   "source": [
    "print([x for x in lst if len(str(x)) > 2])"
   ]
  },
  {
   "cell_type": "markdown",
   "id": "d629cb0a",
   "metadata": {},
   "source": [
    "### Question2:\n",
    "Find valid mobile number from the list:\n",
    "\n",
    "Rules for valid mobile number:\n",
    "\n",
    "a.) Your number should be start from 60 or 65 \n",
    "b.) Your number length should be 10 \n",
    "c.) All should be number.\n",
    "\n",
    "mobileNum = [889999999,\"9000000X000\", 90992189584, 6545678987,\n",
    "             6598976700,\"65X965456\",6598976700,605657585]\n",
    "# note: these are random numbers."
   ]
  },
  {
   "cell_type": "code",
   "execution_count": 56,
   "id": "7a3c0913",
   "metadata": {},
   "outputs": [
    {
     "name": "stdout",
     "output_type": "stream",
     "text": [
      "6545678987,6598976700,6598976700\n"
     ]
    }
   ],
   "source": [
    "    \n",
    "mobileNum = [889999999,\"9000000X000\", 90992189584, 6545678987, 6598976700,\"65X965456\",6598976700,605657585]\n",
    "validnum=[]\n",
    "for mobnum in mobileNum:\n",
    "        mobnum=str(mobnum)\n",
    "        if (mobnum.startswith(\"60\")==True or mobnum.startswith(\"65\")==True) and len(mobnum)==10 and mobnum.isnumeric()==True:\n",
    "            validnum.append(mobnum)\n",
    "print(\",\".join(validnum))\n",
    "            "
   ]
  },
  {
   "cell_type": "markdown",
   "id": "c29385d4",
   "metadata": {},
   "source": [
    "### Question3: Masking Emails IDs\n",
    "for an example: \n",
    "\n",
    "ProgrammingisFun@youtube.com -- Masking Email should be: P**************n@y******.com\n",
    "abc@gmail.co.in  --  Masking Email should be: \"a*c@g*******.in\n",
    "\n",
    "EmailList = ['testsample@gmail.com',\"test.sample12@gmail.com\",\"sample.test@yahoo.co.in\",\n",
    "            'abc@rediffmail.com','abc@programmingisfun',\"ProgrammingIsfun@youtube.com\"]"
   ]
  },
  {
   "cell_type": "code",
   "execution_count": 87,
   "id": "5592bf42",
   "metadata": {},
   "outputs": [],
   "source": [
    "EmailList = ['testsample@gmail.com',\"test.sample12@gmail.com\",\"sample.test@yahoo.co.in\", 'abc@rediffmail.com','abc@programmingisfun',\"ProgrammingIsfun@youtube.com\"]\n",
    "Maskedlist=[]"
   ]
  },
  {
   "cell_type": "code",
   "execution_count": 88,
   "id": "f6122c7b",
   "metadata": {},
   "outputs": [
    {
     "data": {
      "text/plain": [
       "['t********e@g****.com',\n",
       " 't***********2@g****.com',\n",
       " 's*********t@y*******.in',\n",
       " 'a*c@r*********.com',\n",
       " 'a*c@p**************.abc@programmingisfun',\n",
       " 'P**************n@y******.com']"
      ]
     },
     "execution_count": 88,
     "metadata": {},
     "output_type": "execute_result"
    }
   ],
   "source": [
    "for x in EmailList:\n",
    "    #print(\"*\"* len(x[1:x.find(\"@\")]))\n",
    "    Maskedlist.append(x[0]+\"*\"*len(x[1:x.find(\"@\")-1])+ x[x.find(\"@\")-1]+\"@\"+x[x.find(\"@\")+1]+\"*\"*len(x[x.rfind(\"@\")+2:x.rfind(\".\")])+\".\"+x[x.rfind(\".\")+1:]\n",
    "                               \n",
    "                               )\n",
    "Maskedlist"
   ]
  },
  {
   "cell_type": "code",
   "execution_count": null,
   "id": "61cc219e",
   "metadata": {},
   "outputs": [],
   "source": []
  }
 ],
 "metadata": {
  "kernelspec": {
   "display_name": "Python 3 (ipykernel)",
   "language": "python",
   "name": "python3"
  },
  "language_info": {
   "codemirror_mode": {
    "name": "ipython",
    "version": 3
   },
   "file_extension": ".py",
   "mimetype": "text/x-python",
   "name": "python",
   "nbconvert_exporter": "python",
   "pygments_lexer": "ipython3",
   "version": "3.10.0"
  }
 },
 "nbformat": 4,
 "nbformat_minor": 5
}
