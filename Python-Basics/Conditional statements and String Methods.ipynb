{
 "cells": [
  {
   "cell_type": "code",
   "execution_count": 4,
   "id": "a1117854",
   "metadata": {},
   "outputs": [
    {
     "name": "stdout",
     "output_type": "stream",
     "text": [
      "Enter your age:\t66\n",
      "Adult,eligible to vote\n"
     ]
    }
   ],
   "source": [
    "age= int(input(\"Enter your age:\\t\"))\n",
    "if age>=18:\n",
    "    print(\"Adult,eligible to vote\")\n",
    "else:\n",
    "    print(\"You are not eligible  to vote\")"
   ]
  },
  {
   "cell_type": "code",
   "execution_count": 5,
   "id": "3c877d5e",
   "metadata": {},
   "outputs": [
    {
     "name": "stdout",
     "output_type": "stream",
     "text": [
      "a greater than b\n"
     ]
    }
   ],
   "source": [
    "a=14\n",
    "b=12\n",
    "if a<b:\n",
    "    print(\"a less than b\")\n",
    "else:\n",
    "    if a==b:\n",
    "        print(\"a equal to b\")\n",
    "    else:\n",
    "        print(\"a greater than b\")\n",
    "        \n",
    "        "
   ]
  },
  {
   "cell_type": "code",
   "execution_count": 10,
   "id": "5561742c",
   "metadata": {},
   "outputs": [
    {
     "name": "stdout",
     "output_type": "stream",
     "text": [
      "a equal to b\n"
     ]
    }
   ],
   "source": [
    "a,b=2,2\n",
    "print(\"a greater than b\") if a>b else print(\"a equal to b\") if a==b else print(\"a less than b\")"
   ]
  },
  {
   "cell_type": "markdown",
   "id": "7e1d24f3",
   "metadata": {},
   "source": [
    "## elif"
   ]
  },
  {
   "cell_type": "code",
   "execution_count": 13,
   "id": "ca851eee",
   "metadata": {},
   "outputs": [
    {
     "name": "stdout",
     "output_type": "stream",
     "text": [
      "Enter your num:\t-99\n",
      "Negative\n"
     ]
    }
   ],
   "source": [
    "num= int(input(\"Enter your num:\\t\"))\n",
    "if num> 0:\n",
    "    print(\"Postive\")\n",
    "elif num == 0:\n",
    "    print(\"Zero\")\n",
    "else:\n",
    "    print(\"Negative\")"
   ]
  },
  {
   "cell_type": "markdown",
   "id": "97cac988",
   "metadata": {},
   "source": [
    "## String Methods"
   ]
  },
  {
   "cell_type": "code",
   "execution_count": 15,
   "id": "c39405ca",
   "metadata": {},
   "outputs": [
    {
     "ename": "TypeError",
     "evalue": "'str' object does not support item assignment",
     "output_type": "error",
     "traceback": [
      "\u001b[1;31m---------------------------------------------------------------------------\u001b[0m",
      "\u001b[1;31mTypeError\u001b[0m                                 Traceback (most recent call last)",
      "\u001b[1;32mC:\\Users\\AKSHAY~1.SRI\\AppData\\Local\\Temp/ipykernel_19864/1255934803.py\u001b[0m in \u001b[0;36m<module>\u001b[1;34m\u001b[0m\n\u001b[0;32m      1\u001b[0m \u001b[0mst\u001b[0m\u001b[1;33m=\u001b[0m\u001b[1;34m\"Python\"\u001b[0m\u001b[1;33m\u001b[0m\u001b[1;33m\u001b[0m\u001b[0m\n\u001b[1;32m----> 2\u001b[1;33m \u001b[0mst\u001b[0m\u001b[1;33m[\u001b[0m\u001b[1;36m1\u001b[0m\u001b[1;33m]\u001b[0m\u001b[1;33m=\u001b[0m\u001b[1;34m\"l\"\u001b[0m \u001b[1;31m##  strings are immutable\u001b[0m\u001b[1;33m\u001b[0m\u001b[1;33m\u001b[0m\u001b[0m\n\u001b[0m",
      "\u001b[1;31mTypeError\u001b[0m: 'str' object does not support item assignment"
     ]
    }
   ],
   "source": [
    "st=\"Python\"\n",
    "st[1]=\"l\" ##  strings are immutable"
   ]
  },
  {
   "cell_type": "code",
   "execution_count": 16,
   "id": "e836184c",
   "metadata": {},
   "outputs": [
    {
     "data": {
      "text/plain": [
       "80"
      ]
     },
     "execution_count": 16,
     "metadata": {},
     "output_type": "execute_result"
    }
   ],
   "source": [
    "ord(\"P\")"
   ]
  },
  {
   "cell_type": "code",
   "execution_count": 17,
   "id": "0c4e4c52",
   "metadata": {},
   "outputs": [
    {
     "data": {
      "text/plain": [
       "112"
      ]
     },
     "execution_count": 17,
     "metadata": {},
     "output_type": "execute_result"
    }
   ],
   "source": [
    "ord('p')"
   ]
  },
  {
   "cell_type": "code",
   "execution_count": 18,
   "id": "8c9962d8",
   "metadata": {},
   "outputs": [
    {
     "data": {
      "text/plain": [
       "6"
      ]
     },
     "execution_count": 18,
     "metadata": {},
     "output_type": "execute_result"
    }
   ],
   "source": [
    "len(st)"
   ]
  },
  {
   "cell_type": "code",
   "execution_count": 20,
   "id": "472bbe48",
   "metadata": {},
   "outputs": [
    {
     "name": "stdout",
     "output_type": "stream",
     "text": [
      "['capitalize', 'casefold', 'center', 'count', 'encode', 'endswith', 'expandtabs', 'find', 'format', 'index', 'isalnum', 'isalpha', 'isascii', 'isdecimal', 'isdigit', 'isidentifier', 'islower', 'isnumeric', 'isprintable', 'isspace', 'istitle', 'isupper', 'join', 'ljust', 'lower', 'lstrip', 'maketrans', 'partition', 'removeprefix', 'removesuffix', 'replace', 'rfind', 'rindex', 'rjust', 'rpartition', 'rsplit', 'rstrip', 'split', 'splitlines', 'startswith', 'strip', 'swapcase', 'title', 'translate', 'upper', 'zfill']\n"
     ]
    }
   ],
   "source": [
    "print([ i  for i in dir(str) if \"_\" not in i])"
   ]
  },
  {
   "cell_type": "code",
   "execution_count": 21,
   "id": "b03bfd8f",
   "metadata": {},
   "outputs": [
    {
     "data": {
      "text/plain": [
       "'Python program'"
      ]
     },
     "execution_count": 21,
     "metadata": {},
     "output_type": "execute_result"
    }
   ],
   "source": [
    "string=\"python program\"\n",
    "string.capitalize()"
   ]
  },
  {
   "cell_type": "code",
   "execution_count": 26,
   "id": "4f7d2a14",
   "metadata": {
    "scrolled": true
   },
   "outputs": [
    {
     "name": "stdout",
     "output_type": "stream",
     "text": [
      "python program\n",
      "python program\n"
     ]
    }
   ],
   "source": [
    "s=string.upper()\n",
    "print(s.casefold()) ##  coverts all char to lower case similar to lower\n",
    "print(string.casefold())"
   ]
  },
  {
   "cell_type": "code",
   "execution_count": 27,
   "id": "87691c96",
   "metadata": {},
   "outputs": [],
   "source": [
    "#format_map()"
   ]
  },
  {
   "cell_type": "code",
   "execution_count": 28,
   "id": "7da72cb4",
   "metadata": {},
   "outputs": [
    {
     "name": "stdout",
     "output_type": "stream",
     "text": [
      "My name is AKshaya and I am a SSE\n"
     ]
    }
   ],
   "source": [
    "st=\"My name is {name} and I am a {Role}\"\n",
    "mydict={'name':\"AKshaya\",\"Role\":\"SSE\"}\n",
    "print(st.format_map(mydict))"
   ]
  },
  {
   "cell_type": "markdown",
   "id": "83a44f51",
   "metadata": {},
   "source": [
    "   ## find and index function \n",
    "   "
   ]
  },
  {
   "cell_type": "code",
   "execution_count": 4,
   "id": "b30d4829",
   "metadata": {},
   "outputs": [],
   "source": [
    "quote=\"Make it work, make it right,make it fast\""
   ]
  },
  {
   "cell_type": "code",
   "execution_count": 5,
   "id": "1e2d98dd",
   "metadata": {},
   "outputs": [
    {
     "data": {
      "text/plain": [
       "5"
      ]
     },
     "execution_count": 5,
     "metadata": {},
     "output_type": "execute_result"
    }
   ],
   "source": [
    "quote.find(\"it\") #it will find 1st ocuurance\n",
    "#find: substring,[start pos],[end pos] (To find next occurance)"
   ]
  },
  {
   "cell_type": "code",
   "execution_count": 6,
   "id": "c63e871e",
   "metadata": {},
   "outputs": [
    {
     "data": {
      "text/plain": [
       "19"
      ]
     },
     "execution_count": 6,
     "metadata": {},
     "output_type": "execute_result"
    }
   ],
   "source": [
    "quote.find(\"it\",6,len(quote))"
   ]
  },
  {
   "cell_type": "code",
   "execution_count": 7,
   "id": "4b028dec",
   "metadata": {},
   "outputs": [
    {
     "data": {
      "text/plain": [
       "19"
      ]
     },
     "execution_count": 7,
     "metadata": {},
     "output_type": "execute_result"
    }
   ],
   "source": [
    "quote.find(\"it\",quote.find(\"it\")+1,len(quote))"
   ]
  },
  {
   "cell_type": "code",
   "execution_count": 8,
   "id": "301d6368",
   "metadata": {},
   "outputs": [
    {
     "data": {
      "text/plain": [
       "5"
      ]
     },
     "execution_count": 8,
     "metadata": {},
     "output_type": "execute_result"
    }
   ],
   "source": [
    "quote.index(\"it\")"
   ]
  },
  {
   "cell_type": "code",
   "execution_count": 9,
   "id": "a78b6add",
   "metadata": {},
   "outputs": [
    {
     "data": {
      "text/plain": [
       "19"
      ]
     },
     "execution_count": 9,
     "metadata": {},
     "output_type": "execute_result"
    }
   ],
   "source": [
    "quote.index(\"it\",quote.index(\"it\")+1,len(quote))"
   ]
  },
  {
   "cell_type": "code",
   "execution_count": 11,
   "id": "68edb856",
   "metadata": {},
   "outputs": [
    {
     "ename": "ValueError",
     "evalue": "substring not found",
     "output_type": "error",
     "traceback": [
      "\u001b[1;31m---------------------------------------------------------------------------\u001b[0m",
      "\u001b[1;31mValueError\u001b[0m                                Traceback (most recent call last)",
      "\u001b[1;32mC:\\Users\\AKSHAY~1.SRI\\AppData\\Local\\Temp/ipykernel_16292/17437176.py\u001b[0m in \u001b[0;36m<module>\u001b[1;34m\u001b[0m\n\u001b[1;32m----> 1\u001b[1;33m \u001b[0mquote\u001b[0m\u001b[1;33m.\u001b[0m\u001b[0mindex\u001b[0m\u001b[1;33m(\u001b[0m\u001b[1;34m\"is\"\u001b[0m\u001b[1;33m)\u001b[0m\u001b[1;33m\u001b[0m\u001b[1;33m\u001b[0m\u001b[0m\n\u001b[0m",
      "\u001b[1;31mValueError\u001b[0m: substring not found"
     ]
    }
   ],
   "source": [
    "quote.index(\"is\")"
   ]
  },
  {
   "cell_type": "code",
   "execution_count": 12,
   "id": "12f026a7",
   "metadata": {},
   "outputs": [
    {
     "data": {
      "text/plain": [
       "-1"
      ]
     },
     "execution_count": 12,
     "metadata": {},
     "output_type": "execute_result"
    }
   ],
   "source": [
    "quote.find(\"is\")"
   ]
  },
  {
   "cell_type": "markdown",
   "id": "d5208225",
   "metadata": {},
   "source": [
    "## Find returns -1 if string is not found where index will throw and exception if the substring is not found"
   ]
  },
  {
   "cell_type": "markdown",
   "id": "f039b8a1",
   "metadata": {},
   "source": [
    "## starts with and ends with"
   ]
  },
  {
   "cell_type": "code",
   "execution_count": 13,
   "id": "88c503af",
   "metadata": {},
   "outputs": [
    {
     "data": {
      "text/plain": [
       "True"
      ]
     },
     "execution_count": 13,
     "metadata": {},
     "output_type": "execute_result"
    }
   ],
   "source": [
    "quote.startswith(\"M\")"
   ]
  },
  {
   "cell_type": "code",
   "execution_count": 14,
   "id": "8cc4c8f7",
   "metadata": {},
   "outputs": [
    {
     "data": {
      "text/plain": [
       "False"
      ]
     },
     "execution_count": 14,
     "metadata": {},
     "output_type": "execute_result"
    }
   ],
   "source": [
    "quote.endswith(\"N\")"
   ]
  },
  {
   "cell_type": "code",
   "execution_count": 15,
   "id": "0b0980c8",
   "metadata": {},
   "outputs": [
    {
     "data": {
      "text/plain": [
       "33"
      ]
     },
     "execution_count": 15,
     "metadata": {},
     "output_type": "execute_result"
    }
   ],
   "source": [
    "quote.rfind(\"it\")"
   ]
  },
  {
   "cell_type": "code",
   "execution_count": 16,
   "id": "139812fd",
   "metadata": {},
   "outputs": [
    {
     "data": {
      "text/plain": [
       "33"
      ]
     },
     "execution_count": 16,
     "metadata": {},
     "output_type": "execute_result"
    }
   ],
   "source": [
    "quote.rindex(\"it\")"
   ]
  },
  {
   "cell_type": "code",
   "execution_count": 17,
   "id": "cf3e4338",
   "metadata": {},
   "outputs": [],
   "source": [
    "st=\" Python is a powerful programming language\""
   ]
  },
  {
   "cell_type": "code",
   "execution_count": 18,
   "id": "931df61d",
   "metadata": {},
   "outputs": [
    {
     "data": {
      "text/plain": [
       "'Python--is--a--powerful--programming--language'"
      ]
     },
     "execution_count": 18,
     "metadata": {},
     "output_type": "execute_result"
    }
   ],
   "source": [
    "\"--\".join(st.strip().split())"
   ]
  },
  {
   "cell_type": "code",
   "execution_count": 20,
   "id": "cfcddce7",
   "metadata": {},
   "outputs": [
    {
     "data": {
      "text/plain": [
       "'Python*is*a*powerful*programming*language'"
      ]
     },
     "execution_count": 20,
     "metadata": {},
     "output_type": "execute_result"
    }
   ],
   "source": [
    "\"*\".join(st.strip().split())"
   ]
  },
  {
   "cell_type": "code",
   "execution_count": 23,
   "id": "fb2c71da",
   "metadata": {},
   "outputs": [
    {
     "data": {
      "text/plain": [
       "['testsample', 'gmail.com']"
      ]
     },
     "execution_count": 23,
     "metadata": {},
     "output_type": "execute_result"
    }
   ],
   "source": [
    "email=\"testsample@gmail.com\"\n",
    "email.split(\"@\")"
   ]
  },
  {
   "cell_type": "code",
   "execution_count": 24,
   "id": "ca7a4090",
   "metadata": {},
   "outputs": [
    {
     "name": "stdout",
     "output_type": "stream",
     "text": [
      "Username: testsample\n",
      "Domain Name: gmail.com\n"
     ]
    }
   ],
   "source": [
    "print(\"Username:\",email.split(\"@\")[0])\n",
    "print(\"Domain Name:\",email.split(\"@\")[1])"
   ]
  },
  {
   "cell_type": "code",
   "execution_count": 26,
   "id": "480a77e1",
   "metadata": {},
   "outputs": [
    {
     "data": {
      "text/plain": [
       "True"
      ]
     },
     "execution_count": 26,
     "metadata": {},
     "output_type": "execute_result"
    }
   ],
   "source": [
    "st=\"12uuuadsaf\"\n",
    "st1=\"$%*DAGABG\"\n",
    "st.isalnum()\n"
   ]
  },
  {
   "cell_type": "code",
   "execution_count": 27,
   "id": "d334180f",
   "metadata": {},
   "outputs": [
    {
     "data": {
      "text/plain": [
       "False"
      ]
     },
     "execution_count": 27,
     "metadata": {},
     "output_type": "execute_result"
    }
   ],
   "source": [
    "st1.isalnum()"
   ]
  },
  {
   "cell_type": "code",
   "execution_count": 28,
   "id": "f80df65a",
   "metadata": {},
   "outputs": [
    {
     "data": {
      "text/plain": [
       "'make it work, make it right,make it fast'"
      ]
     },
     "execution_count": 28,
     "metadata": {},
     "output_type": "execute_result"
    }
   ],
   "source": [
    "quote.lower()"
   ]
  },
  {
   "cell_type": "code",
   "execution_count": 29,
   "id": "f781d033",
   "metadata": {},
   "outputs": [
    {
     "data": {
      "text/plain": [
       "'MAKE IT WORK, MAKE IT RIGHT,MAKE IT FAST'"
      ]
     },
     "execution_count": 29,
     "metadata": {},
     "output_type": "execute_result"
    }
   ],
   "source": [
    "quote.upper()"
   ]
  },
  {
   "cell_type": "code",
   "execution_count": 30,
   "id": "a2bc2425",
   "metadata": {},
   "outputs": [
    {
     "data": {
      "text/plain": [
       "'mAKE IT WORK, MAKE IT RIGHT,MAKE IT FAST'"
      ]
     },
     "execution_count": 30,
     "metadata": {},
     "output_type": "execute_result"
    }
   ],
   "source": [
    "quote.swapcase()"
   ]
  },
  {
   "cell_type": "code",
   "execution_count": 31,
   "id": "67402da5",
   "metadata": {},
   "outputs": [
    {
     "data": {
      "text/plain": [
       "'Make it work, make it right,make it fast'"
      ]
     },
     "execution_count": 31,
     "metadata": {},
     "output_type": "execute_result"
    }
   ],
   "source": [
    "#Replace\n",
    "quote"
   ]
  },
  {
   "cell_type": "code",
   "execution_count": 32,
   "id": "f200a4a7",
   "metadata": {},
   "outputs": [
    {
     "data": {
      "text/plain": [
       "'Make it work, mAKE it right,mAKE it fast'"
      ]
     },
     "execution_count": 32,
     "metadata": {},
     "output_type": "execute_result"
    }
   ],
   "source": [
    "quote.replace('make','mAKE')"
   ]
  },
  {
   "cell_type": "code",
   "execution_count": 33,
   "id": "49c43163",
   "metadata": {},
   "outputs": [
    {
     "data": {
      "text/plain": [
       "['Make it work', ' make it right', 'make it fast']"
      ]
     },
     "execution_count": 33,
     "metadata": {},
     "output_type": "execute_result"
    }
   ],
   "source": [
    "quote.split(\",\")"
   ]
  },
  {
   "cell_type": "code",
   "execution_count": 34,
   "id": "e2b86af9",
   "metadata": {},
   "outputs": [
    {
     "data": {
      "text/plain": [
       "['Make it work', ' make it right,make it fast']"
      ]
     },
     "execution_count": 34,
     "metadata": {},
     "output_type": "execute_result"
    }
   ],
   "source": [
    "quote.split(\",\",1)"
   ]
  },
  {
   "cell_type": "code",
   "execution_count": 35,
   "id": "a9f0a455",
   "metadata": {},
   "outputs": [
    {
     "data": {
      "text/plain": [
       "['Make it work, make it right', 'make it fast']"
      ]
     },
     "execution_count": 35,
     "metadata": {},
     "output_type": "execute_result"
    }
   ],
   "source": [
    "quote.rsplit(\",\",1)"
   ]
  },
  {
   "cell_type": "code",
   "execution_count": 36,
   "id": "f7d61f1c",
   "metadata": {},
   "outputs": [
    {
     "data": {
      "text/plain": [
       "'testsample@gmail.com'"
      ]
     },
     "execution_count": 36,
     "metadata": {},
     "output_type": "execute_result"
    }
   ],
   "source": [
    "email"
   ]
  },
  {
   "cell_type": "code",
   "execution_count": 37,
   "id": "5dca4690",
   "metadata": {},
   "outputs": [
    {
     "data": {
      "text/plain": [
       "('testsample', '@', 'gmail.com')"
      ]
     },
     "execution_count": 37,
     "metadata": {},
     "output_type": "execute_result"
    }
   ],
   "source": [
    "email.partition('@')"
   ]
  },
  {
   "cell_type": "code",
   "execution_count": 38,
   "id": "948eb9ac",
   "metadata": {},
   "outputs": [
    {
     "data": {
      "text/plain": [
       "('testsample@gmail', '.', 'com')"
      ]
     },
     "execution_count": 38,
     "metadata": {},
     "output_type": "execute_result"
    }
   ],
   "source": [
    "email.partition('.')"
   ]
  },
  {
   "cell_type": "code",
   "execution_count": null,
   "id": "fd684ab6",
   "metadata": {},
   "outputs": [],
   "source": []
  }
 ],
 "metadata": {
  "kernelspec": {
   "display_name": "Python 3 (ipykernel)",
   "language": "python",
   "name": "python3"
  },
  "language_info": {
   "codemirror_mode": {
    "name": "ipython",
    "version": 3
   },
   "file_extension": ".py",
   "mimetype": "text/x-python",
   "name": "python",
   "nbconvert_exporter": "python",
   "pygments_lexer": "ipython3",
   "version": "3.10.0"
  }
 },
 "nbformat": 4,
 "nbformat_minor": 5
}
