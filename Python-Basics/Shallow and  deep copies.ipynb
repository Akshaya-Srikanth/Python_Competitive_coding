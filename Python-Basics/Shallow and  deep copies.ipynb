{
 "cells": [
  {
   "cell_type": "code",
   "execution_count": null,
   "id": "2808fa83",
   "metadata": {},
   "outputs": [],
   "source": [
    "#Shallow copy : The new object Copies the content and still references the same memory location as old object it was copied from.\n",
    "\n",
    "#Deep Copy: The new object copies the content and stores them in a new memory location(any changes done to the prev object remains unaffected to the new one and vice versa)"
   ]
  },
  {
   "cell_type": "markdown",
   "id": "07f58c90",
   "metadata": {},
   "source": [
    "## Lists"
   ]
  },
  {
   "cell_type": "code",
   "execution_count": 2,
   "id": "02d7737a",
   "metadata": {},
   "outputs": [],
   "source": [
    "l=[\"Orange\",\"Apple\",\"Banana\",\"Pineapple\"]\n"
   ]
  },
  {
   "cell_type": "code",
   "execution_count": 5,
   "id": "9253897f",
   "metadata": {},
   "outputs": [
    {
     "name": "stdout",
     "output_type": "stream",
     "text": [
      "Original List ['Orange', 'Apple', 'Banana', 'Pineapple']\n",
      "New List ['Orange', 'Apple', 'Banana', 'Pineapple']\n"
     ]
    }
   ],
   "source": [
    "l_new=l # assignment operator creates a shallow copy\n",
    "print(\"Original List\",l)\n",
    "print(\"New List\",l_new)"
   ]
  },
  {
   "cell_type": "code",
   "execution_count": 6,
   "id": "1f96484d",
   "metadata": {},
   "outputs": [
    {
     "name": "stdout",
     "output_type": "stream",
     "text": [
      "Original List ['Orange', 'Apple', 'Banana', 'Pine']\n",
      "New List ['Orange', 'Apple', 'Banana', 'Pine']\n"
     ]
    }
   ],
   "source": [
    "l_new[3]=\"Pine\"\n",
    "print(\"Original List\",l)\n",
    "print(\"New List\",l_new)"
   ]
  },
  {
   "cell_type": "code",
   "execution_count": 8,
   "id": "7ceb73b3",
   "metadata": {},
   "outputs": [],
   "source": [
    "#Using copy Operator\n",
    "import copy\n",
    "fruits=[\"Orange\",\"Apple\",\"Banana\",\"Pineapple\"]\n"
   ]
  },
  {
   "cell_type": "code",
   "execution_count": 12,
   "id": "07ca9b11",
   "metadata": {},
   "outputs": [
    {
     "name": "stdout",
     "output_type": "stream",
     "text": [
      "Original List ['Orange', 'Apple', 'Banana', 'Pineapple']\n",
      "New List ['Orange', 'Apple', 'Banana', 'Pineapple']\n"
     ]
    }
   ],
   "source": [
    "fruits_new=copy.copy(fruits)# creates a deep copy\n",
    "print(\"Original List\",fruits)\n",
    "print(\"New List\",fruits_new)"
   ]
  },
  {
   "cell_type": "code",
   "execution_count": 13,
   "id": "07d99ece",
   "metadata": {},
   "outputs": [
    {
     "name": "stdout",
     "output_type": "stream",
     "text": [
      "Original List ['Orange', 'Apple', 'Banana', 'Pineapple']\n",
      "New List ['Orange', 'Custard Apple', 'Banana', 'Pineapple']\n"
     ]
    }
   ],
   "source": [
    "fruits_new[1]=\"Custard Apple\"\n",
    "print(\"Original List\",fruits)\n",
    "print(\"New List\",fruits_new)\n"
   ]
  },
  {
   "cell_type": "code",
   "execution_count": 15,
   "id": "fd969236",
   "metadata": {},
   "outputs": [],
   "source": [
    "Company=[\"Accenture\",[\"Tata -Auto\",\"Tata-Steel\"],\"Ford\",\"E&Y\",\"Infy\"]"
   ]
  },
  {
   "cell_type": "code",
   "execution_count": 16,
   "id": "4a81e74d",
   "metadata": {},
   "outputs": [
    {
     "name": "stdout",
     "output_type": "stream",
     "text": [
      "Original List ['Accenture', ['Tata -Auto', 'Tata-Steel'], 'Ford', 'E&Y', 'Infy']\n",
      "New List ['Accenture', ['Tata -Auto', 'Tata-Steel'], 'Ford', 'E&Y', 'Infy']\n"
     ]
    }
   ],
   "source": [
    "Company_new=copy.copy(Company)\n",
    "print(\"Original List\",Company)\n",
    "print(\"New List\",Company_new)"
   ]
  },
  {
   "cell_type": "markdown",
   "id": "2d43db30",
   "metadata": {},
   "source": [
    "## Copy func creates a deep copy on outer list but the inner lists still are shallow copies then change in elements in inner list for one would reflect the change the other list"
   ]
  },
  {
   "cell_type": "code",
   "execution_count": 18,
   "id": "7e226ed4",
   "metadata": {},
   "outputs": [
    {
     "name": "stdout",
     "output_type": "stream",
     "text": [
      "Original List ['Accenture', ['Tata -Auto', 'Tata-Salt'], 'Ford', 'E&Y', 'Infy']\n",
      "New List ['Accenture', ['Tata -Auto', 'Tata-Salt'], 'Ford', 'E&Y', 'Infy']\n"
     ]
    }
   ],
   "source": [
    "Company[1][1]=\"Tata-Salt\"\n",
    "print(\"Original List\",Company)\n",
    "print(\"New List\",Company_new) \n"
   ]
  },
  {
   "cell_type": "markdown",
   "id": "376fe43b",
   "metadata": {},
   "source": [
    "## Deep copies for nested list\n"
   ]
  },
  {
   "cell_type": "code",
   "execution_count": 21,
   "id": "6b255d16",
   "metadata": {},
   "outputs": [],
   "source": [
    "#using list copy method"
   ]
  },
  {
   "cell_type": "code",
   "execution_count": 25,
   "id": "5cde0d51",
   "metadata": {},
   "outputs": [],
   "source": [
    " Comp=[\"Accenture\",[\"Tata -Auto\",\"Tata-Steel\"],\"Ford\",\"E&Y\",\"Infy\"]"
   ]
  },
  {
   "cell_type": "code",
   "execution_count": 26,
   "id": "e3751a0a",
   "metadata": {},
   "outputs": [
    {
     "name": "stdout",
     "output_type": "stream",
     "text": [
      "Original List ['Accenture', ['Tata -Auto', 'Tata-Steel'], 'Ford', 'E&Y', 'Infy']\n",
      "New List ['Accenture', ['Tata -Auto', 'Tata-Steel'], 'Ford', 'E&Y', 'Infy']\n"
     ]
    }
   ],
   "source": [
    "newcomp=Comp.copy()\n",
    "print(\"Original List\",Comp)\n",
    "print(\"New List\",newcomp) "
   ]
  },
  {
   "cell_type": "code",
   "execution_count": 27,
   "id": "fc0cd388",
   "metadata": {},
   "outputs": [
    {
     "name": "stdout",
     "output_type": "stream",
     "text": [
      "Original List ['Accenture', ['Tata -Auto', 'Tata-Steel'], 'Ford', 'E&Y', 'Infy']\n",
      "New List ['Acc', ['Tata -Auto', 'Tata-Steel'], 'Ford', 'E&Y', 'Infy']\n"
     ]
    }
   ],
   "source": [
    "newcomp[0]=\"Acc\"\n",
    "\n",
    "print(\"Original List\",Comp)\n",
    "print(\"New List\",newcomp) "
   ]
  },
  {
   "cell_type": "code",
   "execution_count": 28,
   "id": "39314da8",
   "metadata": {},
   "outputs": [
    {
     "name": "stdout",
     "output_type": "stream",
     "text": [
      "Original List ['Accenture', ['Tata -Auto', 'Tata-Steel', 'Tata-Air'], 'Ford', 'E&Y', 'Infy']\n",
      "New List ['Acc', ['Tata -Auto', 'Tata-Steel', 'Tata-Air'], 'Ford', 'E&Y', 'Infy']\n"
     ]
    }
   ],
   "source": [
    "Comp[1].append('Tata-Air')\n",
    "print(\"Original List\",Comp)\n",
    "print(\"New List\",newcomp) \n",
    "\n",
    "#List copy method creates shallow copy on inner list"
   ]
  },
  {
   "cell_type": "code",
   "execution_count": null,
   "id": "8927706d",
   "metadata": {},
   "outputs": [],
   "source": [
    "#Using the func  copy.deepcopy(list)"
   ]
  },
  {
   "cell_type": "code",
   "execution_count": 30,
   "id": "21cb4c1a",
   "metadata": {},
   "outputs": [],
   "source": [
    "Colors=[\"Red\",[\"Yellow\",\"Mustard\",\"Amber\"],\"Green\",\"Blue\"]"
   ]
  },
  {
   "cell_type": "code",
   "execution_count": 31,
   "id": "2ce7c07e",
   "metadata": {},
   "outputs": [
    {
     "name": "stdout",
     "output_type": "stream",
     "text": [
      "Original List ['Red', ['Yellow', 'Mustard', 'Amber'], 'Green', 'Blue']\n",
      "New List ['Red', ['Yellow', 'Mustard', 'Amber'], 'Green', 'Blue']\n"
     ]
    }
   ],
   "source": [
    "Colors_New=copy.deepcopy(Colors)\n",
    "print(\"Original List\",Colors)\n",
    "print(\"New List\",Colors_New) \n"
   ]
  },
  {
   "cell_type": "code",
   "execution_count": 32,
   "id": "4718a420",
   "metadata": {},
   "outputs": [
    {
     "name": "stdout",
     "output_type": "stream",
     "text": [
      "Original List ['Red', ['Yellow', 'Mustard', 'Amber'], 'Light Green', 'Blue']\n",
      "New List ['Red', ['Yellow', 'Mustard', 'Amber'], 'Green', 'Blue']\n"
     ]
    }
   ],
   "source": [
    "Colors[2]=\"Light Green\"\n",
    "\n",
    "print(\"Original List\",Colors)\n",
    "print(\"New List\",Colors_New)  #produces deep copy on outer list"
   ]
  },
  {
   "cell_type": "code",
   "execution_count": 34,
   "id": "3c4c6308",
   "metadata": {},
   "outputs": [
    {
     "name": "stdout",
     "output_type": "stream",
     "text": [
      "Original List ['Red', ['Yellow', 'Mustard', 'Amber', 'Floroscent', 'Floroscent'], 'Light Green', 'Blue']\n",
      "New List ['Red', ['Yellow', 'Mustard', 'Amber'], 'Green', 'Blue']\n"
     ]
    }
   ],
   "source": [
    "Colors[1].append(\"Floroscent\")\n",
    "\n",
    "print(\"Original List\",Colors)\n",
    "print(\"New List\",Colors_New)  #produces deep copy on inner list"
   ]
  },
  {
   "cell_type": "code",
   "execution_count": null,
   "id": "e481229c",
   "metadata": {},
   "outputs": [],
   "source": [
    "# using list slicing"
   ]
  },
  {
   "cell_type": "code",
   "execution_count": 44,
   "id": "48b95011",
   "metadata": {},
   "outputs": [
    {
     "name": "stdout",
     "output_type": "stream",
     "text": [
      "Original List ['Red', ['Yellow', 'Mustard', 'Amber'], 'Green', 'Blue']\n",
      "New List ['Red', ['Yellow', 'Mustard', 'Amber'], 'Green', 'Blue']\n"
     ]
    }
   ],
   "source": [
    "Colors=[\"Red\",[\"Yellow\",\"Mustard\",\"Amber\"],\"Green\",\"Blue\"]\n",
    "New_colors=Colors[:]\n",
    "print(\"Original List\",Colors)\n",
    "print(\"New List\",New_colors)"
   ]
  },
  {
   "cell_type": "code",
   "execution_count": 46,
   "id": "1ba7222c",
   "metadata": {},
   "outputs": [
    {
     "name": "stdout",
     "output_type": "stream",
     "text": [
      "Original List ['Magenta', ['Yellow', 'Mustard', 'Amber'], 'Green', 'Blue']\n",
      "New List ['Red', ['Yellow', 'Mustard', 'Amber'], 'Green', 'Blue']\n"
     ]
    }
   ],
   "source": [
    "Colors[0]=\"Magenta\"\n",
    "\n",
    "print(\"Original List\",Colors)\n",
    "print(\"New List\",New_colors)  #produces deep copy on outer list"
   ]
  },
  {
   "cell_type": "code",
   "execution_count": 48,
   "id": "d83361c7",
   "metadata": {},
   "outputs": [
    {
     "name": "stdout",
     "output_type": "stream",
     "text": [
      "Original List ['Magenta', ['Yellow', 'Mustard', 'Amber', 'Floroscent', 'Floroscent'], 'Green', 'Blue']\n",
      "New List ['Red', ['Yellow', 'Mustard', 'Amber', 'Floroscent', 'Floroscent'], 'Green', 'Blue']\n"
     ]
    }
   ],
   "source": [
    "Colors[1].append(\"Floroscent\")\n",
    "\n",
    "print(\"Original List\",Colors)\n",
    "print(\"New List\",New_colors)  #produces deep copy on outer list not on inner list"
   ]
  },
  {
   "cell_type": "markdown",
   "id": "a030e07e",
   "metadata": {},
   "source": [
    "## Tuples"
   ]
  },
  {
   "cell_type": "code",
   "execution_count": 56,
   "id": "04f74b5c",
   "metadata": {},
   "outputs": [],
   "source": [
    "tup=(\"A\",\"B\",\"C\",\"D\",[\"E\",\"F\"])"
   ]
  },
  {
   "cell_type": "code",
   "execution_count": 57,
   "id": "8a35d4f0",
   "metadata": {},
   "outputs": [
    {
     "name": "stdout",
     "output_type": "stream",
     "text": [
      "Original tuple ('A', 'B', 'C', 'D', ['E', 'F'])\n",
      "New tuple ('A', 'B', 'C', 'D', ['E', 'F'])\n"
     ]
    }
   ],
   "source": [
    "tup_new=tup\n",
    "print(\"Original tuple\",tup)\n",
    "print(\"New tuple\",tup_new)"
   ]
  },
  {
   "cell_type": "code",
   "execution_count": 59,
   "id": "016d63e9",
   "metadata": {},
   "outputs": [
    {
     "name": "stdout",
     "output_type": "stream",
     "text": [
      "Original tuple ('A', 'B', 'C', 'D', ['E', 'F', 'GG'])\n",
      "New tuple ('A', 'B', 'C', 'D', ['E', 'F', 'GG'])\n"
     ]
    }
   ],
   "source": [
    "tup_new[4].append(\"GG\")\n",
    "print(\"Original tuple\",tup)\n",
    "print(\"New tuple\",tup_new)"
   ]
  },
  {
   "cell_type": "markdown",
   "id": "c550507e",
   "metadata": {},
   "source": [
    "### tuple deep copy"
   ]
  },
  {
   "cell_type": "code",
   "execution_count": 65,
   "id": "c14ed15a",
   "metadata": {},
   "outputs": [],
   "source": [
    "t=(\"A\",\"B\",\"C\",\"D\",[\"E\",\"F\"])"
   ]
  },
  {
   "cell_type": "code",
   "execution_count": 62,
   "id": "a905b617",
   "metadata": {},
   "outputs": [],
   "source": [
    "new_t=copy.copy(t)"
   ]
  },
  {
   "cell_type": "code",
   "execution_count": 63,
   "id": "97a5a94c",
   "metadata": {},
   "outputs": [
    {
     "name": "stdout",
     "output_type": "stream",
     "text": [
      "Original tuple ('A', 'B', 'C', 'D', ['E', 'F', 'GG'])\n",
      "New tuple ('A', 'B', 'C', 'D', ['E', 'F', 'GG'])\n"
     ]
    }
   ],
   "source": [
    "new_t[4].append(\"GG\")\n",
    "print(\"Original tuple\",t)\n",
    "print(\"New tuple\",new_t)"
   ]
  },
  {
   "cell_type": "code",
   "execution_count": 68,
   "id": "9b98382c",
   "metadata": {},
   "outputs": [],
   "source": [
    "new_t=copy.deepcopy(t)"
   ]
  },
  {
   "cell_type": "code",
   "execution_count": 69,
   "id": "7e9f4c37",
   "metadata": {},
   "outputs": [
    {
     "name": "stdout",
     "output_type": "stream",
     "text": [
      "Original tuple ('A', 'B', 'C', 'D', ['E', 'F'])\n",
      "New tuple ('A', 'B', 'C', 'D', ['E', 'F', 'GG'])\n"
     ]
    }
   ],
   "source": [
    "new_t[4].append(\"GG\")\n",
    "print(\"Original tuple\",t)\n",
    "print(\"New tuple\",new_t)"
   ]
  },
  {
   "cell_type": "code",
   "execution_count": 71,
   "id": "f132e382",
   "metadata": {},
   "outputs": [
    {
     "name": "stdout",
     "output_type": "stream",
     "text": [
      "c\n"
     ]
    }
   ],
   "source": [
    "if 'bin' in {'float': 1.2, 'bin': 0b010}:\n",
    "     print('a')\n",
    "     print('b')\n",
    "print('c')\n"
   ]
  },
  {
   "cell_type": "code",
   "execution_count": 72,
   "id": "32740014",
   "metadata": {},
   "outputs": [],
   "source": [
    "if None:\n",
    "          print('Hi')"
   ]
  },
  {
   "cell_type": "code",
   "execution_count": 73,
   "id": "bfc94cd5",
   "metadata": {},
   "outputs": [
    {
     "name": "stdout",
     "output_type": "stream",
     "text": [
      "Length of this list is 4\n",
      "4\n"
     ]
    }
   ],
   "source": [
    "a = [1, 'one', {2: 'two'}, 3]\n",
    "b = len(a)\n",
    "\n",
    "if b == 4:\n",
    "   print('Length of this list is 4')\n",
    "   if b == 5:\n",
    "       print('Length of this list is 5')\n",
    "   else:\n",
    "         print(b)"
   ]
  },
  {
   "cell_type": "code",
   "execution_count": null,
   "id": "fa475213",
   "metadata": {},
   "outputs": [],
   "source": []
  }
 ],
 "metadata": {
  "kernelspec": {
   "display_name": "Python 3 (ipykernel)",
   "language": "python",
   "name": "python3"
  },
  "language_info": {
   "codemirror_mode": {
    "name": "ipython",
    "version": 3
   },
   "file_extension": ".py",
   "mimetype": "text/x-python",
   "name": "python",
   "nbconvert_exporter": "python",
   "pygments_lexer": "ipython3",
   "version": "3.10.0"
  }
 },
 "nbformat": 4,
 "nbformat_minor": 5
}
