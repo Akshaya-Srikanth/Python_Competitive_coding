{
 "cells": [
  {
   "cell_type": "code",
   "execution_count": 1,
   "id": "9822a76b",
   "metadata": {},
   "outputs": [],
   "source": [
    "tup=1,2,4,5,6"
   ]
  },
  {
   "cell_type": "code",
   "execution_count": 3,
   "id": "461fd6f0",
   "metadata": {},
   "outputs": [
    {
     "name": "stdout",
     "output_type": "stream",
     "text": [
      "<class 'tuple'>\n"
     ]
    }
   ],
   "source": [
    "print(type(tup))"
   ]
  },
  {
   "cell_type": "code",
   "execution_count": 5,
   "id": "b825dcde",
   "metadata": {},
   "outputs": [
    {
     "name": "stdout",
     "output_type": "stream",
     "text": [
      "<class 'tuple'>\n"
     ]
    }
   ],
   "source": [
    "y=(10,)\n",
    "print(type(y))"
   ]
  },
  {
   "cell_type": "code",
   "execution_count": 6,
   "id": "34f7d5da",
   "metadata": {},
   "outputs": [
    {
     "name": "stdout",
     "output_type": "stream",
     "text": [
      "<class 'list'>\n"
     ]
    }
   ],
   "source": [
    "z=[1]\n",
    "print(type(z))"
   ]
  },
  {
   "cell_type": "code",
   "execution_count": 19,
   "id": "c2966034",
   "metadata": {},
   "outputs": [
    {
     "name": "stdout",
     "output_type": "stream",
     "text": [
      "['count', 'index']\n"
     ]
    }
   ],
   "source": [
    "print([x for x in dir(tup) if \"_\" not in x])"
   ]
  },
  {
   "cell_type": "code",
   "execution_count": 20,
   "id": "76b22572",
   "metadata": {},
   "outputs": [
    {
     "data": {
      "text/plain": [
       "1"
      ]
     },
     "execution_count": 20,
     "metadata": {},
     "output_type": "execute_result"
    }
   ],
   "source": [
    "tup.count(4)"
   ]
  },
  {
   "cell_type": "code",
   "execution_count": 21,
   "id": "db2f52e8",
   "metadata": {},
   "outputs": [
    {
     "data": {
      "text/plain": [
       "2"
      ]
     },
     "execution_count": 21,
     "metadata": {},
     "output_type": "execute_result"
    }
   ],
   "source": [
    "tup.index(4)"
   ]
  },
  {
   "cell_type": "code",
   "execution_count": 22,
   "id": "ed23d001",
   "metadata": {},
   "outputs": [
    {
     "data": {
      "text/plain": [
       "4"
      ]
     },
     "execution_count": 22,
     "metadata": {},
     "output_type": "execute_result"
    }
   ],
   "source": [
    "tup[2]"
   ]
  },
  {
   "cell_type": "code",
   "execution_count": 34,
   "id": "bd413838",
   "metadata": {},
   "outputs": [
    {
     "name": "stdout",
     "output_type": "stream",
     "text": [
      "[2, 3, 5, 7, 11, 13, 17, 19, 23, 29, 31, 37, 41, 43, 47, 53, 59, 61, 67, 71, 73, 79, 83, 89, 97]\n"
     ]
    }
   ],
   "source": [
    "#Prime Numbers Logic\n",
    "\n",
    "#1)List Comprehension method\n",
    "print([x for x in range(2,100) if all(x%y!=0 for y in range(2,x))])"
   ]
  },
  {
   "cell_type": "code",
   "execution_count": 19,
   "id": "3240e4ef",
   "metadata": {},
   "outputs": [
    {
     "name": "stdout",
     "output_type": "stream",
     "text": [
      " Please Enter Any Number: 2\n",
      "Prime numbers between 1 and 2 are:\n",
      " 2  "
     ]
    }
   ],
   "source": [
    "#2) Python Program to print Prime Numbers from 1 to N with while loop\n",
    "  \n",
    "max = int(input(\" Please Enter Any Number: \"))\n",
    " \n",
    "Number = 1\n",
    " \n",
    "print(\"Prime numbers between\", 1, \"and\", max, \"are:\")\n",
    " \n",
    "while(Number <= max):\n",
    "    count = 0\n",
    "    i = 2\n",
    "     \n",
    "    while(i <= Number//2):\n",
    "        if(Number % i == 0):\n",
    "            count = count + 1\n",
    "            break\n",
    "        i = i + 1\n",
    " \n",
    "    if (count == 0 and Number != 1):\n",
    "        print(\" %d\" %Number, end = '  ')\n",
    "    Number = Number  + 1"
   ]
  },
  {
   "cell_type": "code",
   "execution_count": 20,
   "id": "71e70f31",
   "metadata": {},
   "outputs": [
    {
     "name": "stdout",
     "output_type": "stream",
     "text": [
      "Enter the lower value:2\n",
      "Enter the upper value:100\n",
      "2  3  5  7  11  13  17  19  23  29  31  37  41  43  47  53  59  61  67  71  73  79  83  89  97  "
     ]
    }
   ],
   "source": [
    "#3) Python Program to print Prime Numbers from 1 to N with for loop\n",
    "  \n",
    "lower = int(input(\"Enter the lower value:\"))\n",
    "upper = int(input(\"Enter the upper value:\"))\n",
    "for number in range(lower,upper+1):\n",
    "    if number>1:\n",
    "        for i in range(2,number):\n",
    "            if (number%i)==0:\n",
    "                break\n",
    "        else:\n",
    "            print(number,end=\"  \")"
   ]
  },
  {
   "cell_type": "code",
   "execution_count": 28,
   "id": "9049e9a3",
   "metadata": {},
   "outputs": [],
   "source": [
    "#4) Prime Numbers from 1 to 100 using map,filter,join and function\n",
    "def isprime(num):\n",
    "    if num>1:\n",
    "        for i in range(2,num):\n",
    "            if num%i==0:\n",
    "                return False\n",
    "        return True\n",
    "    else:\n",
    "        return False\n",
    "                \n",
    "        "
   ]
  },
  {
   "cell_type": "code",
   "execution_count": 15,
   "id": "62db7e5b",
   "metadata": {},
   "outputs": [
    {
     "data": {
      "text/plain": [
       "False"
      ]
     },
     "execution_count": 15,
     "metadata": {},
     "output_type": "execute_result"
    }
   ],
   "source": [
    "isprime(4)"
   ]
  },
  {
   "cell_type": "code",
   "execution_count": 29,
   "id": "bd193a6d",
   "metadata": {},
   "outputs": [
    {
     "name": "stdout",
     "output_type": "stream",
     "text": [
      "2 3 5 7 11 13 17 19 23 29 31 37 41 43 47 53 59 61 67 71 73 79 83 89 97\n"
     ]
    }
   ],
   "source": [
    "n=100 \n",
    "print(\" \".join(map(str,(filter(isprime,[x for x in range(2,n)])))))"
   ]
  },
  {
   "cell_type": "code",
   "execution_count": 37,
   "id": "4e297d64",
   "metadata": {},
   "outputs": [],
   "source": [
    "#decorator\n",
    "\n",
    "def sub(a,b):\n",
    "    print(a-b)\n",
    "    "
   ]
  },
  {
   "cell_type": "code",
   "execution_count": 38,
   "id": "3af3e57c",
   "metadata": {},
   "outputs": [],
   "source": [
    "def mod_sub(fun):\n",
    "    def inner(a,b):\n",
    "        if a<b:\n",
    "            a,b=b,a\n",
    "        fun(a,b)\n",
    "    return inner"
   ]
  },
  {
   "cell_type": "code",
   "execution_count": 40,
   "id": "a8a37d53",
   "metadata": {},
   "outputs": [],
   "source": [
    "#sub= mod_sub(sub)"
   ]
  },
  {
   "cell_type": "code",
   "execution_count": 41,
   "id": "43f766ba",
   "metadata": {},
   "outputs": [
    {
     "name": "stdout",
     "output_type": "stream",
     "text": [
      "10\n"
     ]
    }
   ],
   "source": [
    "sub(4,14)"
   ]
  },
  {
   "cell_type": "code",
   "execution_count": 50,
   "id": "be484fd6",
   "metadata": {},
   "outputs": [],
   "source": [
    "@mod_sub # decorator: Add a feature to the existing function without changing its logic/definition\n",
    "def sub(a,b):\n",
    "    print(a-b)\n",
    "    "
   ]
  },
  {
   "cell_type": "code",
   "execution_count": 49,
   "id": "521a4bd3",
   "metadata": {},
   "outputs": [
    {
     "name": "stdout",
     "output_type": "stream",
     "text": [
      "53\n"
     ]
    }
   ],
   "source": [
    "sub(17,70)"
   ]
  },
  {
   "cell_type": "markdown",
   "id": "502d686d",
   "metadata": {},
   "source": [
    "##\n",
    "\n",
    "Consider a person is represented by Pi, where i is the index of the following list.\n",
    "A list shows the person to whom person Pi has given the gift.\n",
    " \n",
    "Consider the below example:\n",
    "gift_presented_to = [2, 1, 5, 3, 4]\n",
    " \n",
    "This list is giving us the following details:\n",
    "Person P1 has given gift to person P2\n",
    "Person P2 has given gift to person P1\n",
    "Person P3 has given gift to person P5\n",
    "Person P4 has given gift to person P3\n",
    "Person P5 has given gift to person P4\n",
    " \n",
    "So for the given list, the list of persons from whom they have received the gift would be \n",
    "gift_received_from = [2, 1, 4, 5, 3]\n",
    " \n",
    "i.e.\n",
    "Person P1 has received gift from person P2\n",
    "Person P2 has received gift from person P1\n",
    "Person P3 has received gift from person P4\n",
    " \n",
    " \n",
    " \n",
    " \n",
    "Person P4 has received gift from person P5\n",
    "Person P5 has received gift from person P3\n",
    " \n",
    "Your task:\n",
    " \n",
    "Take input for the gift_presented_to[] list and print its respective gift_received_from[] list.\n",
    "\n",
    "\n",
    "\n",
    "\n",
    "\n",
    "\n"
   ]
  },
  {
   "cell_type": "code",
   "execution_count": 11,
   "id": "7cf8b378",
   "metadata": {},
   "outputs": [
    {
     "name": "stdout",
     "output_type": "stream",
     "text": [
      "Person P1 has received gift from person P2\n",
      "Person P2 has received gift from person P1\n",
      "Person P3 has received gift from person P4\n",
      "Person P4 has received gift from person P5\n",
      "Person P5 has received gift from person P3\n"
     ]
    }
   ],
   "source": [
    "gift_presented_to = [2, 1, 5, 3, 4]\n",
    "gift_received_from = [2, 1, 4, 5, 3]\n",
    "gift_presented_to_pos = [gift_presented_to.index(x)+1 for x in gift_presented_to]\n",
    "for gift_presented_to_pos,gift_received_from in zip(gift_presented_to_pos,gift_received_from):\n",
    "    print(\"Person P%s has received gift from person P%s\"%(gift_presented_to_pos,gift_received_from))\n",
    "    "
   ]
  },
  {
   "cell_type": "code",
   "execution_count": 30,
   "id": "c0e9111a",
   "metadata": {},
   "outputs": [
    {
     "name": "stdout",
     "output_type": "stream",
     "text": [
      "Person P1 has received gift from person P2\n",
      "Person P2 has received gift from person P1\n",
      "Person P3 has received gift from person P4\n",
      "Person P4 has received gift from person P5\n",
      "Person P5 has received gift from person P3\n"
     ]
    },
    {
     "data": {
      "text/plain": [
       "'\\nfor x,y in enumerate(gift_received_from,start=1):\\n    print(\"Person P{} has received gift from person P{}\".format(x,y))\\n'"
      ]
     },
     "execution_count": 30,
     "metadata": {},
     "output_type": "execute_result"
    }
   ],
   "source": [
    "#ALt Logic\n",
    "gift_received_from = [2, 1, 4, 5, 3]\n",
    "\n",
    "for x,y in enumerate(gift_received_from,start=1):\n",
    "    print(f\"Person P{x} has received gift from person P{y}\")\n",
    "\n",
    "'''\n",
    "for x,y in enumerate(gift_received_from,start=1):\n",
    "    print(\"Person P{} has received gift from person P{}\".format(x,y))\n",
    "'''"
   ]
  },
  {
   "cell_type": "code",
   "execution_count": null,
   "id": "eea381da",
   "metadata": {},
   "outputs": [],
   "source": []
  },
  {
   "cell_type": "code",
   "execution_count": null,
   "id": "9278c4d1",
   "metadata": {},
   "outputs": [],
   "source": []
  },
  {
   "cell_type": "code",
   "execution_count": null,
   "id": "be321db5",
   "metadata": {},
   "outputs": [],
   "source": []
  },
  {
   "cell_type": "code",
   "execution_count": null,
   "id": "23e9c5b2",
   "metadata": {},
   "outputs": [],
   "source": []
  },
  {
   "cell_type": "code",
   "execution_count": null,
   "id": "24075997",
   "metadata": {},
   "outputs": [],
   "source": []
  }
 ],
 "metadata": {
  "kernelspec": {
   "display_name": "Python 3 (ipykernel)",
   "language": "python",
   "name": "python3"
  },
  "language_info": {
   "codemirror_mode": {
    "name": "ipython",
    "version": 3
   },
   "file_extension": ".py",
   "mimetype": "text/x-python",
   "name": "python",
   "nbconvert_exporter": "python",
   "pygments_lexer": "ipython3",
   "version": "3.10.0"
  }
 },
 "nbformat": 4,
 "nbformat_minor": 5
}
