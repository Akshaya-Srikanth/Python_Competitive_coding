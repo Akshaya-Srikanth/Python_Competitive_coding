{
 "cells": [
  {
   "cell_type": "code",
   "execution_count": 46,
   "id": "1b4b53cb",
   "metadata": {},
   "outputs": [],
   "source": [
    "num1=[7,2,3,5,6,8,9,22,55,77]"
   ]
  },
  {
   "cell_type": "code",
   "execution_count": 2,
   "id": "ee228aa2",
   "metadata": {},
   "outputs": [],
   "source": [
    "import itertools"
   ]
  },
  {
   "cell_type": "code",
   "execution_count": 3,
   "id": "7f70e5c4",
   "metadata": {},
   "outputs": [
    {
     "name": "stdout",
     "output_type": "stream",
     "text": [
      "['__doc__', '__loader__', '__name__', '__package__', '__spec__', '_grouper', '_tee', '_tee_dataobject', 'accumulate', 'chain', 'combinations', 'combinations_with_replacement', 'compress', 'count', 'cycle', 'dropwhile', 'filterfalse', 'groupby', 'islice', 'pairwise', 'permutations', 'product', 'repeat', 'starmap', 'takewhile', 'tee', 'zip_longest']\n"
     ]
    }
   ],
   "source": [
    "print(dir(itertools))"
   ]
  },
  {
   "cell_type": "code",
   "execution_count": 4,
   "id": "0ff5f0b1",
   "metadata": {},
   "outputs": [
    {
     "name": "stdout",
     "output_type": "stream",
     "text": [
      "7 9 12 17 23 31 40 62 117 194 "
     ]
    }
   ],
   "source": [
    "for i in itertools.accumulate(num):\n",
    "    print(i,end=\" \")"
   ]
  },
  {
   "cell_type": "code",
   "execution_count": 6,
   "id": "d647aa76",
   "metadata": {},
   "outputs": [
    {
     "name": "stdout",
     "output_type": "stream",
     "text": [
      "10 12 14 16 18 20 22 24 26 28 "
     ]
    }
   ],
   "source": [
    "for i in itertools.count(10,2):\n",
    "    if i==30:\n",
    "        break\n",
    "    print(i,end=\" \")"
   ]
  },
  {
   "cell_type": "code",
   "execution_count": 7,
   "id": "a10dd911",
   "metadata": {},
   "outputs": [],
   "source": [
    "from itertools import *"
   ]
  },
  {
   "cell_type": "code",
   "execution_count": 8,
   "id": "c9cc7f16",
   "metadata": {},
   "outputs": [],
   "source": [
    "cycle?\n"
   ]
  },
  {
   "cell_type": "code",
   "execution_count": 10,
   "id": "a503d2dd",
   "metadata": {},
   "outputs": [
    {
     "name": "stdout",
     "output_type": "stream",
     "text": [
      "3 2 1 3 2 1 3 2 1 3 2 1 3 2 1 3 "
     ]
    }
   ],
   "source": [
    "j=0\n",
    "for i in cycle(\"321\"):\n",
    "    if j >15:\n",
    "        break\n",
    "    else:\n",
    "        print(i,end=\" \")\n",
    "        j=j+1\n",
    "        "
   ]
  },
  {
   "cell_type": "code",
   "execution_count": 11,
   "id": "7fa8ba9b",
   "metadata": {},
   "outputs": [
    {
     "name": "stdout",
     "output_type": "stream",
     "text": [
      "['Python', 'Python', 'Python', 'Python', 'Python']\n"
     ]
    }
   ],
   "source": [
    "print(list(repeat(\"Python\",5)))"
   ]
  },
  {
   "cell_type": "markdown",
   "id": "a50c01f2",
   "metadata": {},
   "source": [
    "### Combinatoric Iterators:"
   ]
  },
  {
   "cell_type": "code",
   "execution_count": 12,
   "id": "4f274a87",
   "metadata": {},
   "outputs": [
    {
     "name": "stdout",
     "output_type": "stream",
     "text": [
      "The Cartesian Product: \n",
      "[('A', 1), ('A', 2), ('A', 3), ('B', 1), ('B', 2), ('B', 3), ('C', 1), ('C', 2), ('C', 3)]\n"
     ]
    }
   ],
   "source": [
    "print(\"The Cartesian Product: \")\n",
    "print(list(product(\"ABC\",[1,2,3])))"
   ]
  },
  {
   "cell_type": "code",
   "execution_count": 14,
   "id": "f6e4796e",
   "metadata": {},
   "outputs": [
    {
     "name": "stdout",
     "output_type": "stream",
     "text": [
      "[('A', 0), ('A', 1), ('B', 0), ('B', 1), ('C', 0), ('C', 1)]\n"
     ]
    }
   ],
   "source": [
    "print(list(product([\"A\",\"B\",\"C\"],range(2))))"
   ]
  },
  {
   "cell_type": "code",
   "execution_count": 20,
   "id": "fde4d1a6",
   "metadata": {},
   "outputs": [],
   "source": [
    "num=[[7,8,9],[4,5,6,7]]"
   ]
  },
  {
   "cell_type": "code",
   "execution_count": 21,
   "id": "8c923a19",
   "metadata": {},
   "outputs": [
    {
     "name": "stdout",
     "output_type": "stream",
     "text": [
      "[(7, 4), (7, 5), (7, 6), (7, 7), (8, 4), (8, 5), (8, 6), (8, 7), (9, 4), (9, 5), (9, 6), (9, 7)]\n"
     ]
    }
   ],
   "source": [
    "print(list(product(*num)))"
   ]
  },
  {
   "cell_type": "markdown",
   "id": "e03be99a",
   "metadata": {},
   "source": [
    "## Permutations"
   ]
  },
  {
   "cell_type": "code",
   "execution_count": 26,
   "id": "6ceb5cc9",
   "metadata": {},
   "outputs": [
    {
     "name": "stdout",
     "output_type": "stream",
     "text": [
      "[('X', 'Y', 'Z'), ('X', 'Z', 'Y'), ('Y', 'X', 'Z'), ('Y', 'Z', 'X'), ('Z', 'X', 'Y'), ('Z', 'Y', 'X')]\n"
     ]
    }
   ],
   "source": [
    "print(list(permutations(\"XYZ\",3)))"
   ]
  },
  {
   "cell_type": "code",
   "execution_count": 27,
   "id": "69001edd",
   "metadata": {},
   "outputs": [
    {
     "name": "stdout",
     "output_type": "stream",
     "text": [
      "[(1, 2), (1, 3), (2, 1), (2, 3), (3, 1), (3, 2)]\n"
     ]
    }
   ],
   "source": [
    "print(list(permutations(range(1,4),2)))"
   ]
  },
  {
   "cell_type": "code",
   "execution_count": 28,
   "id": "1fa7cc51",
   "metadata": {},
   "outputs": [
    {
     "name": "stdout",
     "output_type": "stream",
     "text": [
      "('A', 'B', 'C') ('A', 'C', 'B') ('B', 'A', 'C') ('B', 'C', 'A') ('C', 'A', 'B') ('C', 'B', 'A') "
     ]
    }
   ],
   "source": [
    "for i in permutations([\"A\",\"B\",\"C\"]):\n",
    "    print(i,end=\" \")\n",
    "    "
   ]
  },
  {
   "cell_type": "markdown",
   "id": "4a13dfd1",
   "metadata": {},
   "source": [
    "## Combination:"
   ]
  },
  {
   "cell_type": "code",
   "execution_count": 29,
   "id": "71706fc1",
   "metadata": {},
   "outputs": [
    {
     "name": "stdout",
     "output_type": "stream",
     "text": [
      "[('A', 'B'), ('A', 'C'), ('B', 'C')]\n"
     ]
    }
   ],
   "source": [
    "print(list(combinations(\"ABC\",2)))"
   ]
  },
  {
   "cell_type": "code",
   "execution_count": 30,
   "id": "30b62a56",
   "metadata": {},
   "outputs": [
    {
     "name": "stdout",
     "output_type": "stream",
     "text": [
      "[('A', 'B'), ('A', 'C'), ('B', 'A'), ('B', 'C'), ('C', 'A'), ('C', 'B')]\n"
     ]
    }
   ],
   "source": [
    "print(list(permutations(\"ABC\",2)))"
   ]
  },
  {
   "cell_type": "code",
   "execution_count": 33,
   "id": "b69c3e5d",
   "metadata": {},
   "outputs": [
    {
     "name": "stdout",
     "output_type": "stream",
     "text": [
      "[('1', '1'), ('1', '2'), ('1', '3'), ('2', '2'), ('2', '3'), ('3', '3')]\n"
     ]
    }
   ],
   "source": [
    "print(list(combinations_with_replacement(\"123\",2)))"
   ]
  },
  {
   "cell_type": "code",
   "execution_count": 34,
   "id": "103e1397",
   "metadata": {},
   "outputs": [
    {
     "name": "stdout",
     "output_type": "stream",
     "text": [
      "[('A', 'A'), ('A', 'B'), ('A', 'C'), ('B', 'B'), ('B', 'C'), ('C', 'C')]\n"
     ]
    }
   ],
   "source": [
    "print(list(combinations_with_replacement(\"ABC\",2)))"
   ]
  },
  {
   "cell_type": "code",
   "execution_count": 35,
   "id": "07b66eac",
   "metadata": {},
   "outputs": [],
   "source": [
    "l=list(range(1,7))"
   ]
  },
  {
   "cell_type": "code",
   "execution_count": 40,
   "id": "fb6ff374",
   "metadata": {},
   "outputs": [
    {
     "name": "stdout",
     "output_type": "stream",
     "text": [
      "[(1, 3, 6), (1, 4, 5), (2, 3, 5)]\n"
     ]
    }
   ],
   "source": [
    "## to generate combinations summing upto 10  \n",
    "print([result for result in combinations(l,3) if sum(result)==10])"
   ]
  },
  {
   "cell_type": "code",
   "execution_count": 39,
   "id": "e658d49a",
   "metadata": {},
   "outputs": [
    {
     "name": "stdout",
     "output_type": "stream",
     "text": [
      "[(1, 3, 6), (1, 4, 5), (1, 5, 4), (1, 6, 3), (2, 3, 5), (2, 5, 3), (3, 1, 6), (3, 2, 5), (3, 5, 2), (3, 6, 1), (4, 1, 5), (4, 5, 1), (5, 1, 4), (5, 2, 3), (5, 3, 2), (5, 4, 1), (6, 1, 3), (6, 3, 1)]\n"
     ]
    }
   ],
   "source": [
    "## to generate permutations summing upto 10  \n",
    "print([result for result in permutations(l,3) if sum(result)==10])"
   ]
  },
  {
   "cell_type": "code",
   "execution_count": 41,
   "id": "1538fbfa",
   "metadata": {},
   "outputs": [],
   "source": [
    "x=[1,2,3,4,5]\n",
    "y=[\"A\",\"B\",\"C\"]\n"
   ]
  },
  {
   "cell_type": "code",
   "execution_count": 42,
   "id": "b1f071b9",
   "metadata": {},
   "outputs": [
    {
     "name": "stdout",
     "output_type": "stream",
     "text": [
      "[(1, 'A'), (2, 'B'), (3, 'C'), (4, None), (5, None)]\n"
     ]
    }
   ],
   "source": [
    "print(list(zip_longest(x,y)))# fills default values for shortest argument exhausted"
   ]
  },
  {
   "cell_type": "code",
   "execution_count": 44,
   "id": "b142439a",
   "metadata": {},
   "outputs": [
    {
     "name": "stdout",
     "output_type": "stream",
     "text": [
      "[(1, 'A'), (2, 'B'), (3, 'C'), (4, 'NA'), (5, 'NA')]\n"
     ]
    }
   ],
   "source": [
    "print(list(zip_longest(x,y,fillvalue=\"NA\")))#"
   ]
  },
  {
   "cell_type": "code",
   "execution_count": 47,
   "id": "87832cf0",
   "metadata": {},
   "outputs": [
    {
     "name": "stdout",
     "output_type": "stream",
     "text": [
      "[7, 2, 3, 5, 6, 8, 9, 22, 55, 77]\n"
     ]
    }
   ],
   "source": [
    "print(num1)"
   ]
  },
  {
   "cell_type": "code",
   "execution_count": null,
   "id": "51fa3e99",
   "metadata": {},
   "outputs": [],
   "source": []
  },
  {
   "cell_type": "code",
   "execution_count": 50,
   "id": "7454225f",
   "metadata": {},
   "outputs": [
    {
     "name": "stdout",
     "output_type": "stream",
     "text": [
      "7\n",
      "2\n",
      "3\n",
      "5\n"
     ]
    }
   ],
   "source": [
    "part_num=islice(num1,4)\n",
    "for i in part_num:\n",
    "    print(i)"
   ]
  },
  {
   "cell_type": "code",
   "execution_count": 51,
   "id": "3cbe4952",
   "metadata": {},
   "outputs": [
    {
     "name": "stdout",
     "output_type": "stream",
     "text": [
      "3\n",
      "6\n",
      "9\n",
      "55\n"
     ]
    }
   ],
   "source": [
    "part_num=islice(num1,2,9,2)\n",
    "for i in part_num:\n",
    "    print(i)"
   ]
  },
  {
   "cell_type": "markdown",
   "id": "86dbb222",
   "metadata": {},
   "source": [
    "### StarMap"
   ]
  },
  {
   "cell_type": "code",
   "execution_count": 56,
   "id": "5aa8f39b",
   "metadata": {},
   "outputs": [
    {
     "name": "stdout",
     "output_type": "stream",
     "text": [
      "81 125 16 "
     ]
    }
   ],
   "source": [
    "import operator\n",
    "lst=[(3,4),(5,3),(2,4)]\n",
    "x=starmap(operator.pow,lst)\n",
    "for i in x:\n",
    "    print(i,end=\" \")"
   ]
  },
  {
   "cell_type": "code",
   "execution_count": 68,
   "id": "d603156f",
   "metadata": {},
   "outputs": [
    {
     "name": "stdout",
     "output_type": "stream",
     "text": [
      "['_abs', 'abs', 'add', 'and_', 'attrgetter', 'concat', 'contains', 'countOf', 'delitem', 'eq', 'floordiv', 'ge', 'getitem', 'gt', 'iadd', 'iand', 'iconcat', 'ifloordiv', 'ilshift', 'imatmul', 'imod', 'imul', 'index', 'indexOf', 'inv', 'invert', 'ior', 'ipow', 'irshift', 'is_', 'is_not', 'isub', 'itemgetter', 'itruediv', 'ixor', 'le', 'length_hint', 'lshift', 'lt', 'matmul', 'methodcaller', 'mod', 'mul', 'ne', 'neg', 'not_', 'or_', 'pos', 'pow', 'rshift', 'setitem', 'sub', 'truediv', 'truth', 'xor']\n"
     ]
    }
   ],
   "source": [
    "print([x for x in dir(operator) if not x.startswith( \"__\")])"
   ]
  },
  {
   "cell_type": "code",
   "execution_count": 70,
   "id": "c066ca40",
   "metadata": {},
   "outputs": [
    {
     "name": "stdout",
     "output_type": "stream",
     "text": [
      "12 15 8 "
     ]
    }
   ],
   "source": [
    "x=starmap(operator.mul,lst)\n",
    "for i in x:\n",
    "    print(i,end=\" \")"
   ]
  },
  {
   "cell_type": "code",
   "execution_count": 71,
   "id": "b8fb04e9",
   "metadata": {},
   "outputs": [
    {
     "name": "stdout",
     "output_type": "stream",
     "text": [
      "7 8 6 "
     ]
    }
   ],
   "source": [
    "x=starmap(operator.add,lst)\n",
    "for i in x:\n",
    "    print(i,end=\" \")"
   ]
  },
  {
   "cell_type": "code",
   "execution_count": null,
   "id": "59aca67b",
   "metadata": {},
   "outputs": [],
   "source": []
  }
 ],
 "metadata": {
  "kernelspec": {
   "display_name": "Python 3 (ipykernel)",
   "language": "python",
   "name": "python3"
  },
  "language_info": {
   "codemirror_mode": {
    "name": "ipython",
    "version": 3
   },
   "file_extension": ".py",
   "mimetype": "text/x-python",
   "name": "python",
   "nbconvert_exporter": "python",
   "pygments_lexer": "ipython3",
   "version": "3.10.0"
  }
 },
 "nbformat": 4,
 "nbformat_minor": 5
}
