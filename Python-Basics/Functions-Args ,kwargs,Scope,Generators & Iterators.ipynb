{
 "cells": [
  {
   "cell_type": "code",
   "execution_count": 3,
   "id": "ea31cb68",
   "metadata": {},
   "outputs": [],
   "source": [
    "def func1():\n",
    "    \"\"\"THis is my first function\"\"\"\n",
    "    print(\"hello function\")\n",
    "    "
   ]
  },
  {
   "cell_type": "code",
   "execution_count": 8,
   "id": "1f599f76",
   "metadata": {},
   "outputs": [
    {
     "name": "stdout",
     "output_type": "stream",
     "text": [
      "hello function\n"
     ]
    }
   ],
   "source": [
    "func1()"
   ]
  },
  {
   "cell_type": "code",
   "execution_count": 7,
   "id": "61886670",
   "metadata": {},
   "outputs": [
    {
     "data": {
      "text/plain": [
       "'THis is my first function'"
      ]
     },
     "execution_count": 7,
     "metadata": {},
     "output_type": "execute_result"
    }
   ],
   "source": [
    "func1.__doc__ # doc string in a function"
   ]
  },
  {
   "cell_type": "code",
   "execution_count": 9,
   "id": "0ab5b936",
   "metadata": {},
   "outputs": [],
   "source": [
    "func1?"
   ]
  },
  {
   "cell_type": "markdown",
   "id": "ce68f8b4",
   "metadata": {},
   "source": [
    "### Return Statement:"
   ]
  },
  {
   "cell_type": "code",
   "execution_count": 10,
   "id": "ac1943e9",
   "metadata": {},
   "outputs": [],
   "source": [
    "def test():\n",
    "    print(\"I wont return anything\")"
   ]
  },
  {
   "cell_type": "code",
   "execution_count": 12,
   "id": "44c27b2a",
   "metadata": {},
   "outputs": [
    {
     "name": "stdout",
     "output_type": "stream",
     "text": [
      "I wont return anything\n",
      "test returns None\n"
     ]
    }
   ],
   "source": [
    "x=test()\n",
    "print(f\"test returns {x}\")"
   ]
  },
  {
   "cell_type": "markdown",
   "id": "0b96bd29",
   "metadata": {},
   "source": [
    "HCF of a two  given nums using func"
   ]
  },
  {
   "cell_type": "code",
   "execution_count": 14,
   "id": "e07697e2",
   "metadata": {},
   "outputs": [],
   "source": [
    "def HCFeval(a,b):\n",
    "    smallnum= b if a>b else a\n",
    "    hcf=1\n",
    "    for i in range(1,smallnum+1):\n",
    "        if a % i==0 and b %i==0:\n",
    "            hcf=i\n",
    "    return hcf"
   ]
  },
  {
   "cell_type": "code",
   "execution_count": 18,
   "id": "d4d1ae76",
   "metadata": {},
   "outputs": [
    {
     "name": "stdout",
     "output_type": "stream",
     "text": [
      "HCF of 108,99 is : 9\n"
     ]
    }
   ],
   "source": [
    "a,b=108,99\n",
    "print(f\"HCF of {a},{b} is :\",HCFeval(a,b))"
   ]
  },
  {
   "cell_type": "code",
   "execution_count": 19,
   "id": "72238352",
   "metadata": {},
   "outputs": [],
   "source": [
    "def wordsplit(word,alphabet=[]):\n",
    "    for x in word:\n",
    "        alphabet.append(x)\n",
    "    print(alphabet)"
   ]
  },
  {
   "cell_type": "code",
   "execution_count": 20,
   "id": "fdf5887b",
   "metadata": {},
   "outputs": [
    {
     "name": "stdout",
     "output_type": "stream",
     "text": [
      "['I', 'n', 'd', 'u', 's', ' ', 'R', 'i', 'v', 'e', 'r']\n"
     ]
    }
   ],
   "source": [
    "wordsplit(\"Indus River\")"
   ]
  },
  {
   "cell_type": "code",
   "execution_count": 21,
   "id": "1404c9b4",
   "metadata": {},
   "outputs": [
    {
     "name": "stdout",
     "output_type": "stream",
     "text": [
      "['I', 'n', 'd', 'u', 's', ' ', 'R', 'i', 'v', 'e', 'r', 'G', 'a', 'n', 'g', 'a', ' ', 'R', 'i', 'v', 'e', 'r']\n"
     ]
    }
   ],
   "source": [
    "wordsplit(\"Ganga River\") ## since the default param is list which is mutable it adds to the existing context"
   ]
  },
  {
   "cell_type": "code",
   "execution_count": 24,
   "id": "47dbe391",
   "metadata": {},
   "outputs": [],
   "source": [
    "def wordsplit(word,alphabet=None):\n",
    "    if alphabet is None:\n",
    "        alphabet=[]        \n",
    "    for x in word:        \n",
    "        alphabet.append(x)\n",
    "    print(alphabet)"
   ]
  },
  {
   "cell_type": "code",
   "execution_count": 26,
   "id": "82c13767",
   "metadata": {},
   "outputs": [
    {
     "name": "stdout",
     "output_type": "stream",
     "text": [
      "['I', 'n', 'd', 'u', 's', 'R', 'i', 'v', 'e', 'r']\n"
     ]
    }
   ],
   "source": [
    "wordsplit(\"IndusRiver\")"
   ]
  },
  {
   "cell_type": "code",
   "execution_count": 27,
   "id": "372834c2",
   "metadata": {},
   "outputs": [
    {
     "name": "stdout",
     "output_type": "stream",
     "text": [
      "['G', 'a', 'n', 'g', 'e', 's']\n"
     ]
    }
   ],
   "source": [
    "wordsplit(\"Ganges\")"
   ]
  },
  {
   "cell_type": "markdown",
   "id": "8897a94a",
   "metadata": {},
   "source": [
    "## *args and ** kwargs\n",
    "*args- arbitary num of arguments in the form of tuple\n",
    "\n",
    "** kwargs- Keyword arguments which takes values in the form of dictionary "
   ]
  },
  {
   "cell_type": "code",
   "execution_count": 28,
   "id": "8921292c",
   "metadata": {},
   "outputs": [],
   "source": [
    "def test(*args):\n",
    "    print(args)\n",
    "    print(type(args))\n",
    "    print(sum(args))\n"
   ]
  },
  {
   "cell_type": "code",
   "execution_count": 29,
   "id": "3133a152",
   "metadata": {},
   "outputs": [
    {
     "name": "stdout",
     "output_type": "stream",
     "text": [
      "(1, 21, 19, 88)\n",
      "<class 'tuple'>\n",
      "129\n"
     ]
    }
   ],
   "source": [
    "test(1,21,19,88)"
   ]
  },
  {
   "cell_type": "code",
   "execution_count": 31,
   "id": "a25006d7",
   "metadata": {},
   "outputs": [],
   "source": [
    "def f_args(arg1,arg2,*args):\n",
    "    print(\"arg1\",arg1)\n",
    "    print(\"arg2\",arg2)\n",
    "    print(\"args\",args)"
   ]
  },
  {
   "cell_type": "code",
   "execution_count": 32,
   "id": "d1de9842",
   "metadata": {},
   "outputs": [
    {
     "name": "stdout",
     "output_type": "stream",
     "text": [
      "arg1 5\n",
      "arg2 6\n",
      "args (12, 38, 9)\n"
     ]
    }
   ],
   "source": [
    "f_args(5,6,12,38,9)"
   ]
  },
  {
   "cell_type": "code",
   "execution_count": 34,
   "id": "d4aa911a",
   "metadata": {},
   "outputs": [
    {
     "name": "stdout",
     "output_type": "stream",
     "text": [
      "arg1 5\n",
      "arg2 6\n",
      "args ()\n"
     ]
    }
   ],
   "source": [
    "f_args(5,6) # args will be blank "
   ]
  },
  {
   "cell_type": "code",
   "execution_count": 35,
   "id": "88af105d",
   "metadata": {},
   "outputs": [],
   "source": [
    "def f_args(arg1,*args,arg2):\n",
    "    print(\"arg1\",arg1)\n",
    "    print(\"arg2\",arg2)\n",
    "    print(\"args\",args)"
   ]
  },
  {
   "cell_type": "code",
   "execution_count": 37,
   "id": "ae7fd74c",
   "metadata": {},
   "outputs": [
    {
     "ename": "TypeError",
     "evalue": "f_args() missing 1 required keyword-only argument: 'arg2'",
     "output_type": "error",
     "traceback": [
      "\u001b[1;31m---------------------------------------------------------------------------\u001b[0m",
      "\u001b[1;31mTypeError\u001b[0m                                 Traceback (most recent call last)",
      "\u001b[1;32mC:\\Users\\AKSHAY~1.SRI\\AppData\\Local\\Temp/ipykernel_10060/3775001326.py\u001b[0m in \u001b[0;36m<module>\u001b[1;34m\u001b[0m\n\u001b[1;32m----> 1\u001b[1;33m \u001b[0mf_args\u001b[0m\u001b[1;33m(\u001b[0m\u001b[1;36m5\u001b[0m\u001b[1;33m,\u001b[0m\u001b[1;36m6\u001b[0m\u001b[1;33m,\u001b[0m\u001b[1;36m7\u001b[0m\u001b[1;33m,\u001b[0m\u001b[1;36m8\u001b[0m\u001b[1;33m,\u001b[0m\u001b[1;36m0\u001b[0m\u001b[1;33m)\u001b[0m\u001b[1;33m\u001b[0m\u001b[1;33m\u001b[0m\u001b[0m\n\u001b[0m",
      "\u001b[1;31mTypeError\u001b[0m: f_args() missing 1 required keyword-only argument: 'arg2'"
     ]
    }
   ],
   "source": [
    "f_args(5,6,7,8,0)"
   ]
  },
  {
   "cell_type": "code",
   "execution_count": 38,
   "id": "fe8f55b5",
   "metadata": {},
   "outputs": [
    {
     "name": "stdout",
     "output_type": "stream",
     "text": [
      "arg1 5\n",
      "arg2 Declare\n",
      "args (6, 7, 8, 0)\n"
     ]
    }
   ],
   "source": [
    "f_args(5,6,7,8,0,arg2=\"Declare\")"
   ]
  },
  {
   "cell_type": "code",
   "execution_count": 42,
   "id": "23c9ad05",
   "metadata": {},
   "outputs": [],
   "source": [
    "def even(*args):\n",
    "    even_list=[ x for x in args if x%2==0]\n",
    "    return even_list"
   ]
  },
  {
   "cell_type": "code",
   "execution_count": 43,
   "id": "8eb7e017",
   "metadata": {},
   "outputs": [
    {
     "name": "stdout",
     "output_type": "stream",
     "text": [
      "[10, 20, 400]\n"
     ]
    }
   ],
   "source": [
    "print(even(10,20,69,77,400))"
   ]
  },
  {
   "cell_type": "markdown",
   "id": "a9ff2d4c",
   "metadata": {},
   "source": [
    "## **Kwargs"
   ]
  },
  {
   "cell_type": "code",
   "execution_count": 47,
   "id": "379d7f80",
   "metadata": {},
   "outputs": [],
   "source": [
    "def studentinfo(**kwargs):\n",
    "    print(f\"The student name is {kwargs['name']} and is enrolled for {kwargs['course']} course\")"
   ]
  },
  {
   "cell_type": "code",
   "execution_count": 48,
   "id": "c252d28c",
   "metadata": {},
   "outputs": [
    {
     "name": "stdout",
     "output_type": "stream",
     "text": [
      "The student name is Honey and is enrolled for Python DS course\n"
     ]
    }
   ],
   "source": [
    "studentinfo(name=\"Honey\",course=\"Python DS\")"
   ]
  },
  {
   "cell_type": "code",
   "execution_count": 49,
   "id": "7e2a6614",
   "metadata": {},
   "outputs": [],
   "source": [
    "## Example with both args and kwargs"
   ]
  },
  {
   "cell_type": "code",
   "execution_count": 59,
   "id": "e1dcbece",
   "metadata": {},
   "outputs": [],
   "source": [
    "def totalsales(brand,*a,**k):\n",
    "    total=sum(a)\n",
    "    print(f\"The total sales for the {brand} for {k['day']} is : {total}$\")"
   ]
  },
  {
   "cell_type": "code",
   "execution_count": 60,
   "id": "7a820447",
   "metadata": {},
   "outputs": [
    {
     "name": "stdout",
     "output_type": "stream",
     "text": [
      "The total sales for the Nike for Tuesday is : 375$\n"
     ]
    }
   ],
   "source": [
    "totalsales(\"Nike\",10,20,300,45,day=\"Tuesday\")"
   ]
  },
  {
   "cell_type": "markdown",
   "id": "30e79e00",
   "metadata": {},
   "source": [
    "### Scope and life of Variables:"
   ]
  },
  {
   "cell_type": "code",
   "execution_count": 61,
   "id": "6b1648d9",
   "metadata": {},
   "outputs": [],
   "source": [
    "global_var=\"This is a Global Variable\"\n",
    "def testlifetime():\n",
    "    global_var=\"This is a local Variable\"\n",
    "    var=10\n",
    "    print(global_var)\n",
    "    print(var)\n",
    "    "
   ]
  },
  {
   "cell_type": "code",
   "execution_count": 62,
   "id": "05cbf4d8",
   "metadata": {},
   "outputs": [
    {
     "name": "stdout",
     "output_type": "stream",
     "text": [
      "This is a local Variable\n",
      "10\n"
     ]
    }
   ],
   "source": [
    "testlifetime()"
   ]
  },
  {
   "cell_type": "code",
   "execution_count": 65,
   "id": "0d8601f5",
   "metadata": {},
   "outputs": [
    {
     "name": "stdout",
     "output_type": "stream",
     "text": [
      "This is a Global Variable\n"
     ]
    },
    {
     "ename": "NameError",
     "evalue": "name 'var' is not defined",
     "output_type": "error",
     "traceback": [
      "\u001b[1;31m---------------------------------------------------------------------------\u001b[0m",
      "\u001b[1;31mNameError\u001b[0m                                 Traceback (most recent call last)",
      "\u001b[1;32mC:\\Users\\AKSHAY~1.SRI\\AppData\\Local\\Temp/ipykernel_10060/331523611.py\u001b[0m in \u001b[0;36m<module>\u001b[1;34m\u001b[0m\n\u001b[0;32m      1\u001b[0m \u001b[0mprint\u001b[0m\u001b[1;33m(\u001b[0m\u001b[0mglobal_var\u001b[0m\u001b[1;33m)\u001b[0m\u001b[1;33m\u001b[0m\u001b[1;33m\u001b[0m\u001b[0m\n\u001b[1;32m----> 2\u001b[1;33m \u001b[0mprint\u001b[0m\u001b[1;33m(\u001b[0m\u001b[0mvar\u001b[0m\u001b[1;33m)\u001b[0m\u001b[1;33m\u001b[0m\u001b[1;33m\u001b[0m\u001b[0m\n\u001b[0m",
      "\u001b[1;31mNameError\u001b[0m: name 'var' is not defined"
     ]
    }
   ],
   "source": [
    "print(global_var)\n",
    "print(var)"
   ]
  },
  {
   "cell_type": "code",
   "execution_count": 74,
   "id": "12baa7ee",
   "metadata": {},
   "outputs": [],
   "source": [
    "x=\"global var\"\n",
    "def test_life():\n",
    "    global x # it allows to change the global variable\n",
    "    x=\"Local var\"\n",
    "    print(x)"
   ]
  },
  {
   "cell_type": "code",
   "execution_count": 76,
   "id": "608c83e9",
   "metadata": {},
   "outputs": [
    {
     "name": "stdout",
     "output_type": "stream",
     "text": [
      "Local var\n"
     ]
    }
   ],
   "source": [
    "test_life()"
   ]
  },
  {
   "cell_type": "code",
   "execution_count": 77,
   "id": "a71ca9d6",
   "metadata": {},
   "outputs": [
    {
     "name": "stdout",
     "output_type": "stream",
     "text": [
      "Local var\n"
     ]
    }
   ],
   "source": [
    "print(x)"
   ]
  },
  {
   "cell_type": "markdown",
   "id": "340b825a",
   "metadata": {},
   "source": [
    "### Generators and Iterators:"
   ]
  },
  {
   "cell_type": "code",
   "execution_count": 79,
   "id": "00bd1694",
   "metadata": {},
   "outputs": [],
   "source": [
    "#generator stores the prev results and occupy less memory.\n",
    "def gen_fun():\n",
    "    for i in range(5):\n",
    "        yield i*20"
   ]
  },
  {
   "cell_type": "code",
   "execution_count": 90,
   "id": "9292b6b0",
   "metadata": {},
   "outputs": [
    {
     "name": "stdout",
     "output_type": "stream",
     "text": [
      "0 20 40 60 80\n"
     ]
    }
   ],
   "source": [
    "X=gen_fun()\n",
    "print(\" \".join(str(item) for item in X))"
   ]
  },
  {
   "cell_type": "code",
   "execution_count": 92,
   "id": "143dc4dc",
   "metadata": {},
   "outputs": [
    {
     "data": {
      "text/plain": [
       "0"
      ]
     },
     "execution_count": 92,
     "metadata": {},
     "output_type": "execute_result"
    }
   ],
   "source": [
    "y=gen_fun()\n"
   ]
  },
  {
   "cell_type": "code",
   "execution_count": 97,
   "id": "b9f4434e",
   "metadata": {},
   "outputs": [
    {
     "ename": "StopIteration",
     "evalue": "",
     "output_type": "error",
     "traceback": [
      "\u001b[1;31m---------------------------------------------------------------------------\u001b[0m",
      "\u001b[1;31mStopIteration\u001b[0m                             Traceback (most recent call last)",
      "\u001b[1;32mC:\\Users\\AKSHAY~1.SRI\\AppData\\Local\\Temp/ipykernel_10060/1131913922.py\u001b[0m in \u001b[0;36m<module>\u001b[1;34m\u001b[0m\n\u001b[1;32m----> 1\u001b[1;33m \u001b[0mnext\u001b[0m\u001b[1;33m(\u001b[0m\u001b[0my\u001b[0m\u001b[1;33m)\u001b[0m\u001b[1;33m\u001b[0m\u001b[1;33m\u001b[0m\u001b[0m\n\u001b[0m",
      "\u001b[1;31mStopIteration\u001b[0m: "
     ]
    }
   ],
   "source": [
    "next(y)"
   ]
  },
  {
   "cell_type": "code",
   "execution_count": 98,
   "id": "da160ca1",
   "metadata": {},
   "outputs": [],
   "source": [
    "next?"
   ]
  },
  {
   "cell_type": "code",
   "execution_count": 100,
   "id": "438a410b",
   "metadata": {},
   "outputs": [],
   "source": [
    "a=list([1,2,3,'a'])"
   ]
  },
  {
   "cell_type": "code",
   "execution_count": 101,
   "id": "8efc74cb",
   "metadata": {},
   "outputs": [
    {
     "data": {
      "text/plain": [
       "[1, 2, 3, 'a']"
      ]
     },
     "execution_count": 101,
     "metadata": {},
     "output_type": "execute_result"
    }
   ],
   "source": [
    "a"
   ]
  },
  {
   "cell_type": "code",
   "execution_count": 108,
   "id": "f21e16f8",
   "metadata": {},
   "outputs": [],
   "source": [
    "#next(a)\n",
    "b=iter(a)\n"
   ]
  },
  {
   "cell_type": "code",
   "execution_count": 109,
   "id": "6fdc1921",
   "metadata": {},
   "outputs": [
    {
     "name": "stdout",
     "output_type": "stream",
     "text": [
      "1\n",
      "2\n",
      "3\n",
      "a\n"
     ]
    }
   ],
   "source": [
    "for i in range(len(a)):\n",
    "    print(next(b))"
   ]
  },
  {
   "cell_type": "code",
   "execution_count": null,
   "id": "7abef48b",
   "metadata": {},
   "outputs": [],
   "source": []
  },
  {
   "cell_type": "code",
   "execution_count": null,
   "id": "035f2cb3",
   "metadata": {},
   "outputs": [],
   "source": []
  }
 ],
 "metadata": {
  "kernelspec": {
   "display_name": "Python 3 (ipykernel)",
   "language": "python",
   "name": "python3"
  },
  "language_info": {
   "codemirror_mode": {
    "name": "ipython",
    "version": 3
   },
   "file_extension": ".py",
   "mimetype": "text/x-python",
   "name": "python",
   "nbconvert_exporter": "python",
   "pygments_lexer": "ipython3",
   "version": "3.10.0"
  }
 },
 "nbformat": 4,
 "nbformat_minor": 5
}
