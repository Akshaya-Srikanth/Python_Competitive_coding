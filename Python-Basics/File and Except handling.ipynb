{
 "cells": [
  {
   "cell_type": "code",
   "execution_count": 1,
   "id": "3429f77d",
   "metadata": {},
   "outputs": [],
   "source": [
    "import os"
   ]
  },
  {
   "cell_type": "code",
   "execution_count": 5,
   "id": "2cbd478c",
   "metadata": {},
   "outputs": [
    {
     "data": {
      "text/plain": [
       "'C:\\\\Users\\\\akshaya.srikanth\\\\Desktop\\\\Python\\\\virtual environment\\\\Python-Topics'"
      ]
     },
     "execution_count": 5,
     "metadata": {},
     "output_type": "execute_result"
    }
   ],
   "source": [
    "os.getcwd()"
   ]
  },
  {
   "cell_type": "code",
   "execution_count": 8,
   "id": "1f64ae06",
   "metadata": {
    "scrolled": true
   },
   "outputs": [],
   "source": [
    "os.chdir(r'C:\\Users\\akshaya.srikanth\\Desktop\\Python\\virtual environment')"
   ]
  },
  {
   "cell_type": "code",
   "execution_count": 11,
   "id": "354ac536",
   "metadata": {},
   "outputs": [
    {
     "data": {
      "text/plain": [
       "['.gitignore',\n",
       " '.ipynb_checkpoints',\n",
       " '.vs',\n",
       " 'Lib',\n",
       " 'Pandas - Quater_1 Sales.csv',\n",
       " 'Python-Topics',\n",
       " 'pyvenv.cfg',\n",
       " 'sample.txt',\n",
       " 'Scripts',\n",
       " 'Untitled.ipynb']"
      ]
     },
     "execution_count": 11,
     "metadata": {},
     "output_type": "execute_result"
    }
   ],
   "source": [
    "os.listdir()"
   ]
  },
  {
   "cell_type": "code",
   "execution_count": 13,
   "id": "43093294",
   "metadata": {},
   "outputs": [],
   "source": [
    "f1=open('sample.txt')"
   ]
  },
  {
   "cell_type": "code",
   "execution_count": 14,
   "id": "d9e4ac4b",
   "metadata": {},
   "outputs": [
    {
     "data": {
      "text/plain": [
       "_io.TextIOWrapper"
      ]
     },
     "execution_count": 14,
     "metadata": {},
     "output_type": "execute_result"
    }
   ],
   "source": [
    "type(f1)"
   ]
  },
  {
   "cell_type": "code",
   "execution_count": 15,
   "id": "6d5917c4",
   "metadata": {},
   "outputs": [
    {
     "name": "stdout",
     "output_type": "stream",
     "text": [
      "<_io.TextIOWrapper name='sample.txt' mode='r' encoding='cp1252'>\n"
     ]
    }
   ],
   "source": [
    "print(f1)"
   ]
  },
  {
   "cell_type": "markdown",
   "id": "fa17f23c",
   "metadata": {},
   "source": [
    "### Reading data from a file:"
   ]
  },
  {
   "cell_type": "code",
   "execution_count": 19,
   "id": "cd58b9c6",
   "metadata": {},
   "outputs": [
    {
     "data": {
      "text/plain": [
       "'gk\\tn,cahbj'"
      ]
     },
     "execution_count": 19,
     "metadata": {},
     "output_type": "execute_result"
    }
   ],
   "source": [
    "f1.read(10)"
   ]
  },
  {
   "cell_type": "code",
   "execution_count": 28,
   "id": "318e2840",
   "metadata": {},
   "outputs": [
    {
     "name": "stdout",
     "output_type": "stream",
     "text": [
      "f2hqkfgu`qlugk\tn,cahbjzsrxdtcfygvubhijnmk,l;'.'\n",
      "/jnbhgvcfxddcfgvbhjnmk,l;.,lmkjnbhvcrxezwexcrunm'.,m\n"
     ]
    }
   ],
   "source": [
    "print(f1.read(100),sep='\\t')"
   ]
  },
  {
   "cell_type": "code",
   "execution_count": 37,
   "id": "3358bb99",
   "metadata": {},
   "outputs": [
    {
     "data": {
      "text/plain": [
       "176"
      ]
     },
     "execution_count": 37,
     "metadata": {},
     "output_type": "execute_result"
    }
   ],
   "source": [
    "#current position of cursor\n",
    "f1.tell()"
   ]
  },
  {
   "cell_type": "code",
   "execution_count": 40,
   "id": "3a1eec07",
   "metadata": {},
   "outputs": [
    {
     "data": {
      "text/plain": [
       "0"
      ]
     },
     "execution_count": 40,
     "metadata": {},
     "output_type": "execute_result"
    }
   ],
   "source": [
    "f1.seek(0) # to change the cursor position"
   ]
  },
  {
   "cell_type": "code",
   "execution_count": 39,
   "id": "594a1404",
   "metadata": {},
   "outputs": [
    {
     "data": {
      "text/plain": [
       "\"f2hqkfgu`qlugk\\tn,cahbjzsrxdtcfygvubhijnmk,l;'.'\\n\""
      ]
     },
     "execution_count": 39,
     "metadata": {},
     "output_type": "execute_result"
    }
   ],
   "source": [
    "f1.readline()"
   ]
  },
  {
   "cell_type": "code",
   "execution_count": 41,
   "id": "4153a362",
   "metadata": {},
   "outputs": [
    {
     "data": {
      "text/plain": [
       "[\"f2hqkfgu`qlugk\\tn,cahbjzsrxdtcfygvubhijnmk,l;'.'\\n\",\n",
       " \"/jnbhgvcfxddcfgvbhjnmk,l;.,lmkjnbhvcrxezwexcrunm'.,minvytcrxecrtvmop,.[/].[,mnvcrxezxcrn,./.[p,mnbycrxexrcp,.[/\\n\",\n",
       " '\\n',\n",
       " 'xctvybunm,./']"
      ]
     },
     "execution_count": 41,
     "metadata": {},
     "output_type": "execute_result"
    }
   ],
   "source": [
    "f1.readlines() # reads entire file as list data structure"
   ]
  },
  {
   "cell_type": "code",
   "execution_count": 42,
   "id": "1c1d4cb5",
   "metadata": {},
   "outputs": [],
   "source": [
    "f1.close()"
   ]
  },
  {
   "cell_type": "markdown",
   "id": "8117330f",
   "metadata": {},
   "source": [
    "### Rename /Del a file"
   ]
  },
  {
   "cell_type": "code",
   "execution_count": 44,
   "id": "39c6d721",
   "metadata": {},
   "outputs": [],
   "source": [
    "os.rename('sample.txt','sample_revised.txt')"
   ]
  },
  {
   "cell_type": "code",
   "execution_count": 45,
   "id": "bbd6b899",
   "metadata": {},
   "outputs": [],
   "source": [
    "os.remove('sample_revised.txt')"
   ]
  },
  {
   "cell_type": "code",
   "execution_count": 46,
   "id": "fb44583b",
   "metadata": {},
   "outputs": [],
   "source": [
    "f1=open('sample_revised.txt',mode='w')"
   ]
  },
  {
   "cell_type": "code",
   "execution_count": 47,
   "id": "5081785e",
   "metadata": {},
   "outputs": [
    {
     "data": {
      "text/plain": [
       "41"
      ]
     },
     "execution_count": 47,
     "metadata": {},
     "output_type": "execute_result"
    }
   ],
   "source": [
    "f1.write(\"We can add lines using the write function\")"
   ]
  },
  {
   "cell_type": "code",
   "execution_count": 48,
   "id": "0227321a",
   "metadata": {},
   "outputs": [],
   "source": [
    "f1.close()"
   ]
  },
  {
   "cell_type": "code",
   "execution_count": 50,
   "id": "ce48ef2d",
   "metadata": {},
   "outputs": [
    {
     "data": {
      "text/plain": [
       "31"
      ]
     },
     "execution_count": 50,
     "metadata": {},
     "output_type": "execute_result"
    }
   ],
   "source": [
    "f1=open('sample_revised.txt',mode='w')\n",
    "f1.write(\"Once again Im writing something\")"
   ]
  },
  {
   "cell_type": "code",
   "execution_count": 51,
   "id": "b6787700",
   "metadata": {},
   "outputs": [],
   "source": [
    "f1.close()"
   ]
  },
  {
   "cell_type": "code",
   "execution_count": 57,
   "id": "feb3e365",
   "metadata": {},
   "outputs": [],
   "source": [
    "f1=open('sample_revised.txt',mode='a')"
   ]
  },
  {
   "cell_type": "code",
   "execution_count": 58,
   "id": "d843a21c",
   "metadata": {},
   "outputs": [
    {
     "data": {
      "text/plain": [
       "23"
      ]
     },
     "execution_count": 58,
     "metadata": {},
     "output_type": "execute_result"
    }
   ],
   "source": [
    "f1.write(\"Iam appending some text\")"
   ]
  },
  {
   "cell_type": "code",
   "execution_count": 59,
   "id": "f0b43b66",
   "metadata": {},
   "outputs": [],
   "source": [
    "f1.writelines(\"Python \\n swift\\n java \\n scala\\n\")"
   ]
  },
  {
   "cell_type": "code",
   "execution_count": 63,
   "id": "2051412e",
   "metadata": {},
   "outputs": [
    {
     "name": "stdout",
     "output_type": "stream",
     "text": [
      "['ArithmeticError', 'AssertionError', 'AttributeError', 'BaseException', 'BlockingIOError', 'BrokenPipeError', 'BufferError', 'BytesWarning', 'ChildProcessError', 'ConnectionAbortedError', 'ConnectionError', 'ConnectionRefusedError', 'ConnectionResetError', 'DeprecationWarning', 'EOFError', 'Ellipsis', 'EncodingWarning', 'EnvironmentError', 'Exception', 'False', 'FileExistsError', 'FileNotFoundError', 'FloatingPointError', 'FutureWarning', 'GeneratorExit', 'IOError', 'ImportError', 'ImportWarning', 'IndentationError', 'IndexError', 'InterruptedError', 'IsADirectoryError', 'KeyError', 'KeyboardInterrupt', 'LookupError', 'MemoryError', 'ModuleNotFoundError', 'NameError', 'None', 'NotADirectoryError', 'NotImplemented', 'NotImplementedError', 'OSError', 'OverflowError', 'PendingDeprecationWarning', 'PermissionError', 'ProcessLookupError', 'RecursionError', 'ReferenceError', 'ResourceWarning', 'RuntimeError', 'RuntimeWarning', 'StopAsyncIteration', 'StopIteration', 'SyntaxError', 'SyntaxWarning', 'SystemError', 'SystemExit', 'TabError', 'TimeoutError', 'True', 'TypeError', 'UnboundLocalError', 'UnicodeDecodeError', 'UnicodeEncodeError', 'UnicodeError', 'UnicodeTranslateError', 'UnicodeWarning', 'UserWarning', 'ValueError', 'Warning', 'WindowsError', 'ZeroDivisionError', '__IPYTHON__', '__build_class__', '__debug__', '__doc__', '__import__', '__loader__', '__name__', '__package__', '__spec__', 'abs', 'aiter', 'all', 'anext', 'any', 'ascii', 'bin', 'bool', 'breakpoint', 'bytearray', 'bytes', 'callable', 'chr', 'classmethod', 'compile', 'complex', 'copyright', 'credits', 'delattr', 'dict', 'dir', 'display', 'divmod', 'enumerate', 'eval', 'exec', 'execfile', 'filter', 'float', 'format', 'frozenset', 'get_ipython', 'getattr', 'globals', 'hasattr', 'hash', 'help', 'hex', 'id', 'input', 'int', 'isinstance', 'issubclass', 'iter', 'len', 'license', 'list', 'locals', 'map', 'max', 'memoryview', 'min', 'next', 'object', 'oct', 'open', 'ord', 'pow', 'print', 'property', 'range', 'repr', 'reversed', 'round', 'runfile', 'set', 'setattr', 'slice', 'sorted', 'staticmethod', 'str', 'sum', 'super', 'tuple', 'type', 'vars', 'zip']\n"
     ]
    }
   ],
   "source": [
    "print(dir(__builtins__))#types of errors in python"
   ]
  },
  {
   "cell_type": "code",
   "execution_count": 64,
   "id": "9cdfa6e2",
   "metadata": {},
   "outputs": [],
   "source": [
    "import sys"
   ]
  },
  {
   "cell_type": "code",
   "execution_count": 65,
   "id": "5093aad0",
   "metadata": {},
   "outputs": [],
   "source": [
    "lst=[10,20,'26','b',0.5]"
   ]
  },
  {
   "cell_type": "code",
   "execution_count": 66,
   "id": "af1c1919",
   "metadata": {},
   "outputs": [
    {
     "name": "stdout",
     "output_type": "stream",
     "text": [
      "The entry is 10\n",
      "The entry is 20\n",
      "The entry is 26\n",
      "The entry is b\n",
      "OOPS!! <class 'ValueError'> ocurred\n",
      "************************\n",
      "The entry is 0.5\n",
      "OOPS!! <class 'ZeroDivisionError'> ocurred\n",
      "************************\n",
      "The reciprocal of:  0.5 is 0.038461538461538464\n"
     ]
    }
   ],
   "source": [
    "for entry in lst:\n",
    "    try:\n",
    "        print(\"The entry is\",entry)\n",
    "        r=1/int(entry)\n",
    "    except:\n",
    "        print(\"OOPS!!\",sys.exc_info()[0],\"ocurred\")\n",
    "        print(\"************************\")\n",
    "print(\"The reciprocal of: \",entry,\"is\",r)"
   ]
  },
  {
   "cell_type": "code",
   "execution_count": 68,
   "id": "e9e4eb13",
   "metadata": {},
   "outputs": [
    {
     "name": "stdout",
     "output_type": "stream",
     "text": [
      "***************************\n",
      "The entry is 10\n",
      "***************************\n",
      "The entry is 20\n",
      "***************************\n",
      "The entry is 26\n",
      "***************************\n",
      "The entry is b\n",
      "this is a value error\n",
      "***************************\n",
      "The entry is 0.5\n",
      "this is a ZeroDivisionError error\n",
      "The reciprocal of:  0.5 is 0.038461538461538464\n"
     ]
    }
   ],
   "source": [
    "for i in lst:\n",
    "    try:\n",
    "        print(\"***************************\")\n",
    "        print(\"The entry is\",i)\n",
    "        r=1/int(i)\n",
    "    except(ValueError):\n",
    "        print(\"this is a value error\")\n",
    "    except(ZeroDivisionError):\n",
    "        print(\"this is a ZeroDivisionError error\")\n",
    "print(\"The reciprocal of: \",entry,\"is\",r)\n",
    "        "
   ]
  },
  {
   "cell_type": "markdown",
   "id": "f5fb5ae2",
   "metadata": {},
   "source": [
    "### Raising Execeptions`"
   ]
  },
  {
   "cell_type": "code",
   "execution_count": 69,
   "id": "313adc7c",
   "metadata": {},
   "outputs": [
    {
     "ename": "KeyboardInterrupt",
     "evalue": "",
     "output_type": "error",
     "traceback": [
      "\u001b[1;31m---------------------------------------------------------------------------\u001b[0m",
      "\u001b[1;31mKeyboardInterrupt\u001b[0m                         Traceback (most recent call last)",
      "\u001b[1;32mC:\\Users\\AKSHAY~1.SRI\\AppData\\Local\\Temp/ipykernel_13920/2006531705.py\u001b[0m in \u001b[0;36m<module>\u001b[1;34m\u001b[0m\n\u001b[1;32m----> 1\u001b[1;33m \u001b[1;32mraise\u001b[0m \u001b[0mKeyboardInterrupt\u001b[0m\u001b[1;33m\u001b[0m\u001b[1;33m\u001b[0m\u001b[0m\n\u001b[0m",
      "\u001b[1;31mKeyboardInterrupt\u001b[0m: "
     ]
    }
   ],
   "source": [
    "raise KeyboardInterrupt"
   ]
  },
  {
   "cell_type": "code",
   "execution_count": 70,
   "id": "0121ab2c",
   "metadata": {},
   "outputs": [
    {
     "name": "stdout",
     "output_type": "stream",
     "text": [
      "Enter a postive val-88\n",
      "Error:Entered a negative number\n"
     ]
    }
   ],
   "source": [
    "try:\n",
    "    num=int(input(\"Enter a postive val\"))\n",
    "    if(num<=0):\n",
    "        raise ValueError(\"Error:Entered a negative number\")\n",
    "except ValueError as e:\n",
    "    print(e)\n",
    "        "
   ]
  },
  {
   "cell_type": "code",
   "execution_count": 76,
   "id": "7eb1b789",
   "metadata": {},
   "outputs": [],
   "source": [
    "def ENter_a_Num():\n",
    "    while True:\n",
    "        try:\n",
    "            result=int(input(\"please provide a number:\"))\n",
    "        except:\n",
    "            print(\"Ohh!This is not a number\")\n",
    "            continue\n",
    "        else:\n",
    "            print(\"Yes thankyou\")\n",
    "            break\n",
    "        finally:\n",
    "            print(\"End of try except finally\")\n",
    "            print(\"I will always run in the end\")"
   ]
  },
  {
   "cell_type": "code",
   "execution_count": 77,
   "id": "d4b4bfdd",
   "metadata": {},
   "outputs": [
    {
     "name": "stdout",
     "output_type": "stream",
     "text": [
      "please provide a number:4\n",
      "Yes thankyou\n",
      "End of try except finally\n",
      "I will always run in the end\n"
     ]
    }
   ],
   "source": [
    "ENter_a_Num()"
   ]
  },
  {
   "cell_type": "code",
   "execution_count": 78,
   "id": "e64577ed",
   "metadata": {},
   "outputs": [],
   "source": [
    "import os,socket\n",
    "from datetime import datetime"
   ]
  },
  {
   "cell_type": "code",
   "execution_count": 83,
   "id": "1d9de3a7",
   "metadata": {},
   "outputs": [
    {
     "name": "stdout",
     "output_type": "stream",
     "text": [
      "Enter your age:10\n",
      "Something is wrong\n"
     ]
    }
   ],
   "source": [
    "lstofErrors=[]\n",
    "UserName=[]\n",
    "Time=[]\n",
    "def enterage(age):\n",
    "    if age < 0:\n",
    "        raise ValueError(\"Only postive integers are allowed\")\n",
    "        lstofErrors.append(ValueError(\"Only postive integers are allowed\"))\n",
    "        UserName.append(os.getlogin())\n",
    "        now=datetime.now()\n",
    "        dt_string =now.strftime(\"%d %m %Y %H:%M:%S\")\n",
    "        Time.append(dt_string)\n",
    "    if age % 2 == 0:\n",
    "        print(\"Age is even\")\n",
    "    else:\n",
    "        print(\"Age is odd\")\n",
    "        \n",
    "try:\n",
    "    num=int(input('Enter your age:'))\n",
    "    eneterage(num)\n",
    "    \n",
    "except ValueError:\n",
    "    print(\"Only Postive integers are allowed\")\n",
    "    lstofErrors.append(ValueError(\"Only postive integers are allowed\"))\n",
    "    UserName.append(os.getlogin())\n",
    "    now=datetime.now()\n",
    "    dt_string =now.strftime(\"%d %m %Y %H:%M:%S\")\n",
    "    Time.append(dt_string)\n",
    "except :\n",
    "    print(\"Something is wrong\")\n",
    "    lstofErrors.append(ValueError(\"Only postive integers are allowed\"))\n",
    "    UserName.append(os.getlogin())\n",
    "    now=datetime.now()\n",
    "    dt_string =now.strftime(\"%d %m %Y %H:%M:%S\")\n",
    "    Time.append(dt_string)\n",
    "hostname=socket.gethostname()\n",
    "ip_addr=socket.gethostbyname(hostname)\n",
    "\n",
    "    \n",
    "    \n"
   ]
  },
  {
   "cell_type": "code",
   "execution_count": 85,
   "id": "be476a36",
   "metadata": {},
   "outputs": [
    {
     "name": "stdout",
     "output_type": "stream",
     "text": [
      "UserName:  ['akshaya.srikanth']\n",
      "Time: ['01 01 2022 18:12:14']\n",
      "Error name: [ValueError('Only postive integers are allowed')]\n",
      "IP_Address: 192.168.0.104\n"
     ]
    }
   ],
   "source": [
    "print(\"UserName: \",UserName)\n",
    "print(\"Time:\",Time)\n",
    "print(\"Error name:\",lstofErrors)\n",
    "print(\"IP_Address:\",ip_addr)"
   ]
  },
  {
   "cell_type": "code",
   "execution_count": null,
   "id": "e6694421",
   "metadata": {},
   "outputs": [],
   "source": []
  }
 ],
 "metadata": {
  "kernelspec": {
   "display_name": "Python 3 (ipykernel)",
   "language": "python",
   "name": "python3"
  },
  "language_info": {
   "codemirror_mode": {
    "name": "ipython",
    "version": 3
   },
   "file_extension": ".py",
   "mimetype": "text/x-python",
   "name": "python",
   "nbconvert_exporter": "python",
   "pygments_lexer": "ipython3",
   "version": "3.10.0"
  }
 },
 "nbformat": 4,
 "nbformat_minor": 5
}
