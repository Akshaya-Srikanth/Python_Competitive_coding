{
 "cells": [
  {
   "cell_type": "markdown",
   "id": "79279754",
   "metadata": {},
   "source": [
    "##Dictionary  with mixed keys"
   ]
  },
  {
   "cell_type": "markdown",
   "id": "d16e74be",
   "metadata": {},
   "source": [
    "creating dictionary with list of tuples"
   ]
  },
  {
   "cell_type": "code",
   "execution_count": 4,
   "id": "30d902a7",
   "metadata": {},
   "outputs": [],
   "source": [
    "d=dict([(1,\"abc\"),(2,\"xyz\")])"
   ]
  },
  {
   "cell_type": "code",
   "execution_count": 5,
   "id": "204ac161",
   "metadata": {},
   "outputs": [
    {
     "data": {
      "text/plain": [
       "{1: 'abc', 2: 'xyz'}"
      ]
     },
     "execution_count": 5,
     "metadata": {},
     "output_type": "execute_result"
    }
   ],
   "source": [
    "d"
   ]
  },
  {
   "cell_type": "markdown",
   "id": "230b1280",
   "metadata": {},
   "source": [
    "Dictionary Access"
   ]
  },
  {
   "cell_type": "markdown",
   "id": "6c1bbff1",
   "metadata": {},
   "source": [
    "1st method"
   ]
  },
  {
   "cell_type": "code",
   "execution_count": 6,
   "id": "f16d1923",
   "metadata": {},
   "outputs": [
    {
     "data": {
      "text/plain": [
       "'abc'"
      ]
     },
     "execution_count": 6,
     "metadata": {},
     "output_type": "execute_result"
    }
   ],
   "source": [
    "d[1]"
   ]
  },
  {
   "cell_type": "markdown",
   "id": "01cb5f9d",
   "metadata": {},
   "source": [
    "2nd method:Get Method #incase dictionary key is unavailable it wont throw an exception if its available it simply returns the element value"
   ]
  },
  {
   "cell_type": "code",
   "execution_count": 7,
   "id": "b259b6a2",
   "metadata": {},
   "outputs": [
    {
     "data": {
      "text/plain": [
       "'abc'"
      ]
     },
     "execution_count": 7,
     "metadata": {},
     "output_type": "execute_result"
    }
   ],
   "source": [
    "d.get(1) #"
   ]
  },
  {
   "cell_type": "code",
   "execution_count": 8,
   "id": "1a3c46b1",
   "metadata": {},
   "outputs": [],
   "source": [
    "d.get(3) "
   ]
  },
  {
   "cell_type": "raw",
   "id": "65786328",
   "metadata": {},
   "source": [
    "Dictionary Update: If the key matches it updates the current value else it simply accomodates the new key value pairs"
   ]
  },
  {
   "cell_type": "code",
   "execution_count": 9,
   "id": "8a18f643",
   "metadata": {},
   "outputs": [],
   "source": [
    "d1={'a':30,'b':40,'c':70}\n",
    "d2={'aa':\"Abs\",\"c\":90,\"B\":100}\n",
    "d1.update(d2)"
   ]
  },
  {
   "cell_type": "code",
   "execution_count": 10,
   "id": "95f7eb8b",
   "metadata": {},
   "outputs": [
    {
     "data": {
      "text/plain": [
       "{'a': 30, 'b': 40, 'c': 90, 'aa': 'Abs', 'B': 100}"
      ]
     },
     "execution_count": 10,
     "metadata": {},
     "output_type": "execute_result"
    }
   ],
   "source": [
    "d1"
   ]
  },
  {
   "cell_type": "code",
   "execution_count": 11,
   "id": "ddbb19b5",
   "metadata": {},
   "outputs": [],
   "source": [
    "d1.update(c=400,aa=199)"
   ]
  },
  {
   "cell_type": "code",
   "execution_count": 12,
   "id": "9f8b9dc5",
   "metadata": {},
   "outputs": [
    {
     "data": {
      "text/plain": [
       "{'a': 30, 'b': 40, 'c': 400, 'aa': 199, 'B': 100}"
      ]
     },
     "execution_count": 12,
     "metadata": {},
     "output_type": "execute_result"
    }
   ],
   "source": [
    "d1"
   ]
  },
  {
   "cell_type": "markdown",
   "id": "bb717912",
   "metadata": {},
   "source": [
    "To add another key to the dictionary"
   ]
  },
  {
   "cell_type": "code",
   "execution_count": 13,
   "id": "7e050bc5",
   "metadata": {},
   "outputs": [],
   "source": [
    "d1[\"m\"]=888"
   ]
  },
  {
   "cell_type": "code",
   "execution_count": 14,
   "id": "9e75f221",
   "metadata": {},
   "outputs": [
    {
     "data": {
      "text/plain": [
       "{'a': 30, 'b': 40, 'c': 400, 'aa': 199, 'B': 100, 'm': 888}"
      ]
     },
     "execution_count": 14,
     "metadata": {},
     "output_type": "execute_result"
    }
   ],
   "source": [
    "d1"
   ]
  },
  {
   "cell_type": "markdown",
   "id": "158ef4fb",
   "metadata": {},
   "source": [
    "Dictionary deletion/Removal of an element"
   ]
  },
  {
   "cell_type": "code",
   "execution_count": 16,
   "id": "8a498581",
   "metadata": {},
   "outputs": [
    {
     "data": {
      "text/plain": [
       "199"
      ]
     },
     "execution_count": 16,
     "metadata": {},
     "output_type": "execute_result"
    }
   ],
   "source": [
    "d1.pop(\"aa\")#based on the dict key we can del an element"
   ]
  },
  {
   "cell_type": "code",
   "execution_count": 17,
   "id": "b7eb5c7a",
   "metadata": {},
   "outputs": [
    {
     "data": {
      "text/plain": [
       "{'a': 30, 'b': 40, 'c': 400, 'B': 100, 'm': 888}"
      ]
     },
     "execution_count": 17,
     "metadata": {},
     "output_type": "execute_result"
    }
   ],
   "source": [
    "d1"
   ]
  },
  {
   "cell_type": "code",
   "execution_count": null,
   "id": "e473130e",
   "metadata": {},
   "outputs": [],
   "source": []
  },
  {
   "cell_type": "markdown",
   "id": "524e186e",
   "metadata": {},
   "source": [
    "# PopItem():Removes a random key-val pair from the dict and the return type is tuple"
   ]
  },
  {
   "cell_type": "code",
   "execution_count": 18,
   "id": "d51f9a6d",
   "metadata": {},
   "outputs": [
    {
     "data": {
      "text/plain": [
       "('m', 888)"
      ]
     },
     "execution_count": 18,
     "metadata": {},
     "output_type": "execute_result"
    }
   ],
   "source": [
    "d1.popitem()"
   ]
  },
  {
   "cell_type": "code",
   "execution_count": 19,
   "id": "a1ee22e1",
   "metadata": {},
   "outputs": [],
   "source": [
    "d2.clear() # to clear the dict"
   ]
  },
  {
   "cell_type": "code",
   "execution_count": 20,
   "id": "cd16272a",
   "metadata": {},
   "outputs": [
    {
     "data": {
      "text/plain": [
       "{}"
      ]
     },
     "execution_count": 20,
     "metadata": {},
     "output_type": "execute_result"
    }
   ],
   "source": [
    "d2"
   ]
  },
  {
   "cell_type": "markdown",
   "id": "410320a1",
   "metadata": {},
   "source": [
    "Copy one  dictionary to another"
   ]
  },
  {
   "cell_type": "code",
   "execution_count": 21,
   "id": "7f5954ec",
   "metadata": {},
   "outputs": [],
   "source": [
    "d2=d1.copy()"
   ]
  },
  {
   "cell_type": "code",
   "execution_count": 22,
   "id": "c84ff3ae",
   "metadata": {},
   "outputs": [
    {
     "data": {
      "text/plain": [
       "{'a': 30, 'b': 40, 'c': 400, 'B': 100}"
      ]
     },
     "execution_count": 22,
     "metadata": {},
     "output_type": "execute_result"
    }
   ],
   "source": [
    "d2"
   ]
  },
  {
   "cell_type": "code",
   "execution_count": 23,
   "id": "e503cce8",
   "metadata": {},
   "outputs": [],
   "source": [
    "d3=d1"
   ]
  },
  {
   "cell_type": "code",
   "execution_count": 24,
   "id": "a45cfd72",
   "metadata": {},
   "outputs": [
    {
     "data": {
      "text/plain": [
       "{'a': 30, 'b': 40, 'c': 400, 'B': 100}"
      ]
     },
     "execution_count": 24,
     "metadata": {},
     "output_type": "execute_result"
    }
   ],
   "source": [
    "d3"
   ]
  },
  {
   "cell_type": "code",
   "execution_count": 28,
   "id": "a0e31838",
   "metadata": {},
   "outputs": [
    {
     "name": "stdout",
     "output_type": "stream",
     "text": [
      "False\n"
     ]
    }
   ],
   "source": [
    "if d1 is d2: # is is a membership operator which checks the data resides on the same memory loc or not\n",
    "    print(\"True\")\n",
    "else:\n",
    "    print(\"False\")\n",
    "    # For copies the mem loc changes"
   ]
  },
  {
   "cell_type": "code",
   "execution_count": 30,
   "id": "ba9554e5",
   "metadata": {},
   "outputs": [
    {
     "name": "stdout",
     "output_type": "stream",
     "text": [
      "True\n"
     ]
    }
   ],
   "source": [
    "if d1 is d3: # is is a membership operator which checks the data resides on the same memory loc or not\n",
    "    print(\"True\")\n",
    "else:\n",
    "    print(\"False\")\n",
    "    # when a variable/list/tuple/dict is directly assigned to another then along w/ the elements its memory loc is also copied to the new variable/iterable object."
   ]
  },
  {
   "cell_type": "code",
   "execution_count": 32,
   "id": "225aa404",
   "metadata": {},
   "outputs": [
    {
     "data": {
      "text/plain": [
       "dict_keys(['a', 'b', 'c', 'B'])"
      ]
     },
     "execution_count": 32,
     "metadata": {},
     "output_type": "execute_result"
    }
   ],
   "source": [
    "d1.keys()"
   ]
  },
  {
   "cell_type": "markdown",
   "id": "a6677956",
   "metadata": {},
   "source": [
    "# sorting keys of dict"
   ]
  },
  {
   "cell_type": "code",
   "execution_count": 34,
   "id": "0c6018c6",
   "metadata": {},
   "outputs": [
    {
     "data": {
      "text/plain": [
       "['B', 'a', 'b', 'c']"
      ]
     },
     "execution_count": 34,
     "metadata": {},
     "output_type": "execute_result"
    }
   ],
   "source": [
    "sorted(list(d1.keys()))"
   ]
  },
  {
   "cell_type": "code",
   "execution_count": 40,
   "id": "bf740aef",
   "metadata": {},
   "outputs": [],
   "source": [
    "d1.update(B= [333,111,777,10,56])"
   ]
  },
  {
   "cell_type": "code",
   "execution_count": 41,
   "id": "90543ec4",
   "metadata": {},
   "outputs": [
    {
     "data": {
      "text/plain": [
       "[777, 333, 111, 56, 10]"
      ]
     },
     "execution_count": 41,
     "metadata": {},
     "output_type": "execute_result"
    }
   ],
   "source": [
    "sorted(d1.get('B'),reverse=True)"
   ]
  },
  {
   "cell_type": "code",
   "execution_count": 42,
   "id": "386fccb6",
   "metadata": {},
   "outputs": [],
   "source": [
    "d1.update(B=sorted(d1.get('B'),reverse=True))"
   ]
  },
  {
   "cell_type": "code",
   "execution_count": 43,
   "id": "db4dd05e",
   "metadata": {},
   "outputs": [
    {
     "data": {
      "text/plain": [
       "{'a': 30, 'b': 40, 'c': 400, 'B': [777, 333, 111, 56, 10]}"
      ]
     },
     "execution_count": 43,
     "metadata": {},
     "output_type": "execute_result"
    }
   ],
   "source": [
    "d1"
   ]
  },
  {
   "cell_type": "code",
   "execution_count": 44,
   "id": "022a9e79",
   "metadata": {},
   "outputs": [
    {
     "data": {
      "text/plain": [
       "dict_items([('a', 30), ('b', 40), ('c', 400), ('B', [777, 333, 111, 56, 10])])"
      ]
     },
     "execution_count": 44,
     "metadata": {},
     "output_type": "execute_result"
    }
   ],
   "source": [
    "d1.items()"
   ]
  },
  {
   "cell_type": "code",
   "execution_count": 45,
   "id": "14317b42",
   "metadata": {},
   "outputs": [
    {
     "data": {
      "text/plain": [
       "dict_values([30, 40, 400, [777, 333, 111, 56, 10]])"
      ]
     },
     "execution_count": 45,
     "metadata": {},
     "output_type": "execute_result"
    }
   ],
   "source": [
    "d1.values()"
   ]
  },
  {
   "cell_type": "markdown",
   "id": "87605792",
   "metadata": {},
   "source": [
    "Membership operator to check if a key exists in a dict"
   ]
  },
  {
   "cell_type": "code",
   "execution_count": 47,
   "id": "126f7c75",
   "metadata": {},
   "outputs": [
    {
     "data": {
      "text/plain": [
       "True"
      ]
     },
     "execution_count": 47,
     "metadata": {},
     "output_type": "execute_result"
    }
   ],
   "source": [
    "\"B\" in d1"
   ]
  },
  {
   "cell_type": "code",
   "execution_count": 48,
   "id": "6f521863",
   "metadata": {},
   "outputs": [
    {
     "data": {
      "text/plain": [
       "False"
      ]
     },
     "execution_count": 48,
     "metadata": {},
     "output_type": "execute_result"
    }
   ],
   "source": [
    "\"g\" in d1"
   ]
  },
  {
   "cell_type": "markdown",
   "id": "f4f7dedf",
   "metadata": {},
   "source": [
    "### Dictonary set default  val if a specific key  is not found, if key is pre-existing it wont change its value and returns its org value only,if no default value is specified then value with would be taken as null to a newly added key"
   ]
  },
  {
   "cell_type": "code",
   "execution_count": 50,
   "id": "49eba400",
   "metadata": {},
   "outputs": [],
   "source": [
    "d={\"name\":\"A\",\"age\":50}"
   ]
  },
  {
   "cell_type": "code",
   "execution_count": 51,
   "id": "0564667f",
   "metadata": {},
   "outputs": [
    {
     "data": {
      "text/plain": [
       "'plot 1010'"
      ]
     },
     "execution_count": 51,
     "metadata": {},
     "output_type": "execute_result"
    }
   ],
   "source": [
    "d.setdefault(\"addr\",\"plot 1010\")"
   ]
  },
  {
   "cell_type": "code",
   "execution_count": 52,
   "id": "dd7aad75",
   "metadata": {},
   "outputs": [
    {
     "data": {
      "text/plain": [
       "{'name': 'A', 'age': 50, 'addr': 'plot 1010'}"
      ]
     },
     "execution_count": 52,
     "metadata": {},
     "output_type": "execute_result"
    }
   ],
   "source": [
    "d"
   ]
  },
  {
   "cell_type": "code",
   "execution_count": 54,
   "id": "c9dd08c0",
   "metadata": {},
   "outputs": [
    {
     "data": {
      "text/plain": [
       "'A'"
      ]
     },
     "execution_count": 54,
     "metadata": {},
     "output_type": "execute_result"
    }
   ],
   "source": [
    "d.setdefault(\"name\",\"B\")# if k"
   ]
  },
  {
   "cell_type": "code",
   "execution_count": 55,
   "id": "dcab27f1",
   "metadata": {},
   "outputs": [],
   "source": [
    "d.setdefault(\"grade\")"
   ]
  },
  {
   "cell_type": "code",
   "execution_count": 56,
   "id": "3ef50d6c",
   "metadata": {},
   "outputs": [
    {
     "data": {
      "text/plain": [
       "{'name': 'A', 'age': 50, 'addr': 'plot 1010', 'grade': None}"
      ]
     },
     "execution_count": 56,
     "metadata": {},
     "output_type": "execute_result"
    }
   ],
   "source": [
    "d"
   ]
  },
  {
   "cell_type": "code",
   "execution_count": null,
   "id": "da5927fb",
   "metadata": {},
   "outputs": [],
   "source": [
    "dct=di"
   ]
  }
 ],
 "metadata": {
  "kernelspec": {
   "display_name": "Python 3 (ipykernel)",
   "language": "python",
   "name": "python3"
  },
  "language_info": {
   "codemirror_mode": {
    "name": "ipython",
    "version": 3
   },
   "file_extension": ".py",
   "mimetype": "text/x-python",
   "name": "python",
   "nbconvert_exporter": "python",
   "pygments_lexer": "ipython3",
   "version": "3.10.0"
  }
 },
 "nbformat": 4,
 "nbformat_minor": 5
}
