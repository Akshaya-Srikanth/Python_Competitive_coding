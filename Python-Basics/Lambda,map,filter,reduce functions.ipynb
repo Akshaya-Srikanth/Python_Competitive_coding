{
 "cells": [
  {
   "cell_type": "code",
   "execution_count": 1,
   "id": "d1662832",
   "metadata": {},
   "outputs": [],
   "source": [
    "def double(x):\n",
    "    return x*2"
   ]
  },
  {
   "cell_type": "code",
   "execution_count": 2,
   "id": "db39321a",
   "metadata": {},
   "outputs": [
    {
     "name": "stdout",
     "output_type": "stream",
     "text": [
      "38\n"
     ]
    }
   ],
   "source": [
    "print(double(19))"
   ]
  },
  {
   "cell_type": "markdown",
   "id": "11517b2e",
   "metadata": {},
   "source": [
    "# Syntax of Lambda function\n",
    "### lambda arguments:expression"
   ]
  },
  {
   "cell_type": "code",
   "execution_count": 3,
   "id": "47eef1f1",
   "metadata": {},
   "outputs": [],
   "source": [
    "doub= lambda x:x*2"
   ]
  },
  {
   "cell_type": "code",
   "execution_count": 4,
   "id": "cee09a86",
   "metadata": {},
   "outputs": [
    {
     "data": {
      "text/plain": [
       "126"
      ]
     },
     "execution_count": 4,
     "metadata": {},
     "output_type": "execute_result"
    }
   ],
   "source": [
    "doub(63)"
   ]
  },
  {
   "cell_type": "code",
   "execution_count": 5,
   "id": "52ced425",
   "metadata": {},
   "outputs": [],
   "source": [
    "add =lambda x,y : x+y"
   ]
  },
  {
   "cell_type": "code",
   "execution_count": 6,
   "id": "4b832cef",
   "metadata": {},
   "outputs": [
    {
     "data": {
      "text/plain": [
       "99"
      ]
     },
     "execution_count": 6,
     "metadata": {},
     "output_type": "execute_result"
    }
   ],
   "source": [
    "add(10,89)"
   ]
  },
  {
   "cell_type": "code",
   "execution_count": 11,
   "id": "039cb4c6",
   "metadata": {},
   "outputs": [],
   "source": [
    "import pandas as pd,os"
   ]
  },
  {
   "cell_type": "code",
   "execution_count": 12,
   "id": "b5bb32ee",
   "metadata": {},
   "outputs": [],
   "source": [
    "os.chdir(os.environ['userprofile']+\"\\Documents\\Defects_List\")"
   ]
  },
  {
   "cell_type": "code",
   "execution_count": 16,
   "id": "5e726130",
   "metadata": {},
   "outputs": [
    {
     "data": {
      "text/plain": [
       "'C:\\\\Users\\\\akshaya.srikanth\\\\Documents\\\\Defects_List'"
      ]
     },
     "execution_count": 16,
     "metadata": {},
     "output_type": "execute_result"
    }
   ],
   "source": [
    "os.getcwd()"
   ]
  },
  {
   "cell_type": "code",
   "execution_count": 13,
   "id": "286bfe87",
   "metadata": {},
   "outputs": [
    {
     "data": {
      "text/plain": [
       "['defect rem.csv']"
      ]
     },
     "execution_count": 13,
     "metadata": {},
     "output_type": "execute_result"
    }
   ],
   "source": [
    "os.listdir()"
   ]
  },
  {
   "cell_type": "code",
   "execution_count": 14,
   "id": "1622018e",
   "metadata": {},
   "outputs": [],
   "source": [
    "sales=pd.read_csv('defect rem.csv')"
   ]
  },
  {
   "cell_type": "code",
   "execution_count": 15,
   "id": "c24b1e1d",
   "metadata": {},
   "outputs": [
    {
     "data": {
      "text/html": [
       "<div>\n",
       "<style scoped>\n",
       "    .dataframe tbody tr th:only-of-type {\n",
       "        vertical-align: middle;\n",
       "    }\n",
       "\n",
       "    .dataframe tbody tr th {\n",
       "        vertical-align: top;\n",
       "    }\n",
       "\n",
       "    .dataframe thead th {\n",
       "        text-align: right;\n",
       "    }\n",
       "</style>\n",
       "<table border=\"1\" class=\"dataframe\">\n",
       "  <thead>\n",
       "    <tr style=\"text-align: right;\">\n",
       "      <th></th>\n",
       "      <th>Title</th>\n",
       "      <th>Defect#</th>\n",
       "      <th>Severity</th>\n",
       "      <th>RootCause</th>\n",
       "      <th>Status</th>\n",
       "      <th>Root cause Analysis</th>\n",
       "      <th>Prevention Measures</th>\n",
       "    </tr>\n",
       "  </thead>\n",
       "  <tbody>\n",
       "    <tr>\n",
       "      <th>0</th>\n",
       "      <td>Config COE</td>\n",
       "      <td>DE10280</td>\n",
       "      <td>Major</td>\n",
       "      <td>NaN</td>\n",
       "      <td>CLosed</td>\n",
       "      <td>NaN</td>\n",
       "      <td>NaN</td>\n",
       "    </tr>\n",
       "    <tr>\n",
       "      <th>1</th>\n",
       "      <td>Config COE</td>\n",
       "      <td>DE10357</td>\n",
       "      <td>Major</td>\n",
       "      <td>NaN</td>\n",
       "      <td>Closed</td>\n",
       "      <td>NaN</td>\n",
       "      <td>NaN</td>\n",
       "    </tr>\n",
       "    <tr>\n",
       "      <th>2</th>\n",
       "      <td>Config COE</td>\n",
       "      <td>DE10453</td>\n",
       "      <td>Major</td>\n",
       "      <td>NaN</td>\n",
       "      <td>Closed</td>\n",
       "      <td>NaN</td>\n",
       "      <td>NaN</td>\n",
       "    </tr>\n",
       "    <tr>\n",
       "      <th>3</th>\n",
       "      <td>Config COE</td>\n",
       "      <td>DE10325</td>\n",
       "      <td>Major</td>\n",
       "      <td>NaN</td>\n",
       "      <td>Closed</td>\n",
       "      <td>NaN</td>\n",
       "      <td>NaN</td>\n",
       "    </tr>\n",
       "    <tr>\n",
       "      <th>4</th>\n",
       "      <td>Config COE</td>\n",
       "      <td>DE10302</td>\n",
       "      <td>Major</td>\n",
       "      <td>NaN</td>\n",
       "      <td>Closed</td>\n",
       "      <td>NaN</td>\n",
       "      <td>NaN</td>\n",
       "    </tr>\n",
       "  </tbody>\n",
       "</table>\n",
       "</div>"
      ],
      "text/plain": [
       "        Title  Defect# Severity RootCause  Status Root cause Analysis  \\\n",
       "0  Config COE  DE10280    Major       NaN  CLosed                 NaN   \n",
       "1  Config COE  DE10357    Major       NaN  Closed                 NaN   \n",
       "2  Config COE  DE10453    Major       NaN  Closed                 NaN   \n",
       "3  Config COE  DE10325    Major       NaN  Closed                 NaN   \n",
       "4  Config COE  DE10302    Major       NaN  Closed                 NaN   \n",
       "\n",
       "  Prevention Measures  \n",
       "0                 NaN  \n",
       "1                 NaN  \n",
       "2                 NaN  \n",
       "3                 NaN  \n",
       "4                 NaN  "
      ]
     },
     "execution_count": 15,
     "metadata": {},
     "output_type": "execute_result"
    }
   ],
   "source": [
    "sales.head()"
   ]
  },
  {
   "cell_type": "code",
   "execution_count": 17,
   "id": "66dac8bb",
   "metadata": {},
   "outputs": [],
   "source": [
    "def risk(flag):\n",
    "    if flag== \"Major\":\n",
    "        return \"High\"\n",
    "    else:\n",
    "        return \"cosmetic\""
   ]
  },
  {
   "cell_type": "code",
   "execution_count": 18,
   "id": "6a48defa",
   "metadata": {},
   "outputs": [],
   "source": [
    "sales[\"RiskFactor\"]=sales.apply(lambda x:risk(x[\"Severity\"]),axis=1)"
   ]
  },
  {
   "cell_type": "code",
   "execution_count": 19,
   "id": "9fb60ced",
   "metadata": {},
   "outputs": [
    {
     "data": {
      "text/html": [
       "<div>\n",
       "<style scoped>\n",
       "    .dataframe tbody tr th:only-of-type {\n",
       "        vertical-align: middle;\n",
       "    }\n",
       "\n",
       "    .dataframe tbody tr th {\n",
       "        vertical-align: top;\n",
       "    }\n",
       "\n",
       "    .dataframe thead th {\n",
       "        text-align: right;\n",
       "    }\n",
       "</style>\n",
       "<table border=\"1\" class=\"dataframe\">\n",
       "  <thead>\n",
       "    <tr style=\"text-align: right;\">\n",
       "      <th></th>\n",
       "      <th>Title</th>\n",
       "      <th>Defect#</th>\n",
       "      <th>Severity</th>\n",
       "      <th>RootCause</th>\n",
       "      <th>Status</th>\n",
       "      <th>Root cause Analysis</th>\n",
       "      <th>Prevention Measures</th>\n",
       "      <th>RiskFactor</th>\n",
       "    </tr>\n",
       "  </thead>\n",
       "  <tbody>\n",
       "    <tr>\n",
       "      <th>0</th>\n",
       "      <td>Config COE</td>\n",
       "      <td>DE10280</td>\n",
       "      <td>Major</td>\n",
       "      <td>NaN</td>\n",
       "      <td>CLosed</td>\n",
       "      <td>NaN</td>\n",
       "      <td>NaN</td>\n",
       "      <td>High</td>\n",
       "    </tr>\n",
       "    <tr>\n",
       "      <th>1</th>\n",
       "      <td>Config COE</td>\n",
       "      <td>DE10357</td>\n",
       "      <td>Major</td>\n",
       "      <td>NaN</td>\n",
       "      <td>Closed</td>\n",
       "      <td>NaN</td>\n",
       "      <td>NaN</td>\n",
       "      <td>High</td>\n",
       "    </tr>\n",
       "    <tr>\n",
       "      <th>2</th>\n",
       "      <td>Config COE</td>\n",
       "      <td>DE10453</td>\n",
       "      <td>Major</td>\n",
       "      <td>NaN</td>\n",
       "      <td>Closed</td>\n",
       "      <td>NaN</td>\n",
       "      <td>NaN</td>\n",
       "      <td>High</td>\n",
       "    </tr>\n",
       "    <tr>\n",
       "      <th>3</th>\n",
       "      <td>Config COE</td>\n",
       "      <td>DE10325</td>\n",
       "      <td>Major</td>\n",
       "      <td>NaN</td>\n",
       "      <td>Closed</td>\n",
       "      <td>NaN</td>\n",
       "      <td>NaN</td>\n",
       "      <td>High</td>\n",
       "    </tr>\n",
       "    <tr>\n",
       "      <th>4</th>\n",
       "      <td>Config COE</td>\n",
       "      <td>DE10302</td>\n",
       "      <td>Major</td>\n",
       "      <td>NaN</td>\n",
       "      <td>Closed</td>\n",
       "      <td>NaN</td>\n",
       "      <td>NaN</td>\n",
       "      <td>High</td>\n",
       "    </tr>\n",
       "    <tr>\n",
       "      <th>5</th>\n",
       "      <td>Config COE</td>\n",
       "      <td>DE10289</td>\n",
       "      <td>Major</td>\n",
       "      <td>Requirement Change</td>\n",
       "      <td>Closed</td>\n",
       "      <td>NaN</td>\n",
       "      <td>Requirements must be freezed before in-dev/mig...</td>\n",
       "      <td>High</td>\n",
       "    </tr>\n",
       "    <tr>\n",
       "      <th>6</th>\n",
       "      <td>Config COE</td>\n",
       "      <td>DE10375</td>\n",
       "      <td>Major</td>\n",
       "      <td>Configuration-Rule</td>\n",
       "      <td>Closed</td>\n",
       "      <td>Additional Securityuser  being ingested to the...</td>\n",
       "      <td>While authoring any timebased rules,the additi...</td>\n",
       "      <td>High</td>\n",
       "    </tr>\n",
       "    <tr>\n",
       "      <th>7</th>\n",
       "      <td>Config COE</td>\n",
       "      <td>DE10323</td>\n",
       "      <td>Major</td>\n",
       "      <td>NaN</td>\n",
       "      <td>Closed</td>\n",
       "      <td>NaN</td>\n",
       "      <td>NaN</td>\n",
       "      <td>High</td>\n",
       "    </tr>\n",
       "    <tr>\n",
       "      <th>8</th>\n",
       "      <td>Config COE</td>\n",
       "      <td>DE10472</td>\n",
       "      <td>Major</td>\n",
       "      <td>Configuration-Rule</td>\n",
       "      <td>Closed</td>\n",
       "      <td>Additional WorkQueueid  being ingested to the ...</td>\n",
       "      <td>While authoring any timebased rules,the additi...</td>\n",
       "      <td>High</td>\n",
       "    </tr>\n",
       "    <tr>\n",
       "      <th>9</th>\n",
       "      <td>Config COE</td>\n",
       "      <td>DE10341</td>\n",
       "      <td>Major</td>\n",
       "      <td>NaN</td>\n",
       "      <td>Closed</td>\n",
       "      <td>NaN</td>\n",
       "      <td>NaN</td>\n",
       "      <td>High</td>\n",
       "    </tr>\n",
       "    <tr>\n",
       "      <th>10</th>\n",
       "      <td>NaN</td>\n",
       "      <td>NaN</td>\n",
       "      <td>NaN</td>\n",
       "      <td>NaN</td>\n",
       "      <td>NaN</td>\n",
       "      <td>NaN</td>\n",
       "      <td>NaN</td>\n",
       "      <td>cosmetic</td>\n",
       "    </tr>\n",
       "  </tbody>\n",
       "</table>\n",
       "</div>"
      ],
      "text/plain": [
       "         Title  Defect# Severity            RootCause  Status  \\\n",
       "0   Config COE  DE10280    Major                  NaN  CLosed   \n",
       "1   Config COE  DE10357    Major                  NaN  Closed   \n",
       "2   Config COE  DE10453    Major                  NaN  Closed   \n",
       "3   Config COE  DE10325    Major                  NaN  Closed   \n",
       "4   Config COE  DE10302    Major                  NaN  Closed   \n",
       "5   Config COE  DE10289    Major   Requirement Change  Closed   \n",
       "6   Config COE  DE10375    Major   Configuration-Rule  Closed   \n",
       "7   Config COE  DE10323    Major                  NaN  Closed   \n",
       "8   Config COE  DE10472    Major   Configuration-Rule  Closed   \n",
       "9   Config COE  DE10341    Major                  NaN  Closed   \n",
       "10         NaN      NaN      NaN                  NaN     NaN   \n",
       "\n",
       "                                  Root cause Analysis  \\\n",
       "0                                                 NaN   \n",
       "1                                                 NaN   \n",
       "2                                                 NaN   \n",
       "3                                                 NaN   \n",
       "4                                                 NaN   \n",
       "5                                                 NaN   \n",
       "6   Additional Securityuser  being ingested to the...   \n",
       "7                                                 NaN   \n",
       "8   Additional WorkQueueid  being ingested to the ...   \n",
       "9                                                 NaN   \n",
       "10                                                NaN   \n",
       "\n",
       "                                  Prevention Measures RiskFactor  \n",
       "0                                                 NaN       High  \n",
       "1                                                 NaN       High  \n",
       "2                                                 NaN       High  \n",
       "3                                                 NaN       High  \n",
       "4                                                 NaN       High  \n",
       "5   Requirements must be freezed before in-dev/mig...       High  \n",
       "6   While authoring any timebased rules,the additi...       High  \n",
       "7                                                 NaN       High  \n",
       "8   While authoring any timebased rules,the additi...       High  \n",
       "9                                                 NaN       High  \n",
       "10                                                NaN   cosmetic  "
      ]
     },
     "execution_count": 19,
     "metadata": {},
     "output_type": "execute_result"
    }
   ],
   "source": [
    "sales"
   ]
  },
  {
   "cell_type": "markdown",
   "id": "0e1c78b2",
   "metadata": {},
   "source": [
    "## Map Function:"
   ]
  },
  {
   "cell_type": "code",
   "execution_count": 20,
   "id": "7b18f7ec",
   "metadata": {},
   "outputs": [],
   "source": [
    "map?"
   ]
  },
  {
   "cell_type": "code",
   "execution_count": 21,
   "id": "6e1bbd2c",
   "metadata": {},
   "outputs": [],
   "source": [
    "def power(n):\n",
    "    return n*n"
   ]
  },
  {
   "cell_type": "markdown",
   "id": "0861f85c",
   "metadata": {},
   "source": [
    "# Syntax of Map: map(function,iterable1,iter2,iter3.....)"
   ]
  },
  {
   "cell_type": "code",
   "execution_count": 22,
   "id": "90db1d2d",
   "metadata": {},
   "outputs": [],
   "source": [
    "x=map(power,[1,2,3])"
   ]
  },
  {
   "cell_type": "code",
   "execution_count": 23,
   "id": "37486f3e",
   "metadata": {},
   "outputs": [
    {
     "name": "stdout",
     "output_type": "stream",
     "text": [
      "<map object at 0x0000019388871090>\n",
      "[1, 4, 9]\n"
     ]
    }
   ],
   "source": [
    "print(x)\n",
    "print(list(x))\n"
   ]
  },
  {
   "cell_type": "code",
   "execution_count": 39,
   "id": "c05ccb6d",
   "metadata": {},
   "outputs": [
    {
     "name": "stdout",
     "output_type": "stream",
     "text": [
      "{1, 4, 9}\n"
     ]
    }
   ],
   "source": [
    "print(set(x))\n"
   ]
  },
  {
   "cell_type": "code",
   "execution_count": 43,
   "id": "a33c4d4d",
   "metadata": {},
   "outputs": [
    {
     "name": "stdout",
     "output_type": "stream",
     "text": [
      "(1, 4, 9)\n"
     ]
    }
   ],
   "source": [
    "print(tuple(x))"
   ]
  },
  {
   "cell_type": "code",
   "execution_count": 24,
   "id": "5507640a",
   "metadata": {},
   "outputs": [
    {
     "data": {
      "text/plain": [
       "[3, 10, 18, 28, 40]"
      ]
     },
     "execution_count": 24,
     "metadata": {},
     "output_type": "execute_result"
    }
   ],
   "source": [
    "list(map(lambda x,y:x*y,[1,2,3,4,5],[3,5,6,7,8]))"
   ]
  },
  {
   "cell_type": "code",
   "execution_count": 25,
   "id": "bce09684",
   "metadata": {},
   "outputs": [],
   "source": [
    "st=\"How is your Data Science course?\""
   ]
  },
  {
   "cell_type": "code",
   "execution_count": 26,
   "id": "014fcb97",
   "metadata": {},
   "outputs": [
    {
     "data": {
      "text/plain": [
       "[('How', 3),\n",
       " ('is', 2),\n",
       " ('your', 4),\n",
       " ('Data', 4),\n",
       " ('Science', 7),\n",
       " ('course?', 7)]"
      ]
     },
     "execution_count": 26,
     "metadata": {},
     "output_type": "execute_result"
    }
   ],
   "source": [
    "list(map(lambda x: (x,len(x)),st.split()))"
   ]
  },
  {
   "cell_type": "markdown",
   "id": "e757088c",
   "metadata": {},
   "source": [
    "## Filter method"
   ]
  },
  {
   "cell_type": "code",
   "execution_count": 27,
   "id": "f4036ee8",
   "metadata": {},
   "outputs": [],
   "source": [
    "def res(n):\n",
    "    if n>50:\n",
    "        return n"
   ]
  },
  {
   "cell_type": "code",
   "execution_count": 33,
   "id": "db97d8ca",
   "metadata": {},
   "outputs": [
    {
     "name": "stdout",
     "output_type": "stream",
     "text": [
      "[84, 19, 29, 15, 26, 83, 50, 12, 58, 97, 95, 41, 52, 31, 30, 20, 92, 32, 53, 54]\n"
     ]
    }
   ],
   "source": [
    "import random\n",
    "numbers= [random.randint(10,100) for i in range(20)]\n",
    "print(numbers)"
   ]
  },
  {
   "cell_type": "code",
   "execution_count": 36,
   "id": "a623ea84",
   "metadata": {},
   "outputs": [
    {
     "data": {
      "text/plain": [
       "[84, 83, 58, 97, 95, 52, 92, 53, 54]"
      ]
     },
     "execution_count": 36,
     "metadata": {},
     "output_type": "execute_result"
    }
   ],
   "source": [
    "list(filter(res,numbers))"
   ]
  },
  {
   "cell_type": "code",
   "execution_count": 37,
   "id": "cba458b4",
   "metadata": {},
   "outputs": [],
   "source": [
    "mixedData=[34,57,31,False,35,\"\",34,67,[],{}]"
   ]
  },
  {
   "cell_type": "code",
   "execution_count": 38,
   "id": "c504d02f",
   "metadata": {},
   "outputs": [],
   "source": [
    "filtereddata=filter(None,mixedData)"
   ]
  },
  {
   "cell_type": "code",
   "execution_count": 39,
   "id": "86566d9f",
   "metadata": {},
   "outputs": [
    {
     "data": {
      "text/plain": [
       "[34, 57, 31, 35, 34, 67]"
      ]
     },
     "execution_count": 39,
     "metadata": {},
     "output_type": "execute_result"
    }
   ],
   "source": [
    "list(filtereddata)"
   ]
  },
  {
   "cell_type": "code",
   "execution_count": 40,
   "id": "e4309ede",
   "metadata": {},
   "outputs": [
    {
     "data": {
      "text/plain": [
       "[50, 58, 52, 53, 54]"
      ]
     },
     "execution_count": 40,
     "metadata": {},
     "output_type": "execute_result"
    }
   ],
   "source": [
    "list(filter(lambda x: x>=50 and x<=80,numbers))"
   ]
  },
  {
   "cell_type": "code",
   "execution_count": 41,
   "id": "fbc0f396",
   "metadata": {},
   "outputs": [],
   "source": [
    "AI='''Artificial intelligence (AI) is intelligence demonstrated by machines, as opposed to natural intelligence displayed by animals including humans. ... As machines become increasingly capable, tasks considered to require \"intelligence\" are often removed from the definition of AI, a phenomenon known as the AI effect'''"
   ]
  },
  {
   "cell_type": "code",
   "execution_count": 42,
   "id": "2e47bf4f",
   "metadata": {},
   "outputs": [
    {
     "data": {
      "text/plain": [
       "['intelligence',\n",
       " 'intelligence',\n",
       " 'demonstrated',\n",
       " 'intelligence',\n",
       " 'increasingly',\n",
       " '\"intelligence\"']"
      ]
     },
     "execution_count": 42,
     "metadata": {},
     "output_type": "execute_result"
    }
   ],
   "source": [
    "list(filter(lambda x: len(x)>10,AI.split()))"
   ]
  },
  {
   "cell_type": "code",
   "execution_count": 43,
   "id": "6803afaa",
   "metadata": {},
   "outputs": [
    {
     "data": {
      "text/plain": [
       "['opposed', 'displayed', 'capable,', 'phenomenon']"
      ]
     },
     "execution_count": 43,
     "metadata": {},
     "output_type": "execute_result"
    }
   ],
   "source": [
    "list(filter(lambda x: x.find('x')>-1 or x.find('p')>-1 ,AI.split()))"
   ]
  },
  {
   "cell_type": "code",
   "execution_count": 44,
   "id": "6487acae",
   "metadata": {},
   "outputs": [
    {
     "data": {
      "text/plain": [
       "['opposed', 'displayed', 'capable,', 'phenomenon']"
      ]
     },
     "execution_count": 44,
     "metadata": {},
     "output_type": "execute_result"
    }
   ],
   "source": [
    "list(filter(lambda x: 'x' in x or 'p' in x, AI.split()))"
   ]
  },
  {
   "cell_type": "markdown",
   "id": "d7e93712",
   "metadata": {},
   "source": [
    "## Reduce function"
   ]
  },
  {
   "cell_type": "code",
   "execution_count": 45,
   "id": "410dedd5",
   "metadata": {},
   "outputs": [],
   "source": [
    "from functools import reduce"
   ]
  },
  {
   "cell_type": "code",
   "execution_count": 24,
   "id": "cbe2d6ea",
   "metadata": {},
   "outputs": [],
   "source": [
    "reduce?"
   ]
  },
  {
   "cell_type": "code",
   "execution_count": 46,
   "id": "aa8c109a",
   "metadata": {},
   "outputs": [
    {
     "data": {
      "text/plain": [
       "15"
      ]
     },
     "execution_count": 46,
     "metadata": {},
     "output_type": "execute_result"
    }
   ],
   "source": [
    "reduce(lambda a,b:a+b,[1,2,3,4,5])"
   ]
  },
  {
   "cell_type": "code",
   "execution_count": 47,
   "id": "4df57bd0",
   "metadata": {},
   "outputs": [
    {
     "data": {
      "text/plain": [
       "120"
      ]
     },
     "execution_count": 47,
     "metadata": {},
     "output_type": "execute_result"
    }
   ],
   "source": [
    "reduce(lambda x,y: x*y,range(1,6))"
   ]
  },
  {
   "cell_type": "code",
   "execution_count": 48,
   "id": "5095e1b2",
   "metadata": {},
   "outputs": [
    {
     "data": {
      "text/plain": [
       "[38, 58, 30, 52, 24, 62, 60, 40, 64]"
      ]
     },
     "execution_count": 48,
     "metadata": {},
     "output_type": "execute_result"
    }
   ],
   "source": [
    "list(map(lambda x: x+x,filter(lambda x: x<40,numbers)))"
   ]
  },
  {
   "cell_type": "code",
   "execution_count": 54,
   "id": "df863428",
   "metadata": {},
   "outputs": [
    {
     "data": {
      "text/plain": [
       "[168,\n",
       " 38,\n",
       " 58,\n",
       " 30,\n",
       " 52,\n",
       " 166,\n",
       " 100,\n",
       " 24,\n",
       " 116,\n",
       " 194,\n",
       " 190,\n",
       " 82,\n",
       " 104,\n",
       " 62,\n",
       " 60,\n",
       " 40,\n",
       " 184,\n",
       " 64,\n",
       " 106,\n",
       " 108]"
      ]
     },
     "execution_count": 54,
     "metadata": {},
     "output_type": "execute_result"
    }
   ],
   "source": [
    "list(map(lambda x: x+x,numbers))"
   ]
  },
  {
   "cell_type": "code",
   "execution_count": 50,
   "id": "51e697b7",
   "metadata": {},
   "outputs": [
    {
     "data": {
      "text/plain": [
       "[84, 83, 50, 58, 97, 95, 41, 52, 92, 53, 54]"
      ]
     },
     "execution_count": 50,
     "metadata": {},
     "output_type": "execute_result"
    }
   ],
   "source": [
    "list(filter(lambda x: x>=40,numbers))"
   ]
  },
  {
   "cell_type": "code",
   "execution_count": 51,
   "id": "02c627c5",
   "metadata": {},
   "outputs": [
    {
     "data": {
      "text/plain": [
       "[168, 58, 52, 166, 100, 116, 194, 190, 82, 104, 62, 60, 40, 184, 64, 106, 108]"
      ]
     },
     "execution_count": 51,
     "metadata": {},
     "output_type": "execute_result"
    }
   ],
   "source": [
    "list(filter(lambda x: x>=40,map(lambda x: x+x,numbers)))"
   ]
  },
  {
   "cell_type": "code",
   "execution_count": 32,
   "id": "90646f1c",
   "metadata": {},
   "outputs": [
    {
     "data": {
      "text/plain": [
       "450"
      ]
     },
     "execution_count": 32,
     "metadata": {},
     "output_type": "execute_result"
    }
   ],
   "source": [
    "reduce(lambda x,y:x+y,map(lambda x:x+x,filter(lambda x: x>=20 and x<=50,numbers)))"
   ]
  },
  {
   "cell_type": "code",
   "execution_count": 33,
   "id": "07d576d0",
   "metadata": {},
   "outputs": [],
   "source": [
    "str_list=[\"This\",\"list\",\"needs\",\"to\",\"be\",\"transformed\",\"to\",\"string\"]"
   ]
  },
  {
   "cell_type": "code",
   "execution_count": 34,
   "id": "283c57b4",
   "metadata": {},
   "outputs": [
    {
     "data": {
      "text/plain": [
       "'This list needs to be transformed to string'"
      ]
     },
     "execution_count": 34,
     "metadata": {},
     "output_type": "execute_result"
    }
   ],
   "source": [
    "reduce(lambda x,y: x +\" \"+y, str_list)"
   ]
  },
  {
   "cell_type": "code",
   "execution_count": null,
   "id": "de06cd96",
   "metadata": {},
   "outputs": [],
   "source": []
  }
 ],
 "metadata": {
  "kernelspec": {
   "display_name": "Python 3 (ipykernel)",
   "language": "python",
   "name": "python3"
  },
  "language_info": {
   "codemirror_mode": {
    "name": "ipython",
    "version": 3
   },
   "file_extension": ".py",
   "mimetype": "text/x-python",
   "name": "python",
   "nbconvert_exporter": "python",
   "pygments_lexer": "ipython3",
   "version": "3.10.0"
  }
 },
 "nbformat": 4,
 "nbformat_minor": 5
}
