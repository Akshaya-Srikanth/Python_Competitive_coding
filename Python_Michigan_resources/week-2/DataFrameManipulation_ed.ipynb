{
 "cells": [
  {
   "cell_type": "markdown",
   "metadata": {},
   "source": [
    "Now that you know the basics of what makes up a pandas dataframe, lets look at how we might actually clean\n",
    "some messy data. Now, there are many different approaches you can take to clean data, so this lecture is\n",
    "just one example of how you might tackle a problem."
   ]
  },
  {
   "cell_type": "code",
   "execution_count": 15,
   "metadata": {},
   "outputs": [
    {
     "data": {
      "text/plain": [
       "7"
      ]
     },
     "execution_count": 15,
     "metadata": {},
     "output_type": "execute_result"
    }
   ],
   "source": [
    "import pandas as pd\n",
    "dfs=pd.read_html(\"https://en.wikipedia.org/wiki/College_admissions_in_the_United_States\")\n",
    "len(dfs)"
   ]
  },
  {
   "cell_type": "code",
   "execution_count": 17,
   "metadata": {},
   "outputs": [
    {
     "data": {
      "text/plain": [
       "[   Unnamed: 0_level_0 Total (56 institutions)                     \\\n",
       "    Unnamed: 0_level_1      Unnamed: 1_level_1 Unnamed: 2_level_1   \n",
       "            Admit Year                    Apps             Admits   \n",
       " 0              '01-02                  645111             198815   \n",
       " 1              '02-03                  650908             202565   \n",
       " 2              '03-04                  681989             206423   \n",
       " 3              '04-05                  699074             207238   \n",
       " 4              '05-06                  737493             213865   \n",
       " 5              '06-07                  773374             217846   \n",
       " 6              '07-08                  822156             220200   \n",
       " 7              '08-09                  900502             225242   \n",
       " 8              '09-10                  945442             237141   \n",
       " 9              '10-11                 1005061             241971   \n",
       " 10             '11-12                 1081719             242188   \n",
       " 11             '12-13                 1122097             239371   \n",
       " 12             '13-14                 1197549             237696   \n",
       " 13             '14-15                 1279412             242628   \n",
       " 14             '15-16                 1325069             240471   \n",
       " 15             '16-17                 1389339             242663   \n",
       " 16             '17-18                 1450292             238061   \n",
       " 17             '18-19                 1587917             224943   \n",
       " 18             '19-20                 1635721             213912   \n",
       " 19             '20-21                 1602944             235872   \n",
       " 20       '21-22 (est)                 1996680             226234   \n",
       " \n",
       "                                                              \\\n",
       "    Unnamed: 3_level_1 Unnamed: 4_level_1 Unnamed: 5_level_1   \n",
       "                Enroll         Admit Rate       Admit:Enroll   \n",
       " 0               79872              30.8%               2.49   \n",
       " 1               82026              31.1%               2.47   \n",
       " 2               82544              30.3%               2.50   \n",
       " 3               83682              29.6%               2.48   \n",
       " 4               83591              29.0%               2.56   \n",
       " 5               83900              28.2%               2.60   \n",
       " 6               85740              26.8%               2.57   \n",
       " 7               85678              25.0%               2.63   \n",
       " 8               87201              25.1%               2.72   \n",
       " 9               88208              24.1%               2.74   \n",
       " 10              88691              22.4%               2.73   \n",
       " 11              89921              21.3%               2.66   \n",
       " 12              89586              19.8%               2.65   \n",
       " 13              92713              19.0%               2.62   \n",
       " 14              92423              18.1%               2.60   \n",
       " 15              95066              17.5%               2.55   \n",
       " 16              96525              16.4%               2.47   \n",
       " 17              96750              14.2%               2.32   \n",
       " 18              95528              13.1%               2.24   \n",
       " 19              95832              14.7%               2.46   \n",
       " 20             106316              11.3%               2.13   \n",
       " \n",
       "                                                                                                                                                                       27 private universities  \\\n",
       "    Ivy League, Stanford, MIT, UChicago, Duke, Northwestern, Vanderbilt, Johns Hopkins, Rice, USC, WashU, Tulane, Tufts, Georgetown, Carnegie Mellon, Notre Dame, Emory, NYU, BU, Northeastern   \n",
       "                                                                                                                                                                                          Apps   \n",
       " 0                                              415855                                                                                                                                           \n",
       " 1                                              418230                                                                                                                                           \n",
       " 2                                              439502                                                                                                                                           \n",
       " 3                                              453319                                                                                                                                           \n",
       " 4                                              484023                                                                                                                                           \n",
       " 5                                              516292                                                                                                                                           \n",
       " 6                                              543558                                                                                                                                           \n",
       " 7                                              600623                                                                                                                                           \n",
       " 8                                              636650                                                                                                                                           \n",
       " 9                                              686095                                                                                                                                           \n",
       " 10                                             736860                                                                                                                                           \n",
       " 11                                             763233                                                                                                                                           \n",
       " 12                                             803031                                                                                                                                           \n",
       " 13                                             837455                                                                                                                                           \n",
       " 14                                             858465                                                                                                                                           \n",
       " 15                                             898380                                                                                                                                           \n",
       " 16                                             928244                                                                                                                                           \n",
       " 17                                            1019262                                                                                                                                           \n",
       " 18                                            1056128                                                                                                                                           \n",
       " 19                                            1026587                                                                                                                                           \n",
       " 20                                            1290864                                                                                                                                           \n",
       " \n",
       "                               ...  \\\n",
       "                               ...   \n",
       "     Admits Enroll Admit Rate  ...   \n",
       " 0   120124  46931      28.9%  ...   \n",
       " 1   123779  48626      29.6%  ...   \n",
       " 2   126504  49491      28.8%  ...   \n",
       " 3   126441  49615      27.9%  ...   \n",
       " 4   132750  49982      27.4%  ...   \n",
       " 5   135568  49507      26.3%  ...   \n",
       " 6   135918  50250      25.0%  ...   \n",
       " 7   140741  50180      23.4%  ...   \n",
       " 8   148566  51285      23.3%  ...   \n",
       " 9   151404  51658      22.1%  ...   \n",
       " 10  147538  52383      20.0%  ...   \n",
       " 11  143454  52109      18.8%  ...   \n",
       " 12  141634  51826      17.6%  ...   \n",
       " 13  142789  53096      17.1%  ...   \n",
       " 14  140200  52770      16.3%  ...   \n",
       " 15  139220  53395      15.5%  ...   \n",
       " 16  134917  54684      14.5%  ...   \n",
       " 17  123595  54706      12.1%  ...   \n",
       " 18  115050  53507      10.9%  ...   \n",
       " 19  128793  53954      12.5%  ...   \n",
       " 20  120435  60643       9.3%  ...   \n",
       " \n",
       "                                           6 public universities                \\\n",
       "    UCLA, UC Berkeley, Georgia Tech, UNC-Chapel Hill, UMich, UVA                 \n",
       "                                                            Apps Admits Enroll   \n",
       " 0                                              138627            49041  22110   \n",
       " 1                                              141166            49377  22264   \n",
       " 2                                              146165            50209  22262   \n",
       " 3                                              144258            50923  23169   \n",
       " 4                                              147507            51430  22639   \n",
       " 5                                              148794            52343  23589   \n",
       " 6                                              163374            54788  24637   \n",
       " 7                                              172826            54634  24347   \n",
       " 8                                              186771            58364  24830   \n",
       " 9                                              192770            59986  25175   \n",
       " 10                                             210869            64962  25092   \n",
       " 11                                             221000            66400  26537   \n",
       " 12                                             253272            67242  26461   \n",
       " 13                                             298332            70493  28230   \n",
       " 14                                             312640            70418  28160   \n",
       " 15                                             332971            74255  30204   \n",
       " 16                                             355081            73976  30301   \n",
       " 17                                             384589            71763  30236   \n",
       " 18                                             383853            70249  30380   \n",
       " 19                                             388086            76419  30872   \n",
       " 20                                             479153            75803  32916   \n",
       " \n",
       "                             \\\n",
       "                              \n",
       "    Admit Rate Admit:Enroll   \n",
       " 0       35.4%         2.22   \n",
       " 1       35.0%         2.22   \n",
       " 2       34.4%         2.26   \n",
       " 3       35.3%         2.20   \n",
       " 4       34.9%         2.27   \n",
       " 5       35.2%         2.22   \n",
       " 6       33.5%         2.22   \n",
       " 7       31.6%         2.24   \n",
       " 8       31.2%         2.35   \n",
       " 9       31.1%         2.38   \n",
       " 10      30.8%         2.59   \n",
       " 11      30.0%         2.50   \n",
       " 12      26.5%         2.54   \n",
       " 13      23.6%         2.50   \n",
       " 14      22.5%         2.50   \n",
       " 15      22.3%         2.46   \n",
       " 16      20.8%         2.44   \n",
       " 17      18.7%         2.37   \n",
       " 18      18.3%         2.31   \n",
       " 19      19.7%         2.48   \n",
       " 20      15.8%         2.30   \n",
       " \n",
       "                                                                                                                                                                                                              23 liberal arts colleges  \\\n",
       "    Pomona, Claremont McK, Swarthmore, Bowdoin, Amherst, Williams, Colby, Barnard, Pitzer, Bates, Harvey Mudd, Colorado Coll, Middlebury, Wesleyan, Hamilton, Haverford, Carleton, Davidson, Wellesley, W&L, Colgate, Grinnell, Vassar   \n",
       "                                                                                                                                                                                                                                  Apps   \n",
       " 0                                               90629                                                                                                                                                                                   \n",
       " 1                                               91512                                                                                                                                                                                   \n",
       " 2                                               96322                                                                                                                                                                                   \n",
       " 3                                              101497                                                                                                                                                                                   \n",
       " 4                                              105963                                                                                                                                                                                   \n",
       " 5                                              108288                                                                                                                                                                                   \n",
       " 6                                              115224                                                                                                                                                                                   \n",
       " 7                                              127053                                                                                                                                                                                   \n",
       " 8                                              122021                                                                                                                                                                                   \n",
       " 9                                              126196                                                                                                                                                                                   \n",
       " 10                                             133990                                                                                                                                                                                   \n",
       " 11                                             137864                                                                                                                                                                                   \n",
       " 12                                             141246                                                                                                                                                                                   \n",
       " 13                                             143625                                                                                                                                                                                   \n",
       " 14                                             153964                                                                                                                                                                                   \n",
       " 15                                             157988                                                                                                                                                                                   \n",
       " 16                                             166967                                                                                                                                                                                   \n",
       " 17                                             184066                                                                                                                                                                                   \n",
       " 18                                             195740                                                                                                                                                                                   \n",
       " 19                                             188271                                                                                                                                                                                   \n",
       " 20                                             226663                                                                                                                                                                                   \n",
       " \n",
       "                                           \n",
       "                                           \n",
       "    Admits Enroll Admit Rate Admit:Enroll  \n",
       " 0   29650  10831      32.7%         2.74  \n",
       " 1   29409  11136      32.1%         2.64  \n",
       " 2   29710  10791      30.8%         2.75  \n",
       " 3   29874  10898      29.4%         2.74  \n",
       " 4   29685  10970      28.0%         2.71  \n",
       " 5   29935  10804      27.6%         2.77  \n",
       " 6   29494  10853      25.6%         2.72  \n",
       " 7   29867  11151      23.5%         2.68  \n",
       " 8   30211  11086      24.8%         2.73  \n",
       " 9   30581  11375      24.2%         2.69  \n",
       " 10  29688  11216      22.2%         2.65  \n",
       " 11  29517  11275      21.4%         2.62  \n",
       " 12  28820  11299      20.4%         2.55  \n",
       " 13  29346  11387      20.4%         2.58  \n",
       " 14  29853  11493      19.4%         2.60  \n",
       " 15  29188  11467      18.5%         2.55  \n",
       " 16  29168  11540      17.5%         2.53  \n",
       " 17  29585  11808      16.1%         2.51  \n",
       " 18  28613  11641      14.6%         2.46  \n",
       " 19  30660  11006      16.3%         2.79  \n",
       " 20  29996  12757      13.2%         2.35  \n",
       " \n",
       " [21 rows x 21 columns],\n",
       "          School     Cost\n",
       " 0   Harvey Mudd  $77,589\n",
       " 1    U. Chicago  $77,556\n",
       " 2      Columbia  $76,920\n",
       " 3       Barnard  $75,524\n",
       " 4          Duke  $75,031\n",
       " 5       Scripps  $74,788\n",
       " 6       Trinity  $74,400\n",
       " 7           USC  $74,111\n",
       " 8       U. Penn  $73,960\n",
       " 9       Amherst  $73,950\n",
       " 10   Georgetown  $73,882,\n",
       "         College  Index\n",
       " 0     UC-Irvine   1.90\n",
       " 1   UC-SantaBar   1.61\n",
       " 2      UC-Davis   1.60\n",
       " 3   UC-SanDiego   1.58\n",
       " 4          UCLA   1.52\n",
       " 5     U.Florida   1.46\n",
       " 6       Amherst   1.44\n",
       " 7        Pomona   1.43\n",
       " 8   UC-Berkeley   1.38\n",
       " 9       Harvard   1.36\n",
       " 10       Vassar   1.36\n",
       " 11     Williams   1.35\n",
       " 12    Princeton   1.34\n",
       " 13    Wellesley   1.32\n",
       " 14     Stanford   1.31\n",
       " 15         Knox   1.30\n",
       " 16   UNC-Chapel   1.30\n",
       " 17     Columbia   1.26\n",
       " 18      Barnard   1.25\n",
       " 19         Yale   1.22,\n",
       "      College Students\n",
       " 0       UCLA      19%\n",
       " 1      Emory      16%\n",
       " 2    Barnard      15%\n",
       " 3        NYU      14%\n",
       " 4     Vassar      14%\n",
       " 5  Bryn Mawr      14%\n",
       " 6        MIT      14%\n",
       " 7   U. Miami      14%\n",
       " 8   Brandeis      13%\n",
       " 9  Wellesley      13%,\n",
       "                                                    0  \\\n",
       " 0                                           ACT test   \n",
       " 1                            Content-based test[107]   \n",
       " 2                    Emphasizes higher math[83][107]   \n",
       " 3                              Longer questions[107]   \n",
       " 4               More popular in south & midwest[107]   \n",
       " 5                     Science reasoning section[107]   \n",
       " 6                  No penalty for wrong answers[108]   \n",
       " 7  Greater choice in selecting which scores to se...   \n",
       " 8     Difficult questions randomly interspersed[107]   \n",
       " \n",
       "                                                 1  \n",
       " 0                                        SAT test  \n",
       " 1                    Tests reasoning ability[107]  \n",
       " 2                  Emphasizes vocabulary[83][107]  \n",
       " 3                         Trickier questions[107]  \n",
       " 4                More popular in east & west[107]  \n",
       " 5                         Vocabulary section[107]  \n",
       " 6          No penalty for wrong answers[109][110]  \n",
       " 7                                   Fewer options  \n",
       " 8  Difficulty progresses within each section[107]  ,\n",
       "                        School Applicants Overall     ED     EA RD[191]  \\\n",
       " 0                Harvard[192]      57435   3.42%    NaN   7.4%   2.58%   \n",
       " 1               Columbia[193]      60551   3.66%  15.0%    NaN   2.78%   \n",
       " 2                Caltech[194]      13017   3.91%    NaN    NaN     NaN   \n",
       " 3               Stanford[195]      55471   3.95%    NaN    NaN     NaN   \n",
       " 4              Princeton[196]      37601   3.98%    NaN    NaN   3.98%   \n",
       " 5                    MIT[197]      33240    4.0%    NaN   4.8%   3.41%   \n",
       " 6                   Yale[198]      46905   4.62%    NaN  10.5%   3.42%   \n",
       " 7                  Brown[199]      46568   5.44%  15.9%    NaN    3.5%   \n",
       " 8                   Duke[200]      49517   5.76%  16.7%    NaN   4.28%   \n",
       " 9                  UPenn[201]      56333   5.68%  14.9%    NaN   4.15%   \n",
       " 10             Dartmouth[202]      28357   6.17%  22.1%    NaN    4.5%   \n",
       " 11  UChicago[citation needed]      37986   6.33%      -      -       -   \n",
       " 12        Pomona College[203]      11620   6.64%  12.8%      -   5.65%   \n",
       " 13                 Vanderbilt      47174   6.70%  18.1%    NaN    5.3%   \n",
       " 14          Northwestern[204]      47633   6.79%      -    NaN       -   \n",
       " 15            Swarthmore[205]    ~13,000   ~7.8%      -    NaN       -   \n",
       " \n",
       "     Unnamed: 6  \n",
       " 0          NaN  \n",
       " 1          NaN  \n",
       " 2          NaN  \n",
       " 3          NaN  \n",
       " 4          NaN  \n",
       " 5          NaN  \n",
       " 6          NaN  \n",
       " 7          NaN  \n",
       " 8          NaN  \n",
       " 9          NaN  \n",
       " 10         NaN  \n",
       " 11         NaN  \n",
       " 12         NaN  \n",
       " 13         NaN  \n",
       " 14         NaN  \n",
       " 15         NaN  ,\n",
       "              College  Wait list offers Class of 2021  \\\n",
       " 0           Stanford                             842   \n",
       " 1          Princeton                            1168   \n",
       " 2          Dartmouth                            2021   \n",
       " 3              UPenn                            3457   \n",
       " 4                CMC                             723   \n",
       " 5             Tulane                            5596   \n",
       " 6           Michigan                           11094   \n",
       " 7                UNC                            5097   \n",
       " 8           Wesleyan                            2267   \n",
       " 9                CMU                            5609   \n",
       " 10        Macalester                             356   \n",
       " 11      Cal Poly SLO                            3168   \n",
       " 12  UC Santa Barbara                            6650   \n",
       " 13      UC Riverside                            5499   \n",
       " 14        Holy Cross                            1109   \n",
       " 15            Oregon                             134   \n",
       " \n",
       "     Wait list admits Class of 2021  Wait list offers Class of 2022  \\\n",
       " 0                               36                             870   \n",
       " 1                              101                            1125   \n",
       " 2                                0                            1925   \n",
       " 3                               58                            3535   \n",
       " 4                                1                            1037   \n",
       " 5                                0                           10384   \n",
       " 6                              468                           14893   \n",
       " 7                               35                            4977   \n",
       " 8                              108                            1965   \n",
       " 9                                4                            3677   \n",
       " 10                             104                             426   \n",
       " 11                              15                            6643   \n",
       " 12                             960                            7856   \n",
       " 13                             321                           11058   \n",
       " 14                               0                            1581   \n",
       " 15                              73                             264   \n",
       " \n",
       "     Wait list admits Class of 2022  \n",
       " 0                               30  \n",
       " 1                                0  \n",
       " 2                                0  \n",
       " 3                                9  \n",
       " 4                               25  \n",
       " 5                                2  \n",
       " 6                              415  \n",
       " 7                               22  \n",
       " 8                                0  \n",
       " 9                              109  \n",
       " 10                               0  \n",
       " 11                            2436  \n",
       " 12                              14  \n",
       " 13                            1143  \n",
       " 14                               0  \n",
       " 15                              69  ]"
      ]
     },
     "execution_count": 17,
     "metadata": {},
     "output_type": "execute_result"
    }
   ],
   "source": [
    "dfs"
   ]
  },
  {
   "cell_type": "markdown",
   "metadata": {},
   "source": [
    "Python programmers will often suggest that there many ways the language can be used to solve a particular problem. But that some are more appropriate than others. The best solutions are celebrated as Idiomatic Python and there are lots of great examples of this on StackOverflow and other websites.\n",
    "\n",
    "A sort of sub-language within Python, Pandas has its own set of idioms. We've alluded to some of these already, such as using vectorization whenever possible, and not using iterative loops if you don't need to. Several developers and users within the Panda's community have used the term pandorable for these idioms. I think it's a great term. So, I wanted to share with you a couple of key features of how you can make your code pandorable."
   ]
  },
  {
   "cell_type": "code",
   "execution_count": null,
   "metadata": {},
   "outputs": [],
   "source": [
    "import pandas as pd\n",
    "import numpy as np\n",
    "import timeit\n",
    "\n",
    "df = pd.read_csv('census.csv')\n",
    "df.head()"
   ]
  },
  {
   "cell_type": "code",
   "execution_count": null,
   "metadata": {},
   "outputs": [],
   "source": [
    "# The first of these is called method chaining.\n",
    "# The general idea behind method chaining is that every method on an object \n",
    "# returns a reference to that object. The beauty of this is that you can \n",
    "# condense many different operations on a DataFrame, for instance, into one line \n",
    "# or at least one statement of code.\n",
    "# Here's an example of two pieces of code in pandas using our census data.\n",
    "\n",
    "# The first is the pandorable way to write the code with method chaining. In \n",
    "# this code, there's no in place flag being used and you can see that when we \n",
    "# first run a where query, then a dropna, then a set_index, and then a rename. \n",
    "# You might wonder why the whole statement is enclosed in parentheses and that's \n",
    "# just to make the statement more readable.\n",
    "(df.where(df['SUMLEV']==50)\n",
    "    .dropna()\n",
    "    .set_index(['STNAME','CTYNAME'])\n",
    "    .rename(columns={'ESTIMATESBASE2010': 'Estimates Base 2010'}))"
   ]
  },
  {
   "cell_type": "code",
   "execution_count": null,
   "metadata": {
    "collapsed": true
   },
   "outputs": [],
   "source": [
    "# The second example is a more traditional way of writing code.\n",
    "# There's nothing wrong with this code in the functional sense,\n",
    "# you might even be able to understand it better as a new person to the language.\n",
    "# It's just not as pandorable as the first example.\n",
    "\n",
    "df = df[df['SUMLEV']==50]\n",
    "df.set_index(['STNAME','CTYNAME'], inplace=True)\n",
    "df.rename(columns={'ESTIMATESBASE2010': 'Estimates Base 2010'})"
   ]
  },
  {
   "cell_type": "code",
   "execution_count": null,
   "metadata": {},
   "outputs": [],
   "source": [
    "# Now, the key with any good idiom is to understand when it isn't helping you. \n",
    "# In this case, you can actually time both methods and see which one runs faster\n",
    "\n",
    "# We can put the approach into a function and pass the function into the timeit \n",
    "# function to count the time the parameter number allows us to choose how many \n",
    "# times we want to run the function. Here we will just set it to 1\n",
    "\n",
    "def first_approach():\n",
    "    global df\n",
    "    return (df.where(df['SUMLEV']==50)\n",
    "             .dropna()\n",
    "             .set_index(['STNAME','CTYNAME'])\n",
    "             .rename(columns={'ESTIMATESBASE2010': 'Estimates Base 2010'}))\n",
    "    \n",
    "timeit.timeit(first_approach, number=1)"
   ]
  },
  {
   "cell_type": "code",
   "execution_count": null,
   "metadata": {},
   "outputs": [],
   "source": [
    "# Now let's test the second approach. As we notice, we use our global variable \n",
    "# df in the function. However, changing a global variable inside a function will \n",
    "# modify the variable even in a global scope and we do not want that to happen \n",
    "# in this case. Therefore, for selecting summary levels of 50 only, I create \n",
    "# a new dataframe for those records\n",
    "\n",
    "# Let's run this for once and see how fast it is\n",
    "\n",
    "def second_approach():\n",
    "    global df\n",
    "    new_df = df[df['SUMLEV']==50]\n",
    "    new_df.set_index(['STNAME','CTYNAME'], inplace=True)\n",
    "    return new_df.rename(columns={'ESTIMATESBASE2010': 'Estimates Base 2010'})\n",
    "timeit.timeit(second_approach, number=1)"
   ]
  },
  {
   "cell_type": "code",
   "execution_count": null,
   "metadata": {
    "collapsed": true
   },
   "outputs": [],
   "source": [
    "# As you can see, the second approach is much faster! \n",
    "# So, this is a particular example of a classic time readability trade off.\n",
    "\n",
    "# You'll see lots of examples on stock overflow and in documentation of people \n",
    "# using method chaining in their pandas. And so, I think being able to read and \n",
    "# understand the syntax is really worth your time. \n",
    "# Here's another pandas idiom. Python has a wonderful function called map, \n",
    "# which is sort of a basis for functional programming in the language. \n",
    "# When you want to use map in Python, you pass it some function you want called, \n",
    "# and some iterable, like a list, that you want the function to be applied to. \n",
    "# The results are that the function is called against each item in the list,\n",
    "# and there's a resulting list of all of the evaluations of that function.\n",
    "\n",
    "# Python has a similar function called applymap.\n",
    "# In applymap, you provide some function which should operate on each cell of a \n",
    "# DataFrame, and the return set is itself a DataFrame. Now I think applymap is \n",
    "# fine, but I actually rarely use it. Instead, I find myself often wanting to \n",
    "# map across all of the rows in a DataFrame. And pandas has a function that I \n",
    "# use heavily there, called apply. Let's look at an example.\n",
    "\n",
    "# Let's take our census DataFrame. \n",
    "# In this DataFrame, we have five columns for population estimates. \n",
    "# Each column corresponding with one year of estimates. It's quite reasonable to \n",
    "# want to create some new columns for \n",
    "# minimum or maximum values, and the apply function is an easy way to do this.\n",
    "\n",
    "\n",
    "# First, we need to write a function which takes in a particular row of data, \n",
    "# finds a minimum and maximum values, and returns a new row of data nd returns \n",
    "# a new row of data.  We'll call this function min_max, this is pretty straight \n",
    "# forward. We can create some small slice of a row by projecting the population \n",
    "# columns. Then use the NumPy min and max functions, and create a new series \n",
    "# with a label values represent the new values we want to apply.\n",
    "\n",
    "def min_max(row):\n",
    "    data = row[['POPESTIMATE2010',\n",
    "                'POPESTIMATE2011',\n",
    "                'POPESTIMATE2012',\n",
    "                'POPESTIMATE2013',\n",
    "                'POPESTIMATE2014',\n",
    "                'POPESTIMATE2015']]\n",
    "    return pd.Series({'min': np.min(data), 'max': np.max(data)})"
   ]
  },
  {
   "cell_type": "code",
   "execution_count": null,
   "metadata": {
    "collapsed": true
   },
   "outputs": [],
   "source": [
    "# Then we just need to call apply on the DataFrame. \n",
    "\n",
    "# Apply takes the function and the axis on which to operate as parameters. \n",
    "# Now, we have to be a bit careful, we've talked about axis zero being the rows \n",
    "# of the DataFrame in the past. But this parameter is really the parameter of \n",
    "# the index to use. So, to apply across all rows, which is applying on all \n",
    "# columns, you pass axis equal to one.\n",
    "df.apply(min_max, axis=1)"
   ]
  },
  {
   "cell_type": "code",
   "execution_count": null,
   "metadata": {},
   "outputs": [],
   "source": [
    "# Of course there's no need to limit yourself to returning a new series object. \n",
    "# If you're doing this as part of data cleaning your likely to find yourself \n",
    "# wanting to add new data to the existing DataFrame. In that case you just take \n",
    "# the row values and add in new columns indicating the max and minimum scores.\n",
    "# This is a regular part of my workflow when bringing in data and building \n",
    "# summary or descriptive statistics. \n",
    "# And is often used heavily with the merging of DataFrames.\n",
    "\n",
    "# Here we have a revised version of the function min_max\n",
    "# Instead of returning a separate series to display the min and max\n",
    "# We add two new columns in the original dataframe to store min and max\n",
    "\n",
    "def min_max(row):\n",
    "    data = row[['POPESTIMATE2010',\n",
    "                'POPESTIMATE2011',\n",
    "                'POPESTIMATE2012',\n",
    "                'POPESTIMATE2013',\n",
    "                'POPESTIMATE2014',\n",
    "                'POPESTIMATE2015']]\n",
    "    row['max'] = np.max(data)\n",
    "    row['min'] = np.min(data)\n",
    "    return row\n",
    "df.apply(min_max, axis=1)"
   ]
  },
  {
   "cell_type": "code",
   "execution_count": null,
   "metadata": {},
   "outputs": [],
   "source": [
    "# Apply is an extremely important tool in your toolkit. The reason I introduced \n",
    "# apply here is because you rarely see it used with large function definitions, \n",
    "# like we did. Instead, you typically see it used with lambdas. To get the most \n",
    "# of the discussions you'll see online, you're going to need to know how to \n",
    "# at least read lambdas. \n",
    "\n",
    "# Here's You can imagine how you might chain several apply calls with lambdas \n",
    "# together to create a readable yet succinct data manipulation script. One line \n",
    "# example of how you might calculate the max of the columns \n",
    "# using the apply function. \n",
    "rows = ['POPESTIMATE2010',\n",
    "        'POPESTIMATE2011',\n",
    "        'POPESTIMATE2012',\n",
    "        'POPESTIMATE2013',\n",
    "        'POPESTIMATE2014',\n",
    "        'POPESTIMATE2015']\n",
    "df.apply(lambda x: np.max(x[rows]), axis=1)"
   ]
  },
  {
   "cell_type": "code",
   "execution_count": null,
   "metadata": {
    "collapsed": true
   },
   "outputs": [],
   "source": [
    "# The beauty of the apply function is that it allows flexibility in doing \n",
    "# whatever manipulation that you desire, and the function you pass into apply \n",
    "# can be any customized function that you write. Let's say we want to divide the \n",
    "# states into four categories: Northeast, Midwest, South, and West\n",
    "# We can write a customized function that returns the region based on the state\n",
    "# the state regions information is obtained from Wikipedia\n",
    "\n",
    "def get_state_region(x):\n",
    "    northeast = ['Connecticut', 'Maine', 'Massachusetts', 'New Hampshire', \n",
    "                 'Rhode Island','Vermont','New York','New Jersey','Pennsylvania']\n",
    "    midwest = ['Illinois','Indiana','Michigan','Ohio','Wisconsin','Iowa',\n",
    "               'Kansas','Minnesota','Missouri','Nebraska','North Dakota',\n",
    "               'South Dakota']\n",
    "    south = ['Delaware','Florida','Georgia','Maryland','North Carolina',\n",
    "             'South Carolina','Virginia','District of Columbia','West Virginia',\n",
    "             'Alabama','Kentucky','Mississippi','Tennessee','Arkansas',\n",
    "             'Louisiana','Oklahoma','Texas']\n",
    "    west = ['Arizona','Colorado','Idaho','Montana','Nevada','New Mexico','Utah',\n",
    "            'Wyoming','Alaska','California','Hawaii','Oregon','Washington']\n",
    "    \n",
    "    if x in northeast:\n",
    "        return \"Northeast\"\n",
    "    elif x in midwest:\n",
    "        return \"Midwest\"\n",
    "    elif x in south:\n",
    "        return \"South\"\n",
    "    else:\n",
    "        return \"West\""
   ]
  },
  {
   "cell_type": "code",
   "execution_count": null,
   "metadata": {
    "collapsed": true
   },
   "outputs": [],
   "source": [
    "# Now we have the customized function, let's say we want to create a new column\n",
    "# called Region, which shows the state's region, we can use the customized \n",
    "# function and the apply function to do so. The customized function is supposed \n",
    "# to work on the state name column STNAME. So we will set the apply function on \n",
    "# the state name column and pass the customized function into the apply function\n",
    "df['state_region'] = df['STNAME'].apply(lambda x: get_state_region(x))"
   ]
  },
  {
   "cell_type": "code",
   "execution_count": null,
   "metadata": {},
   "outputs": [],
   "source": [
    "# Now let's see the results\n",
    "df[['STNAME','state_region']]"
   ]
  },
  {
   "cell_type": "code",
   "execution_count": 3,
   "metadata": {},
   "outputs": [],
   "source": [
    "import pandas as pd\n",
    "sdata = {'Ohio': 35000, 'Texas': 71000, 'Oregon': 16000, 'Utah': 5000}\n",
    "obj1 = pd.Series(sdata)\n",
    "states = ['California', 'Ohio', 'Oregon', 'Texas']\n",
    "obj2 = pd.Series(sdata, index=states)\n",
    "obj3 = pd.isnull(obj2)"
   ]
  },
  {
   "cell_type": "code",
   "execution_count": 2,
   "metadata": {},
   "outputs": [
    {
     "data": {
      "text/plain": [
       "True"
      ]
     },
     "execution_count": 2,
     "metadata": {},
     "output_type": "execute_result"
    }
   ],
   "source": [
    "import math\n",
    "math.isnan(obj2['California'])"
   ]
  },
  {
   "cell_type": "code",
   "execution_count": 4,
   "metadata": {},
   "outputs": [
    {
     "data": {
      "text/plain": [
       "False"
      ]
     },
     "execution_count": 4,
     "metadata": {},
     "output_type": "execute_result"
    }
   ],
   "source": [
    "obj2['California'] == None"
   ]
  },
  {
   "cell_type": "code",
   "execution_count": 5,
   "metadata": {},
   "outputs": [
    {
     "data": {
      "text/plain": [
       "nan"
      ]
     },
     "execution_count": 5,
     "metadata": {},
     "output_type": "execute_result"
    }
   ],
   "source": [
    "obj2['California'] "
   ]
  },
  {
   "cell_type": "code",
   "execution_count": 6,
   "metadata": {},
   "outputs": [
    {
     "data": {
      "text/plain": [
       "True"
      ]
     },
     "execution_count": 6,
     "metadata": {},
     "output_type": "execute_result"
    }
   ],
   "source": [
    "x = obj2['California']\n",
    "obj2['California'] != x"
   ]
  },
  {
   "cell_type": "code",
   "execution_count": 8,
   "metadata": {},
   "outputs": [
    {
     "data": {
      "text/plain": [
       "1    Alice\n",
       "2      Bob\n",
       "3     Rita\n",
       "4    Molly\n",
       "5     Ryan\n",
       "dtype: object"
      ]
     },
     "execution_count": 8,
     "metadata": {},
     "output_type": "execute_result"
    }
   ],
   "source": [
    "import pandas as pd\n",
    "d = {'1': 'Alice','2': 'Bob','3': 'Rita','4': 'Molly','5': 'Ryan'}\n",
    "S = pd.Series(d)\n",
    "S"
   ]
  },
  {
   "cell_type": "code",
   "execution_count": 12,
   "metadata": {},
   "outputs": [
    {
     "data": {
      "text/plain": [
       "2"
      ]
     },
     "execution_count": 12,
     "metadata": {},
     "output_type": "execute_result"
    }
   ],
   "source": [
    "import pandas as pd\n",
    "s1 = pd.Series({1: 'Alice', 2: 'Jack', 3: 'Molly'})\n",
    "s2 = pd.Series({'Alice': 1, 'Jack': 2, 'Molly': 3})\n",
    "s2.iloc[1]"
   ]
  },
  {
   "cell_type": "code",
   "execution_count": null,
   "metadata": {},
   "outputs": [],
   "source": []
  },
  {
   "cell_type": "markdown",
   "metadata": {},
   "source": [
    "So there are a couple of Pandas idioms. But I think there's many more, and I haven't talked about them here. So here's an unofficial assignment for you. Go look at some of the top ranked questions on pandas on Stack Overflow, and look at how some of the more experienced authors, answer those questions. Do you see any interesting patterns? Chime in on the course discussion forums and let's build some pandorable documents together.\n"
   ]
  }
 ],
 "metadata": {
  "kernelspec": {
   "display_name": "Python 3 (ipykernel)",
   "language": "python",
   "name": "python3"
  },
  "language_info": {
   "codemirror_mode": {
    "name": "ipython",
    "version": 3
   },
   "file_extension": ".py",
   "mimetype": "text/x-python",
   "name": "python",
   "nbconvert_exporter": "python",
   "pygments_lexer": "ipython3",
   "version": "3.10.0"
  }
 },
 "nbformat": 4,
 "nbformat_minor": 2
}
