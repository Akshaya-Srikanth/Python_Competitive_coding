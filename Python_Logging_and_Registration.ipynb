{
  "nbformat": 4,
  "nbformat_minor": 0,
  "metadata": {
    "colab": {
      "name": "Python_Logging_and_Registration.ipynb",
      "provenance": [],
      "collapsed_sections": [],
      "authorship_tag": "ABX9TyPa6b8vEgJZs7sRCBlh6IgO",
      "include_colab_link": true
    },
    "kernelspec": {
      "name": "python3",
      "display_name": "Python 3"
    },
    "language_info": {
      "name": "python"
    }
  },
  "cells": [
    {
      "cell_type": "markdown",
      "metadata": {
        "id": "view-in-github",
        "colab_type": "text"
      },
      "source": [
        "<a href=\"https://colab.research.google.com/github/Akshaya-Srikanth/Python_Competitive_coding/blob/main/Python_Logging_and_Registration.ipynb\" target=\"_parent\"><img src=\"https://colab.research.google.com/assets/colab-badge.svg\" alt=\"Open In Colab\"/></a>"
      ]
    },
    {
      "cell_type": "code",
      "metadata": {
        "id": "Pvl1lYdD3RVE",
        "colab": {
          "base_uri": "https://localhost:8080/"
        },
        "outputId": "ca6b3b90-b89f-42ef-a086-bfad615c238c"
      },
      "source": [
        "def choices():\n",
        "    print(\"Please choose what you would like to do.\")\n",
        "    choice = int(input\n",
        "    (\n",
        "    '''\n",
        "    If New User Type 1 to Register \n",
        "    Existing User  Type 2 to Login  \n",
        "    Forgot Password Type 3 to Retrieve Original Password\n",
        "    '''\n",
        "    ))\n",
        "    if choice == 1:\n",
        "       return getdetails()\n",
        "    elif choice == 2:\n",
        "       return checkdetails()\n",
        "    elif choice == 3:\n",
        "       return RetrievePassword()\n",
        "    else:\n",
        "       raise TypeError\n",
        "\n",
        "def password_check(passwd):\n",
        "      \n",
        "    Specialchar =['$', '@', '#', '%']\n",
        "    val = True\n",
        "      \n",
        "    if len(passwd) < 5:\n",
        "        print('length should be at least 5')\n",
        "        val = False\n",
        "          \n",
        "    if len(passwd) > 16:\n",
        "        print('length should be not be greater than 16')\n",
        "        val = False\n",
        "          \n",
        "    if not any(char.isdigit() for char in passwd):\n",
        "        print('Password should have at least one numeral')\n",
        "        val = False\n",
        "          \n",
        "    if not any(char.isupper() for char in passwd):\n",
        "        print('Password should have at least one uppercase letter')\n",
        "        val = False\n",
        "          \n",
        "    if not any(char.islower() for char in passwd):\n",
        "        print('Password should have at least one lowercase letter')\n",
        "        val = False\n",
        "          \n",
        "    if not any(char in Specialchar for char in passwd):\n",
        "        print('Password should have at least one of the special characters $@#')\n",
        "        val = False\n",
        "    if val:\n",
        "      return 1\n",
        "    else:\n",
        "      return 0\n",
        "def email_check(email):\n",
        "   email = email.strip().lower()\n",
        "   if not \"@\" in email:\n",
        "    print(\"Invalid email\")\n",
        "    return 0\n",
        "   elif not email[-4:] in \".com.org.edu.gov.net\":\n",
        "    print(\"Invalid email\")\n",
        "    return 0\n",
        "   elif  \".@\" in email:\n",
        "    print(\"Invalid email\")\n",
        "    return 0    \n",
        "   else:\n",
        "    return 1\n",
        "\n",
        "\n",
        "def getdetails():\n",
        "    print(\"Please Provide\")\n",
        "    name = str(input(\"Email/Username: \"))\n",
        "    password = str(input(\"Password: \"))\n",
        "    pwd_chk=0\n",
        "    with open(\"/content/sample_data/User_Data.txt\",'r') as f:\n",
        "      info = f.read()\n",
        "      if name in info:\n",
        "        return \"Username Unavailable. Please Try Again\"\n",
        "\n",
        "    if  password_check(password)==1 and email_check(name)==1:\n",
        "      with open(\"/content/sample_data/User_Data.txt\",'a') as f:\n",
        "        info = name + \" \" + password\n",
        "        f.write(info + \"\\n\")\n",
        "        print(\"New user Registered in the system,login with the same credentials\")\n",
        "\n",
        "def checkdetails():\n",
        "    print(\"Please Provide\")\n",
        "    name = str(input(\"Name: \"))\n",
        "    password = str(input(\"Password: \"))\n",
        "    f = open(\"/content/sample_data/User_Data.txt\",'r')\n",
        "    info = f.read()\n",
        "    info = info.split()\n",
        "    #print(\"entered credentials:\",info)\n",
        "    if name in info:\n",
        "        index = info.index(name) + 1\n",
        "        usr_password = info[index]\n",
        "        if usr_password == password:\n",
        "            return \"Welcome Back, \" + name\n",
        "        else:\n",
        "            return \"Password entered is wrong\"\n",
        "    else:\n",
        "        return \"User not found. Please Sign Up.\"\n",
        "\n",
        "def RetrievePassword():\n",
        "    print(\"Please Provide\")\n",
        "    name = str(input(\"Name: \"))\n",
        "    #password = str(input(\"Password: \"))\n",
        "    f = open(\"/content/sample_data/User_Data.txt\",'r')\n",
        "    info = f.read()\n",
        "    info = info.split()\n",
        "   \n",
        "    if name in info:\n",
        "        index = info.index(name) + 1\n",
        "        usr_password = info[index]\n",
        "        print (f\"Original Password retrived for the user {name} is {usr_password}\")\n",
        "    else:\n",
        "        return \"User not found. Please Register.\"\n",
        "\n",
        "print(choices())"
      ],
      "execution_count": null,
      "outputs": [
        {
          "output_type": "stream",
          "name": "stdout",
          "text": [
            "Please choose what you would like to do.\n",
            "\n",
            "    If New User Type 1 to Register \n",
            "    Existing User  Type 2 to Login  \n",
            "    Forgot Password Type 3 to Retrieve\n",
            "    3\n",
            "Please Provide\n",
            "Name: Sricharan2@gmail.com\n",
            "Original Password retrived for the user Sricharan2@gmail.com is charansAk@445\n",
            "None\n"
          ]
        }
      ]
    },
    {
      "cell_type": "code",
      "metadata": {
        "id": "tRvXqGCU1pRW"
      },
      "source": [
        ""
      ],
      "execution_count": null,
      "outputs": []
    }
  ]
}